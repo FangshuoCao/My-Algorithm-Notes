{
 "cells": [
  {
   "cell_type": "markdown",
   "id": "ca72594b-f540-4fab-93e2-88b0a9eeba62",
   "metadata": {},
   "source": [
    "# Linked List\n",
    "Linked list problems are quite simple in terms of algorithmic challenge, these questions just test your coding skill!\n",
    "\n",
    "## A Basic Linked List"
   ]
  },
  {
   "cell_type": "code",
   "execution_count": 3,
   "id": "37557b69-fb73-41f7-87aa-af8c735e0f22",
   "metadata": {},
   "outputs": [],
   "source": [
    "class ListNode(object):\n",
    "    def __init__(self, val=0, next=None):\n",
    "        self.val = val\n",
    "        self.next = next"
   ]
  },
  {
   "cell_type": "markdown",
   "id": "4e7e6725-3ced-4b6b-8d57-d3b84e69f093",
   "metadata": {},
   "source": [
    "# Key Linked List Techniques\n",
    "All technique in this part are **VERY IMPORTANT**!\n",
    "## 1. Reverse A Linked List"
   ]
  },
  {
   "cell_type": "code",
   "execution_count": 3,
   "id": "cf4ab3f6-c622-43d2-bfa0-270b4c34291e",
   "metadata": {},
   "outputs": [],
   "source": [
    "# LC206. Reverse Linked List\n",
    "class Solution(object):\n",
    "    def reverseList(self, head):\n",
    "        pre = None\n",
    "        cur = head\n",
    "        \n",
    "        while cur:\n",
    "            next = cur.next\n",
    "            cur.next = pre\n",
    "            pre = cur\n",
    "            cur = next\n",
    "        \n",
    "        return pre"
   ]
  },
  {
   "cell_type": "markdown",
   "id": "4d3aef7b-8f2b-47a8-a700-dbc34c5d9699",
   "metadata": {},
   "source": [
    "---\n",
    "## 2. Detect Cycle In Linked List / Find Cycle Entry"
   ]
  },
  {
   "cell_type": "markdown",
   "id": "4284a4a1-9a8c-4cd2-bb2a-8bc9ea33b08c",
   "metadata": {},
   "source": [
    "#### Floyd's Tortoise and Hare Algorithm (Fast-Slow Pointer)\n",
    "Define two pointers: `fast` goes two steps, `slow` goes one step in each iteration\n",
    "#### **Procedure:**\n",
    "1. Use a while loop:\n",
    "    - if there is no cycle, `fast` will eventually becomes `null`\n",
    "    - if `fast` and `slow` meet, there must be a cycle in the linked list, so exit from while loop      \n",
    "\n",
    "2. `fast` goes back to head\n",
    "\n",
    "3. `slow` stay at same position\n",
    "\n",
    "4. Use a while loop again, this time both `fast` and `slow` move one step each time\n",
    "    - when they meet again, current node is the beginning node of loop"
   ]
  },
  {
   "cell_type": "code",
   "execution_count": 55,
   "id": "17db9723-ca54-4fdf-807b-8564eda6f21c",
   "metadata": {},
   "outputs": [],
   "source": [
    "# LC.142 Linked List Cycle II \n",
    "class Solution(object):\n",
    "    def detectCycle(self, head):\n",
    "        if not head or not head.next or not head.next.next:\n",
    "            return None\n",
    "            \n",
    "        slow = head.next\n",
    "        fast = head.next.next\n",
    "        while fast != slow:\n",
    "            if not fast or not fast.next:           # No cycle\n",
    "                return None\n",
    "            fast = fast.next.next\n",
    "            slow = slow.next\n",
    "\n",
    "        fast = head                                 # cycle detected, fast go back to head\n",
    "\n",
    "        while fast != slow:\n",
    "            fast = fast.next\n",
    "            slow = slow.next\n",
    "\n",
    "        return slow"
   ]
  },
  {
   "cell_type": "markdown",
   "id": "86b27494-dc36-4e35-8815-2acc948c38c8",
   "metadata": {},
   "source": [
    "---\n",
    "## 3. Intersection Of Two Linked List\n",
    "*Given the heads of two singly linked-lists headA and headB, return the node at which the two lists intersect. If the two linked lists have no intersection at all, return null.*\n",
    "\n",
    "**Solution**:           \n",
    "This is simple if the two linked list are of same length\n",
    "- we just start from both head and go one step each time, and when cur1 == cur2, this is the intersection\n",
    "\n",
    "However, the two linked list may not be of the same length, so that if we simply let each cur go one step they will miss each other    \n",
    "\n",
    "Therefore we first need to find the difference in their length, then adjust the starting position of the longer list so that we can find the solution"
   ]
  },
  {
   "cell_type": "code",
   "execution_count": 64,
   "id": "b04f5d85-f47a-4239-926b-9bb58333c732",
   "metadata": {},
   "outputs": [],
   "source": [
    "class Solution(object):\n",
    "    def getIntersectionNode(self, headA, headB):\n",
    "        if not headA or not headB:\n",
    "            return None\n",
    "\n",
    "        a, b = headA, headB\n",
    "        diff = 0\n",
    "        # start from both head, find the difference in length and detect if there is any intersection\n",
    "        while a:\n",
    "            diff += 1\n",
    "            a = a.next\n",
    "        while b:\n",
    "            diff -= 1\n",
    "            b = b.next\n",
    "\n",
    "        # if they don't end up at the same node, no intersection\n",
    "        if a != b:\n",
    "            return None\n",
    "\n",
    "        # let a be the longer linked list and adjust a's position\n",
    "        if diff >= 0:\n",
    "            a = headA\n",
    "            b = headB\n",
    "        else:\n",
    "            a = headB\n",
    "            b = headA\n",
    "            \n",
    "        diff = abs(diff)\n",
    "        while diff > 0:\n",
    "            a = a.next\n",
    "            diff -= 1\n",
    "\n",
    "        while a != b:\n",
    "            a = a.next\n",
    "            b = b.next\n",
    "\n",
    "        return a"
   ]
  },
  {
   "cell_type": "markdown",
   "id": "660f5b12-7d23-425b-9450-c34e462d42f5",
   "metadata": {},
   "source": [
    "---\n",
    "## 4. Merge Two Sorted Linked List"
   ]
  },
  {
   "cell_type": "code",
   "execution_count": 79,
   "id": "63f2ffa9-fcf8-45d8-b2bf-f4f95a249b3b",
   "metadata": {},
   "outputs": [],
   "source": [
    "# LC.21 Merge Two Sorted List\n",
    "class Solution(object):\n",
    "    def mergeTwoLists(self, l, r):\n",
    "        head = ListNode(0)\n",
    "        cur = head\n",
    "\n",
    "        while l and r:\n",
    "            if l.val <= r.val:\n",
    "                cur.next = l\n",
    "                l = l.next\n",
    "            else:\n",
    "                cur.next = r\n",
    "                r = r.next\n",
    "            cur = cur.next\n",
    "\n",
    "        if l:\n",
    "            cur.next = l\n",
    "        if r:\n",
    "            cur.next = r\n",
    "\n",
    "        return head.next"
   ]
  },
  {
   "cell_type": "markdown",
   "id": "c670c8d1-371b-4254-9c52-f657c2414dac",
   "metadata": {},
   "source": [
    "---\n",
    "# Classic Linked List Problems\n",
    "### Q1: Partition Linked List:\n",
    "*Given the head of a linked list and a value x, partition it such that all nodes less than x come before nodes greater than or equal to x.*         \n",
    "*You should preserve the original relative order of the nodes in each of the two partitions.*"
   ]
  },
  {
   "cell_type": "code",
   "execution_count": 57,
   "id": "8ae179dc-33f7-45c9-96bc-9bf406447048",
   "metadata": {},
   "outputs": [],
   "source": [
    "class Solution(object):\n",
    "    def partition(self, head, x):\n",
    "        left_head, left_tail, right_head, right_tail = None, None, None, None\n",
    "        cur, next = head, None\n",
    "        while cur:\n",
    "            next = cur.next\n",
    "            cur.next = None                        # Extract the single cur node from original list, since we need to append it\n",
    "            if cur.val < x:\n",
    "                if not left_head:\n",
    "                    left_head = cur\n",
    "                else:\n",
    "                    left_tail.next = cur\n",
    "                left_tail = cur\n",
    "            else:\n",
    "                if not right_head:\n",
    "                    right_head = cur\n",
    "                else:\n",
    "                    right_tail.next = cur\n",
    "                right_tail = cur\n",
    "            cur = next\n",
    "\n",
    "        if not left_head:                        # If all element >= x, left is null so just return right\n",
    "            return right_head\n",
    "\n",
    "        left_tail.next = right_head              # Connect left and right\n",
    "        return left_head"
   ]
  },
  {
   "cell_type": "markdown",
   "id": "127d63bf-8e83-4689-af09-c06112a769fd",
   "metadata": {},
   "source": [
    "---\n",
    "### Q2: Add Two Number\n",
    "*You are given two non-empty linked lists representing two non-negative integers. The digits are stored in reverse order, and each of their nodes contains a single digit. Add the two numbers and return the sum as a linked list.*\n",
    "\n",
    "*You may assume the two numbers do not contain any leading zero, except the number 0 itself.*"
   ]
  },
  {
   "cell_type": "code",
   "execution_count": 81,
   "id": "adca9f60-5113-49cf-ac54-31becd7eb14e",
   "metadata": {},
   "outputs": [],
   "source": [
    "class Solution(object):\n",
    "    def addTwoNumbers(self, l1, l2):\n",
    "        carry = 0\n",
    "        head, cur = None, None\n",
    "        while l1 or l2:\n",
    "            v1 = l1.val if l1 else 0\n",
    "            v2 = l2.val if l2 else 0\n",
    "            sum = v1 + v2 + carry\n",
    "            carry = sum // 10\n",
    "            sum = sum % 10\n",
    "\n",
    "            if not head:\n",
    "                head = ListNode(sum)\n",
    "                cur = head\n",
    "            else:\n",
    "                cur.next = ListNode(sum)\n",
    "                cur = cur.next\n",
    "\n",
    "            if l1:\n",
    "                l1 = l1.next\n",
    "            if l2:\n",
    "                l2 = l2.next\n",
    "        \n",
    "        if carry != 0:\n",
    "            cur.next = ListNode(1)\n",
    "\n",
    "        return head"
   ]
  },
  {
   "cell_type": "markdown",
   "id": "ccac7126-2663-422c-b091-c2a32429b1dd",
   "metadata": {},
   "source": [
    "---\n",
    "### Q3: Sort List (LC.148)\n",
    "*Given the head of a linked list, return the list after sorting it in ascending order.*"
   ]
  },
  {
   "cell_type": "code",
   "execution_count": 67,
   "id": "96fe0f75-0629-41c2-904f-31aa6aeb2430",
   "metadata": {},
   "outputs": [],
   "source": [
    "# Merge Sort for linked list\n",
    "class Solution:\n",
    "    def sortList(self, head):\n",
    "        if not head or not head.next:\n",
    "            return head\n",
    "            \n",
    "        l = head\n",
    "        m = self.getMid(l)\n",
    "        r = m.next\n",
    "        m.next = None\n",
    "\n",
    "        return self.merge(self.sortList(l), self.sortList(r))\n",
    "\n",
    "    def getMid(self, l):\n",
    "        slow, fast = l, l\n",
    "        while fast.next and fast.next.next:\n",
    "            slow = slow.next\n",
    "            fast = fast.next.next\n",
    "        return slow\n",
    "\n",
    "    def merge(self, l, r):\n",
    "        head = ListNode(0)\n",
    "        cur = head\n",
    "\n",
    "        while l and r:\n",
    "            if l.val <= r.val:\n",
    "                cur.next = l\n",
    "                l = l.next\n",
    "            else:\n",
    "                cur.next = r\n",
    "                r = r.next\n",
    "            cur = cur.next\n",
    "\n",
    "        if l:\n",
    "            cur.next = l\n",
    "        if r:\n",
    "            cur.next = r\n",
    "\n",
    "        return head.next"
   ]
  },
  {
   "cell_type": "markdown",
   "id": "9d16bcba-2787-4db4-9bf8-47a32ee6f11c",
   "metadata": {},
   "source": [
    "---\n",
    "### Q4: Palindrome Linked List (LC.234)\n",
    "*Given the head of a singly linked list, return true if it is a palindrome or false otherwise.*\n",
    "\n",
    "**Solution:**\n",
    "- Approach 1: Use a stack\n",
    "- Approach 2: Find the mid point, reverse the right part, then compare with left part (O(1) Space Complexity)"
   ]
  },
  {
   "cell_type": "code",
   "execution_count": 70,
   "id": "cae438dc-1389-4ecc-8dbb-7268b199244f",
   "metadata": {},
   "outputs": [],
   "source": [
    "class Solution:\n",
    "    def isPalindrome(self, head):\n",
    "        list_vals = []\n",
    "        stack = []\n",
    "        curr = head\n",
    "        while curr:\n",
    "            stack.append(curr.val)\n",
    "            curr = curr.next\n",
    "        curr = head\n",
    "        while curr and curr.val == stack.pop():\n",
    "            curr = curr.next\n",
    "        return curr is None"
   ]
  },
  {
   "cell_type": "markdown",
   "id": "feedf4de-2205-4c09-9389-1f599b2ed848",
   "metadata": {},
   "source": [
    "---\n",
    "### Q5: Merge K Sorted List (LC.23)\n",
    "*You are given an array of k linked-lists lists, each linked-list is sorted in ascending order.*\n",
    "*Merge all the linked-lists into one sorted linked-list and return it.*"
   ]
  },
  {
   "cell_type": "code",
   "execution_count": 3,
   "id": "d4caf034-51a7-4686-b19f-c0101feb3098",
   "metadata": {},
   "outputs": [],
   "source": [
    "import heapq\n",
    "\n",
    "class Solution:\n",
    "    def mergeKLists(self, lists):\n",
    "        heap = []\n",
    "        \n",
    "        # Initialize the heap with the head nodes of all the lists\n",
    "        for i, head in enumerate(lists):\n",
    "            if head:\n",
    "                # Push (node value, index, node) to the heap\n",
    "                heapq.heappush(heap, (head.val, i, head))\n",
    "        \n",
    "        dummy = ListNode(0)\n",
    "        current = dummy\n",
    "        \n",
    "        while heap:\n",
    "            # Pop the smallest node from the heap\n",
    "            val, i, node = heapq.heappop(heap)\n",
    "            \n",
    "            # Add this node to the merged list\n",
    "            current.next = node\n",
    "            current = current.next\n",
    "            \n",
    "            # If the popped node has a next node, push it into the heap\n",
    "            if node.next:\n",
    "                heapq.heappush(heap, (node.next.val, i, node.next))\n",
    "        \n",
    "        return dummy.next"
   ]
  },
  {
   "cell_type": "markdown",
   "id": "cfb03cb9-b4f6-4d6a-98e6-7c0d27dac693",
   "metadata": {},
   "source": [
    "---\n",
    "### Q6: Reverse Linked List In K Groups (LC.25)\n",
    "*Given the head of a linked list, reverse the nodes of the list k at a time, and return the modified list.*\n",
    "\n",
    "*k is a positive integer and is less than or equal to the length of the linked list. If the number of nodes is not a multiple of k then left-out nodes, in the end, should remain as it is.*\n",
    "\n",
    "*You may not alter the values in the list's nodes, only nodes themselves may be changed.*"
   ]
  },
  {
   "cell_type": "code",
   "execution_count": null,
   "id": "0bbfdab3-901d-47a6-9916-92367c4a27cc",
   "metadata": {},
   "outputs": [],
   "source": []
  },
  {
   "cell_type": "markdown",
   "id": "58da0bf8-12a6-4988-9f6a-2ce8bb9675f0",
   "metadata": {},
   "source": [
    "---\n",
    "### Q7: Copy Linked List With Random Pointer (LC.138)\n",
    "*A linked list of length n is given such that each node contains an additional random pointer, which could point to any node in the list, or null.*       \n",
    "\n",
    "*Construct a deep copy of the list. The deep copy should consist of exactly n brand new nodes, where each new node has its value set to the value of its corresponding original node. Both the next and random pointer of the new nodes should point to new nodes in the copied list such that the pointers in the original list and copied list represent the same list state. None of the pointers in the new list should point to nodes in the original list.*    \n",
    "- *For example, if there are two nodes X and Y in the original list, where X.random --> Y, then for the corresponding two nodes x and y in the copied list, x.random --> y.*\n",
    "\n",
    "*Return the head of the copied linked list.*         \n",
    "\n",
    "*The linked list is represented in the input/output as a list of n nodes. Each node is represented as a pair of [val, random_index] where:*\n",
    "- *val: an integer representing Node.val*\n",
    "- *random_index: the index of the node (range from 0 to n-1) that the random pointer points to, or null if it does not point to any node.*\n",
    "     \n",
    "*Your code will only be given the head of the original linked list.*"
   ]
  },
  {
   "cell_type": "code",
   "execution_count": null,
   "id": "495bf8ef-5c39-4cb5-90bd-c8e3ae8092f9",
   "metadata": {},
   "outputs": [],
   "source": []
  }
 ],
 "metadata": {
  "kernelspec": {
   "display_name": "Python 3 (ipykernel)",
   "language": "python",
   "name": "python3"
  },
  "language_info": {
   "codemirror_mode": {
    "name": "ipython",
    "version": 3
   },
   "file_extension": ".py",
   "mimetype": "text/x-python",
   "name": "python",
   "nbconvert_exporter": "python",
   "pygments_lexer": "ipython3",
   "version": "3.12.4"
  }
 },
 "nbformat": 4,
 "nbformat_minor": 5
}
