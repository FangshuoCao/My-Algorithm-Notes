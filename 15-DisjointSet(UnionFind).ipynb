{
 "cells": [
  {
   "cell_type": "markdown",
   "id": "bf1c066a-69cf-4fd2-bf20-fc18c32f3dc6",
   "metadata": {},
   "source": [
    "---\n",
    "<h1>Union Find</h1>"
   ]
  },
  {
   "cell_type": "markdown",
   "id": "1fedd79b-0012-48ae-9d84-6404289e6eee",
   "metadata": {},
   "source": [
    "The **Union-Find**, also known as **Disjoint-Set**, is a data structure used to manage which set elements belong to. The data structure is usually implemented as a forest, where each tree represents a set, and the nodes in the tree represent the elements in the corresponding set.      \n",
    "\n",
    "### Why Union-Find?\n",
    "If we only want to know whether an element is in a set, we can use language's built-in hash set. However, if we need to find out whether two elements belong to the same set, then hash set is not enough, so we need to use Union-Find.     \n",
    "\n",
    "### Union-Find Operations:\n",
    "1. **Union(x, y)**: Merges the sets to which two elements belong (combine the two trees).\n",
    "2. **Find(x)**: Find the representative of the set x belongs to(root node of the tree).\n",
    "3. **IsSameSet(x, y)**: return true is two elements are in the same set, false otherwise\n",
    "\n",
    "### Optimization:\n",
    "**Path Compression**: When performing find() by moving up on the tree, we link each node encountered along the way to the root. Path compression reduces the tree's height, thus speeding up future find() operations.\n",
    "\n",
    "**Union by Rank**: During the union() operation, we attaches the tree with a lower \"rank\" (size or depth) to the root of the tree with a higher rank. This strategy helps minimize the overall tree height, as the smaller tree always becomes a subtree of the larger tree, preventing the structure from becoming unbalanced.\n",
    "\n",
    "### Time Complexity:\n",
    "**O(1)** for each operation on average\n",
    "\n",
    "### Applications:\n",
    "Union-Find is typically used to solve problems related to **relationships between different elements**, such as determining whether two people are related or if there is at least one path connecting two nodes in a graph. It can also be used to find the number of distinct sets, the number of elements in a set, etc."
   ]
  },
  {
   "cell_type": "markdown",
   "id": "f4423952-79e1-4054-b71b-06407a4ebfc3",
   "metadata": {},
   "source": [
    "## Implementation with Path Compression(Use this in interview):"
   ]
  },
  {
   "cell_type": "code",
   "execution_count": 48,
   "id": "1378f1bc-7c44-4e10-92b0-8374beda20ee",
   "metadata": {},
   "outputs": [],
   "source": [
    "class UnionFind: \n",
    "    def __init__(self, n): \n",
    "        self.parent = [i for i in range(n)] \n",
    "\n",
    "    def find(self, x): \n",
    "        if self.parent[x] != x:  \n",
    "            self.parent[x] = self.find(self.parent[x])  # Path Compression\n",
    "        return self.parent[x] \n",
    "\n",
    "    def union(self, x, y):\n",
    "        self.parent[self.find(x)] = self.find(y)\n",
    "\n",
    "    def is_same_set(self, x, y):\n",
    "        return self.find(x) == self.find(y)"
   ]
  },
  {
   "cell_type": "markdown",
   "id": "2fd879c6-3661-4782-ad8e-de38cbf3af19",
   "metadata": {},
   "source": [
    "## Implementation with Path Compression and Union By Rank:"
   ]
  },
  {
   "cell_type": "code",
   "execution_count": 54,
   "id": "0e0d5a12-eb0c-4e9c-a603-f9eb936252a2",
   "metadata": {},
   "outputs": [],
   "source": [
    "class UnionFind: \n",
    "    def __init__(self, n): \n",
    "        self.rank = [1] * n  # here we use size as rank\n",
    "        self.parent = [i for i in range(n)] \n",
    "\n",
    "    def find(self, x): \n",
    "        if self.parent[x] != x:  \n",
    "            self.parent[x] = self.find(self.parent[x])  # Path Compression\n",
    "        return self.parent[x] \n",
    "\n",
    "    def union(self, x, y):\n",
    "        xset = self.find(x) \n",
    "        yset = self.find(y) \n",
    "        if xset == yset: \n",
    "            return\n",
    "        if self.rank[xset] <= self.rank[yset]:  # Union By Rank\n",
    "            self.parent[xset] = yset \n",
    "            if self.rank[xset] == self.rank[yset]: \n",
    "                self.rank[yset] += 1\n",
    "        else: \n",
    "            self.parent[yset] = xset \n",
    "\n",
    "    def is_same_set(self, x, y):\n",
    "        return self.find(x) == self.find(y)"
   ]
  },
  {
   "cell_type": "markdown",
   "id": "a8323ba2-d668-48dd-9a3b-1c70c5d47872",
   "metadata": {},
   "source": [
    "---\n",
    "<h2>Q1: Couples Holding Hands (LC.765)</h2>"
   ]
  },
  {
   "cell_type": "markdown",
   "id": "55373caf-41c1-4297-b149-4728e832ab96",
   "metadata": {},
   "source": [
    "*There are n couples sitting in 2n seats arranged in a row and want to hold hands.*\n",
    "\n",
    "*The people and seats are represented by an integer array row where row[i] is the ID of the person sitting in the ith seat. The couples are numbered in order, the first couple being (0, 1), the second couple being (2, 3), and so on with the last couple being (2n - 2, 2n - 1).*\n",
    "\n",
    "*Return the minimum number of swaps so that every couple is sitting side by side. A swap consists of choosing any two people, then they stand up and switch seats.*"
   ]
  },
  {
   "cell_type": "markdown",
   "id": "f6d7f6d6-6a29-4675-ada6-cf773770e316",
   "metadata": {},
   "source": [
    "**Solution:**\n",
    "There are a total of n/2 pairs of couples:\n",
    "\n",
    "- Pair 1: 0, 1\n",
    "- Pair 2: 2, 3\n",
    "- Pair 3: 4, 5\n",
    "- ...\n",
    "\n",
    "for example: `0 2 1 3 5 4 7 11 8 10 9 12`\n",
    "\n",
    "- Pair 1 and Pair 2 are messed up together: `(0 2 1 3)`\n",
    "- Pair 3 is in order: `(5 4)`\n",
    "- Pair 4, Pair 5, and Pair 6 are messed up together: `(7 11 8 10 9 12)`\n",
    "\n",
    "Although pairs 1, 2, 4, 5, and 6 are not in order, they are not all messed up together:\n",
    "- Pair 1 is only messed up with Pair 2.\n",
    "- Pair 4 is only messed up with Pairs 5 and 6.\n",
    "\n",
    "Thus, we can group them into sets:\n",
    "- Set 1: Pair 1 and Pair 2\n",
    "- Set 2: Pair 3\n",
    "- Set 3: Pair 4, Pair 5, and Pair 6\n",
    "\n",
    "**Key point: if a set contains `m` pairs, you need to `m-1` swaps to fix the order.**          \n",
    "\n",
    "- For set 1, we need 1 swap:\n",
    "  - Swap 2 and 1: `0 1 2 3`\n",
    "- For set 2, no swap is needed:\n",
    "  - Since Pair 3 is the only pair in the set, it is already in order.\n",
    "  - If a set contains only one pair, it is considered clean.\n",
    "- For set 3, we need 2 swaps:\n",
    "  - Swap 11 and 8: `7 8 11 10 9 12`\n",
    "  - Swap 11 and 9: `7 8 9 10 11 12`\n",
    "\n",
    "\n",
    "- Suppose we find out in the end that there are k sets, and there are a1 pairs in Set 1, a_2 pairs in Set 2, ..., ak pairs in set k.\n",
    "- Then we need (a1 - 1) + (a2 - 1) + (a3 - 1) + ... + (ak - 1) swaps in total\n",
    "- And we know that the total number of pairs in all sets is n/2, so a1 + a2 + a3 +.... + ak = n/2        \n",
    "\n",
    "therefore, **the total number of swaps = n/2 - k**         \n",
    "\n",
    "So we just need to use union find to find out how many sets are there in the end\n"
   ]
  },
  {
   "cell_type": "code",
   "execution_count": 63,
   "id": "ebd74d6a-6f8c-4472-8ba4-1d42c4503004",
   "metadata": {},
   "outputs": [],
   "source": [
    "class Solution(object):\n",
    "    def minSwapsCouples(self, row):\n",
    "\n",
    "        numPairs = len(row) // 2\n",
    "        self.parent = [pair for pair in range(numPairs)]\n",
    "        self.numSet = numPairs\n",
    "\n",
    "        def find(x):\n",
    "            if self.parent[x] != x:\n",
    "                self.parent[x] = find(self.parent[x])\n",
    "            return self.parent[x]\n",
    "\n",
    "        def union(x, y):\n",
    "            parent_x = find(x)\n",
    "            parent_y = find(y)\n",
    "            if parent_x != parent_y:\n",
    "                self.parent[parent_x] = parent_y\n",
    "                self.numSet -= 1\n",
    "\n",
    "        # Iterate through the couples and perform union\n",
    "        for i in range(0, len(row), 2):\n",
    "            union(row[i] // 2, row[i + 1] // 2)\n",
    "\n",
    "        return numPairs - self.numSet"
   ]
  },
  {
   "cell_type": "code",
   "execution_count": null,
   "id": "a834b1d3-133a-42eb-9699-42f0d4be0a81",
   "metadata": {},
   "outputs": [],
   "source": []
  }
 ],
 "metadata": {
  "kernelspec": {
   "display_name": "Python 3 (ipykernel)",
   "language": "python",
   "name": "python3"
  },
  "language_info": {
   "codemirror_mode": {
    "name": "ipython",
    "version": 3
   },
   "file_extension": ".py",
   "mimetype": "text/x-python",
   "name": "python",
   "nbconvert_exporter": "python",
   "pygments_lexer": "ipython3",
   "version": "3.12.4"
  }
 },
 "nbformat": 4,
 "nbformat_minor": 5
}
