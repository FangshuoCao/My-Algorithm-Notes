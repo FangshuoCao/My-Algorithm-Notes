{
 "cells": [
  {
   "cell_type": "markdown",
   "id": "9a6b35d5-4589-4814-9b3c-b7b4e2a4dc74",
   "metadata": {},
   "source": [
    "<h1>Divide and Conquer</h1>\n",
    "\n",
    "**Principles: When to use Divide and Conquer?**\n",
    "We need to ask ourselves 2 questions:\n",
    "1. Can the problem be divided into smaller parts?                \n",
    "   **Condition 1:** answer(full range) = answer(left part) + answer(right part) + answer(crossing left and right)           \n",
    "2. When calculating the \"crossing answer,\" does sorting make it easier to find our answer?                  \n",
    "   **Condition 2:** It is easier for us to find answer when left part and right part are sorted\n",
    "        \n",
    "If both condition are met, the question should very likely be solved using Divide and Conquer           \n",
    "Merge sort is often added because sorting the left and right parts simplifies the calculation of the answer.\n",
    "\n",
    "Additional Notes:\n",
    "1. Some problems solved using divide-and-conquer can also be tackled with segment trees or tree-like array techniques.\n",
    "2. The problems discussed here are common examples of divide-and-conquer techniques, with varying levels of difficulty. Divide-and-conquer can not only solve simple problems but can also address more challenging issues, as long as the problem fits this pattern. Top companies rarely ask such problems because they are less common but still essential for theory."
   ]
  },
  {
   "cell_type": "markdown",
   "id": "73e896b3-9f29-4918-b4b4-121b4c74fdb3",
   "metadata": {},
   "source": [
    "---\n",
    "<h2>Q1: Sum of Smaller Elements In An Array</h2>"
   ]
  },
  {
   "attachments": {},
   "cell_type": "markdown",
   "id": "d5535717-03db-42e3-b1dc-fd36988c8eb4",
   "metadata": {},
   "source": [
    "*Define the smallSum of an element A in an array is the sum of all elements that is smaller than A and on A's left side in the array.*          \n",
    "*Define the smallSum of an array is the sum of \"small sum\" of all elements in the array.*            \n",
    "*Given an array nums, return the smallSum of this array.*             \n",
    "*Example:*             \n",
    "*nums = [1, 3, 5, 2, 4, 6], the smallSum of nums is 0 + 1 + 4 + 1 + 6 + 15 = 27*"
   ]
  },
  {
   "cell_type": "markdown",
   "id": "ed9cd6a7-86a7-4aeb-a048-88c8e2d2bc54",
   "metadata": {},
   "source": [
    "**Solution:**       \n",
    "Why should we use divide-and-conquer?         \n",
    "1. We can divide the problem into smaller problems, and then add their result together. This question fulfill the requirement for our condition 1 above        \n",
    "2. Using divide-and-conquer, we know that recursion will take care of the smallSum in left and right, so we just need to find the smallSum across left and right\n",
    "    \n",
    "3. The fact that both left and right part allow us to find the smallSum across: we just need to find the smallSum of each elements on rightPart regarding each elements on the left. Because the array is sorted, the elements on the left that contributes to 2 will also contribute to 4, which means that both our pointer i and j will only need to move right and will not step back, achieving a time of O(n) in our merge although there's a nested loop\n",
    "\n",
    "   \n",
    "4. If left and right are not sorted, we will have to iterate on every elements in the left for each element in the right, having time complexity O(n^2)\n",
    "\n",
    "   \n",
    "5. This is a perfect example for the condition2 above---the fact that both array are sorted make it much easier for us"
   ]
  },
  {
   "cell_type": "code",
   "execution_count": 24,
   "id": "32e90e62-1c5d-4e23-a5bc-78b31791c6f6",
   "metadata": {},
   "outputs": [],
   "source": [
    "arr = []\n",
    "help_arr = []\n",
    "\n",
    "def small_sum(l, r):\n",
    "    if l == r:\n",
    "        return 0\n",
    "    m = (l + r) // 2\n",
    "    return small_sum(l, m) + small_sum(m + 1, r) + merge(l, m, r)\n",
    "\n",
    "def merge(l, m, r):\n",
    "    global arr, help_arr\n",
    "    \n",
    "    # Counting the small sum\n",
    "    curSum, totalSum = 0\n",
    "    i, j = l, m + 1\n",
    "    while j <= r:\n",
    "        while i <= m and arr[i] <= arr[j]:\n",
    "            # both left and right are sorted, so we don't need to reset curSum to 0 for the next element in right\n",
    "            curSum += arr[i]\n",
    "            i += 1\n",
    "        totalSum += curSum\n",
    "        j += 1\n",
    "\n",
    "    # Regular merge process\n",
    "    a, b, k = l, m + 1, 0\n",
    "    while a <= m and b <= r:\n",
    "        if arr[a] <= arr[b]:\n",
    "            help_arr[k] = arr[a]\n",
    "            a += 1\n",
    "        else:\n",
    "            help_arr[k] = arr[b]\n",
    "            b += 1\n",
    "        k += 1\n",
    "    while a <= m:\n",
    "        help_arr[k] = arr[a]\n",
    "        a += 1\n",
    "        k += 1\n",
    "    while b <= r:\n",
    "        help_arr[k] = arr[b]\n",
    "        b += 1\n",
    "        k += 1\n",
    "        \n",
    "    # Copy back to the original array\n",
    "    for i in range(l, r + 1):\n",
    "        arr[i] = help_arr[i - l]\n",
    "\n",
    "    return totalSum\n"
   ]
  },
  {
   "cell_type": "markdown",
   "id": "cb7448fc-51a5-445c-b19b-677e238b7e93",
   "metadata": {},
   "source": [
    "---\n",
    "<h2>Q2: Reverse Pair (LC.493)</h2>"
   ]
  },
  {
   "cell_type": "markdown",
   "id": "4f4ca750-e833-4c21-9892-bcd11061b6e1",
   "metadata": {},
   "source": [
    "*Given an integer array nums, return the number of reverse pairs in the array.*\n",
    "\n",
    "*A reverse pair is a pair (i, j) where:*\n",
    "\n",
    "*0 <= i < j < nums.length and nums[i] > 2 * nums[j].*"
   ]
  },
  {
   "cell_type": "markdown",
   "id": "b0c26aea-8f62-49a7-b49f-45a23940e87d",
   "metadata": {},
   "source": [
    "**Solution:**            \n",
    "If you understand Q1, this is almost the same question. We just need to slightly adjust our merge method"
   ]
  },
  {
   "cell_type": "code",
   "execution_count": 32,
   "id": "acf2f634-33cd-466c-bd74-c53b51293ded",
   "metadata": {},
   "outputs": [],
   "source": [
    "class Solution(object):\n",
    "    def reversePairs(self, nums):\n",
    "        self.helper_arr = [0] * len(nums)\n",
    "        return self.mergeSort(nums, 0, len(nums) - 1)\n",
    "\n",
    "    def mergeSort(self, nums, l, r):\n",
    "        if l == r:\n",
    "            return 0\n",
    "        m = (l + r) // 2\n",
    "        return self.mergeSort(nums, l, m) + self.mergeSort(nums, m + 1, r) + self.merge(nums, l, m, r)\n",
    "\n",
    "    def merge(self, nums, l, m, r):\n",
    "        # Count reverse pairs across left and right halves\n",
    "        res = 0\n",
    "        j = m + 1\n",
    "        for i in range(l, m + 1):\n",
    "            while j <= r and nums[i] > 2 * nums[j]:\n",
    "                j += 1\n",
    "            res += j - (m + 1)\n",
    "\n",
    "        # Regular merge process\n",
    "        i, j = l, m + 1\n",
    "        p = l\n",
    "        while i <= m and j <= r:\n",
    "            if nums[i] <= nums[j]:\n",
    "                self.helper_arr[p] = nums[i]\n",
    "                i += 1\n",
    "            else:\n",
    "                self.helper_arr[p] = nums[j]\n",
    "                j += 1\n",
    "            p += 1\n",
    "\n",
    "        while i <= m:\n",
    "            self.helper_arr[p] = nums[i]\n",
    "            i += 1\n",
    "            p += 1\n",
    "\n",
    "        while j <= r:\n",
    "            self.helper_arr[p] = nums[j]\n",
    "            j += 1\n",
    "            p += 1\n",
    "\n",
    "        # Copy back to original array\n",
    "        for k in range(l, r + 1):\n",
    "            nums[k] = self.helper_arr[k]\n",
    "\n",
    "        return res"
   ]
  }
 ],
 "metadata": {
  "kernelspec": {
   "display_name": "Python 3 (ipykernel)",
   "language": "python",
   "name": "python3"
  },
  "language_info": {
   "codemirror_mode": {
    "name": "ipython",
    "version": 3
   },
   "file_extension": ".py",
   "mimetype": "text/x-python",
   "name": "python",
   "nbconvert_exporter": "python",
   "pygments_lexer": "ipython3",
   "version": "3.12.4"
  }
 },
 "nbformat": 4,
 "nbformat_minor": 5
}
