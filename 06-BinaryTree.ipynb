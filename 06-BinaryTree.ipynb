{
 "cells": [
  {
   "cell_type": "markdown",
   "id": "beb3695f-42be-4b64-aacb-35edc20dc6b9",
   "metadata": {},
   "source": [
    "# Binary Tree\n",
    "Each tree has left and right pointer to its children"
   ]
  },
  {
   "cell_type": "code",
   "execution_count": 3,
   "id": "7281fd43-36ed-4b57-a4e1-1caf5ae3d0f9",
   "metadata": {},
   "outputs": [],
   "source": [
    "class TreeNode:\n",
    "    def __init__(self, val=0, left=None, right=None):\n",
    "        self.val = val\n",
    "        self.left = left\n",
    "        self.right = right"
   ]
  },
  {
   "cell_type": "markdown",
   "id": "c48610f3-cde9-4d93-b6a5-4e55d173ccba",
   "metadata": {},
   "source": [
    "# I. Different Kinds Of Binary Trees\n",
    "- Complete Binary Tree:\n",
    "  - Every level, except possibly the last, is completely filled.\n",
    "  - All None nodes on the last level must be on the right.\n",
    "- Balanced Binary Tree:\n",
    "  - For any node, the height difference between the left child and the right child is at most 1\n",
    "- Binary Search Tree (BST):\n",
    "  - For any node, all elements in the left subtree < root < elements in the right subtree.\n",
    "- AVL Tree\n",
    "  - A self-balancing BST, will covere in later notes\n",
    "- Red Black Tree\n",
    "  - Will cover in later notes"
   ]
  },
  {
   "cell_type": "markdown",
   "id": "4353c946-d008-48e4-bc12-74b08edcec12",
   "metadata": {},
   "source": [
    "---\n",
    "# II. Binary Tree Traversal\n",
    "We can traverse a binary tree using either DFS or BFS, let's first talk about with DFS with recursion"
   ]
  },
  {
   "cell_type": "code",
   "execution_count": 10,
   "id": "40ddbdaf-a5f9-4faa-a360-d30e90dffa7a",
   "metadata": {},
   "outputs": [],
   "source": [
    "def dfs(head):\n",
    "    if head is None:\n",
    "        return\n",
    "    # 1: first time this node is visited\n",
    "    f(head.left)\n",
    "    # 2: second time this node is visited\n",
    "    f(head.right)\n",
    "    # 3: third time this node is visited"
   ]
  },
  {
   "cell_type": "markdown",
   "id": "f992bf2d-146d-45bf-aecd-896df59409ac",
   "metadata": {},
   "source": [
    "As you can see, in our dfs function, each node is visited 3 times, and for each of these times, we got a chance to print the node.      \n",
    "Printing at those different times will give us 3 different traversal:\n",
    "- **preorder: print the element at the first visit**\n",
    "- **inorder: print the element at the second visit**\n",
    "- **postorder: print the element at the third visit**\n",
    "\n",
    "Lets take a look at an example, for a binary tree with h = 3, root = 1, second layer 2, 3, leaves 4, 5, 6, 7:\n",
    "- this is the sequence of leaves visited using dfs:      \n",
    "  - `1 2 4 4 4 2 5 5 5 2 1 3 6 6 6 3 7 7 7 3 1`, as we can see, each treenode is visited 3 times\n",
    "- preorder: `1 2 4 5 3 6 7`\n",
    "- inorder: `4 2 5 1 6 3 7`\n",
    "- postorder: `4 5 2 6 7 3 1`"
   ]
  },
  {
   "cell_type": "markdown",
   "id": "4e611b05-b9c7-4f4e-bd04-a713c0797aa7",
   "metadata": {},
   "source": [
    "## 1. Preorder Traversal\n",
    "For every subtree, the elements are printed in the order of: **Parent -> Left -> Right**\n",
    "#### Preorder With Recursion "
   ]
  },
  {
   "cell_type": "code",
   "execution_count": 25,
   "id": "d12465bc-bf97-4b27-8328-6a909eaf9272",
   "metadata": {},
   "outputs": [],
   "source": [
    "def preOrder(head):\n",
    "    if head is None:\n",
    "        return\n",
    "    print(head.val, end=\" \")\n",
    "    preOrder(head.left)\n",
    "    preOrder(head.right)"
   ]
  },
  {
   "cell_type": "markdown",
   "id": "2e74f95d-c2cb-4b24-aaba-f01e2569c5fa",
   "metadata": {},
   "source": [
    "#### Preorder using Stack"
   ]
  },
  {
   "cell_type": "code",
   "execution_count": null,
   "id": "7e4b8555-39db-47d8-9d85-0c2af9e77831",
   "metadata": {},
   "outputs": [],
   "source": [
    "def preOrder(head):\n",
    "    if head:\n",
    "        stack = []\n",
    "        stack.append(head)\n",
    "        while stack:\n",
    "            head = stack.pop()\n",
    "            print(head.val, end=\" \")\n",
    "            if head.right:\n",
    "                stack.append(head.right)\n",
    "            if head.left:\n",
    "                stack.append(head.left)\n",
    "        print()"
   ]
  },
  {
   "cell_type": "markdown",
   "id": "33344aed-7743-41c5-80d0-8f14220309c5",
   "metadata": {},
   "source": [
    "## 2. Inorder Traversal\n",
    "For every subtree, the elements are printed in the order of: **Left -> Parent -> Right**\n",
    "#### Inorder using recursion"
   ]
  },
  {
   "cell_type": "code",
   "execution_count": null,
   "id": "fa17fd10-9962-407d-8729-dd2b8482047b",
   "metadata": {},
   "outputs": [],
   "source": [
    "def inOrder(head):\n",
    "    if head is None:\n",
    "        return\n",
    "    inOrder(head.left)\n",
    "    print(head.val, end=\" \")\n",
    "    inOrder(head.right)"
   ]
  },
  {
   "cell_type": "markdown",
   "id": "3d0836fc-aaaf-4d1d-b26d-7a34c03d48e7",
   "metadata": {},
   "source": [
    "#### Inorder using stack\n",
    "- When ever we visit a treenode, push its entire left branches into the stack\n",
    "- Poll a node, print, then repeat step 1\n",
    "- Repeat the previous two steps                                \n",
    "- When stack is empty and no children, finish"
   ]
  },
  {
   "cell_type": "code",
   "execution_count": null,
   "id": "f35db3e8-20c4-4d20-8aa5-df5e5511cbd8",
   "metadata": {},
   "outputs": [],
   "source": [
    "def inOrder(head):\n",
    "    stack = []\n",
    "    while stack or head:\n",
    "        if head:\n",
    "            stack.append(head)\n",
    "            head = head.left\n",
    "        else:\n",
    "            head = stack.pop()\n",
    "            print(head.val, end=\" \")\n",
    "            head = head.right\n",
    "    print()\n"
   ]
  },
  {
   "cell_type": "markdown",
   "id": "0f840c77-3cc0-4f75-814a-d20db20f9b10",
   "metadata": {},
   "source": [
    "## 3. Postorder Traversal\n",
    "For every subtree, the elements are printed in the order of: **Left -> Right -> Parent**\n",
    "#### Postorder using recursion"
   ]
  },
  {
   "cell_type": "code",
   "execution_count": 38,
   "id": "6d2d69e3-e290-4a4f-9843-aa8b9caf13e7",
   "metadata": {},
   "outputs": [],
   "source": [
    "def posOrder(head):\n",
    "    if head is None:\n",
    "        return\n",
    "    posOrder(head.left)\n",
    "    posOrder(head.right)\n",
    "    print(head.val, end=\" \")"
   ]
  },
  {
   "cell_type": "markdown",
   "id": "9ae73a28-8502-491c-bf4e-d3eaa19e6bb1",
   "metadata": {},
   "source": [
    "#### Postorder using stack"
   ]
  },
  {
   "cell_type": "code",
   "execution_count": 41,
   "id": "61a6282c-fe3d-4bd9-aa68-0c892355078e",
   "metadata": {},
   "outputs": [],
   "source": [
    "def posOrderOneStack(root):\n",
    "    if root:\n",
    "        stack = []\n",
    "        lastPrinted = root\n",
    "        stack.append(root)\n",
    "        while stack:\n",
    "            cur = stack[-1]\n",
    "            if cur.left and lastPrinted != cur.left and lastPrinted != cur.right:\n",
    "                stack.append(cur.left)\n",
    "            elif cur.right and lastPrinted != cur.right:\n",
    "                stack.append(cur.right)\n",
    "            else:\n",
    "                print(cur.val, end=\" \")\n",
    "                lastPrinted = stack.pop()\n",
    "        print()"
   ]
  },
  {
   "cell_type": "markdown",
   "id": "7d689a3d-76b4-479b-9c6b-e775adc1d452",
   "metadata": {},
   "source": [
    "## 4. Level Order Traversal (BFS)\n",
    "This is just an ordinary BFS. All BFS notes are in notebook 20"
   ]
  },
  {
   "cell_type": "code",
   "execution_count": 48,
   "id": "f1a7ed1b-df06-480c-a4ee-cb5907d1b6d5",
   "metadata": {},
   "outputs": [],
   "source": [
    "from collections import deque\n",
    "\n",
    "def levelOrder(self, root):\n",
    "    ans = []\n",
    "    if root:\n",
    "        queue = deque([root])\n",
    "        while queue:\n",
    "            size = len(queue)\n",
    "            level = []                        # Handle one level at a time\n",
    "            for i in range(size):\n",
    "                cur = queue.popleft()\n",
    "                level.append(cur.val)\n",
    "                if cur.left:\n",
    "                    queue.append(cur.left)    # Push left child if exists\n",
    "                if cur.right:\n",
    "                    queue.append(cur.right)   # Push right child if exists\n",
    "            ans.append(level)                 # Add the current level to the answer list\n",
    "    return ans"
   ]
  },
  {
   "cell_type": "markdown",
   "id": "1d254f51-d839-4f7c-a744-1ed0e58cb557",
   "metadata": {},
   "source": [
    "## Time and Space Complexity for Binary Tree Traversal\n",
    "- **Time Complexity: O(n)**, where n is the number of nodes (since each node is visited three times).\n",
    "- **Space Complexity: O(h)**, where h is the height of the tree (the maximum stack depth during recursion)."
   ]
  },
  {
   "cell_type": "markdown",
   "id": "21cd1a42-52aa-4f8e-9e69-90d4ceb3eaa6",
   "metadata": {},
   "source": [
    "---\n",
    "# III. Binary Tree Questions"
   ]
  },
  {
   "cell_type": "markdown",
   "id": "52336028-e684-483e-b8ea-19870efe29ea",
   "metadata": {},
   "source": [
    "---\n",
    "### Q1. Binary Tree Zigzag Level Order Traversal (LC.103)\n",
    "*Given the root of a binary tree, return the zigzag level order traversal of its nodes' values. (i.e., from left to right, then right to left for the next level and alternate between).*"
   ]
  },
  {
   "cell_type": "code",
   "execution_count": 73,
   "id": "e3658142-6891-4348-9bde-23d25cb2e4e1",
   "metadata": {},
   "outputs": [],
   "source": [
    "class Solution(object):\n",
    "    def zigzagLevelOrder(self, root):\n",
    "        if not root:\n",
    "            return []\n",
    "        \n",
    "        queue = deque()\n",
    "        ans = []\n",
    "        reverse = False\n",
    "        queue.append(root)\n",
    "        while queue:\n",
    "            n = len(queue)\n",
    "            level = []\n",
    "            for i in range(n):\n",
    "                cur = queue.popleft()\n",
    "                if cur.left:\n",
    "                    queue.append(cur.left)\n",
    "                if cur.right:\n",
    "                    queue.append(cur.right)\n",
    "                level.append(cur.val)\n",
    "            if reverse:\n",
    "                level.reverse()\n",
    "                reverse = False\n",
    "            else:\n",
    "                reverse = True\n",
    "            ans.append(level)\n",
    "        \n",
    "        return ans"
   ]
  },
  {
   "cell_type": "markdown",
   "id": "70124e36-e541-418e-b708-6055c87ab23f",
   "metadata": {},
   "source": [
    "---\n",
    "### Q2: Maximum Depth Of Binary Tree (LC.662)\n",
    "*Given the root of a binary tree, return its maximum depth.*    \n",
    "*A binary tree's maximum depth is the number of nodes along the longest path from the root node down to the farthest leaf node.*"
   ]
  },
  {
   "cell_type": "code",
   "execution_count": 62,
   "id": "bb36dfd5-718d-4c62-a200-7156e19e42f8",
   "metadata": {},
   "outputs": [],
   "source": [
    "class Solution(object):\n",
    "    def maxDepth(self, root):\n",
    "        return 0 if not root else max(self.maxDepth(root.left), self.maxDepth(root.right)) + 1"
   ]
  },
  {
   "cell_type": "markdown",
   "id": "6247d111-1a2e-4756-90ea-0a948c107429",
   "metadata": {},
   "source": [
    "---\n",
    "### Q3: Minimum Depth Of Binary Tree (LC.111)\n",
    "*Given a binary tree, find its minimum depth.*         \n",
    "*The minimum depth is the number of nodes along the shortest path from the root node down to the nearest leaf node.*           \n",
    "*Note: A leaf is a node with no children.*   \n",
    "\n",
    "**Solution:**\n",
    "One thing to note is that we need to set the mindepth of a child to infinity if the child is null, because if you run minDepth on a null child, the function will return 0, which will violate our judgement for the min depth"
   ]
  },
  {
   "cell_type": "code",
   "execution_count": null,
   "id": "0a2494a0-6f50-4df3-8b5a-8fcc26484d3a",
   "metadata": {},
   "outputs": [],
   "source": [
    "class Solution(object):\n",
    "    def minDepth(self, root):\n",
    "        if not root:\n",
    "            return 0\n",
    "        if not root.left and not root.right:\n",
    "            return 1\n",
    "        min_left = float('inf') if not root.left else self.minDepth(root.left)\n",
    "        min_right = float('inf') if not root.right else self.minDepth(root.right)\n",
    "        return min(min_left, min_right) + 1"
   ]
  },
  {
   "cell_type": "markdown",
   "id": "0e7c6555-5056-42e1-80d2-15ece8aa2082",
   "metadata": {},
   "source": [
    "---\n",
    "### Q4: Maximum Width Of Binary Tree\n",
    "*Given the root of a binary tree, return the maximum width of the given tree.*    \n",
    "\n",
    "*The maximum width of a tree is the maximum width among all levels.*             \n",
    "\n",
    "*The width of one level is defined as the length between the end-nodes (the leftmost and rightmost non-null nodes), where the null nodes between the end-nodes that would be present in a complete binary tree extending down to that level are also counted into the length calculation.*       \n",
    "\n",
    "*It is guaranteed that the answer will in the range of a 32-bit signed integer.*"
   ]
  },
  {
   "cell_type": "markdown",
   "id": "c3d957f1-7423-48bc-9845-b7dad279246d",
   "metadata": {},
   "source": [
    "**Solution**:        \n",
    "We simply give each node an `id` using the same way when we index a heap:\n",
    "- If a parent has id `x`, then left child has id `2x` and right child has id `2x + 1`\n",
    "     \n",
    "Then perform BFS on the tree:\n",
    "- when pushing a node to the queue, we push its index together with it\n",
    "- For each level, the max width of the level is the id of the last node minus the id of the first node popped"
   ]
  },
  {
   "cell_type": "code",
   "execution_count": 85,
   "id": "c6b52190-2e2d-483f-b532-bade8d6e368c",
   "metadata": {},
   "outputs": [],
   "source": [
    "class Solution(object):\n",
    "    def widthOfBinaryTree(self, root):\n",
    "        if not root:\n",
    "            return 0\n",
    "        queue = deque()\n",
    "        queue.append((root, 1))\n",
    "        max_width = 1\n",
    "        while queue:\n",
    "            n = len(queue)\n",
    "            level_width = queue[n - 1][1] - queue[0][1] + 1\n",
    "            max_width = max(max_width, level_width)\n",
    "            for i in range(n):\n",
    "                cur, cur_id = queue.popleft()\n",
    "                if cur.left:\n",
    "                    queue.append((cur.left, cur_id * 2))\n",
    "                if cur.right:\n",
    "                    queue.append((cur.right, cur_id * 2 + 1))\n",
    "            \n",
    "        return max_width"
   ]
  },
  {
   "cell_type": "markdown",
   "id": "e4f9b1bb-a5e2-40ba-8a9d-815dc73c45d3",
   "metadata": {},
   "source": [
    "---\n",
    "### Q5: Check Completeness Of A Binary Tree (LC.958)\n",
    "*Given the root of a binary tree, determine if it is a complete binary tree.*\n",
    "\n",
    "*In a complete binary tree, every level, except possibly the last, is completely filled, and all nodes in the last level are as far left as possible. It can have between 1 and 2h nodes inclusive at the last level h.*"
   ]
  },
  {
   "cell_type": "markdown",
   "id": "f840f946-8c3d-40a6-989b-f54cab6ee926",
   "metadata": {},
   "source": [
    "**Solution:**\n",
    "- Use BFS to traverse all nodes\n",
    "- If a node only has right child, return false\n",
    "- If we meet a leaf node or a node that only has one child, all nodes we met later must be leaves"
   ]
  },
  {
   "cell_type": "code",
   "execution_count": null,
   "id": "e0c00bac-dff3-45c6-88c5-fc10382cd9aa",
   "metadata": {},
   "outputs": [],
   "source": [
    "class Solution(object):\n",
    "    def isCompleteTree(self, root):\n",
    "        if not root:\n",
    "            return True\n",
    "        queue = deque()\n",
    "        queue.append(root)\n",
    "        need_leaves = False\n",
    "        while queue:\n",
    "            cur = queue.popleft()\n",
    "            if need_leaves and (cur.right or cur.left):\n",
    "                return False\n",
    "            if cur.right and not cur.left:\n",
    "                return False\n",
    "            if cur.left:\n",
    "                queue.append(cur.left)\n",
    "            if cur.right:\n",
    "                queue.append(cur.right)\n",
    "            if not cur.left or not cur.right:\n",
    "                need_leaves = True\n",
    "\n",
    "        return True"
   ]
  },
  {
   "cell_type": "markdown",
   "id": "461a45e3-38d7-4102-be84-8b5ac88af37d",
   "metadata": {},
   "source": [
    "---\n",
    "### Q6: Count Complete Tree Nodes (LC.222)\n",
    "*Given the root of a complete binary tree, return the number of the nodes in the tree.*      \n",
    "*Design an algorithm that runs in less than O(n) time complexity.*"
   ]
  },
  {
   "cell_type": "markdown",
   "id": "61174b91-558b-4ca5-a62e-90f92cc7c173",
   "metadata": {},
   "source": [
    "**Solution:**   \n",
    "We need to define two function:\n",
    "- `dive_left(root, level)`: given the `root` is at current `level`, which `level` can it reach travelling down its leftmost path?\n",
    "\n",
    "- `count(root, level, height)`: given the `root` is at current `level`, find the number of nodes in the tree\n",
    "\n",
    "  - this function will check if `root.right` can reach the deepest level\n",
    "\n",
    "    - if it can, it means that the `root.left` is a Full Tree of height `height-level`. So then we call `count(right)`.\n",
    "\n",
    "    - if it cannot, it means that `root.right` is a Full Tree of height `height-level-1`. So then we call `count(left)`.\n",
    "\n",
    "Therefore, we first call `dive_left(root, 0)` to find the height of the whole tree, then simply call `count(root, 1, height)`"
   ]
  },
  {
   "cell_type": "code",
   "execution_count": 106,
   "id": "912b1ba2-709d-426e-9ea4-8f626a22396a",
   "metadata": {},
   "outputs": [],
   "source": [
    "class Solution(object):\n",
    "    def countNodes(self, root):\n",
    "        if not root:\n",
    "            return 0\n",
    "        height = self.dive_left(root, 1)\n",
    "        return self.count(root, height, 1)\n",
    "\n",
    "    \n",
    "    def count(self, root, height, level):\n",
    "        if level == height:\n",
    "            return 1\n",
    "        if self.dive_left(root.right, level + 1) == height:\n",
    "            return (1 << (height - level)) + self.count(root.right, height, level + 1)               # A tree of height h has 2^h - 1 node\n",
    "        else:\n",
    "            return (1 << (height - level - 1)) + self.count(root.left, height, level + 1)\n",
    "\n",
    "    def dive_left(self, root, level):\n",
    "        while root:\n",
    "            level += 1\n",
    "            root = root.left\n",
    "        return level - 1"
   ]
  },
  {
   "cell_type": "markdown",
   "id": "66c322c8-b9db-4982-9925-2e63e52548d7",
   "metadata": {},
   "source": [
    "---\n",
    "### Q7: Lowest Common Ancestor Of A Binary Tree (LC.236)\n",
    "*Given a binary tree, find the lowest common ancestor (LCA) of two given nodes in the tree.*        \n",
    "\n",
    "*According to the definition of LCA on Wikipedia: “The lowest common ancestor is defined between two nodes p and q as the lowest node in T that has both p and q as descendants (where we allow a node to be a descendant of itself).”*"
   ]
  },
  {
   "cell_type": "markdown",
   "id": "2282d128-899a-47ac-9a51-f625f6916a6f",
   "metadata": {},
   "source": [
    "**Solution:**\n",
    "There are two cases we need to consider\n",
    "1. The LCA is either `p` or `q`, which means that `p` is under `q` or `q` is under `p`\n",
    "2. The LCA is something elses, which means that `p` and `q` are on two different subtree\n",
    "\n",
    "Our Algorithm is essentially just searching for `p` and `q` on the tree, and we need to handle both cases:\n",
    "- If root is either `p`,`q`, or `null`, return `root`\n",
    "- search `p` and `q` on the children\n",
    "- If we found `p` on one children and `q` on the other, it means that `root` is the LCA --- Case 2.\n",
    "- If we found `p` on one children and nothing on the other, this means that `p` is the LCA. --- Case 1. This is because we return immediately when we meet `p` or `q`. The fact that we only find `p` means that:\n",
    "  - neither of them are on the other child\n",
    "  - `q` must be under `p` since we found `p` first"
   ]
  },
  {
   "cell_type": "code",
   "execution_count": 117,
   "id": "299c203b-59fb-4cea-b252-449979762ef6",
   "metadata": {},
   "outputs": [],
   "source": [
    "class Solution(object):\n",
    "    def lowestCommonAncestor(self, root, p, q):\n",
    "        if root == p or root == q or not root:\n",
    "            return root\n",
    "        search_left = self.lowestCommonAncestor(root.left, p, q)\n",
    "        search_right = self.lowestCommonAncestor(root.right, p, q)\n",
    "        if search_left and search_right:                                 # Case 2\n",
    "            return root\n",
    "        if not search_left and not search_right:                         # Case 1, found nothing\n",
    "            return None\n",
    "        return search_left if search_left else search_right              # Case 1, found p or q"
   ]
  },
  {
   "cell_type": "markdown",
   "id": "57372484-a6ff-4c47-b2a3-21ac2159bf9b",
   "metadata": {},
   "source": [
    "---\n",
    "### Q8. Balanced Binary Tree (LC.110)\n",
    "*Given a binary tree, determine if it is height-balanced.*"
   ]
  },
  {
   "cell_type": "code",
   "execution_count": 121,
   "id": "6bd3fec4-fd8e-4563-a022-c466ee27dd5c",
   "metadata": {},
   "outputs": [],
   "source": [
    "class Solution(object):\n",
    "    balanced = True\n",
    "    def isBalanced(self, root):\n",
    "\n",
    "        self.get_height_check_balance(root)\n",
    "        return self.balanced\n",
    "        \n",
    "    def get_height_check_balance(self, root):\n",
    "        if not root:\n",
    "            return 0\n",
    "        left_height = self.get_height_check_balance(root.left)\n",
    "        right_height = self.get_height_check_balance(root.right)\n",
    "        if abs(left_height - right_height) > 1:\n",
    "            self.balanced = False\n",
    "        return max(left_height, right_height) + 1"
   ]
  },
  {
   "cell_type": "markdown",
   "id": "66b3a41e-9c45-4d80-a6f0-69d038919d31",
   "metadata": {},
   "source": [
    "---\n",
    "### Q9: Sum Root To Leaf Numbers (LC.129)\n",
    "*You are given the root of a binary tree containing digits from 0 to 9 only.*         \n",
    "*Each root-to-leaf path in the tree represents a number.*       \n",
    "- *For example, the root-to-leaf path 1 -> 2 -> 3 represents the number 123.*\n",
    "\n",
    "*Return the total sum of all root-to-leaf numbers. Test cases are generated so that the answer will fit in a 32-bit integer.*         \n",
    "*A leaf node is a node with no children.*"
   ]
  },
  {
   "cell_type": "code",
   "execution_count": 127,
   "id": "9f135ad4-a0cd-4b2d-889e-eb0e6a1acd74",
   "metadata": {},
   "outputs": [],
   "source": [
    "class Solution(object):\n",
    "    def sumNumbers(self, root):\n",
    "        total_sum = 0\n",
    "\n",
    "        def helper(root, path):\n",
    "            nonlocal total_sum\n",
    "            if not root:\n",
    "                return\n",
    "\n",
    "            path.append(str(root.val))\n",
    "\n",
    "            if not root.left and not root.right:\n",
    "                total_sum += int(''.join(path))\n",
    "\n",
    "            helper(root.left, path)\n",
    "            helper(root.right, path)\n",
    "\n",
    "            path.pop()      # Backtracking\n",
    "\n",
    "        helper(root, [])\n",
    "        return total_sum"
   ]
  },
  {
   "cell_type": "markdown",
   "id": "6dbe0745-c204-44a3-a440-00b326a173ef",
   "metadata": {},
   "source": [
    "---\n",
    "### Q10. Path Sum II (LC.113)\n",
    "*Given the root of a binary tree and an integer targetSum, return all root-to-leaf paths where the sum of the node values in the path equals targetSum. Each path should be returned as a list of the node values, not node references.*\n",
    "\n",
    "*A root-to-leaf path is a path starting from the root and ending at any leaf node. A leaf is a node with no children.*"
   ]
  },
  {
   "cell_type": "code",
   "execution_count": 132,
   "id": "c1cce690-274d-404d-97c6-097b135a1933",
   "metadata": {},
   "outputs": [],
   "source": [
    "class Solution(object):\r\n",
    "    def __init__(self):\r\n",
    "        self.ans = []\r\n",
    "        self.path = []\r\n",
    "\r\n",
    "    def pathSum(self, root, targetSum):\r\n",
    "        self.pathSumHelper(root, 0, targetSum)\r\n",
    "        return self.ans\r\n",
    "\r\n",
    "    def pathSumHelper(self, root, curr_sum, targetSum):\r\n",
    "        if not root:\r\n",
    "            return\r\n",
    "        \r\n",
    "        self.path.append(root.val)\r\n",
    "        curr_sum += root.val\r\n",
    "\r\n",
    "        if not root.left and not root.right:\r\n",
    "            if curr_sum == targetSum:\r\n",
    "                self.ans.append(list(self.path))\r\n",
    "\r\n",
    "        if root.left:\r\n",
    "            self.pathSumHelper(root.left, curr_sum, targetSum)\r\n",
    "        if root.right:\r\n",
    "            self.pathSumHelper(root.right, curr_sum, targetSum)\r\n",
    "        \r\n",
    "        # Backtrack: remove the last element from the pat\r\n",
    "        self.path.pop()\r\n"
   ]
  },
  {
   "cell_type": "markdown",
   "id": "49244015-35bf-484a-98eb-25a64eb2ae1d",
   "metadata": {},
   "source": [
    "---\n",
    "### Q11. Serialize and Deserialize Binary Tree (LC.297)\n",
    "*Serialization is the process of converting a data structure or object into a sequence of bits so that it can be stored in a file or memory buffer, or transmitted across a network connection link to be reconstructed later in the same or another computer environment.*\n",
    "\n",
    "*Design an algorithm to serialize and deserialize a binary tree. There is no restriction on how your serialization/deserialization algorithm should work. You just need to ensure that a binary tree can be serialized to a string and this string can be deserialized to the original tree structure.*\n",
    "\n",
    "*Clarification: The input/output format is the same as how LeetCode serializes a binary tree. You do not necessarily need to follow this format, so please be creative and come up with different approaches yourself.*"
   ]
  },
  {
   "cell_type": "code",
   "execution_count": null,
   "id": "d94499e3-1070-48c3-95aa-4cbeb629326a",
   "metadata": {},
   "outputs": [],
   "source": [
    "class Codec:\n",
    "    def serialize(self, root):\n",
    "        tree_str = []\n",
    "\n",
    "        def preorder(root, tree_str):\n",
    "            if not root:\n",
    "                tree_str.append(\"#,\")\n",
    "            else:\n",
    "                tree_str.append(str(root.val) + \",\")\n",
    "                preorder(root.left, tree_str)\n",
    "                preorder(root.right, tree_str)\n",
    "\n",
    "        preorder(root, tree_str)\n",
    "        return ''.join(tree_str)\n",
    "\n",
    "    def deserialize(self, data):\n",
    "        tree_str = data.split(\",\")\n",
    "        i = 0\n",
    "\n",
    "        def reconstruct(tree_str):\n",
    "            nonlocal i\n",
    "            cur = tree_str[i]\n",
    "            i += 1\n",
    "            if cur == \"#\":\n",
    "                return None\n",
    "            else:\n",
    "                head = TreeNode(int(cur))\n",
    "                head.left = reconstruct(tree_str)\n",
    "                head.right = reconstruct(tree_str)\n",
    "                return head\n",
    "\n",
    "        return reconstruct(tree_str)"
   ]
  },
  {
   "cell_type": "markdown",
   "id": "48f73628-cf1a-47ff-a37b-7c87afdbf4d4",
   "metadata": {},
   "source": [
    "---\n",
    "### Q12. Construct Binary Tree From Preorder and Inorder Traversal (LC.105)\n",
    "*Given two integer arrays preorder and inorder where preorder is the preorder traversal of a binary tree and inorder is the inorder traversal of the same tree, construct and return the binary tree.*\n",
    "\n",
    "**Solution:**\n",
    "- First look at the preorder array, the root must be pre[l].\n",
    "- then look at the inorder array, since inorder is l-parent-r, we find where pre[l] is and all elements on its left is on the left child, all elements on its right is right child, lets say we find pre[l] at in[k]\n",
    "- go back to the pre array, count k - l elements from the root, this is the left child, and the rest is right child"
   ]
  },
  {
   "cell_type": "code",
   "execution_count": 138,
   "id": "6af0aef1-b251-49b3-b8bb-3893e85b1d7c",
   "metadata": {},
   "outputs": [],
   "source": [
    "class Solution:\n",
    "    def buildTree(self, preorder, inorder):\n",
    "        if not preorder or not inorder or len(preorder) != len(inorder):\n",
    "            return None\n",
    "        \n",
    "        # Use a hashmap to store the index of each element in the inorder array\n",
    "        index_map = {value: idx for idx, value in enumerate(inorder)}\n",
    "        \n",
    "        # Recursive function to construct the tree\n",
    "        def build(preorder, l1, r1, inorder, l2, r2, index_map):\n",
    "            if l1 > r1:\n",
    "                return None\n",
    "            \n",
    "            # The first element in preorder is the root\n",
    "            root_val = preorder[l1]\n",
    "            root = TreeNode(root_val)\n",
    "            \n",
    "            if l1 == r1:  # If this is a leaf node\n",
    "                return root\n",
    "            \n",
    "            # Find the root's index in the inorder array\n",
    "            k = index_map[root_val]\n",
    "            \n",
    "            # Recursively build the left and right subtrees\n",
    "            left_subtree_size = k - l2\n",
    "            root.left = build(preorder, l1 + 1, l1 + left_subtree_size, inorder, l2, k - 1, index_map)\n",
    "            root.right = build(preorder, l1 + left_subtree_size + 1, r1, inorder, k + 1, r2, index_map)\n",
    "            \n",
    "            return root\n",
    "        \n",
    "        # Initial call to the recursive function\n",
    "        return build(preorder, 0, len(preorder) - 1, inorder, 0, len(inorder) - 1, index_map)"
   ]
  },
  {
   "cell_type": "code",
   "execution_count": null,
   "id": "1577aea0-8e37-4460-b10c-e00ba031ae86",
   "metadata": {},
   "outputs": [],
   "source": []
  }
 ],
 "metadata": {
  "kernelspec": {
   "display_name": "Python 3 (ipykernel)",
   "language": "python",
   "name": "python3"
  },
  "language_info": {
   "codemirror_mode": {
    "name": "ipython",
    "version": 3
   },
   "file_extension": ".py",
   "mimetype": "text/x-python",
   "name": "python",
   "nbconvert_exporter": "python",
   "pygments_lexer": "ipython3",
   "version": "3.12.4"
  }
 },
 "nbformat": 4,
 "nbformat_minor": 5
}
