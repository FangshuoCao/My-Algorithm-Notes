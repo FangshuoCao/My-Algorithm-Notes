{
 "cells": [
  {
   "cell_type": "markdown",
   "id": "f53ddb63-e1da-4cc6-8d92-b7bc10a5c9b2",
   "metadata": {},
   "source": [
    "# Binary Exponentiation\n",
    "The problem is very simple, basically we are just implementing the `pow()` function:\n",
    "  - *Given integer a and b, how can we quickly calculate `pow(a, b)`?*\n",
    "\n",
    "**Normal Approach:**        \n",
    "The normal approach is easy, we just need to use a for loop, and the time complexity is O(b)"
   ]
  },
  {
   "cell_type": "code",
   "execution_count": 5,
   "id": "5d0cf975-5bf5-4c4f-bd5f-94e2e7b36e78",
   "metadata": {},
   "outputs": [],
   "source": [
    "def myPow1(a, b):\n",
    "    ans = 1\n",
    "    for _ in range(b):\n",
    "        ans *= a\n",
    "    return ans"
   ]
  },
  {
   "cell_type": "markdown",
   "id": "89ae431b-0f7a-4579-8d2b-9936c890a050",
   "metadata": {},
   "source": [
    "Instead of computing `a^b` using repeated multiplication which takes `O(b)` time, we can speed it up using binary exponentiation, which runs in `O(logb)` time.\n",
    "\n",
    "**Binary Exponentiation Algorithm**\n",
    "1. Convert `b` to its binary form.\n",
    "2. If a bit in `b` is `1`, multiply the corresponding power of `a` into the answer.\n",
    "3. If a bit is `0`, skip it.\n",
    "4. Square `a` at each step and divide `b` by 2."
   ]
  },
  {
   "cell_type": "code",
   "execution_count": 22,
   "id": "53182224-b63e-493d-b3a8-f31ff8bf8f31",
   "metadata": {},
   "outputs": [],
   "source": [
    "def myPow2(a, b):\n",
    "    ans = 1  # Start with 1 because multiplying by 0 would always result in 0\n",
    "    while b > 0:\n",
    "        if b & 1:  # If the last bit is 1, multiply the current a to ans\n",
    "            ans *= a\n",
    "        a *= a  # Square the base\n",
    "        b >>= 1  # Move to the next bit by shifting right\n",
    "    return ans"
   ]
  },
  {
   "cell_type": "markdown",
   "id": "35d292b9-f876-4b76-b505-a213d6096085",
   "metadata": {},
   "source": [
    "**Why is this correct?**        \n",
    "Binary exponentiation is based on the idea that any integer exponent can be expressed as a sum of powers of 2. The correctness of the algorithm follows directly from the binary representation of the exponent and properties of exponentiation.   \n",
    "\n",
    "Any integer b can be written in binary as: b = 2^k1 + 2^k2 + 2^k2 + ... 2^km   \n",
    "\n",
    "For example, 75 = 64 + 8 + 2 + 1 = 2^6 + 2^3 + 2^1 + 2^0\n",
    "\n",
    "Therefore, a^75 = a^(2^6) * a^(2^3) * a^(2^1) * a^(2^0)\n",
    "​\n"
   ]
  }
 ],
 "metadata": {
  "kernelspec": {
   "display_name": "Python 3 (ipykernel)",
   "language": "python",
   "name": "python3"
  },
  "language_info": {
   "codemirror_mode": {
    "name": "ipython",
    "version": 3
   },
   "file_extension": ".py",
   "mimetype": "text/x-python",
   "name": "python",
   "nbconvert_exporter": "python",
   "pygments_lexer": "ipython3",
   "version": "3.12.4"
  }
 },
 "nbformat": 4,
 "nbformat_minor": 5
}
