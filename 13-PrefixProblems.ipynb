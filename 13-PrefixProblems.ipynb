{
 "cells": [
  {
   "cell_type": "markdown",
   "id": "0aa0ecdb-a37f-45bc-94d2-3c0ec1950b63",
   "metadata": {},
   "source": [
    "# Prefix Sum\n",
    "A Prefix Sum array allow us to **get range sum of in the array in O(1) time**\n",
    "\n",
    "Therefore, it the question is asking about **Subarray Sum**, try using prefix sum!!!"
   ]
  },
  {
   "cell_type": "markdown",
   "id": "9766271a-f6d1-4113-b428-bfb75485fb1e",
   "metadata": {},
   "source": [
    "---\n",
    "### Q1: Sum Range Query (LC.303)\n",
    "*Given an integer array nums, handle multiple queries of the following type:*   \n",
    "- *Calculate the sum of the elements of nums between indices left and right inclusive where left <= right.*\n",
    "\n",
    "*Implement the NumArray class:*         \n",
    "- *`NumArray(int[] nums)`: Initializes the object with the integer array nums.*\n",
    "- *`int sumRange(int left, int right)`: Returns the sum of the elements of nums between indices left and right inclusive (i.e. nums[left] + nums[left + 1] + ... + nums[right]).*\n",
    "\n",
    "**Solution:**                \n",
    "We define `prefixSum[i]: the sum of the first i elements`"
   ]
  },
  {
   "cell_type": "code",
   "execution_count": 13,
   "id": "fbc598d4-510e-42ad-8592-b514a2d10798",
   "metadata": {},
   "outputs": [],
   "source": [
    "class NumArray(object):\r\n",
    "    def __init__(self, nums):\r\n",
    "        self.prefixSum = [0] * (len(nums) + 1)\r\n",
    "        for i in range(1, len(nums) + 1):\r\n",
    "            self.prefixSum[i] = self.prefixSum[i - 1] + nums[i - 1]\r\n",
    "\r\n",
    "    def sumRange(self, left, right):\r\n",
    "        return self.prefixSum[right + 1] - self.prefixSum[left]"
   ]
  },
  {
   "cell_type": "markdown",
   "id": "fccf522e-4959-4fef-a2c2-778ea3bfce4d",
   "metadata": {},
   "source": [
    "Note that We can also define `prefixSum[i]: the sum of the subarray that ends with nums[i]`      \n",
    "Later in this note we might use either implementation"
   ]
  },
  {
   "cell_type": "markdown",
   "id": "fd44fe4d-d6d0-47cb-89f3-8965f7d55890",
   "metadata": {},
   "source": [
    "---\n",
    "### Q2. Subarray Sum Equals K (LC.560)\n",
    "*Given an array of integers nums and an integer k, return the total number of subarrays whose sum equals to k.*      \n",
    "*A subarray is a contiguous non-empty sequence of elements within an array.*\n",
    "\n",
    "**Solution:**            \n",
    "We first construct and then iterate through the prefix sum array.    \n",
    "\n",
    "The key point is again this: If `prefixSum[j] - prefixSum[i] == k`, then it means that the sum of `nums[i:j]` is k.    \n",
    "\n",
    "Therefore we use a hashmap to keep track of the frequencies of each prefix sum.       \n",
    "\n",
    "Then we calculate the number of subarray has the sum of `k` that ends in position `j` for each index `j`:\n",
    "- When we are at position `j` and `prefixSum[j] - prefixSum[i] == k`, we simply add the frequencies of `prefixSum[i]` currently stored in the hashmap"
   ]
  },
  {
   "cell_type": "code",
   "execution_count": 18,
   "id": "b7ba2347-2433-48ee-b4c4-d8a59c0bb18f",
   "metadata": {},
   "outputs": [],
   "source": [
    "class Solution(object):\n",
    "    def subarraySum(self, nums, k):\n",
    "        n = len(nums)\n",
    "        prefixSum = [0] * (n + 1)\n",
    "        for i in range(1, n + 1):\n",
    "            prefixSum[i] = prefixSum[i - 1] + nums[i - 1]\n",
    "        frequencies = defaultdict(int)\n",
    "        ans = 0\n",
    "        for i in range(n + 1):\n",
    "            if prefixSum[i] - k in frequencies:\n",
    "                ans += frequencies[prefixSum[i] - k]\n",
    "            frequencies[prefixSum[i]] += 1\n",
    "        return ans"
   ]
  },
  {
   "cell_type": "markdown",
   "id": "fbd89810-c33c-4b7d-ae25-aaaee9e6245b",
   "metadata": {},
   "source": [
    "**Optimization:**            \n",
    "In fact, we don't even need a prefix sum array since we have stored the information we needed in a hashmap.           \n",
    "Therefore, we can just use a single variable to represent the current prefix sum.           \n",
    "Note that we should manually add `frequencies[0] = 1` since the prefixSum 0 already appears when there is no element"
   ]
  },
  {
   "cell_type": "code",
   "execution_count": null,
   "id": "161bbbf7-bd11-473b-9bc3-6fdeddbacab9",
   "metadata": {},
   "outputs": [],
   "source": [
    "class Solution(object):\n",
    "    def subarraySum(self, nums, k):\n",
    "        n = len(nums)\n",
    "        prefixSum = 0\n",
    "        frequencies = defaultdict(int)\n",
    "        frequencies[0] = 1\n",
    "        ans = 0\n",
    "        for i in range(n):\n",
    "            prefixSum += nums[i]\n",
    "            if prefixSum - k in frequencies:\n",
    "                ans += frequencies[prefixSum - k]\n",
    "            frequencies[prefixSum] += 1\n",
    "        return ans"
   ]
  },
  {
   "cell_type": "markdown",
   "id": "4f3bc4f4-92a0-4ea1-8255-41bd4ba2403d",
   "metadata": {},
   "source": [
    "---\n",
    "### Q3. Maximum Length Of Subarray Sum Equals K\n",
    "*Given an array of integers nums and an integer k, return the length of the longest subarray whose sum equals to k.*      "
   ]
  },
  {
   "cell_type": "markdown",
   "id": "ecc6d938-c9d2-49a2-9c86-f0785747cf28",
   "metadata": {},
   "source": [
    "**Solution:**          \n",
    "The question is pretty similar to the previous one, we just need to change the definition of our hashmap.          \n",
    "Instead of counting frequency, our hashmap stores the leftmost position where a prefixSum appears.            \n",
    "Again, `firstAppears[0] = -1` because the prefix sum is 0 when there is no element"
   ]
  },
  {
   "cell_type": "code",
   "execution_count": 46,
   "id": "5be9e530-e71b-4938-bf7d-bcc92bcd8010",
   "metadata": {},
   "outputs": [],
   "source": [
    "class Solution(object):\n",
    "    def subarrayLength(self, nums, k):\n",
    "        map = {}\n",
    "        map[0] = -1                  # Important: prefix sum 0 exists even when no elements are considered\n",
    "        maxLen = 0\n",
    "        sum = 0\n",
    "        for i in range(n):\n",
    "            sum += arr[i]\n",
    "            if sum - aim in map:\n",
    "                maxLen = max(maxLen, i - map[sum - aim])\n",
    "            if sum not in map:       # Only update when we first see a specific prefix sum since we are looking for the leftmost index of that sum\n",
    "                map[sum] = i\n",
    "        return maxLen"
   ]
  },
  {
   "cell_type": "markdown",
   "id": "9ce6e680-25b1-4ecc-926c-70f186d1619c",
   "metadata": {},
   "source": [
    "---\n",
    "### Q4: Maximum Length Of Subarray Equal Sign\n",
    "*Given an array of integers nums and an integer k, return the length of the longest subarray within which the number of positive and negative numbers is the same*  "
   ]
  },
  {
   "cell_type": "markdown",
   "id": "51119678-235e-4e84-8e69-42b19a70078d",
   "metadata": {},
   "source": [
    "**Solution:**            \n",
    "We just need one simple trick to transform the problem to the exact same problem as last one:   \n",
    "\n",
    "**We treat positive number as 1 and negative numbers as -1**           \n",
    "\n",
    "Then we are just looking for the longest subarray whose sum is 0"
   ]
  },
  {
   "cell_type": "code",
   "execution_count": 50,
   "id": "2a001f8b-2d92-4287-b024-9bff82973628",
   "metadata": {},
   "outputs": [],
   "source": [
    "class Solution(object):\n",
    "    def subarrayLength(self, nums):\n",
    "        map = {}\n",
    "        map[0] = -1 \n",
    "        maxLen = 0\n",
    "        sum = 0\n",
    "        for i in range(n):\n",
    "            sum += 1 if nums[i] > 0 else -1 if nums[i] < 0 else 0\n",
    "            if sum in map:\n",
    "                maxLen = max(maxLen, i - map[sum])\n",
    "            if sum not in map:\n",
    "                map[sum] = i\n",
    "        return maxLen"
   ]
  },
  {
   "cell_type": "markdown",
   "id": "fb09a2fa-ae64-4a61-a006-472901f7f8bc",
   "metadata": {},
   "source": [
    "---\n",
    "### Q5: Longest Well Performing Interval (LC.1124) \n",
    "*We are given `hours`, a list of the number of hours worked per day for a given employee.*           \n",
    "*A day is considered to be a tiring day if and only if the number of hours worked is (strictly) greater than 8.*           \n",
    "*A well-performing interval is an interval of days for which the number of tiring days is strictly larger than the number of non-tiring days.*          \n",
    "*Return the length of the longest well-performing interval.*"
   ]
  },
  {
   "cell_type": "markdown",
   "id": "b49c3262-3e42-48df-bf77-8429c067c8a5",
   "metadata": {},
   "source": [
    "**Solution:**           \n",
    "Again, treat a `hours[i] > 8` as `1` and a `hours[i] <= 8` as `-1`         \n",
    "Then we are looking for a subarray sum that is positive\n",
    "So given an index i, we check:\n",
    "- If `hours[i] > 0`, then `ans = i + 1`, because the subarray `[0:i]` fulfill the requirement\n",
    "- If `hours[i] < 0`, we look for a prefix sum that is smaller current prefix sum. In fact, we **only need to look for `presum - 1`!**\n",
    "  - The reason that we only look for `presum - 1` is because our prefix sum increase or decrease only by step of 1\n",
    "  - Suppose currently `presum == 3`, we know that `-4, -5, -6, ...` all works\n",
    "  - But because of our prefix sum start at `0`, it must somehow first get to `-4` before it becomes `-5`\n",
    "  - Therefore, there must be an index at which `presum == -4` and is **EARLIER** than `-5`\n",
    "  - So we only look for `-4`"
   ]
  },
  {
   "cell_type": "code",
   "execution_count": 58,
   "id": "134454f8-7e7e-41a1-bf50-ddbe628bd3a3",
   "metadata": {},
   "outputs": [],
   "source": [
    "class Solution(object):\n",
    "    def longestWPI(self, hours):\n",
    "        presum = 0\n",
    "        firstAppear = {}\n",
    "        firstAppear[0] = -1\n",
    "        maxLen = 0\n",
    "        for i in range(len(hours)):\n",
    "            presum += 1 if hours[i] > 8 else -1\n",
    "            if presum > 0:\n",
    "                maxLen = i + 1\n",
    "            else:\n",
    "                if presum - 1 in firstAppear:\n",
    "                    maxLen = max(maxLen, i - firstAppear[presum - 1])\n",
    "            if presum not in firstAppear:\n",
    "                firstAppear[presum] = i\n",
    "        return maxLen"
   ]
  },
  {
   "cell_type": "markdown",
   "id": "52c986ff-e2ac-4ae5-a95b-73587fc759ee",
   "metadata": {},
   "source": [
    "---\n",
    "### Q6. Make Sum Divisible By P (LC.1590)\n",
    "*Given an array of positive integers nums, remove the smallest subarray (possibly empty) such that the sum of the remaining elements is divisible by p. It is not allowed to remove the whole array.*     \n",
    "*Return the length of the smallest subarray that you need to remove, or -1 if it's impossible.*       \n",
    "*A subarray is defined as a contiguous block of elements in the array.*"
   ]
  },
  {
   "cell_type": "markdown",
   "id": "edb57679-d1c0-435c-afb5-8849e0d376df",
   "metadata": {},
   "source": [
    "**Solution:**         \n",
    "This problem is a little different. We still use prefix sum, but the thing we are looking for is different.       \n",
    "\n",
    "We iterate through the array, and for each index `i`, we try to find:\n",
    "- If we have to delete an subarray that ends in index `i`, what is the shortest length to make the remaining parts divisible by P?\n",
    "\n",
    "First we find the remainder of the entire array, it that is 0, return 0 since we don't need to delete anything.\n",
    "\n",
    "Otherwise we create a hashmap:\n",
    "- `lastAppear[sumRemainder]`: the rightmost index `i` at which the `sum[0:i]` has a remainder of `sumRemainder` when divided by `P`\n",
    "\n",
    "Now lets analyze what to look for. Lets suppose the remainder of the whole array is 7. We can break the array into 3 parts:\n",
    "- Part A. the left part after we delete\n",
    "- Part B. the part we want to delete\n",
    "- Part C. the part we haven't visit\n",
    "\n",
    "The parts look like this:        \n",
    "|-----A-----|--B--|-----C----|        \n",
    "\n",
    "Our `curmod` is the remainder of the prefix sum of A + B, and our `mod` is the remainder of the entire array (A + B + C)      \n",
    "- if `curmod <= mod`\n",
    "  - Then we look for **`curmod + P - mod`**\n",
    "  - for eaxmple, if `curmod == 3` and `mod == 4`, this means that `Cmod == 1`. Therefore, we need `Amod == 6`\n",
    "- if `curmod > mod`\n",
    "  - Then we look for **`curmod - mod`**\n",
    "  - for example, if `curmod == 5` and `mod == 3`, this means that `Cmod == 5`. Therefore we need `Amod == 2`"
   ]
  },
  {
   "cell_type": "code",
   "execution_count": 69,
   "id": "86d78d15-ab5c-4a66-af27-ffca0e7bdc33",
   "metadata": {},
   "outputs": [],
   "source": [
    "class Solution(object):\n",
    "    def minSubarray(self, nums, p):\n",
    "        mod = sum(nums) % p\n",
    "        if mod == 0:\n",
    "            return 0\n",
    "        curmod = 0\n",
    "        lastAppear = {}\n",
    "        lastAppear[0] = -1\n",
    "        ans = float('inf')\n",
    "        for i in range(len(nums)):\n",
    "            curmod = (curmod + nums[i]) % p\n",
    "            find = curmod - mod if curmod >= mod else curmod + p - mod\n",
    "            if find in lastAppear:\n",
    "                ans = min(ans, i - lastAppear[find])\n",
    "            lastAppear[curmod] = i\n",
    "        return ans if ans != len(nums) else -1"
   ]
  },
  {
   "cell_type": "markdown",
   "id": "57dea56e-7e6d-4c37-a95d-6553c0b4ccda",
   "metadata": {},
   "source": [
    "---\n",
    "### Q7. Find The Longest Substring Containing Vowels In Even Count\n",
    "*Given the string s, return the size of the longest substring containing each vowel an even number of times. That is, 'a', 'e', 'i', 'o', and 'u' must appear an even number of times.*  \n",
    "\n",
    "**Solution:**         \n",
    "Because we need to keep track of the prefix cnt for all 5 letters, using a hashmap along is not enough.\n",
    "- Therefore, use a **bitmask** to represent the status.\n",
    "\n",
    "The bitmask has 5 bit, each represent whether a letter has appeared even or odd times.    \n",
    "If a letter has a even count, it is 0 in the bitmask, otherwise 1.        \n",
    "- For example, if the a is odd, b is even, c is odd, d is even, e is even, status would be: `10100`       \n",
    "\n",
    "Also, because we only need to keep track of the state of 5 bits, we can simply use a int[32] instead of a hash map\n",
    "- `map[status]`: Where is the index that status appears for the first time?\n",
    "\n",
    "We need to find a subarray in which aeiou are all even. Therefore, given a current state, we need to **look for the same state on the left!**     \n",
    "- This is because even - even = even, and odd - odd = even. therefore if the parity of all 5 characters are the same for index i and j, then [i,j] is a valid subarray.     "
   ]
  },
  {
   "cell_type": "code",
   "execution_count": 79,
   "id": "35022986-c73b-4543-ab7d-2232cedf0f59",
   "metadata": {},
   "outputs": [],
   "source": [
    "class Solution(object):\n",
    "    def findTheLongestSubstring(self, s):\n",
    "        n = len(s)\n",
    "        map = [-2] * 32                 # -2 means that this state has never appeared before\n",
    "        map[0] = -1                     # 0 = '00000', since there is nothing in a empty string, count for aeiou are all even\n",
    "        ans = 0\n",
    "        status = 0\n",
    "        \n",
    "        for i in range(n):\n",
    "            m = self.move(s[i])         # Given the current letter, find out which bit we need to change\n",
    "            if m != -1:                 # If current letter is a vowel, we need to update status\n",
    "                status ^= 1 << m        # Flip the corresponding bit for the vowel\n",
    "            \n",
    "            if map[status] != -2:       # If this status has been seen before, calculate the length of the subarray\n",
    "                ans = max(ans, i - map[status])\n",
    "            else:\n",
    "                map[status] = i         # Record the first time this status occurs\n",
    "        \n",
    "        return ans\n",
    "\n",
    "    def move(self, char):\n",
    "        if char == 'a': return 0\n",
    "        if char == 'e': return 1\n",
    "        if char == 'i': return 2\n",
    "        if char == 'o': return 3\n",
    "        if char == 'u': return 4\n",
    "        return -1                        # For non-vowel characters"
   ]
  },
  {
   "cell_type": "code",
   "execution_count": null,
   "id": "d2324c0d-6f56-4d94-b26b-fc37f6e655b5",
   "metadata": {},
   "outputs": [],
   "source": []
  }
 ],
 "metadata": {
  "kernelspec": {
   "display_name": "Python 3 (ipykernel)",
   "language": "python",
   "name": "python3"
  },
  "language_info": {
   "codemirror_mode": {
    "name": "ipython",
    "version": 3
   },
   "file_extension": ".py",
   "mimetype": "text/x-python",
   "name": "python",
   "nbconvert_exporter": "python",
   "pygments_lexer": "ipython3",
   "version": "3.12.4"
  }
 },
 "nbformat": 4,
 "nbformat_minor": 5
}
