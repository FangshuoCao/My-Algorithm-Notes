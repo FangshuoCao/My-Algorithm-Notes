{
 "cells": [
  {
   "cell_type": "markdown",
   "id": "b4dc462f-c0a1-42c6-98de-4001999655f7",
   "metadata": {},
   "source": [
    "# Heap\n",
    "A Heap is a **complete binary tree** data structure that satisfies the heap property:\n",
    "- for every node, the value of its children is greater than or equal to its own value.\n",
    "\n",
    "Heaps are usually used to implement **priority queues**, where the smallest (or largest) element is always at the root of the tree.\n",
    "\n",
    "### Binary Heap Representation\n",
    "A binary heap is typically represented as an array.   \n",
    "- The root element will be at `arr[0]`.\n",
    "- `arr[(i-1)/2]`:Returns the parent node\n",
    "- `arr[2i+1]`:Returns the left child node\n",
    "- `arr[2i+2]`:Returns the right child node\n",
    "\n",
    "### Two Important Heap Operation\n",
    "- `heapInsert(int i)`: insert a new element into position i on the heap (look up)\n",
    "- `heapify(int i)`: after we change the value of the `arr[i]`, we need to adjust the heap to maintain its property (look down)"
   ]
  },
  {
   "cell_type": "markdown",
   "id": "d7037694-0cdd-4ed1-a226-0847a1b97c91",
   "metadata": {},
   "source": [
    "# Heap sort\n",
    "Using the property of heap, we find a efficient sorting algorithm\n",
    "\n",
    "### Algorithm\n",
    "- (1) Transform the whole array into a **max heap** by using heapify(from bottom to top)\n",
    "- (2) Swap the root of the heap to the last position, `size--`, then `heapify(root)`\n",
    "- (3) Repeat step (2) until `size == 0`\n",
    "\n",
    "### Time Complexity: O(nlogn)     \n",
    "- Building a heap from bottom to top took O(n) time (step1)\n",
    "  - n/2 + 2 * n/4 + 3 * n/8 + 4 * n/10 + ... = O(n)\n",
    "- For step 2 and 3 and Each execution of step2 take O(logn) time, and we need to heapify n times"
   ]
  },
  {
   "cell_type": "code",
   "execution_count": 36,
   "id": "5e207ce1-6c89-4358-abcc-8d85a817e527",
   "metadata": {},
   "outputs": [
    {
     "name": "stdout",
     "output_type": "stream",
     "text": [
      "[1, 4, 5, 7, 2, 3, 6, 9, 0, 8]\n",
      "[0, 1, 2, 3, 4, 5, 6, 7, 8, 9]\n"
     ]
    }
   ],
   "source": [
    "def heapsort(nums):\n",
    "    heapsize = len(nums)\n",
    "    # Step1: Transform the array into a MAX Heap\n",
    "    for i in range(heapsize - 1, -1, -1):\n",
    "        heapify(nums, i, heapsize)\n",
    "    # Step 2:\n",
    "    while heapsize > 1:\n",
    "        heapsize -= 1\n",
    "        nums[0], nums[heapsize] = nums[heapsize], nums[0]\n",
    "        heapify(nums, 0, heapsize)\n",
    "\n",
    "def heapify(nums, i, size):\n",
    "    l = i * 2 + 1\n",
    "    while l < size:\n",
    "        larger_child = l + 1 if l + 1 < size and nums[l + 1] > nums[l] else l\n",
    "        if nums[larger_child] <= nums[i]:\n",
    "            break\n",
    "        nums[i], nums[larger_child] = nums[larger_child], nums[i]\n",
    "        i = larger_child\n",
    "        l = i * 2 + 1\n",
    "\n",
    "# Heapinsert, not used in our heapsord algorithm\n",
    "def heapinsert(nums, i):\n",
    "    while nums[i] > nums[(i - 1) // 2]:\n",
    "        nums[i], nums[(i - 1) // 2] = nums[(i - 1) // 2], nums[i]\n",
    "        i = (i - 1) // 2\n",
    "\n",
    "mynums = [1, 4, 5, 7, 2, 3, 6, 9, 0, 8]\n",
    "print(mynums)\n",
    "heapsort(mynums)\n",
    "print(mynums)"
   ]
  },
  {
   "cell_type": "markdown",
   "id": "371cd044-37f0-4a29-bb80-a0ec8af6d438",
   "metadata": {},
   "source": [
    "# Heap can be used to dynamically keep track of the Min/Max element of an array"
   ]
  },
  {
   "cell_type": "markdown",
   "id": "df17ecf3-8bf2-423b-97e0-0762f2948b2a",
   "metadata": {},
   "source": [
    "---\n",
    "### Q1: Merge K Sorted List (LC.23)\n",
    "*You are given an array of k linked-lists lists, each linked-list is sorted in ascending order.*         \n",
    "*Merge all the linked-lists into one sorted linked-list and return it.*"
   ]
  },
  {
   "cell_type": "code",
   "execution_count": 39,
   "id": "717f6a11-1ab9-4f0e-928d-8b642e006ec7",
   "metadata": {},
   "outputs": [],
   "source": [
    "import heapq\n",
    "\n",
    "class Solution:\n",
    "    def mergeKLists(self, lists):\n",
    "        heap = []\n",
    "        \n",
    "        for head in lists:\n",
    "            if head:\n",
    "                # We need to add a id to the heap because if two nodes have the same value (val),\n",
    "                # there will be a runtime error since heapq cannot compare ListNode objects.\n",
    "                heapq.heappush(heap, (head.val, id(head), head))\n",
    "    \n",
    "        dummy = ListNode(0)\n",
    "        current = dummy\n",
    "        \n",
    "        while heap:\n",
    "            val, i, node = heapq.heappop(heap)\n",
    "            \n",
    "            current.next = node\n",
    "            current = current.next\n",
    "            \n",
    "            if node.next:\n",
    "                heapq.heappush(heap, (node.next.val, i, node.next))\n",
    "        \n",
    "        return dummy.next\n"
   ]
  },
  {
   "cell_type": "markdown",
   "id": "0898ae63-7b55-4a24-b8df-3e1cbb3266ec",
   "metadata": {},
   "source": [
    "---\n",
    "### Q2: Maximum Overlap of Intervals\n",
    "*Given a set of intervals, represented as pairs of start and end points, determine the maximum number of intervals that overlap at any single point.*\n",
    "\n",
    "*Example:*        \n",
    "*Input: [(1, 5), (2, 6), (3, 7), (4, 8), (9, 10)]*        \n",
    "*Output: 4*              \n",
    "*Explanation: The maximum overlap occurs between the intervals (1, 5), (2, 6), (3, 7), (4, 8).*            \n",
    "\n",
    "Key thoughts: given any left boundary of a overlapping interval, it must also be the left boundary of a line segment\n",
    "- We first sort the line segments by their left boundary\n",
    "- We also need a minHeap, which will store the right boundary of segments\n",
    "- Then we iterate through the sorted array, and for each segment `i`:\n",
    "  - we pop all elements in the minheap that is smaller than `li`.\n",
    "  - Then we push `ri` into the minheap\n",
    "  - Now what's left in the minHeap will overlap with segment `i`.\n",
    "- Finally we compare the results and find max among all segments"
   ]
  },
  {
   "cell_type": "code",
   "execution_count": 52,
   "id": "00b087e6-2479-4335-adb7-726ea3d737ab",
   "metadata": {},
   "outputs": [],
   "source": [
    "import heapq\n",
    "\n",
    "def maxOverlap(intervals):\n",
    "    # Sort intervals by start time\n",
    "    intervals.sort(key=lambda x: x[0])\n",
    "    \n",
    "    heap = []  # Min-heap to store end times\n",
    "    ans = 0    # Variable to track the maximum overlap\n",
    "    \n",
    "    for interval in intervals:\n",
    "        # Remove intervals from the heap that end before the current interval starts\n",
    "        while heap and heap[0] <= interval[0]:\n",
    "            heapq.heappop(heap)\n",
    "        \n",
    "        # Add the current interval's end time to the heap\n",
    "        heapq.heappush(heap, interval[1])\n",
    "        \n",
    "        # Update the maximum overlap\n",
    "        ans = max(ans, len(heap))\n",
    "    \n",
    "    return ans"
   ]
  },
  {
   "cell_type": "markdown",
   "id": "7a515ef5-7a72-463c-95b5-4be87cb4e8f3",
   "metadata": {},
   "source": [
    "---\n",
    "### Q3: Minimum Operations To Halve Array Sum (LC.2208)\n",
    "*You are given an array nums of positive integers. In one operation, you can choose any number from nums and reduce it to exactly half the number. (Note that you may choose this reduced number in future operations.)*           \n",
    "\n",
    "*Return the minimum number of operations to reduce the sum of nums by at least half.*"
   ]
  },
  {
   "cell_type": "code",
   "execution_count": 59,
   "id": "ca1f8f14-9977-49aa-9dab-d9e1316bb46c",
   "metadata": {},
   "outputs": [],
   "source": [
    "class Solution:\n",
    "    def halveArray(self, nums):\n",
    "        target = sum(nums) / 2\n",
    "        max_heap = [-num for num in nums]\n",
    "        heapq.heapify(max_heap)\n",
    "        num_op = 0\n",
    "        total_reduced = 0\n",
    "        while total_reduced < target:\n",
    "            cur = -heapq.heappop(max_heap)\n",
    "            total_reduced += cur / 2\n",
    "            heapq.heappush(max_heap, -cur / 2)\n",
    "            num_op += 1\n",
    "\n",
    "        return num_op"
   ]
  },
  {
   "cell_type": "markdown",
   "id": "45f4995b-3654-4f72-97af-8a7c00008120",
   "metadata": {},
   "source": [
    "### Q4.Meeting Room II\n",
    "*Given an array of meeting time intervals intervals where intervals[i] = [starti, endi], return the minimum number of conference rooms required.*     \n",
    "\n",
    "**Solution:**        \n",
    "We only need a new meeting room when a meeting is about to start but none of the previous meeting has ended.           \n",
    "Therefore, we need some data structure to keep track of the end time of previous meetings.          \n",
    "Because the order of previous meeting doesn't matter, and the only thing that matters is the end time, we use a min heap to record the end time for previous meetings.      \n",
    "Therefore, each time we have a new meeting, we know if a meeting room is available by checking the top of the heap, since it is the earliest end time.   \n",
    "If even the earliest ending meeting is not ended, then we definitely need a new meeting room.             \n",
    "Before we start iterating, we need to sort the array based on **start time**, corresponding to the way we check heap:\n",
    "- this is because everytime we are compare the start time to the earliest end time, so we need to make sure the start time is also the earliest so that we don't \"waste\" any end time"
   ]
  },
  {
   "cell_type": "code",
   "execution_count": 6,
   "id": "6e179d10-56d7-490a-b46b-233a1f029ae7",
   "metadata": {},
   "outputs": [],
   "source": [
    "class Solution:\n",
    "    def minMeetingRooms(self, intervals):\n",
    "        sorted_intervals = sorted(intervals, key=lambda x: x[0])\n",
    "        # A MinHeap to keep track of meeting end time\n",
    "        minHeap = []\n",
    "        heapq.heapify(minHeap)\n",
    "        ans = 0\n",
    "        for interval in sorted_intervals:\n",
    "            # If this is the first meeting or no meeting has ended before this one, new room is needed\n",
    "            if not minHeap or minHeap[0] > interval[0]:\n",
    "                ans += 1\n",
    "            else:\n",
    "                # minHeap[0] < interval[0], meaning that there is a meeting that has already ended\n",
    "                # since we are using the previous room that become available, pop the old end time\n",
    "                heapq.heappop(minHeap)\n",
    "            heapq.heappush(minHeap, interval[1])\n",
    "\n",
    "        return ans"
   ]
  },
  {
   "cell_type": "markdown",
   "id": "8a572a1c-9a01-4db3-bff4-d787af0491a6",
   "metadata": {},
   "source": [
    "### Q5. Meeting Room III\n",
    "*You are given an integer n. There are n rooms numbered from 0 to n - 1.*\n",
    "\n",
    "*You are given a 2D integer array meetings where meetings[i] = [starti, endi] means that a meeting will be held during the half-closed time interval [starti, endi). All the values of starti are unique.*\n",
    "\n",
    "*Meetings are allocated to rooms in the following manner:*\n",
    "\n",
    "*Each meeting will take place in the unused room with the lowest number.*\n",
    "- *If there are no available rooms, the meeting will be delayed until a room becomes free. The delayed meeting should have the same duration as the original meeting.*\n",
    "- *When a room becomes unused, meetings that have an earlier original start time should be given the room.*\n",
    "- *Return the number of the room that held the most meetings. If there are multiple rooms, return the room with the lowest number.*\n",
    "\n",
    "*A half-closed interval [a, b) is the interval between a and b including a and not including b.*\n",
    "\n",
    "**Solution:**      \n",
    "The difference between this and the prev question is that when we have a new meeting, we are not using the room that first become available. Instead we will use the room that has the smallest room number among all available rooms.\n",
    "Therefore, we need to use two heap:\n",
    "- `prevEndTime`: keep track of the end time of previous meetings and their room number\n",
    "- `availableRoom`: keep track of available rooms"
   ]
  },
  {
   "cell_type": "code",
   "execution_count": 11,
   "id": "22186fc3-9a2c-4179-a8a7-5cef537c5fba",
   "metadata": {},
   "outputs": [],
   "source": [
    "class Solution:\n",
    "    def mostBooked(self, n, meetings):\n",
    "        meetings.sort()\n",
    "        cnts = [0] * n  # Track the number of meetings per room\n",
    "        availableRooms = list(range(n))  # Min-heap for available rooms\n",
    "        heapq.heapify(availableRooms)\n",
    "        endTimes = []  # Min-heap for endTimes\n",
    "\n",
    "        for start, end in meetings:\n",
    "            # endTimes[0][0] <= start means that there will be rooms that become available when the new meeting start\n",
    "            # If so, free up all of those rooms instead of using the room that first becomes available\n",
    "            while endTimes and endTimes[0][0] <= start:\n",
    "                heapq.heappush(availableRooms, heapq.heappop(endTimes)[1])\n",
    "            \n",
    "            # If there are any available room, use the room with lowest index\n",
    "            if availableRooms:\n",
    "                room = heapq.heappop(availableRooms)\n",
    "                heapq.heappush(endTimes, (end, room))\n",
    "            else:\n",
    "                # No available room, so we need to delay meeting until the earliest room is free\n",
    "                # delay essentially means use the first room that becomes available\n",
    "                earliestEnd, room = heapq.heappop(endTimes)\n",
    "                heapq.heappush(endTimes, (earliestEnd + (end - start), room))\n",
    "\n",
    "            cnts[room] += 1  # Track meeting count per room\n",
    "\n",
    "        return cnts.index(max(cnts))"
   ]
  },
  {
   "cell_type": "code",
   "execution_count": null,
   "id": "40dffd51-c285-45f4-a9b6-b4eec983f852",
   "metadata": {},
   "outputs": [],
   "source": []
  }
 ],
 "metadata": {
  "kernelspec": {
   "display_name": "Python 3 (ipykernel)",
   "language": "python",
   "name": "python3"
  },
  "language_info": {
   "codemirror_mode": {
    "name": "ipython",
    "version": 3
   },
   "file_extension": ".py",
   "mimetype": "text/x-python",
   "name": "python",
   "nbconvert_exporter": "python",
   "pygments_lexer": "ipython3",
   "version": "3.12.4"
  }
 },
 "nbformat": 4,
 "nbformat_minor": 5
}
