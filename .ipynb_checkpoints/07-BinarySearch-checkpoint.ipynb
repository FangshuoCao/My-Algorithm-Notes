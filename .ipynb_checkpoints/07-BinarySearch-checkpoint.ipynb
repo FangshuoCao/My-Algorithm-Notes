{
 "cells": [
  {
   "cell_type": "markdown",
   "id": "57965e1f-fe49-408a-a25c-cb1d74c6246b",
   "metadata": {},
   "source": [
    "<h1>Simple Binary Search</h1>"
   ]
  },
  {
   "cell_type": "markdown",
   "id": "dba0917b-2807-4cee-ad1d-11e5bc9295d7",
   "metadata": {},
   "source": [
    "<h2>Basic 1: Find if an element exist in a sorted array</h2>"
   ]
  },
  {
   "cell_type": "code",
   "execution_count": 31,
   "id": "67300304-c63a-4cdd-a4a0-22f9a82b3a20",
   "metadata": {},
   "outputs": [],
   "source": [
    "def binary_search(arr, target):\n",
    "    l, r = 0, len(arr) - 1\n",
    "    while l <= r:\n",
    "        m = (l + r) // 2 #in python, we don't need to consider overflow\n",
    "        if arr[m] == target:\n",
    "            return True\n",
    "        elif arr[m] > target:\n",
    "            r = m - 1\n",
    "        else:\n",
    "            l = m + 1\n",
    "    return False"
   ]
  },
  {
   "cell_type": "markdown",
   "id": "65797377-6f7e-48f4-976f-bd20fd731b07",
   "metadata": {},
   "source": [
    "<h2>Basic 2: Find the index of the smallest number that is larger or equal to target</h2>"
   ]
  },
  {
   "cell_type": "markdown",
   "id": "98ba03d2-0f05-4206-99d6-2a64ab4367e7",
   "metadata": {},
   "source": [
    "**similarly, you can use the same method to find the largest number that is smaller or equal to target**"
   ]
  },
  {
   "cell_type": "code",
   "execution_count": null,
   "id": "91e4bbb6-fdc7-46f2-9c06-40ea5222b264",
   "metadata": {},
   "outputs": [],
   "source": [
    "def find_smallest_larger(arr, target):\n",
    "    l, r = 0, len(arr) - 1\n",
    "    ans = -1\n",
    "    while l <= r:\n",
    "        m = (l + r) // 2\n",
    "        if arr[m] >= target:\n",
    "            ans = m\n",
    "            r = m - 1\n",
    "        else\n",
    "            l = m + 1\n",
    "    return ans"
   ]
  },
  {
   "cell_type": "markdown",
   "id": "5e0358a8-50a1-4a61-b28a-4c46e7fc92df",
   "metadata": {},
   "source": [
    "---\n",
    "<h3>Q1: Find Peak Element (LC.162) </h3>"
   ]
  },
  {
   "cell_type": "markdown",
   "id": "482f486c-c652-4d0a-997a-c013c9c55b77",
   "metadata": {},
   "source": [
    "*A peak element is an element that is strictly greater than its neighbors.*  \r\n",
    "*Given a 0-indexed integer array nums, find a peak element, and return its index. If the array contains multiple peaks, return the index to any of the peaks.*  \r\n",
    "*You may imagine that nums[-1] = nums[n] = -∞. In other words, an element is always considered to be strictly greater than a neighbor that is outside the array.*  \r\n",
    "*You must write an algorithm that runs in O(log n) tim.*\r\n",
    " time. time."
   ]
  },
  {
   "cell_type": "markdown",
   "id": "f3124422-a5d2-497a-9551-8748cdc2caac",
   "metadata": {},
   "source": [
    "**You can also perform binary search on a unsorted array, depends on what the question asks.\n",
    "in this problem we are given an important condition: the neighbors are not equal to each other.**"
   ]
  },
  {
   "cell_type": "code",
   "execution_count": 39,
   "id": "e136a9b7-9be8-49d7-a1b4-6ca302d70193",
   "metadata": {},
   "outputs": [],
   "source": [
    "def find_peak_element(arr):\n",
    "    n = len(arr)\n",
    "    # If there's only one element, it's the peak\n",
    "    if(n == 1):\n",
    "        return 0\n",
    "\n",
    "    #check whether the first or last element is a peak\n",
    "    if arr[0] > arr[1]:\n",
    "        return 0\n",
    "    if arr[n - 1] > arr[n - 2]:\n",
    "        return n - 1\n",
    "\n",
    "    #if neither is peak, then peak must exist between them\n",
    "    l, r = 1, n - 2\n",
    "    ans = -1\n",
    "    while l <= r:\n",
    "        m = (l + r) // 2\n",
    "        if arr[m - 1] > arr[m]:\n",
    "            r = m - 1\n",
    "        elif arr[m] < arr[m + 1]:\n",
    "            l = m + 1\n",
    "        else:\n",
    "            ans = m\n",
    "            break\n",
    "    return ans"
   ]
  },
  {
   "cell_type": "markdown",
   "id": "2388fd49-d739-43e7-b115-3f7befe4449f",
   "metadata": {},
   "source": [
    "# Critical: Binary Search on Answer"
   ]
  },
  {
   "cell_type": "markdown",
   "id": "58d3ae85-59e5-4ffa-895f-f13627368581",
   "metadata": {},
   "source": [
    "### Procedure:\n",
    "\n",
    "1. **Estimate the range of possible final answers,** note that this range can be broad.\n",
    "   \n",
    "2. **Analyze the monotonicity between the problem's solution and conditions,** usually relying on natural intuition.\n",
    "   \n",
    "3. <span style=\"color:red\">**Establish a function that, given a fixed solution, determines whether the conditions are met.**</span>\n",
    "   \n",
    "4. **Perform binary search within the range of possible final answers,** using the function to check each step, and continue until the binary search ends, finding the optimal solution."
   ]
  },
  {
   "cell_type": "markdown",
   "id": "8c6e60d1-9d8c-4c5a-a690-0dfdc7d4f99c",
   "metadata": {},
   "source": [
    "---\n",
    "<h3>Q1: Koko Eating Bananas(LC.875)</h3>"
   ]
  },
  {
   "cell_type": "markdown",
   "id": "8e9a5870-4e73-4555-b6d7-efc8de03ae31",
   "metadata": {},
   "source": [
    "*Koko loves to eat bananas. There are n piles of bananas, where the i-th pile has piles[i] bananas. The guards have gone and will come back in h hours.*\r\n",
    "\r\n",
    "*Koko can decide her bananas-per-hour eating speed of k. Each hour, she chooses some pile of bananas and eats k bananas from that pile. If the pile has less than k bananas, she eats all of them instead and will not eat any more bananas during this hour.*\r\n",
    "\r\n",
    "*Koko likes to eat slowly but still wants to finish eating all the bananas before the guards return.*\r\n",
    "\r\n",
    "***Goal*** *: Return the minimum integer k such that she can eat all the bananas within h hours.*\r\n"
   ]
  },
  {
   "cell_type": "markdown",
   "id": "deed6603-b3fa-428e-9903-72aeec45a863",
   "metadata": {},
   "source": [
    "**Our Approach:**\n",
    "- **Range**: From 1 to the maximum elements in the array.\r\n",
    "\r\n",
    "- **Monotonicity**: The faster Koko eat the easier it is to finish within *h* hours.\r\n",
    "\r\n",
    "- **Function**: Given the speed, return how many hours it takes for Koko to eat all the bananas.\r\n"
   ]
  },
  {
   "cell_type": "code",
   "execution_count": 65,
   "id": "eba0f9bb-cac5-4dda-925b-be88af3cba60",
   "metadata": {},
   "outputs": [],
   "source": [
    "class Solution(object):\n",
    "    def minEatingSpeed(self, piles, h):\n",
    "            l, r = 1, max(piles)\n",
    "            ans = 0\n",
    "            while l <= r:\n",
    "                m = (l + r) // 2\n",
    "                if self.hours_taken(piles, m) <= h:\n",
    "                    ans = m\n",
    "                    r = m - 1\n",
    "                else:\n",
    "                    l = m + 1\n",
    "            return ans\n",
    "    \n",
    "    def hours_taken(self, piles, speed):\n",
    "        hours = 0\n",
    "        for pile in piles:\n",
    "            #when pile and speed are nonnegative, ceil(pile/speed)==(pile+speed-1)//speed\n",
    "            hours += (pile + speed - 1) // speed\n",
    "        return hours"
   ]
  },
  {
   "cell_type": "markdown",
   "id": "82c09699-5174-4fc5-bff4-4e8b65085baa",
   "metadata": {},
   "source": [
    "---\n",
    "<h3>Q2: The Painter's Partition Problem (LC.410)</h3>"
   ]
  },
  {
   "cell_type": "markdown",
   "id": "3630aa06-e859-4f3a-a05f-17a6bcc84f80",
   "metadata": {},
   "source": [
    "*Given an array of paintings where array[i] is the time it take to paint that painting, and given k painters, each of which can only paint paintings that are next to each other, what is the least amount ot time we need to paint all the paintings?*\n",
    "\n",
    "*Mathmatically: Given an integer array nums and an integer k, split nums into k non-empty subarrays such that the largest sum of any subarray is minimized.*\r\n",
    "\r",
    "*Goal: Return the minimized largest sum of the subarray.**\r\n",
    "yray.*\r\n"
   ]
  },
  {
   "cell_type": "markdown",
   "id": "7ceb6cd8-1a8e-4d79-88ca-37cf5223a9ee",
   "metadata": {},
   "source": [
    "**Our Approach:**\n",
    "- **Range of answer**: Lower bound---Max element in the array; Upper bound---the sum of the whole array\n",
    "\n",
    "- **Monotonicity**: The smaller the largest subarray sum is, the more painter we will need\n",
    "\n",
    "- **Function**: Given the largest subarray sum(S), return the number of painters(k) we need. In other words, how many painters do we need so that the max subarray sum is smaller or equals to S?\n"
   ]
  },
  {
   "cell_type": "code",
   "execution_count": 119,
   "id": "87d994a2-cb5d-4b72-9b83-df367e59451d",
   "metadata": {},
   "outputs": [],
   "source": [
    "class Solution(object):\n",
    "    def splitArray(self, nums, k):\n",
    "        # Lower bound is the largest single element, upper bound is the total sum\n",
    "        l, r = max(nums), sum(nums)\n",
    "        while l <= r:\n",
    "            m = (l + r) // 2\n",
    "            numPaintersNeeded = self.num_painters_needed(nums, m)\n",
    "            if numPaintersNeeded <= k:\n",
    "                #success, continue to look for a smaller sum\n",
    "                ans = m\n",
    "                r = m - 1\n",
    "            else:\n",
    "                #failed, gotta increase the target sum\n",
    "                l = m + 1\n",
    "        return ans\n",
    "\n",
    "    #if we want EVERY subarray sum after splitting to be smaller than m, how many parts do we need to split the array into?\n",
    "    def num_painters_needed(self, nums, maxSum):\n",
    "        numPainters, sum = 1, 0\n",
    "        for num in nums:\n",
    "            #if a single element is alreay larger than the max sum, we failed no matter what, gotta increase the target sum\n",
    "            if num > maxSum:\n",
    "                return float('inf')\n",
    "\n",
    "            if sum + num > maxSum:\n",
    "                #need more painter\n",
    "                numPainters += 1\n",
    "                sum = num\n",
    "            else:\n",
    "                sum += num\n",
    "        return numPainters"
   ]
  },
  {
   "cell_type": "markdown",
   "id": "13995173-2a77-4c7a-8c99-4577c6f0da26",
   "metadata": {},
   "source": [
    "---\n",
    "<h3>Q3: Find K-th Smallest Pair Distance(LC.719)</h3>"
   ]
  },
  {
   "cell_type": "markdown",
   "id": "fb715ffd-5f31-45c9-83d9-c5c91118bbdf",
   "metadata": {},
   "source": [
    "*The distance of a pair of integers a and b is defined as the absolute difference between a and b. \r\n",
    "Given an integer array nums and an integer k, return the kth smallest distance among all the pairs nums[i] and nums[j] where 0 <= i < j < nums.lengt*h."
   ]
  },
  {
   "cell_type": "markdown",
   "id": "6b647e6a-3026-4043-9957-dd001f045f34",
   "metadata": {},
   "source": [
    "**Our Approach:**\n",
    "- **Range of answer**: Lower bound---0; Upper bound---Max(arr) - Min(arr)\n",
    "\n",
    "- **Monotonicity**: because the distance is absolute value, so the larger the target distance is, the more pairs in the array whose distance is smaller than that target distance\n",
    "\n",
    "- **Function**: Given the distance d, how many pairs are there in the array whose distance is smaller or equal to d?\n"
   ]
  },
  {
   "cell_type": "code",
   "execution_count": 182,
   "id": "2d48c7c0-e9f0-46d7-84fa-5f245e5c633f",
   "metadata": {},
   "outputs": [],
   "source": [
    "class Solution(object):\n",
    "    def smallestDistancePair(self, nums, k):\n",
    "        n = len(nums)\n",
    "        nums.sort()\n",
    "        ans = 0\n",
    "        l, r = 0, nums[n - 1] - nums[0]\n",
    "        while l <= r:\n",
    "            m = (l + r) // 2\n",
    "            #cnt: number of pairs in arr whose distance <= m\n",
    "            cnt = self.f(nums, m)\n",
    "            if cnt >= k:\n",
    "                ans = m\n",
    "                r = m -1\n",
    "            else:\n",
    "                l = m + 1\n",
    "        return ans\n",
    "    \n",
    "    # how many pairs are there whose distance <= targetDistance?\n",
    "    def f(self, nums, targetDistance):\n",
    "        # a simple sliding window\n",
    "        # nums[l]: the first element in the pair\n",
    "        # nums[r]: the largest element which when paired when paired with nums[l] will still have distace <= target\n",
    "        l, r = 0, 0\n",
    "        cnt = 0\n",
    "        while l < len(nums):\n",
    "            # nums[r + 1]: the smallest element which when paired with nums[l] will have a distance > target\n",
    "            while r + 1 < len(nums) and nums[r + 1] - nums[l] <= targetDistance:\n",
    "                r += 1\n",
    "            cnt += r - l\n",
    "            l += 1\n",
    "        return cnt\n"
   ]
  },
  {
   "cell_type": "markdown",
   "id": "ee9910ed-0d02-49ae-9544-0785667c0918",
   "metadata": {},
   "source": [
    "---\n",
    "<h3>Q4: Max Running Time of N Computers(LC.2141)</h3>"
   ]
  },
  {
   "cell_type": "markdown",
   "id": "629a8533-e3b5-477c-ae17-5ac29c9c65bc",
   "metadata": {},
   "source": [
    "*You have n computers. You are given the integer n and a 0-indexed integer array batteries where the ith battery can run a computer for batteries[i] minutes. You are interested in running all n computers simultaneously using the given batteries.*\r\n",
    "\r\n",
    "*Initially, you can insert at most one battery into each computer. After that and at any integer time moment, you can remove a battery from a computer and insert another battery any number of times. The inserted battery can be a totally new battery or a battery from another computer. You may assume that the removing and inserting processes take no time.*\r\n",
    "\r\n",
    "*Note that the batteries cannot be recharged.*\r\n",
    "\r\n",
    "***Goal*** *: Return the maximum number of minutes you can run all the n computers simultaneously.*\r\n"
   ]
  },
  {
   "cell_type": "markdown",
   "id": "643f471e-16a0-4647-a052-ae6a59b0c826",
   "metadata": {},
   "source": [
    "**Solution:**\n",
    "<p>By come up with a lot of examples, eventually we will reach to two very important conclusion---suppose we want to let the computers run for T minutes:</p>      \n",
    "\n",
    "1.for a large battern(batteries[i] > T), its best usage is just to keep a single computer run for T minutes, and the remaining power is essentially \"wasted\"    \n",
    "\n",
    "2.if we only have small batteries(all elements in the array is <= T), then we are able to let the computers run for T minutes IFF the sum(batteries) >= T x numComputers\n",
    "\n",
    "<p>Then we can start our typical binary search approach:</p>     \n",
    "\n",
    "- **Range of answer**: Lower bound---0; Upper bound---sum(batteries)\n",
    "\n",
    "- **Monotonicity**: The longer time we want to run, the less computers we can have\n",
    "\n",
    "- **Function**: Given a target run time, how many computers can we have to let it run for this long?"
   ]
  },
  {
   "cell_type": "code",
   "execution_count": 177,
   "id": "4ac59ccd-d7a1-4776-b22e-955da4c603ad",
   "metadata": {},
   "outputs": [],
   "source": [
    "class Solution(object):\n",
    "    def maxRunTime(self, n, batteries):\n",
    "        l, r = 0, sum(batteries)\n",
    "        ans = 0\n",
    "        while l <= r:\n",
    "            m = (l + r) // 2\n",
    "            numComputers = self.num_computers_allowed(batteries, m)\n",
    "            if numComputers >= n:\n",
    "                ans = m\n",
    "                l = m + 1\n",
    "            else:\n",
    "                r = m - 1\n",
    "        return ans\n",
    "\n",
    "    def num_computers_allowed(self, batteries, targetTime):\n",
    "        if targetTime == 0:\n",
    "            return float('inf')  # Prevent division by zero: we can let infinite computers run for 0 minute\n",
    "\n",
    "        cnt = 0\n",
    "        sum = 0\n",
    "        for batterie in batteries:\n",
    "            if batterie >= targetTime:\n",
    "                # a large battery, use it to take care of one computer\n",
    "                cnt += 1\n",
    "            else:\n",
    "                # a small battery, add it to the sum to see how many computers we can take care of\n",
    "                sum += batterie\n",
    "        cnt += sum // targetTime\n",
    "        return cnt"
   ]
  },
  {
   "cell_type": "markdown",
   "id": "ff6c98a2-9cd1-4453-afae-dd216d09b30d",
   "metadata": {},
   "source": [
    "---\n",
    "### Q5: Wait Time In A Restaurant (from Google Interview) ###"
   ]
  },
  {
   "cell_type": "markdown",
   "id": "c390e5b7-002e-4855-9bd3-0072e7679687",
   "metadata": {},
   "source": [
    "*There are n waiters in a restaurant.   \n",
    "Given an array waiters of length n, where waiters[i] means the time for the i-th waiter to serve a customer.         \n",
    "Given an integer m, meaning currently there are m customer waiting for service. A customer cannot pick a waiter, meaning a customer will be served immediately as soon as there is an idle waiter.     \n",
    "If you are the next customer in line, how much time do you need to wait?*  \n",
    "\n",
    "*Note: m >> n*"
   ]
  },
  {
   "cell_type": "markdown",
   "id": "c2b8bdc6-ec0e-46f8-8b4b-72b83176633d",
   "metadata": {},
   "source": [
    "**Solution 1(Not Optimal): Use Heap**   "
   ]
  },
  {
   "cell_type": "code",
   "execution_count": 201,
   "id": "846996bf-e21b-49d1-9e3c-9da0293562d2",
   "metadata": {},
   "outputs": [],
   "source": [
    "import heapq\n",
    "\n",
    "def waitingTime(waiters, m):\n",
    "    heap = []\n",
    "    n = len(waiters)\n",
    "    \n",
    "    # Initialize the heap with each waiter's initial service time\n",
    "    for waiter in waiters:\n",
    "        heapq.heappush(heap, [0, waiter])\n",
    "        \n",
    "    # serve the m customers before you\n",
    "    for i in range(0, m):\n",
    "        cur = heapq.heappop(heap)\n",
    "        cur[0] += cur[1]\n",
    "        heapq.heappush(heap, cur)\n",
    "        \n",
    "    # now all m customers are served, you are the next\n",
    "    return heap[0][0]"
   ]
  },
  {
   "cell_type": "markdown",
   "id": "01fe2966-398f-4807-88c6-3652d844624a",
   "metadata": {},
   "source": [
    "<p>This solution works, but the time complexity is O(m*log(n)), and given that m >> n, this will be slow. So we need a better solution</p>"
   ]
  },
  {
   "cell_type": "markdown",
   "id": "ef9c5508-c979-4a55-b354-9b8cb0f49d8c",
   "metadata": {},
   "source": [
    "**Solution 2(Optimal): Binary Search On Answer**  "
   ]
  },
  {
   "cell_type": "markdown",
   "id": "b29deaa9-13e0-44f4-9c0a-d1a87e99a854",
   "metadata": {},
   "source": [
    "- **Range of answer**: Lower bound---0; Upper bound---m * min(waiters), since if there is only one waiter, we will get served after m*his_waiting_time, and there are actually more than one waiter, so our wait time must be shorter\n",
    "\n",
    "- **Monotonicity**: The longer the time we wait, the more customers can be before us\n",
    "\n",
    "- **Function**: If all server will work for T minutes, how many customer can they serve?"
   ]
  },
  {
   "cell_type": "code",
   "execution_count": 223,
   "id": "365e51c1-2d4c-4686-b055-bdf3bfc0a0bf",
   "metadata": {},
   "outputs": [],
   "source": [
    "def waitingTime2(waiters, m):\n",
    "    l, r = 0, min(waiters)\n",
    "    ans = 0\n",
    "    while l <= r:\n",
    "        m = (l + r) // 2\n",
    "        if customerCnt(waiters, m) >= m + 1:\n",
    "            # m + 1 because we need to count ourself\n",
    "            ans = m\n",
    "            r = m - 1\n",
    "        else:\n",
    "            l = m + 1\n",
    "    return ans\n",
    "\n",
    "def customerCnt(waiters, time):\n",
    "    ans = 0\n",
    "    for waiter in waiters:\n",
    "        # +1 because we need to count the last customer who's service has already started but not finished yet\n",
    "        ans += time / waiter + 1\n",
    "    return ans"
   ]
  },
  {
   "cell_type": "markdown",
   "id": "40f3a94a-2f13-4d74-ad53-7115e2f85e42",
   "metadata": {},
   "source": [
    "<p>Time complexity is O(n*log(m)), this is the optimal solution since m >> n</p>"
   ]
  },
  {
   "cell_type": "markdown",
   "id": "efc79fd1-a8b9-4bd5-a9a9-58683e54d049",
   "metadata": {},
   "source": [
    "---\n",
    "### Q6. Maximum Value At a Given Index In a Bounded Array\n",
    "You are given three positive integers: n, index, and maxSum. You want to construct an array nums (0-indexed) that satisfies the following conditions:*\n",
    "- *nums.length == n*\n",
    "- *nums[i] is a positive integer where 0 <= i < n.*\n",
    "- *abs(nums[i] - nums[i+1]) <= 1 where 0 <= i < n-1.*\n",
    "- *The sum of all the elements of nums does not exceed maxSum.*\n",
    "- *nums[index] is maximized.*\n",
    "              \n",
    "Return nums[index] of the constructed array.\n",
    "\n",
    "**Solution:**           \n",
    "We want to maximize `nums[index]` while keeping the sum of `nums[]` smaller than `maxSum`, therefore we define our binary search function here:        \n",
    "**f(x, n, index): given the value at `nums[index]` is x, what is the minimum sum of `nums[]`, an array of size n?**      \n",
    "Note that with these 3 parameters given, there is only one correct choice!              \n",
    "Lets suppose n = 8, index = 5, and x = 4, below is the only correct answer                             "
   ]
  },
  {
   "cell_type": "markdown",
   "id": "2d153a4a-491a-415a-b35c-72b13b99fcc8",
   "metadata": {},
   "source": [
    "| Index  | 0 | 1 | 2 | 3 | 4 | 5 | 6 | 7 |\n",
    "|--------|---|---|---|---|---|---|---|---|\n",
    "| Value  | 1 | 1 | 1 | 2 | 3 | 4 | 3 | 2 |\n"
   ]
  },
  {
   "cell_type": "markdown",
   "id": "45a5143c-991f-4c16-8f22-20d8150b804a",
   "metadata": {},
   "source": [
    "As you can see, the `index` divide the `nums` array into two parts. To get the sum, we calculate the sum of left part and right part together   \n",
    "Because the difference between any two element is smaller than 1, both left and right subarray forms a arithematic sequence!\n",
    "- if `x` is larger than the length of left, `nums[0]` will be `x - len[left]`\n",
    "- if `x` is smaller than length of left, then we will have a complete arithematic sequence down to 1, and the rest element on the left are all 1!\n",
    "- same logic applies to right part as well\n",
    "  \n",
    "Note that in our method both left and right part contains `nums[index]`, therefore we need to subtract it before returning "
   ]
  },
  {
   "cell_type": "code",
   "execution_count": 20,
   "id": "50e55942-a505-42f8-b0a8-1b11bfed0c45",
   "metadata": {},
   "outputs": [],
   "source": [
    "class Solution:\n",
    "    def maxValue(self, n, index, maxSum):\n",
    "        l, r = 1, maxSum\n",
    "        ans = 0\n",
    "\n",
    "        def getSum(n, index, maxVal):\n",
    "            leftLen = index + 1\n",
    "            if leftLen >= maxVal:\n",
    "                leftSum = ((maxVal + 1) * maxVal) // 2 + (leftLen - maxVal)\n",
    "            else:\n",
    "                leftSum = (maxVal + (maxVal - leftLen + 1)) * leftLen // 2\n",
    "\n",
    "            rightLen = n - index\n",
    "            if rightLen >= maxVal:\n",
    "                rightSum = ((maxVal + 1) * maxVal) // 2 + (rightLen - maxVal)\n",
    "            else:\n",
    "                rightSum = (maxVal + (maxVal - rightLen + 1)) * rightLen // 2\n",
    "\n",
    "            return leftSum + rightSum - maxVal\n",
    "    \n",
    "        while l <= r:\n",
    "            m = (l + r) // 2\n",
    "            if getSum(n, index, m) <= maxSum:\n",
    "                ans = m\n",
    "                l = m + 1\n",
    "            else:\n",
    "                r = m - 1\n",
    "        return ans"
   ]
  },
  {
   "cell_type": "code",
   "execution_count": null,
   "id": "209ea2a7-f2de-491f-b275-91f8b2884398",
   "metadata": {},
   "outputs": [],
   "source": []
  }
 ],
 "metadata": {
  "kernelspec": {
   "display_name": "Python 3 (ipykernel)",
   "language": "python",
   "name": "python3"
  },
  "language_info": {
   "codemirror_mode": {
    "name": "ipython",
    "version": 3
   },
   "file_extension": ".py",
   "mimetype": "text/x-python",
   "name": "python",
   "nbconvert_exporter": "python",
   "pygments_lexer": "ipython3",
   "version": "3.12.4"
  }
 },
 "nbformat": 4,
 "nbformat_minor": 5
}
