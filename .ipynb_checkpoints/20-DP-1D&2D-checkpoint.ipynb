{
 "cells": [
  {
   "cell_type": "markdown",
   "id": "df82433e-a2be-464d-9b98-dfa20560d7b9",
   "metadata": {},
   "source": [
    "# Basics of Dynamic Programming\n",
    "\n",
    "## 1. Definition\n",
    "Dynamic Programming (DP) is a method for solving optimization problems involving multi-stage decision processes.\n",
    "- In dynamic programming, the original problem is broken down into **simpler and smaller subproblems**.\n",
    "- **These subproblems are solved first, and their solutions are used to obtain the solution to the original problem.**\n",
    "      \n",
    "The term \"Programming\" here does not refer to coding but rather to a \"tabular method,\" where the results of each step's calculations are stored in a table for subsequent queries."
   ]
  },
  {
   "cell_type": "markdown",
   "id": "9ea7dc29-1f42-41af-9c6f-c94a697b5d6f",
   "metadata": {},
   "source": [
    "## 2. Properties of DP Problems\n",
    "There are two main properties of a problem that suggests that it can be solved using DP:\n",
    "- **Overlapping Subproblems**\n",
    "  - DP is mainly used when solutions to the same subproblems are needed again and again.\n",
    "  - Using DP, **computed solutions to subproblems are stored in a table so that these don’t have to be recomputed**.\n",
    "  - For example, the Fibonacci problem has many overlapping subproblem, while Binary Search does not"
   ]
  },
  {
   "cell_type": "markdown",
   "id": "cb6a93f0-4209-4c7c-a9c9-0b995f649a4d",
   "metadata": {},
   "source": [
    "- **Optimal Substructure**\n",
    "  - the **optimal solution of the given problem can be obtained by using the optimal solution to its subproblems** instead of trying every possible way to solve the subproblems.\n",
    "\n",
    "In other word, if a problem can be broke into subproblems, the subproblems overlap and depdends on each other, use DP"
   ]
  },
  {
   "cell_type": "markdown",
   "id": "9227be2c-59c8-4dcf-9b19-f12863bc9942",
   "metadata": {},
   "source": [
    "**Not all recursion problem can be changed to DP**\n",
    "- A recursion can/should only be changed to DP if **the parameter is of simple type**, usually only `int`(no matter its 1D, 2D, or 3D)\n",
    "- Thus those backtracking problem with the `path` variable as a parameter cannot be changed to DP\n",
    "- Also, you can take a look at the input size\n",
    "  - If the input size is small, it usually means the problem can be solved using a brute force recursion(whether with path or not)\n",
    "  - If the input size if big, try DP\n",
    "\n",
    "A good example of a recursion problem that cannot be changed to DP is LC79.Word Search(check the recursion note)"
   ]
  },
  {
   "cell_type": "markdown",
   "id": "900573f0-0606-4b4d-95b2-faf34b906e5e",
   "metadata": {},
   "source": [
    "## 3. State Transition Function\n",
    "**State**: A state refers to a specific subproblem we are trying to solve.           \n",
    "\n",
    "**State Transition**:\n",
    "- The state transition describes how to move from one state to another.\n",
    "- The state transition function is a mathematical rule or formula that defines how to compute the value of the current state based on one or more previous states\n",
    "- Essentially, the State Transition Function is just the Recurrence Relation\n",
    "\n",
    "**The most crucial and hardest step in DP is to identify the state transition function of the specific problem.**"
   ]
  },
  {
   "cell_type": "markdown",
   "id": "74a5a370-5010-4126-b364-0c69e4bde40a",
   "metadata": {},
   "source": [
    "## 4. Steps for solving a DP problem, starting from recursion:\n",
    "**1)Find the recurrence relation(find a brute force recursion method)**                \n",
    "\n",
    "**2)Memoization search(top-down)**\n",
    "- still uses recursion\n",
    "- whenever you find a solution of a subproblem, put it into some cache\n",
    "- when you meet the same subproblem, just read the ans from the cache\n",
    "\n",
    "**3)Tabulation(bottom-up)**\n",
    "- fill the cells for base case (start from bottom of the recursion tree)\n",
    "- fill other cells based on the state transition function(go up)\n",
    "\n",
    "**4)space optimization for DP**\n",
    "- for 1D, try change the DP array to two variable\n",
    "- for 2D, try change the DP table to two arrays\n",
    "- for 3D, try change the DP space to two table"
   ]
  },
  {
   "cell_type": "markdown",
   "id": "34866011-d9ef-467a-8eae-4a280e575035",
   "metadata": {},
   "source": [
    "## 5. Complexity\n",
    "**DP time complexity:** Size of DP table * Enumeration cost for each cell in the table           \n",
    "**DP space complexity:** Size of DP table"
   ]
  },
  {
   "cell_type": "markdown",
   "id": "9ba0b1eb-a8a5-4c5c-8381-6fe07ecdd6b6",
   "metadata": {},
   "source": [
    "## 6. Example --- Solving Fibonacci Problem with DP\n",
    "**Identifying Problem - Repeated Calculations in Fibonacci Sequence:**    \n",
    "When computing f(5) using a traditional recursive algorithm, we need to calculate f(3) and f(4). But to compute f(4), we also need to compute f(3)again, leading to repeated calculations of f(3). Similarly, f(0), f(1), and f(2) are computed multiple times, resulting in redundant computations."
   ]
  },
  {
   "cell_type": "markdown",
   "id": "0c39ea3f-3cd9-4452-a6fc-f9fec2326b45",
   "metadata": {},
   "source": [
    "**Method1: Basic Recursion**     \n",
    "Has a lot of repetitive computation, Time Complexity: **O(2^n)**"
   ]
  },
  {
   "cell_type": "code",
   "execution_count": 3,
   "id": "9acd31ef-c125-4e94-a803-a8a5a7772889",
   "metadata": {},
   "outputs": [],
   "source": [
    "def fib1(n):\n",
    "    if n == 0:\n",
    "        return 0\n",
    "    if n == 1:\n",
    "        return 1\n",
    "    return fib1(n - 1) + fib1(n - 2)"
   ]
  },
  {
   "cell_type": "markdown",
   "id": "2e9fd45f-38c6-43e7-85fe-31d92ed98976",
   "metadata": {},
   "source": [
    "**Method2: Memoization Search**          \n",
    "Still uses recursion but store the results of previous computations           \n",
    "Time Complexity: **O(n)** since only the leftmost path in the recursion tree is actually computed, other nodes are all repetitive thus saved in the dp table            \n",
    "Aux Space Comlexity: **O(n)**"
   ]
  },
  {
   "cell_type": "code",
   "execution_count": 18,
   "id": "e53b9838-9e47-4276-ba02-be133968c0a4",
   "metadata": {},
   "outputs": [],
   "source": [
    "def fib2(n):\n",
    "    dp = [-1] * (n + 1)\n",
    "    return _fib2(n, dp)\n",
    "\n",
    "def _fib2(n, dp):\n",
    "    if n == 0:\n",
    "        return 0\n",
    "    if n == 1:\n",
    "        return 1\n",
    "    if dp[n] != -1:\n",
    "        return dp[n]\n",
    "    dp[n] = _fib2(n - 1, dp) + _fib2(n - 2, dp)\n",
    "    return dp[n]"
   ]
  },
  {
   "cell_type": "markdown",
   "id": "58eec246-c24b-44f1-b0f1-4c5c497eb140",
   "metadata": {},
   "source": [
    "**Method 3: Tabulation**           \n",
    "Filling the DP table from bottom up(starting from base case),            \n",
    "Time Complexity: O(n), Aux Space Complexity: **O(n)**"
   ]
  },
  {
   "cell_type": "code",
   "execution_count": 14,
   "id": "0483997a-3a34-4739-b6d4-9e13aa1fc9d3",
   "metadata": {},
   "outputs": [],
   "source": [
    "def fib3(n):\n",
    "    if n == 0:\n",
    "        return 0\n",
    "    if n == 1:\n",
    "        return 1\n",
    "    dp = [0] * (n + 1)\n",
    "    dp[0] = 0\n",
    "    dp[1] = 1\n",
    "    for i in range(2, n + 1):\n",
    "        dp[i] = dp[i - 1] + dp[i - 2]\n",
    "    return dp[n]"
   ]
  },
  {
   "cell_type": "markdown",
   "id": "e2fc5253-b8bb-40ef-8a5f-a280b53a38e2",
   "metadata": {},
   "source": [
    "**Method4: Tabulation with Space Optimization**\n",
    "Uses only two variable since the anser for fib(n) only depends on fib(n - 1) and fib(n - 2)          \n",
    "Time Complexity: O(n), Aux Space Complexity: **O(1)**"
   ]
  },
  {
   "cell_type": "code",
   "execution_count": 21,
   "id": "4fbf1afd-5383-47f8-9229-fe24230c1c66",
   "metadata": {},
   "outputs": [],
   "source": [
    "def fib4(n):\n",
    "    if n == 0:\n",
    "        return 0\n",
    "    if n == 1:\n",
    "        return 1\n",
    "    last_last = 0\n",
    "    last = 1\n",
    "    for i in range(2, n + 1):\n",
    "        cur = last_last + last\n",
    "        last_last = last\n",
    "        last = cur\n",
    "    return last\n"
   ]
  },
  {
   "cell_type": "markdown",
   "id": "2c522aa9-e297-4d3b-93d4-50f43a0d3c45",
   "metadata": {},
   "source": [
    "---\n",
    "<h1> One Dimensional DP Problems </h1>"
   ]
  },
  {
   "cell_type": "markdown",
   "id": "42d9777a-06ee-4802-ad3f-452a9e29f96d",
   "metadata": {},
   "source": [
    "### Q1: Minimum Cost For Tickets (LC.983)\n",
    "*You have planned some train traveling one year in advance. The days of the year in which you will travel are given as an integer array days. Each day is an integer from 1 to 365.*       \n",
    "*Train tickets are sold in three different ways:*\n",
    "- *a 1-day pass is sold for costs[0] dollars,*\n",
    "- *a 7-day pass is sold for costs[1] dollars, and*\n",
    "- *a 30-day pass is sold for costs[2] dollars.*\n",
    "\n",
    "*The passes allow that many days of consecutive travel.*                 \n",
    "*For example, if we get a 7-day pass on day 2, then we can travel for 7 days: 2, 3, 4, 5, 6, 7, and 8.*               \n",
    "*Return the minimum number of dollars you need to travel every day in the given list of days.*"
   ]
  },
  {
   "cell_type": "markdown",
   "id": "400c288c-337d-42cc-8d6b-24778b4cd6e9",
   "metadata": {},
   "source": [
    "#### Solution: \n",
    "\n",
    "**Finding the recurrence relationship:**           \n",
    "Define `min_price(i)`: we are at day days[i], and we want to find the cheapest plan that can cover our trip until the end of the year and return it         \n",
    "\n",
    "We got 3 choices:\n",
    "- Buy the day pass, which will only take care of this day, so total cost is cost[0] + min_price[i + 1]\n",
    "- Buy the week pass, which will work for one week, so we find the element in days[i] that is larger than days[i] + 7, then call min_price() on that day\n",
    "- Buy the month pass. Similarly, find the day 30days later then calculate the cost.\n",
    "Find the minimum among these 3 options and return\n"
   ]
  },
  {
   "cell_type": "markdown",
   "id": "c61b3534-22aa-4d8b-abaa-73ddde72d4cd",
   "metadata": {},
   "source": [
    "#### Method 1: Memoization Search"
   ]
  },
  {
   "cell_type": "code",
   "execution_count": 41,
   "id": "6cfb8ee6-2836-4640-9ebf-3099b6effb74",
   "metadata": {},
   "outputs": [],
   "source": [
    "class Solution(object):\n",
    "    def mincostTickets(self, days, costs):\n",
    "        durations = [1, 7, 30]\n",
    "        dp = [float('inf')] * (len(days) + 1)\n",
    "        dp[len(days)] = 0\n",
    "\n",
    "        def helper(days, costs, i, dp):\n",
    "            if dp[i] != float('inf'):\n",
    "                return dp[i]\n",
    "            ans = float('inf')\n",
    "            for plan in range(3):\n",
    "                j = i\n",
    "                while j < len(days) and days[j] < days[i] + durations[plan]:\n",
    "                    j += 1\n",
    "                ans = min(ans, costs[plan] + helper(days, costs, j, dp))\n",
    "            dp[i] = ans\n",
    "            return ans\n",
    "\n",
    "        return helper(days, costs, 0, dp)"
   ]
  },
  {
   "cell_type": "markdown",
   "id": "3ee9e8ce-27b4-4e52-bd5f-3a9760d01564",
   "metadata": {},
   "source": [
    "#### Method 2: Tabulation                  \n",
    "**Define `dp[i]`: If I am already at day `days[i]`, what is the minimum cost for rest of the year?**                  \n",
    "Because dp[i] depends on the result on its right in the dp table(later days), so we start filling the table from the end, and return dp[0]"
   ]
  },
  {
   "cell_type": "code",
   "execution_count": 39,
   "id": "93ca4e63-cbac-4a79-a018-ecc9fb9fa4ed",
   "metadata": {},
   "outputs": [],
   "source": [
    "class Solution(object):\n",
    "    def mincostTickets(self, days, costs):\n",
    "        durations = [1, 7, 30]\n",
    "        n = len(days)\n",
    "        dp = [float('inf')] * (n + 1)\n",
    "        dp[n] = 0\n",
    "\n",
    "        for i in range(n - 1, -1, -1):\n",
    "            for plan in range(3):\n",
    "                j = i\n",
    "                while j < len(days) and days[j] < days[i] + durations[plan]:\n",
    "                    j += 1\n",
    "                dp[i] = min(dp[i], dp[j] + costs[plan])\n",
    "\n",
    "        return dp[0]"
   ]
  },
  {
   "cell_type": "markdown",
   "id": "7e4f81a9-542d-4173-b2cf-51375ed12dd1",
   "metadata": {},
   "source": [
    "---\n",
    "### Q2: Decode Ways (LC.91)\n",
    "*You have intercepted a secret message encoded as a string of numbers. The message is decoded via the following mapping:*\n",
    "- *\"1\" -> 'A'*\n",
    "- *\"2\" -> 'B'*\n",
    "- ...\n",
    "- *\"25\" -> 'Y'*\n",
    "- *\"26\" -> 'Z'*\n",
    "\n",
    "*For example, \"11106\" can be decoded into:*\n",
    "- *\"AAJF\" with the grouping (1, 1, 10, 6)*\n",
    "- *\"KJF\" with the grouping (11, 10, 6)*\n",
    "- *The grouping (1, 11, 06) is invalid because \"06\" is not a valid code (only \"6\" is valid).*\n",
    "   \n",
    "*Note: there may be strings that are impossible to decode.*\n",
    "*However, while decoding the message, you realize that there are many different ways you can decode the message because some codes are contained in other codes (\"2\" and \"5\" vs \"25\").*           \n",
    "*Given a string s containing only digits, return the number of ways to decode it. If the entire string cannot be decoded in any valid way, return 0.*"
   ]
  },
  {
   "cell_type": "markdown",
   "id": "998c0db0-fa65-482b-bdee-31e48ec5768e",
   "metadata": {},
   "source": [
    "#### Solution:\n",
    "\n",
    "**Define `dp[i]`: how many ways are there to decode the substring str[i:]?**  \n",
    "\n",
    "Base cases:\n",
    "- `dp[n]` = 1: out of bound, so we decode this as the empty string `\"\"`\n",
    "- `dp[n - 1]` = 1 or 0, depends on `s[i]`\n",
    "\n",
    "Then for a for the string starting at position `i`, we can have 2 options:\n",
    "- inteprete `str[i]` as a single letter\n",
    "- inteprete `str[i]` and `str[i + 1]` together as one letter, can only happen when `str[i] str[i + 1]` <= 26"
   ]
  },
  {
   "cell_type": "code",
   "execution_count": 69,
   "id": "36f04ce4-c8d9-4a01-81a1-7eaaa3b5e42d",
   "metadata": {},
   "outputs": [],
   "source": [
    "class Solution:\n",
    "    def numDecodings(self, s):\n",
    "        n = len(s)\n",
    "        dp = [0] * (n + 1)\n",
    "        dp[n] = 1                            # base case 1\n",
    "        dp[n - 1] = 1 if s[n] != '0' else 0    # base case 2\n",
    "        \n",
    "        for i in range(n - 2, -1, -1):\n",
    "            if s[i] == '0':                    # any string start with 0 is invalid, no matter what the later part is\n",
    "                dp[i] == 0\n",
    "            else:\n",
    "                dp[i] = dp[i + 1]                             # option 1: use the s[i] along\n",
    "                if i + 1 < n and int(s[i:i + 2]) <= 26:\n",
    "                    dp[i] += dp[i + 2]                        # option 2: use s[i] and s[i + 1] together if they form a valid number\n",
    "        return dp[0]"
   ]
  },
  {
   "cell_type": "markdown",
   "id": "4f3723c8-2bb2-4fe6-a445-841f63591b65",
   "metadata": {},
   "source": [
    "---\n",
    "### Q3: Decode Ways II(Lc.639)\n",
    "*A message containing letters from A-Z can be encoded into numbers using the following mapping:*\n",
    "- *'A' -> \"1\"*\n",
    "- *'B' -> \"2\"*\n",
    "- *...*\n",
    "- *'Z' -> \"26\"*\n",
    "\n",
    "*To decode an encoded message, all the digits must be grouped then mapped back into letters using the reverse of the mapping above (there may be multiple ways). For example, \"11106\" can be mapped into:*\n",
    "- *\"AAJF\" with the grouping (1 1 10 6)*\n",
    "- *\"KJF\" with the grouping (11 10 6)*\n",
    "- *Note that the grouping (1 11 06) is invalid because \"06\" cannot be mapped into 'F' since \"6\" is different from \"06\".*\n",
    "\n",
    "*In addition to the mapping above, an encoded message may contain the '\\*' character, which can represent any digit from '1' to '9' ('0' is excluded). For example, the encoded message \"1\\*\" may represent any of the encoded messages \"11\", \"12\", \"13\", \"14\", \"15\", \"16\", \"17\", \"18\", or \"19\". Decoding \"1\\*\" is equivalent to decoding any of the encoded messages it can represent.*\n",
    "\n",
    "*Given a string s consisting of digits and '\\*' characters, return the number of ways to decode it.*\n",
    "\n",
    "*Since the answer may be very large, return it modulo 10^9 + 7.*"
   ]
  },
  {
   "cell_type": "code",
   "execution_count": 82,
   "id": "dc467e02-3b52-42e8-96d2-a175fa93c3ac",
   "metadata": {},
   "outputs": [],
   "source": [
    "class Solution(object):\n",
    "    def numDecodings(self, s):\n",
    "        MOD = 10**9 + 7\n",
    "        n = len(s)\n",
    "        dp = [0] * (n + 1)\n",
    "        \n",
    "        # Base cases\n",
    "        dp[n] = 1  # There's exactly one way to decode an empty string\n",
    "        dp[n - 1] = 9 if s[n - 1] == '*' else 0 if s[n - 1] == '0' else 1\n",
    "        \n",
    "        for i in range(n - 2, -1, -1):\n",
    "            if s[i] == '0':\n",
    "                dp[i] = 0                                       # '0' cannot be decoded\n",
    "                \n",
    "            elif s[i] == '*':\n",
    "                # Single digit possibilities for '*'\n",
    "                dp[i] = 9 * dp[i + 1]  # '*' can be 1-9\n",
    "                \n",
    "                # Two-digit possibilities for '*'\n",
    "                if i + 1 < n:                                   \n",
    "                    if s[i + 1] == '*':\n",
    "                        dp[i] += 15 * dp[i + 2]                  # '**' can be 11-19 and 21-26 (15 valid pairs)\n",
    "                    elif '0' <= s[i + 1] <= '6':\n",
    "                        dp[i] += 2 * dp[i + 2]                   # '*x' where x is 0-6 can be 10-16 or 20-26, so only 2 ways to decode * (1 or 2)\n",
    "                    else:\n",
    "                        dp[i] += dp[i + 2]                       # '*x' where x is 7-9 can only be 17-19, so * can only be 1\n",
    "                        \n",
    "            else:\n",
    "                # Single digit possibilities for a non-'*' character\n",
    "                dp[i] = dp[i + 1]                                # Regular case, treat s[i] as a single character\n",
    "                \n",
    "                # Two-digit possibilities for a non-'*' character\n",
    "                if i + 1 < n:\n",
    "                    if s[i + 1] == '*':\n",
    "                        if s[i] == '1':\n",
    "                            dp[i] += 9 * dp[i + 2]               # '1*' can be 11-19, so 9 ways to decode *\n",
    "                        elif s[i] == '2':\n",
    "                            dp[i] += 6 * dp[i + 2]               # '2*' can be 21-26, so 6 ways to decode *\n",
    "                            \n",
    "                    elif 10 <= int(s[i:i + 2]) <= 26:\n",
    "                        dp[i] += dp[i + 2]                       # no *, so simply check if two-digit number is between 10 and 26\n",
    "            \n",
    "            dp[i] %= MOD  # the principle of congruence\n",
    "        \n",
    "        return dp[0]"
   ]
  },
  {
   "cell_type": "markdown",
   "id": "4d2c0c38-31c5-4a99-b7de-2b53ae26a543",
   "metadata": {},
   "source": [
    "---\n",
    "### Q4: Ugly Number II (LC.264)\n",
    "*An ugly number is a positive integer whose prime factors are limited to 2, 3, and 5.*            \n",
    "*\r\n",
    "Given an integer n, return the nth ugly numbe*r."
   ]
  },
  {
   "cell_type": "markdown",
   "id": "ad39639a-f67d-4eab-871b-2cd73a2616cc",
   "metadata": {},
   "source": [
    "**Solution:**         \n",
    "The key idea is that since every ugly number only has prime factors of 2, 3, and 5, the n-th ugly number must be either 2 times, 3 times, or 5 times a previously computed smaller ugly number         \n",
    "\n",
    "Now our job is to find a way to compute a ugly number based on previous ugly numbers\n",
    "\n",
    "**Define dp[i]: the i-th ugly number**         \n",
    "Because each ugly number can be calculate from a previous ugly number by multiplying 2, 3, 5, we define **three pointers** to identify which ugly number we are multiplying\n",
    "\n",
    "**Base case: dp[1] = 1**    \n",
    "\n",
    "Procedure:         \n",
    "The three pointers initially all points to 1\n",
    "- multiply the number each pointer points to by the corresponding number 2, 3, or 5\n",
    "- then we got 3 candidate for our next ugly number\n",
    "- choose the smallest number among the 3 candidate, this is our next ugly number\n",
    "- move the pointer that points to the selected candidate to the right by one\n",
    " - if you find two candidate having the same value, move both of the pointers(for example, 2\\*3=6 and 3\\*2=6)"
   ]
  },
  {
   "cell_type": "code",
   "execution_count": 90,
   "id": "f3e9446a-892b-490e-8876-d1f32c63e784",
   "metadata": {},
   "outputs": [],
   "source": [
    "class Solution(object):\n",
    "    def nthUglyNumber(self, n):\n",
    "        dp = [float('inf')] * (n + 1)\n",
    "        dp[1] = 1\n",
    "        pt2, pt3, pt5 = 1, 1, 1\n",
    "\n",
    "        for i in range(2, n + 1):\n",
    "            candidate2 = 2 * dp[pt2]\n",
    "            candidate3 = 3 * dp[pt3]\n",
    "            candidate5 = 5 * dp[pt5]\n",
    "\n",
    "            ans = min(candidate2, candidate3, candidate5)\n",
    "            if ans == candidate2:\n",
    "                pt2 += 1\n",
    "            if ans == candidate3:\n",
    "                pt3 += 1\n",
    "            if ans == candidate5:\n",
    "                pt5 += 1\n",
    "            dp[i] = ans\n",
    "\n",
    "        return dp[n]"
   ]
  },
  {
   "cell_type": "markdown",
   "id": "c302a4dd-ef06-4ba8-b576-4db93bd5571f",
   "metadata": {},
   "source": [
    "---\n",
    "### Q5: Longest Valid Parenthesis (LC.32)\n",
    "*Given a string containing just the characters '(' and ')', return the length of the longest valid (well-formed) parentheses substring.*\n",
    "\n",
    "**Solution**:          \n",
    "Here's the solution using DP, but actually just using a Stack is much simpler!"
   ]
  },
  {
   "cell_type": "code",
   "execution_count": 99,
   "id": "c30955cd-6b29-4195-aba0-f1339613fd7c",
   "metadata": {},
   "outputs": [],
   "source": [
    "class Solution(object):\n",
    "    def longestValidParentheses(self, s):\n",
    "        \"\"\"\n",
    "        :type s: str\n",
    "        :rtype: int\n",
    "        \"\"\"\n",
    "        # dp[i]: the longest valid parenthesis in substring that ENDS with s[i]\n",
    "        n = len(s)\n",
    "        if n == 0:\n",
    "            return 0\n",
    "\n",
    "        dp = [0] * n\n",
    "        for i in range(1, n):\n",
    "            if s[i] == ')':\n",
    "                if s[i - 1] == '(':         # \"()\"\n",
    "                    dp[i] = dp[i - 2] + 2\n",
    "\n",
    "                else:                       # \"))\"\n",
    "                    corresponding_char = i - dp[i - 1] - 1\n",
    "                    if corresponding_char >= 0 and s[corresponding_char] == '(':\n",
    "                        dp[i] = dp[i - 1] + 2\n",
    "                        if corresponding_char - 1 >= 0:\n",
    "                            dp[i] += dp[corresponding_char - 1]\n",
    "\n",
    "        return max(dp)\n",
    "\n",
    "#Example here:\n",
    "    #     dp  0 0 2 4 0 0 0 2 4 10               \n",
    "    # index   0 1 2 3 4 5 6 7 8 9\n",
    "    #         ( ( ) ) ( ( ( ) ) )\n"
   ]
  },
  {
   "cell_type": "markdown",
   "id": "f38db452-5633-4a76-8f6a-5271187b7a46",
   "metadata": {},
   "source": [
    "---\n",
    "# Crucial Hint!!!\n",
    "Instead of dealing with number of substring that end with each position, we can also categorize by dealing with number of substring that **end with a specific letter**        \n",
    "\n",
    "So when dealing with DP problem about string that only contains **English letters**, we can simply build a `dp = [0] * 26`\n",
    "\n",
    "**dp[a]** = {whatever asked by the problem} of substring/subsequence that **ends with letter 'a'**          \n",
    "\n",
    "The following two problem both uses this approach"
   ]
  },
  {
   "cell_type": "markdown",
   "id": "8444ae5e-a50d-43ea-8da3-e3dd9251261d",
   "metadata": {},
   "source": [
    "---\n",
    "### Q6: Unique Substrings In A Wraparound String (LC.467)\n",
    "*We define the string base to be the infinite wraparound string of \"abcdefghijklmnopqrstuvwxyz\", so base will look like this:*          \n",
    "*\"...zabcdefghijklmnopqrstuvwxyzabcdefghijklmnopqrstuvwxyzabcd....\".*           \n",
    "*Given a string s, return the number of unique non-empty substrings of s are present in base.*"
   ]
  },
  {
   "cell_type": "markdown",
   "id": "0fc0d589-e373-45f0-993a-da4b23de65a9",
   "metadata": {},
   "source": [
    "**Solution:**           \n",
    "Our approach for this problem is very different from our previous questions. You might think dp[i] is \"the number of uique substr that are present in base[:i]\". But here's what we use for our dp:\n",
    "- Define dp[i]: The length of the longest substring that end in letter \"i\" that is in both s and base\n",
    "- for example, if s = \"cxyzats\", then dp[25] = 3, since \"xyz\" is the longest substring\n",
    "\n",
    "Why?\n",
    "- If 3 is the length of the longest substr end in 'z' then we are guaranteed to have 3 substring present in base\n",
    "  - 'z'\n",
    "  - 'yz'\n",
    "  - 'xyz'\n",
    "- If we do this for all chars in str, then the sum of all elements in dp[] is the answer we are looking for\n",
    "- And it guarantee that:\n",
    "  - we will not miss anything\n",
    "  - we will not count the duplicates        "
   ]
  },
  {
   "cell_type": "code",
   "execution_count": 10,
   "id": "74f21748-ffbd-436a-ad97-dfe2d1096b6c",
   "metadata": {},
   "outputs": [],
   "source": [
    "class Solution(object):\n",
    "    def findSubstringInWraproundString(self, s):\n",
    "        n = len(s)\n",
    "        dp = [0] * 26\n",
    "        dp[ord(s[0]) - ord('a')] = 1\n",
    "        maxlen = 1\n",
    "        for i in range(1, n):\n",
    "            if ord(s[i]) - ord(s[i -  1]) == 1 or s[i] == 'a' and s[i - 1] == 'z':\n",
    "                maxlen += 1\n",
    "            else:\n",
    "                maxlen = 1\n",
    "            dp[ord(s[i]) - ord('a')] = max(maxlen, dp[ord(s[i]) - ord('a')])\n",
    "\n",
    "        return sum(dp) "
   ]
  },
  {
   "cell_type": "markdown",
   "id": "6b417707-711f-47ed-8596-3d94837db867",
   "metadata": {},
   "source": [
    "---\n",
    "### Q7: Distinct Subsequences II (LC.940)"
   ]
  },
  {
   "cell_type": "markdown",
   "id": "fbe13655-80b7-44af-b63b-2aaf845e38e4",
   "metadata": {},
   "source": [
    "*Given a string s, return the number of distinct non-empty subsequences of s. Since the answer may be very large, return it modulo 10^9 + 7.*\n",
    "\n",
    "*A subsequence of a string is a new string that is formed from the original string by deleting some (can be none) of the characters without disturbing the relative positions of the remaining characters. (i.e., \"ace\" is a subsequence of \"abcde\" while \"aec\" is not.*"
   ]
  },
  {
   "cell_type": "markdown",
   "id": "21f9d586-2974-472e-8d33-65ae05459e74",
   "metadata": {},
   "source": [
    "#### **Solution**:\n",
    "\n",
    "Again, we define dp by the specific english letter.\n",
    "\n",
    "- `dp[i]`: The number of unique subsequences end with the letter 'i'.\n",
    "- `total`: The total number of subsequences we found so far, including `{}` (the empty set).\n",
    "- `newly_added`: The number of new subsequences added to the set after appending a new character.\n",
    "\n",
    "#### Key Insight:\n",
    "When you append letter 'i', `newly_added = total - dp[i]`. Why?\n",
    "- **If `dp[i] == 0`**, it means that 'i' has never been appended before. So, `newlyAdded == total`, because we append 'i' to all previous subsequences, and there will be no repetition.\n",
    "- **If `dp[i] != 0`**, it means that 'i' has already been appended before, so there will be repetition. The number of repeated subsequences is exactly `dp[i]`.\n",
    "\n",
    "#### Example:\n",
    "\n",
    "Consider the string `s = \"abab\"`:\n",
    "\n",
    "1. **Start with `{}`**  \n",
    "   `total = 1`\n",
    "\n",
    "2. **Append 'a'**  \n",
    "   `{}`, `{a}`  \n",
    "   `dp[a] = 1`, `total = 2`\n",
    "\n",
    "3. **Append 'b'**  \n",
    "   `{}`, `{a}`, `{b}`, `{ab}`  \n",
    "   `dp[b] = 2`, `total = 4`\n",
    "\n",
    "4. **Append 'a'**  \n",
    "   `{}`, `{a}`, `{b}`, `{ab}`, `*{a}*`, `{aa}`, `{ba}`, `{aba}`  \n",
    "   Note that `{a}` is a repetition. `dp[a] = 1` because we already appended 'a' once before.  \n",
    "   After removing the repetition, we get `{}`, `{a}`, `{b}`, `{ab}`, `{aa}`, `{ba}`, `{aba}`.\n",
    "\n",
    "5. **Append 'b'**  \n",
    "   `{}`, `{a}`, `{b}`, `{ab}`, `{aa}`, `{ba}`, `{aba}`, `*{b}*`, `*{ab}*`, `{bb}`, `{abb}`, `{aab}`, `{bab}`, `{abab}`  \n",
    "   Note that `{b}` and `{ab}` are repetitions. `dp[b] = 2` because we already appended 'b' to `{}` and `{a}` once before.\n",
    "\n",
    "#### Therefore, here's our formula:\n",
    "- `newly_added = total - dp[current letter we append]`\n",
    "- `dp[current letter we append] += newly_added`\n",
    "- `total += newly_added`"
   ]
  },
  {
   "cell_type": "code",
   "execution_count": 42,
   "id": "5e4b6f0f-80c8-44cc-b0a7-525eabe625b9",
   "metadata": {},
   "outputs": [],
   "source": [
    "def distinctSubseqII(self, s):\n",
    "    dp = [0] * 26\n",
    "    total = 1             # include \"\" in total, but we will delete it before returning\n",
    "    newly_added = 0\n",
    "    \n",
    "    for ch in s:\n",
    "        newly_added = total - dp[ord(ch) - ord('a')]\n",
    "        dp[ord(ch) - ord('a')] += newly_added\n",
    "        total += newly_added\n",
    "\n",
    "    return total - 1"
   ]
  },
  {
   "cell_type": "markdown",
   "id": "1a1477ce-6d45-4401-9d68-8c41ef3b8fa2",
   "metadata": {},
   "source": [
    "<p>The question ask us for modulo, so here's the answer with modulo</p>"
   ]
  },
  {
   "cell_type": "code",
   "execution_count": 44,
   "id": "fdc520c1-96b7-4d7f-8470-d86bc45d9861",
   "metadata": {},
   "outputs": [],
   "source": [
    "class Solution(object):\n",
    "    def distinctSubseqII_with_mod(self, s):\n",
    "        mod = 1000000007\n",
    "        dp = [0] * 26\n",
    "        total = 1\n",
    "        newly_added = 0\n",
    "        \n",
    "        for ch in s:\n",
    "            newly_added = (total - dp[ord(ch) - ord('a')]) % mod\n",
    "            dp[ord(ch) - ord('a')] = (dp[ord(ch) - ord('a')] + newly_added) % mod\n",
    "            total = (total + newly_added) % mod\n",
    "\n",
    "        return (total - 1) % mod"
   ]
  },
  {
   "cell_type": "markdown",
   "id": "a83a6a5f-3d91-45b9-9606-a0ffd88d4085",
   "metadata": {},
   "source": [
    "---\n",
    "# Two Dimensional DP\n"
   ]
  },
  {
   "cell_type": "markdown",
   "id": "de8d5c9b-b5d5-42a3-bdaa-4007c398b704",
   "metadata": {},
   "source": [
    "In 1D dp problem, our dp table is a simple array, and each cell depends on one or several other cells on its left/right         \n",
    "In 2D dp problem, our dp table is a matrix, and each cell depends can depends on the cells on its left/right/top/bottom"
   ]
  },
  {
   "cell_type": "markdown",
   "id": "6f4a24fb-6c76-45be-bb21-a503cf3dd4bb",
   "metadata": {},
   "source": [
    "### Q1: Minimum Path Sum (LC.64) --- 2D DP Template\n",
    "*Given a m x n grid filled with non-negative numbers, find a path from top left to bottom right, which minimizes the sum of all numbers along its path.*    \n",
    "*Note: You can only move either down or right at any point in time.*"
   ]
  },
  {
   "cell_type": "markdown",
   "id": "d150099e-a87f-44a0-8510-e2c1d0fc848a",
   "metadata": {},
   "source": [
    "**Solution:**         \n",
    "The key point in the problem is that you are only allowed to go down or right. Therefore to visit a cell, you must either come from the cell on its top or on its left\n",
    "\n",
    "**dp[i][j]: the minimum cost to visited grid[i][j] starting from [0][0]**       \n",
    "\n",
    "Dependency in DP table: \n",
    "- Each cell depends on the cell on its left and on its top         \n",
    "\n",
    "Filling the DP table:\n",
    "- Fill the first column\n",
    "- Fill the first row\n",
    "- Fill the rest of the DP table\n",
    "- return dp[m - 1][n - 1]\n",
    "\n",
    "Note: this is graph problem, so of course you can also use DJ algo"
   ]
  },
  {
   "cell_type": "code",
   "execution_count": 69,
   "id": "1167804d-49df-4bb2-99ff-250446e88e9f",
   "metadata": {},
   "outputs": [],
   "source": [
    "class Solution(object):\n",
    "    def minPathSum(self, grid):\n",
    "        m = len(grid)\n",
    "        n = len(grid[0])\n",
    "\n",
    "        dp = [[float('inf')] * n for _ in range(m)]\n",
    "        dp[0][0] = grid[0][0]\n",
    "\n",
    "        for i in range(1, m):\n",
    "            dp[i][0] = dp[i - 1][0] + grid[i][0]\n",
    "        for j in range(1, n):\n",
    "            dp[0][j] = dp[0][j - 1] + grid[0][j]\n",
    "\n",
    "\n",
    "        for i in range(1, m):\n",
    "            for j in range(1, n):       \n",
    "                dp[i][j] = grid[i][j] + min(dp[i - 1][j], dp[i][j - 1])\n",
    "\n",
    "        return dp[m - 1][n - 1]"
   ]
  },
  {
   "cell_type": "markdown",
   "id": "46f085e2-f7ad-450e-87c0-689af40d4ebe",
   "metadata": {},
   "source": [
    "### Space Optimization For 2D DP"
   ]
  },
  {
   "cell_type": "code",
   "execution_count": null,
   "id": "dc53b77b-b76a-4bcd-8cc6-4b8368bc9708",
   "metadata": {},
   "outputs": [],
   "source": [
    "# when we are at grid[i][j], dp[j - 1] is dp[left], dp[j] is dp[up]\n",
    "def min_path_sum(grid):\n",
    "    n = len(grid)\n",
    "    m = len(grid[0])\n",
    "    dp = [0] * m\n",
    "    dp[0] = grid[0][0]\n",
    "    \n",
    "    for j in range(1, m):\n",
    "        dp[j] = dp[j - 1] + grid[0][j]\n",
    "    \n",
    "    for i in range(1, n):\n",
    "        dp[0] += grid[i][0]\n",
    "        for j in range(1, m):\n",
    "            dp[j] = min(dp[j - 1], dp[j]) + grid[i][j]\n",
    "    \n",
    "    return dp[m - 1]"
   ]
  },
  {
   "cell_type": "markdown",
   "id": "88e58011-6af2-4ded-ae1b-f8a321e85e48",
   "metadata": {},
   "source": [
    "---\n",
    "### Q2: Longest Common Subsequence (LC.1143) --- Classic 2D Problem\n",
    "*Given two strings text1 and text2, return the length of their longest common subsequence. If there is no common subsequence, return 0.*\n",
    "\n",
    "*A common subsequence of two strings is a subsequence that is common to both strings.*\n",
    "\n",
    "#### Solution:      \n",
    "**dp[i][j]: the longest common subsequence in a substrings in text1, text2 that has length i, j**\n",
    "- Why do we define i and j to be length instead of index?\n",
    "  - If we define them to be index, it is hard to define our base case, since we have to check whether `text1[0] == text2[j]` and `text1p[i] == text2[0]`\n",
    "  - Defining i and j to be length allows us to simply fill every `dp[i][0]` and `dp[0][j]` to be 0 since the longest common subsequence of a empty string and anything is always 0\n",
    "\n",
    "**State Transition:**          \n",
    "For a given pair i, j, we can have 3 options:\n",
    "- Take the new element from text1 only, so we try to pair `text1[i-1]` to `text2[j-2]` ---> `dp[i][j-1]`\n",
    "- Take the new element from text2 only, so we try to pair `text1[i-2]` to `text2[j-1]` ---> `dp[i-1][j]`\n",
    "- Only when `text1[i-1] == text2[j-1]`, we can take both element ---> `dp[i-1][j-1] + 1`\n",
    "\n",
    "**Filling The DP Table:**\n",
    "- From the state transition we can see that a cell will depend on cell on its **left** and on its **top**        \n",
    "- Given our base case is that first row and first col are all zero, we fill our dp table **from left to right, from top to bottom**"
   ]
  },
  {
   "cell_type": "code",
   "execution_count": 12,
   "id": "47a37a93-4ae4-44f3-928e-c5acffc53b15",
   "metadata": {},
   "outputs": [],
   "source": [
    "class Solution(object):\n",
    "    def longestCommonSubsequence(self, text1, text2):\n",
    "        m = len(text1)\n",
    "        n = len(text2)\n",
    "\n",
    "        dp = [[0] * (n + 1) for _ in range(m + 1)]         #since i, j is length, we need dp to have size i+1, j+1\n",
    "\n",
    "        # Base Case: dp[i][0] = 0 and dp[0][j] = 0 since the longest subsequence of a empty string and anything is 0\n",
    "        \n",
    "        for i in range(1, m + 1):\n",
    "            for j in range(1, n + 1):\n",
    "                opt1 = dp[i - 1][j]\n",
    "                opt2 = dp[i][j - 1]\n",
    "                opt3 = dp[i - 1][j - 1] + 1 if text1[i - 1] == text2[j - 1] else dp[i - 1][j - 1]\n",
    "                dp[i][j] = max(opt1, opt2, opt3)\n",
    "\n",
    "        return dp[m][n]"
   ]
  },
  {
   "cell_type": "markdown",
   "id": "6b345a26-910d-45ae-a75a-f356b62e4b2d",
   "metadata": {},
   "source": [
    "---\n",
    "### Q3: Longest Palindromic Subsequence (LC.5)\n",
    "Given an string s, return the length of the longest palindromic subsequence in s"
   ]
  },
  {
   "cell_type": "markdown",
   "id": "01f02c41-4ea6-44b5-ab5d-ce39a24574f9",
   "metadata": {},
   "source": [
    "**Solution:**   \n",
    "There are multiple approaches to this question, here I'll list 3 of them: \n",
    "1. Find the longest common subsequence in `s` and `reverse(s)` --- then this becomes our Q2 above\n",
    "2. Using interval DP, dp[l][r]: the length of longest palindromic subsequence in `s[l:r]`\n",
    "3. Manacher's Algorithm(we will discuss this in the Manacher Algo's section)"
   ]
  },
  {
   "cell_type": "markdown",
   "id": "39b72104-6759-4a63-a879-ab0d84440611",
   "metadata": {},
   "source": [
    "We will use approach 2 here:   \n",
    "\n",
    "**dp[l][r]: the length of longest palindromic subsequence in `s[l:r]`, note that `l`, `r` are index**\n",
    "\n",
    "**Base case**:\n",
    "1. Single character palindrome: **`dp[i][i] = 1`** since every single character is a palindrome --- this is the **diagonal**\n",
    "2. Pair palindrom: **`dp[i][i+1] = 2 if s[i] == s[i + 1] else 1`**, handle cases like \"aa\", \"bb\", \"cc\", etc\n",
    "\n",
    "**Return value**: `dp[0][n-1]`\n",
    "\n",
    "**State Transition:**\n",
    "1. try pairing `l + 1` with `r` ---> `dp[l][r] = dp[l+1][r]`\n",
    "2. try pairing  `l` with `r - 1` ---> `dp[l][r] = dp[l][r-1]`\n",
    "3. pair `l` with `r`, but only if `s[l] == s[r]` ---> `dp[l][r] = dp[l+1][r-1] + 2`\n",
    "\n",
    "**Filling DP table:**       \n",
    "From state transition we see that a cell depends on the cell on its bottom, right, and bottom-right, and our return value is dp[0][n-1]          \n",
    "Therefore we fill the table from **bottom to top**, **left to right**, starting from the **midpoint** of each row\n"
   ]
  },
  {
   "cell_type": "code",
   "execution_count": 32,
   "id": "103efe76-0616-427e-954c-2d68a4c2ea87",
   "metadata": {},
   "outputs": [],
   "source": [
    "class Solution(object):\n",
    "    def longestPalindromeSubseq(self, s):\n",
    "        n = len(s)\n",
    "        if n == 1:\n",
    "            return 1\n",
    "\n",
    "        dp = [[0] * n for _ in range(n)]\n",
    "\n",
    "        for l in range(n - 2, -1, -1):                           # bottom to top\n",
    "            dp[l][l] = 1                                         # base case 1, single character palindrome\n",
    "            if l + 1 < n:\n",
    "                dp[l][l + 1] = 2 if s[l] == s[l + 1] else 1      # Base case 2: Pair Palindrom\n",
    "            for r in range(l + 2, n):                            # left to right, start at middle\n",
    "                opt1 = dp[l + 1][r]\n",
    "                opt2 = dp[l][r - 1]\n",
    "                opt3 = dp[l + 1][r - 1] + 2 if s[l] == s[r] else dp[l + 1][r - 1]\n",
    "                dp[l][r] = max(opt1, opt2, opt3)\n",
    "            \n",
    "        return dp[0][n - 1]"
   ]
  },
  {
   "cell_type": "markdown",
   "id": "b309ca74-17e1-4019-b6d4-1a0b6f1e862a",
   "metadata": {},
   "source": [
    "---\n",
    "### Q4: Distinct Subsequences\n",
    "*Given two strings s and t, return the number of distinct subsequences of s which equals t.*          \n",
    "*The test cases are generated so that the answer fits on a 32-bit signed integer.*"
   ]
  },
  {
   "cell_type": "code",
   "execution_count": null,
   "id": "9c0bb5a9-9ec4-4d3f-b66f-54f4f435690f",
   "metadata": {},
   "outputs": [],
   "source": []
  },
  {
   "cell_type": "markdown",
   "id": "c82c79a5-44ae-4bb0-88df-3df00d9d3735",
   "metadata": {},
   "source": [
    "---\n",
    "### Q5: Maximal Square (LC.221)\n",
    "*Given an m x n binary matrix filled with 0's and 1's, find the largest square containing only 1's and return its area.*"
   ]
  },
  {
   "cell_type": "markdown",
   "id": "da32005f-1c25-4691-ae22-dd4ac822d10c",
   "metadata": {},
   "source": [
    "**Solution:**      \n",
    "\n",
    "**dp[i][j]: The side length of max square end at position i, j (the bottom-right corner of the squeare is at i, j)**         \n",
    "\n",
    "If we analyze how a square can be formed, you will realize that the max length of a square depends on the square on its top, left, and topleft.     \n",
    "- If grid[i][j] == 0, then dp[i][j] = 0\n",
    "- If grid[i][j] == 1, dp[i][j] = Min(dp[i - 1][j], dp[i][j - 1], dp[i - 1][j - 1]) + 1\n",
    "\n",
    "Base cases: for element on the first row and first col, dp[i][j] = grid[i][j]     \n",
    "     \n",
    "Fill the DP table from top to bottom, left to right"
   ]
  },
  {
   "cell_type": "code",
   "execution_count": 10,
   "id": "a3abcd3e-f2e3-4335-b35a-23724aa0ec05",
   "metadata": {},
   "outputs": [],
   "source": [
    "class Solution:\n",
    "    def maximalSquare(self, matrix):\n",
    "        m = len(matrix)\n",
    "        n = len(matrix[0])\n",
    "\n",
    "        # We need to update maxLen earlier when we are filling our base cases in order to handle 2 * 2 grid\n",
    "        maxLen = 0\n",
    "        dp = [[0] * n for _ in range(m)]\n",
    "        for i in range(m):\n",
    "            dp[i][0] = 1 if matrix[i][0] == '1' else 0\n",
    "            maxLen = max(maxLen, dp[i][0])\n",
    "        for j in range(n):\n",
    "            dp[0][j] = 1 if matrix[0][j] == '1' else 0\n",
    "            maxLen = max(maxLen, dp[0][j])\n",
    "\n",
    "        for i in range(1, m):\n",
    "            for j in range(1, n):\n",
    "                if matrix[i][j] == '1':\n",
    "                    dp[i][j] = min(dp[i - 1][j - 1], dp[i][j - 1], dp[i - 1][j]) + 1\n",
    "                    maxLen = max(maxLen, dp[i][j])\n",
    "\n",
    "        return maxLen * maxLen\n",
    "        "
   ]
  },
  {
   "cell_type": "code",
   "execution_count": null,
   "id": "2c061aa2-eb02-4e9b-9b18-766ac6923180",
   "metadata": {},
   "outputs": [],
   "source": []
  }
 ],
 "metadata": {
  "kernelspec": {
   "display_name": "Python 3 (ipykernel)",
   "language": "python",
   "name": "python3"
  },
  "language_info": {
   "codemirror_mode": {
    "name": "ipython",
    "version": 3
   },
   "file_extension": ".py",
   "mimetype": "text/x-python",
   "name": "python",
   "nbconvert_exporter": "python",
   "pygments_lexer": "ipython3",
   "version": "3.12.4"
  }
 },
 "nbformat": 4,
 "nbformat_minor": 5
}
