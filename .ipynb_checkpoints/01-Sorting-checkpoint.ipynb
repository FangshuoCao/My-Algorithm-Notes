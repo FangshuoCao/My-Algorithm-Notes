{
 "cells": [
  {
   "cell_type": "markdown",
   "id": "86b3fad1-c98d-4406-b3d3-29046a12423b",
   "metadata": {},
   "source": [
    "### O(n^2) Algorithms\n",
    "\n",
    "#### 1. Selection Sort\n",
    "- In range `i ~ n-1`, find the minimum element and put it at position `i`, then continue in range `i+1 ~ n-1`.\n"
   ]
  },
  {
   "cell_type": "code",
   "execution_count": 3,
   "id": "d7032e65-7cd9-454b-8f69-a405a5076fc1",
   "metadata": {},
   "outputs": [],
   "source": [
    "def selection_sort(arr):\n",
    "    if arr is None or len(arr) < 2:\n",
    "        return\n",
    "    for i in range(len(arr) - 1):\n",
    "        min_index = i\n",
    "        for j in range(i + 1, len(arr)):\n",
    "            if arr[j] < arr[min_index]:\n",
    "                min_index = j\n",
    "        arr[i], arr[min_index] = arr[min_index], arr[i]"
   ]
  },
  {
   "cell_type": "markdown",
   "id": "34216870-9b49-4d71-a291-596655ac3921",
   "metadata": {},
   "source": [
    "#### 2. Bubble Sort\r\n",
    "- In range `0 ~ i`, keep comparing elements next to each othe.\n",
    "-  The maximum element will finally be swapped to index `i`, then continue in range `0 ~ i-1`.\r\n"
   ]
  },
  {
   "cell_type": "code",
   "execution_count": 8,
   "id": "2a161a70-1d95-4bb6-a1dd-3b618612127b",
   "metadata": {},
   "outputs": [],
   "source": [
    "def bubble_sort(arr):\n",
    "    if arr is None or len(arr) < 2:\n",
    "        return\n",
    "    for end in range(len(arr) - 1, 0, -1):\n",
    "        for i in range(end):\n",
    "            if arr[i] > arr[i + 1]:\n",
    "                arr[i], arr[i + 1] = arr[i + 1], arr[i]"
   ]
  },
  {
   "cell_type": "markdown",
   "id": "a68fd1c8-862b-4d07-a0df-b4cf98506b20",
   "metadata": {},
   "source": [
    "#### 3. Insertion Sort\r\n",
    "- This is how you sort your poker hand: numbers in the range `0~i` are already sorted, a new number comes in and slides from right to left to a position where it is no longer smaller, then continues.\r\n",
    "- It is the best among the three O(n^2) algorithms since its time complexity depends on the scenario.\r\n"
   ]
  },
  {
   "cell_type": "code",
   "execution_count": 11,
   "id": "4ce514b2-615b-4a79-9681-25cb28b93595",
   "metadata": {},
   "outputs": [],
   "source": [
    "def insertion_sort(arr):\n",
    "    if arr is None or len(arr) < 2:\n",
    "        return\n",
    "    for i in range(1, len(arr)):\n",
    "        for j in range(i - 1, -1, -1):\n",
    "            if arr[j] > arr[j + 1]:\n",
    "                arr[j], arr[j + 1] = arr[j + 1], arr[j]\n",
    "            else:\n",
    "                break\n"
   ]
  },
  {
   "cell_type": "markdown",
   "id": "666cdb82-44bb-4005-a5f4-6d9e8da553e8",
   "metadata": {},
   "source": [
    "### O(n * log n) Algorithms\r\n",
    "\r\n",
    "#### 4. Merge Sort\r\n",
    "1. Sort the left half, sort the right half, then merge them.\r\n",
    "2. The merge process involves copying smaller elements from the left or right into a helper array until all numbers from both the left and right parts are exhausted.\r\n",
    "3. Can be implemented using recursion or iteration.\r\n",
    "4. An auxiliary array is needed, making the extra space complexity O(n).\r\n",
    "5. It is faster than O(n^2) sorting because comparisons a\"re not\" oblems.\r\n"
   ]
  },
  {
   "cell_type": "code",
   "execution_count": 15,
   "id": "89ba8b27-0d68-444a-8467-a18fabff70a6",
   "metadata": {},
   "outputs": [],
   "source": [
    "def merge_sort_recursive(arr):\n",
    "    if len(arr) < 2:\n",
    "        return arr\n",
    "    mid = len(arr) // 2\n",
    "    left = merge_sort_recursive(arr[:mid])\n",
    "    right = merge_sort_recursive(arr[mid:])\n",
    "    return merge(left, right)\n",
    "\n",
    "def merge(left, right):\n",
    "    result = []\n",
    "    i = j = 0\n",
    "    while i < len(left) and j < len(right):\n",
    "        if left[i] < right[j]:\n",
    "            result.append(left[i])\n",
    "            i += 1\n",
    "        else:\n",
    "            result.append(right[j])\n",
    "            j += 1\n",
    "    result.extend(left[i:])\n",
    "    result.extend(right[j:])\n",
    "    return result\n"
   ]
  },
  {
   "cell_type": "markdown",
   "id": "6b4307a4-7bfe-4f64-8654-8d500dcf1e30",
   "metadata": {},
   "source": [
    "#### 5. Quick Sort\r\n",
    "- The \"Dutch National Flag\" problem: given an array and a number, partition the array into three parts: left part < number, middle part = number, right part > number.\r\n",
    "- Apply this partitioning recursively for quick sort.\r\n"
   ]
  },
  {
   "cell_type": "code",
   "execution_count": 20,
   "id": "c5f7ac47-b8df-4ce6-8495-c06b0c9cc69a",
   "metadata": {},
   "outputs": [],
   "source": [
    "import random\n",
    "\n",
    "def quick_sort(arr):\n",
    "    if arr is None or len(arr) < 2:\n",
    "        return\n",
    "    helper(arr, 0, len(arr) - 1)\n",
    "\n",
    "def helper(arr, l, r):\n",
    "    if l >= r:\n",
    "        return\n",
    "    pivot = arr[l + random.randint(0, r - l)]\n",
    "    first, last = partition(arr, l, r, pivot)\n",
    "    helper(arr, l, first - 1)\n",
    "    helper(arr, last + 1, r)\n",
    "\n",
    "def partition(arr, l, r, pivot):\n",
    "    first = l\n",
    "    last = r\n",
    "    i = l\n",
    "    while i <= last:\n",
    "        if arr[i] < pivot:\n",
    "            arr[i], arr[first] = arr[first], arr[i]\n",
    "            first += 1\n",
    "            i += 1\n",
    "        elif arr[i] > pivot:\n",
    "            arr[i], arr[last] = arr[last], arr[i]\n",
    "            last -= 1\n",
    "        else:\n",
    "            i += 1\n",
    "    return first, last"
   ]
  },
  {
   "cell_type": "markdown",
   "id": "41457fa1-8fa4-4d58-9100-7bf3c0a2e478",
   "metadata": {},
   "source": [
    "### 6. Heap Sort\n",
    "- Heap is a complete binary tree implemented by an array.\n",
    "- The heap sort algorithm has a time complexity of O(N*LogN) and an extra space complexity of O(1).\n"
   ]
  },
  {
   "cell_type": "code",
   "execution_count": 25,
   "id": "3685e44d-5e90-4ba8-bf2f-3955f01206f3",
   "metadata": {},
   "outputs": [],
   "source": [
    "def heap_sort(arr):\n",
    "    if arr is None or len(arr) < 2:\n",
    "        return\n",
    "    build_max_heap(arr)\n",
    "    for end in range(len(arr) - 1, 0, -1):\n",
    "        arr[0], arr[end] = arr[end], arr[0]\n",
    "        heapify(arr, 0, end)\n",
    "\n",
    "def build_max_heap(arr):\n",
    "    for i in range(len(arr) // 2 - 1, -1, -1):\n",
    "        heapify(arr, i, len(arr))\n",
    "\n",
    "def heapify(arr, index, heap_size):\n",
    "    largest = index\n",
    "    left = 2 * index + 1\n",
    "    right = 2 * index + 2\n",
    "    if left < heap_size and arr[left] > arr[largest]:\n",
    "        largest = left\n",
    "    if right < heap_size and arr[right] > arr[largest]:\n",
    "        largest = right\n",
    "    if largest != index:\n",
    "        arr[index], arr[largest] = arr[largest], arr[index]\n",
    "        heapify(arr, largest, heap_size)"
   ]
  },
  {
   "cell_type": "markdown",
   "id": "e3a67829-b24c-48d7-90f4-43499da48f45",
   "metadata": {},
   "source": [
    "### 7. Radix Sort\n",
    "- Radix Sort is essentially doing counting sort multiple times for the number of digits the maximum element has.\n",
    "- It is a non-comparative sorting algorithm that can be used for integers within a narrow range.\n"
   ]
  },
  {
   "cell_type": "code",
   "execution_count": 28,
   "id": "d4578306-c264-4dab-b1b4-1ad0f66c9fe9",
   "metadata": {},
   "outputs": [],
   "source": [
    "def radix_sort(arr):\n",
    "    if len(arr) <= 1:\n",
    "        return arr\n",
    "    max_num = max(arr)\n",
    "    exp = 1\n",
    "    while max_num // exp > 0:\n",
    "        count_sort(arr, exp)\n",
    "        exp *= 10\n",
    "\n",
    "def count_sort(arr, exp):\n",
    "    n = len(arr)\n",
    "    output = [0] * n\n",
    "    count = [0] * 10\n",
    "\n",
    "    for i in range(n):\n",
    "        index = arr[i] // exp\n",
    "        count[index % 10] += 1\n",
    "\n",
    "    for i in range(1, 10):\n",
    "        count[i] += count[i - 1]\n",
    "\n",
    "    i = n - 1\n",
    "    while i >= 0:\n",
    "        index = arr[i] // exp\n",
    "        output[count[index % 10] - 1] = arr[i]\n",
    "        count[index % 10] -= 1\n",
    "        i -= 1\n",
    "\n",
    "    for i in range(n):\n",
    "        arr[i] = output[i]"
   ]
  },
  {
   "cell_type": "markdown",
   "id": "ebf20b24-6fdd-4fe1-b850-04eff67e9e74",
   "metadata": {},
   "source": [
    "### 9. Summary\r\n",
    "- Stability refers to whether elements that compare as equal retain their relative order after sorting.\r\n",
    "- Sorting algorithm time complexity, space complexity, and stability comparison:\r\n",
    "\r\n",
    "| Algorithm        | Time Complexity | Space Complexity | Stability |\r\n",
    "|------------------|-----------------|------------------|-----------|\r\n",
    "| Selection Sort   | O(N^2)          | O(1)             | No        |\r\n",
    "| Bubble Sort      | O(N^2)          | O(1)             | Yes       |\r\n",
    "| Insertion Sort   | O(N^2)          | O(1)             | Yes       |\r\n",
    "| Merge Sort       | O(N*logN)       | O(N)             | Yes       |\r\n",
    "| Quick Sort       | O(N*logN)       | O(logN)          | No        |\r\n",
    "| Heap Sort        | O(N*logN)       | O(1)             | No        |\r\n",
    "| Counting Sort    | O(N)            | O(M)             | Yes       |\r\n",
    "| Radix Sort       | O(N)            | O(M)             | Yes       |\r\n",
    "\r\n",
    "- Choose an algorithm based on the size of the data and the requirement for stability and space.\r\n"
   ]
  },
  {
   "cell_type": "code",
   "execution_count": null,
   "id": "04fc22e1-8f73-49de-8565-1935cf495bd8",
   "metadata": {},
   "outputs": [],
   "source": []
  }
 ],
 "metadata": {
  "kernelspec": {
   "display_name": "Python 3 (ipykernel)",
   "language": "python",
   "name": "python3"
  },
  "language_info": {
   "codemirror_mode": {
    "name": "ipython",
    "version": 3
   },
   "file_extension": ".py",
   "mimetype": "text/x-python",
   "name": "python",
   "nbconvert_exporter": "python",
   "pygments_lexer": "ipython3",
   "version": "3.12.4"
  }
 },
 "nbformat": 4,
 "nbformat_minor": 5
}
