{
 "cells": [
  {
   "cell_type": "markdown",
   "id": "8968d113-1e64-4278-b0b0-dce2444987a7",
   "metadata": {},
   "source": [
    "# Dynamic Programming On Tree\n",
    "## What Is A Tree?\n",
    "A tree is a DAG with one root, where the root has no parent. All other notes has and only has one parent.          \n",
    "On a Tree, the path from root to any node is unique.\n",
    "\n",
    "## DP on Tree\n",
    "The dependency in Tree DP is relatively simple compare to other DP, since most of the relation is **Parent Depends On Children**\n",
    "\n",
    "## Usual Methodology\n",
    "1. Analyze what information does the parent need from the children\n",
    "2. Pack all information needed as the return value of recursion\n",
    "3. Use recursion to let parent get information from children"
   ]
  },
  {
   "cell_type": "markdown",
   "id": "6072d1ca-fcd1-40a6-8c14-8cd113263f26",
   "metadata": {},
   "source": [
    "---\n",
    "### Q1. Largest BST Subtree (LC.333)\n",
    "*Given the root of a binary tree, find the largest subtree, which is also a Binary Search Tree (BST), where the largest means subtree has the largest number of nodes.*\n",
    "\n",
    "*A Binary Search Tree (BST) is a tree in which all the nodes follow the below-mentioned properties:*\n",
    "\n",
    "- *The left subtree values are less than the value of their parent (root) node's value.*\n",
    "- *The right subtree values are greater than the value of their parent (root) node's value.*\n",
    "\n",
    "*Note: A subtree must include all of its descendants.*"
   ]
  },
  {
   "cell_type": "markdown",
   "id": "85ac05e2-a06e-4a3a-8bab-d6c12aaca2ea",
   "metadata": {},
   "source": [
    "**Solution:**         \n",
    "For any subtree with root node `X`, X can either be a BST or not. \n",
    "- If X is a BST, then the largest BST subtree is itself.\n",
    "- If X is not a BST, then the largest BST subtree of X is the largest BST subtree of left or right\n",
    "   \n",
    "What information from children do we need to know if X is a BST?\n",
    "- isBST(left)\n",
    "- isBST(right)\n",
    "- The max value from left child\n",
    "- The min value from right child\n",
    "- The size of the largest BST subtree on left\n",
    "- The size of the largest BST subtree on right\n",
    "\n",
    "If `isBST(left)` and `isBST(right)` and `max(left) < X.val < min(right)`, we know that X is the largest BST.      \n",
    "And if X is not a BST, we compare the size of the largest BST on left and right."
   ]
  },
  {
   "cell_type": "code",
   "execution_count": 18,
   "id": "6f6bdfe7-c34b-40f2-be4b-f8c8eb72f70c",
   "metadata": {},
   "outputs": [],
   "source": [
    "class Solution:\n",
    "    class Info:\n",
    "        def __init__(self, isBST, maxVal, minVal, maxBSTSize):\n",
    "            self.isBST = isBST\n",
    "            self.maxVal = maxVal\n",
    "            self.minVal = minVal\n",
    "            self.maxBSTSize = maxBSTSize\n",
    "\n",
    "    def largestBSTSubtree(self, root):\n",
    "        def dfs(root):\n",
    "            if not root:\n",
    "                return self.Info(True, float('-inf'), float('inf'), 0)\n",
    "\n",
    "            leftInfo = dfs(root.left)\n",
    "            rightInfo = dfs(root.right)\n",
    "            maxVal = max(root.val, leftInfo.maxVal, rightInfo.maxVal)\n",
    "            minVal = min(root.val, leftInfo.minVal, rightInfo.minVal)\n",
    "            isBST = leftInfo.isBST and rightInfo.isBST and leftInfo.maxVal < root.val < rightInfo.minVal\n",
    "\n",
    "            if isBST:\n",
    "                maxBSTSize = leftInfo.maxBSTSize + rightInfo.maxBSTSize + 1\n",
    "            else:\n",
    "                maxBSTSize = max(leftInfo.maxBSTSize, rightInfo.maxBSTSize)\n",
    "\n",
    "            return self.Info(isBST, maxVal, minVal, maxBSTSize)\n",
    "\n",
    "        return dfs(root).maxBSTSize"
   ]
  },
  {
   "cell_type": "markdown",
   "id": "f77b0cb1-5210-4f57-9b2c-6c9e611e7803",
   "metadata": {},
   "source": [
    "---\n",
    "### Q2. Maximum Sum BST In Binary Tree (LC.1373)\n",
    "*Given a binary tree root, return the maximum sum of all keys of any sub-tree which is also a Binary Search Tree (BST).*"
   ]
  },
  {
   "cell_type": "markdown",
   "id": "6f74b30e-0bef-41db-8d4c-9256457d7cd0",
   "metadata": {},
   "source": [
    "**Solution:**   \n",
    "Very similar to Q1, but note that we need another info: the sum of all the nodes in a subtree. Because for any subtree, `maxBSTSum` might not be the actual sum of the whole subtree since there are negative value in nodes.    \n",
    "Also, in python you don't need a class. You can just return a tuple for all of the info."
   ]
  },
  {
   "cell_type": "code",
   "execution_count": 11,
   "id": "cf395a9c-a2b6-4ff1-994c-63543520e283",
   "metadata": {},
   "outputs": [],
   "source": [
    "class Solution:\n",
    "    def maxSumBST(self, root):\n",
    "        def dfs(node):\n",
    "            if not node:\n",
    "                # (isBST, maxVal, minVal, maxSum, totalSum)\n",
    "                return (True, float('-inf'), float('inf'), 0, 0)\n",
    "\n",
    "            leftIsBST, leftMax, leftMin, leftMaxSum, leftTotalSum = dfs(node.left)\n",
    "            rightIsBST, rightMax, rightMin, rightMaxSum, rightTotalSum = dfs(node.right)\n",
    "\n",
    "            isBST = leftIsBST and rightIsBST and leftMax < node.val < rightMin\n",
    "            totalSum = leftTotalSum + rightTotalSum + node.val\n",
    "            maxSum = max(leftMaxSum, rightMaxSum)\n",
    "\n",
    "            if isBST:\n",
    "                maxSum = max(maxSum, totalSum)\n",
    "\n",
    "            maxVal = max(node.val, leftMax, rightMax)\n",
    "            minVal = min(node.val, leftMin, rightMin)\n",
    "\n",
    "            return (isBST, maxVal, minVal, maxSum, totalSum)\n",
    "\n",
    "        return dfs(root)[3]"
   ]
  },
  {
   "cell_type": "markdown",
   "id": "39f6137a-ebd2-4be0-873b-13aae1427ea6",
   "metadata": {},
   "source": [
    "---\n",
    "### Q3. Diameter Of Binary Tree (LC.543)\n",
    "*Given the root of a binary tree, return the length of the diameter of the tree.*\n",
    "\n",
    "*The diameter of a binary tree is the length of the longest path between any two nodes in a tree. This path may or may not pass through the root.*\n",
    "\n",
    "*The length of a path between two nodes is represented by the number of edges between them.*"
   ]
  },
  {
   "cell_type": "markdown",
   "id": "e157288a-0170-4d15-80f3-6eda8dc764e5",
   "metadata": {},
   "source": [
    "**Solution:**     \n",
    "Again, two cases:\n",
    "- If the diameter of a subtree doesn't go through its root, then it's the max diameter of its two children\n",
    "- If the diameter of a subtree go through its root, then it is `height(left) + height(right) + 1`"
   ]
  },
  {
   "cell_type": "code",
   "execution_count": 16,
   "id": "bd58e4a4-198a-4019-a883-21a423c6926b",
   "metadata": {},
   "outputs": [],
   "source": [
    "class Solution:\n",
    "    def diameterOfBinaryTree(self, root):\n",
    "        def dfs(root):\n",
    "            if not root:\n",
    "                return (0, 0) #(Diameter, Height)\n",
    "            leftD, leftH = dfs(root.left)\n",
    "            rightD, rightH = dfs(root.right)\n",
    "            h = max(leftH, rightH) + 1\n",
    "            d = max(leftH + rightH, max(leftD, rightD))\n",
    "            return (d, h)\n",
    "        return dfs(root)[0]"
   ]
  },
  {
   "cell_type": "markdown",
   "id": "938113d5-dd2c-4064-899d-ff35d91b36dc",
   "metadata": {},
   "source": [
    "---\n",
    "### Q4. Distribute Coins In Binary Tree\n",
    "*You are given the root of a binary tree with n nodes where each node in the tree has `node.val` coins. There are `n` coins in total throughout the whole tree.*\n",
    "\n",
    "*In one move, we may choose two adjacent nodes and move one coin from one node to another. A move may be from parent to child, or from child to parent.*\n",
    "\n",
    "*Return the minimum number of moves required to make every node have exactly one coin.*"
   ]
  },
  {
   "cell_type": "markdown",
   "id": "21dce040-29a4-44a1-8d4b-3da94b9295a7",
   "metadata": {},
   "source": [
    "**Solution:**          \n",
    "Lets use an example to analyze the problem: suppose we have a subtree that has 20 nodes and 40 coins. This means that we must move 20 coins to the root, then to either the right child or the parent. Similarly, if the right child has 20 nodes and 10 coins, then we need to move 10 coins to it, needing 10 operations.     \n",
    "Therefore, for any subtree, we need `|left.numNode - left.numCoins| + |right.numNodes - right.numCoins|` operations.          \n",
    "For the same root node in our example, left has 20 extra coins and right need 10 coins, thus there will be a total of 10 coins that we need to give to the parent node.\n"
   ]
  },
  {
   "cell_type": "code",
   "execution_count": 27,
   "id": "a89b193b-a3b8-480a-9645-42153b686d04",
   "metadata": {},
   "outputs": [],
   "source": [
    "class Solution:\n",
    "\n",
    "    def distributeCoins(self, root):\n",
    "        numOperations = 0\n",
    "        \n",
    "        def dfs(root):\n",
    "            nonlocal numOperations\n",
    "            if not root:\n",
    "                return (0, 0) #(numNodes, numCoins)\n",
    "            lNodes, lCoins = dfs(root.left)\n",
    "            rNodes, rCoins = dfs(root.right)\n",
    "            numNodes = lNodes + rNodes + 1\n",
    "            numCoins = lCoins + rCoins + root.val\n",
    "            numOperations += abs(lNodes - lCoins) + abs(rNodes - rCoins)\n",
    "            return (numNodes, numCoins)\n",
    "            \n",
    "        dfs(root)\n",
    "        return numOperations"
   ]
  },
  {
   "cell_type": "markdown",
   "id": "a31da815-92d6-4433-8d8e-39ec81c7b63b",
   "metadata": {},
   "source": [
    "---\n",
    "### Q5. House Robber III (LC.337)\n",
    "*The thief has found himself a new place for his thievery again. There is only one entrance to this area, called root.*\n",
    "\n",
    "*Besides the root, each house has one and only one parent house. After a tour, the smart thief realized that all houses in this place form a binary tree. It will automatically contact the police if two directly-linked houses were broken into on the same night.*\n",
    "\n",
    "*Given the root of the binary tree, return the maximum amount of money the thief can rob without alerting the police.*"
   ]
  },
  {
   "cell_type": "markdown",
   "id": "769775ec-0376-41d6-8102-1f388f405345",
   "metadata": {},
   "source": [
    "**Solution:**\n",
    "Again, for a subtree we can either use the root or not.           \n",
    "- If we use root, then you cannot use both children        \n",
    "- If we don't use root, then we can use the children (**OR NOT!!**)\n",
    "      \n",
    "Therefore, for each root we need two information from each child.\n",
    "- The max money we can stole without robbing this node\n",
    "- The max money we can stole if we rob this node"
   ]
  },
  {
   "cell_type": "code",
   "execution_count": 9,
   "id": "b3cac5cd-1ba0-4a42-a9c4-a1e9e2402f9a",
   "metadata": {},
   "outputs": [],
   "source": [
    "class Solution:\n",
    "    def rob(self, root):\n",
    "        \n",
    "        def dfs(root):\n",
    "            if not root:\n",
    "                return (0, 0)\n",
    "            robLeft, notRobLeft = dfs(root.left)\n",
    "            robRight, notRobRight = dfs(root.right)\n",
    "            robRoot = root.val + notRobLeft + notRobRight\n",
    "            # Note that even we didn't rob root, we may not want to rob child because we might rob the grandchild\n",
    "            notRobRoot = max(robLeft, notRobLeft) + max(robRight, notRobRight)\n",
    "            return (robRoot, notRobRoot)\n",
    "            \n",
    "        return max(dfs(root))"
   ]
  },
  {
   "cell_type": "markdown",
   "id": "0b1ddff3-c1d1-44d2-8a48-1be04c52de3e",
   "metadata": {},
   "source": [
    "---\n",
    "### Q6. Binary Tree Cameras (LC.968)\n",
    "*You are given the root of a binary tree. We install cameras on the tree nodes where each camera at a node can monitor its parent, itself, and its immediate children.*\n",
    "\n",
    "*Return the minimum number of cameras needed to monitor all nodes of the tree.*"
   ]
  },
  {
   "cell_type": "markdown",
   "id": "8decc174-db0b-444b-b622-49382541aea4",
   "metadata": {},
   "source": [
    "**Solution:**    \n",
    "For a node `x`, there are essentially 3 status. The assumption here is that the node has a parent:\n",
    "1. `x` is not covered\n",
    "2. `x` is covered, but there isn't a camera on it\n",
    "3. `x` is covered, and there is a camera on it\n",
    "\n",
    "Depends on the status of children, we can decide whether we put camera on the current node or not:\n",
    "- If any child is not covered, we need to put a camera on curNode, then return 3\n",
    "- If both children is covered but current node is not, we don't put a camera and try to let the parent node take care of the current node, so return 1\n",
    "- Otherwise, it means that both children is covered and at least one children has a camera on it, so the current node is covered. Thus we return 2.\n",
    "\n",
    "Note that Null is case 2.      \n",
    "\n",
    "In the end, because we assume every node has a parent, we need to handle the root node. If dfs(root) returns 1, it means that the root node is not covered. And since root has no parent, we need to put a camera on it."
   ]
  },
  {
   "cell_type": "code",
   "execution_count": 18,
   "id": "1cc91e76-701d-480d-a29f-54355ed1d3ec",
   "metadata": {},
   "outputs": [],
   "source": [
    "class Solution:\n",
    "    def minCameraCover(self, root):\n",
    "        numCamera = 0\n",
    "    \n",
    "        def dfs(root):\n",
    "            nonlocal numCamera\n",
    "            if not root:\n",
    "                return 2  # Null is case 2\n",
    "            lStatus = dfs(root.left)\n",
    "            rStatus = dfs(root.right)\n",
    "            if lStatus == 1 or rStatus == 1:\n",
    "                numCamera += 1\n",
    "                return 3\n",
    "            elif lStatus == 2 and rStatus == 2:\n",
    "                return 1\n",
    "            else:\n",
    "                return 2\n",
    "        \n",
    "        if dfs(root) == 1:\n",
    "            numCamera += 1\n",
    "        return numCamera"
   ]
  },
  {
   "cell_type": "markdown",
   "id": "c25a31eb-b383-4074-b1b0-3fe919203f64",
   "metadata": {},
   "source": [
    "---\n",
    "### Q7. Path Sum III (LC.437)\n",
    "*Given the root of a binary tree and an integer targetSum, return the number of paths where the sum of the values along the path equals targetSum.*\n",
    "\n",
    "*The path does not need to start or end at the root or a leaf, but it must go downwards (i.e., traveling only from parent nodes to child nodes).*"
   ]
  },
  {
   "cell_type": "markdown",
   "id": "d80ae7ef-763c-414e-8699-5890eb6e20ab",
   "metadata": {},
   "source": [
    "**Solution:**       \n",
    "Instead of letting the child return its info to the parent, this time we let parent pass their info to the child.     \n",
    "When a node is reached, we need two information: the prefix sum of the path from root to this node, and presums from root to every parent node among this path.       \n",
    "Therefore, if the current prefix sum is `x` and there exist a previous presum of `x - targetSum`, then we find a path of sum `targetSum`.\n",
    "Thus we use a hashmap to store the presums, then perform backtracking algo."
   ]
  },
  {
   "cell_type": "code",
   "execution_count": 3,
   "id": "ea9c952b-02a5-4248-ba77-c88088c011a7",
   "metadata": {},
   "outputs": [],
   "source": [
    "class Solution:\n",
    "    def pathSum(self, root):\n",
    "        preSum = defaultdict(int)\n",
    "        preSum[0] = 1 #Empty path makes sum 0\n",
    "        cnt = 0\n",
    "\n",
    "        def dfs(root, curSum):\n",
    "            nonlocal preSum, cnt\n",
    "            if not root: \n",
    "                return\n",
    "            curSum += root.val\n",
    "            cnt += preSum[curSum - targetSum]\n",
    "            preSum[curSum] += 1\n",
    "\n",
    "            dfs(root.left, curSum)\n",
    "            dfs(root.right, curSum)\n",
    "\n",
    "            # Backtrack\n",
    "            preSum[curSum] -= 1\n",
    "\n",
    "        dfs(root, 0)\n",
    "        return cnt"
   ]
  },
  {
   "cell_type": "markdown",
   "id": "002bbccc-cce7-42a6-9c5f-7379fb6a0a22",
   "metadata": {},
   "source": [
    "---\n",
    "### Q8. Minimum Cost To Report To The Capital\n",
    "*There is a tree (i.e., a connected, undirected graph with no cycles) structure country network consisting of n cities numbered from 0 to n - 1 and exactly n - 1 roads. The capital city is city 0. You are given a 2D integer array roads where roads[i] = [ai, bi] denotes that there exists a bidirectional road connecting cities ai and bi.*\n",
    "\n",
    "*There is a meeting for the representatives of each city. The meeting is in the capital city.*\n",
    "\n",
    "*There is a car in each city. You are given an integer seats that indicates the number of seats in each car.*\n",
    "\n",
    "*A representative can use the car in their city to travel or change the car and ride with another representative. The cost of traveling between two cities is one liter of fuel.*\n",
    "\n",
    "*Return the minimum number of liters of fuel to reach the capital city.*"
   ]
  },
  {
   "cell_type": "markdown",
   "id": "2f63af2f-0a0d-406d-82d7-4369b13f84ea",
   "metadata": {},
   "source": [
    "**Solution:**\n",
    "Similar to Q1-6, pass here"
   ]
  },
  {
   "cell_type": "code",
   "execution_count": 11,
   "id": "b3956b37-d5d0-47a8-8298-16c6d06c16f6",
   "metadata": {},
   "outputs": [],
   "source": [
    "class Solution:\n",
    "    def minimumFuelCost(self, roads, seats):\n",
    "        graph = defaultdict(list)\n",
    "        for src, des in roads:\n",
    "            graph[src].append(des)\n",
    "            graph[des].append(src)\n",
    "        \n",
    "        def dfs(node, parent):\n",
    "            num_ppl, fuel_cost = 1, 0  # 1 person (the representative at `node`)\n",
    "            for neighbor in graph[node]:\n",
    "                if neighbor == parent:\n",
    "                    continue  # Avoid going back to the parent node\n",
    "                neighbor_ppl, neighbor_cost = dfs(neighbor, node)\n",
    "                num_ppl += neighbor_ppl\n",
    "                fuel_cost += neighbor_cost + (neighbor_ppl + seats - 1) // seats  # Calculate trips required\n",
    "            return num_ppl, fuel_cost\n",
    "\n",
    "        # Start DFS from the capital city (node 0) with no parent (-1)\n",
    "        return dfs(0, -1)[1]\n"
   ]
  },
  {
   "cell_type": "markdown",
   "id": "30e4e3a8-7716-43d4-85db-d4617cdd9e76",
   "metadata": {},
   "source": [
    "---\n",
    "### Q9. Longest Path With Different Adjacent Characters (LC.2246)\n",
    "*You are given a tree (i.e. a connected, undirected graph that has no cycles) rooted at node 0 consisting of n nodes numbered from 0 to n - 1. The tree is represented by a 0-indexed array parent of size n, where parent[i] is the parent of node i. Since node 0 is the root, parent[0] == -1.*\n",
    "\n",
    "*You are also given a string s of length n, where s[i] is the character assigned to node i.*\n",
    "\n",
    "*Return the length of the longest path in the tree such that no pair of adjacent nodes on the path have the same character assigned to them.*"
   ]
  },
  {
   "cell_type": "code",
   "execution_count": 16,
   "id": "e0301064-a0a3-4958-a3d0-56b3037b1de9",
   "metadata": {},
   "outputs": [],
   "source": [
    "class Solution:\n",
    "    def longestPath(self, parent):\n",
    "        from collections import defaultdict\n",
    "\n",
    "        # Build the tree as an adjacency list\n",
    "        children = defaultdict(list)\n",
    "        n = len(parent)\n",
    "        for i in range(1, n):  # Skip root since parent[0] == -1\n",
    "            children[parent[i]].append(i)\n",
    "\n",
    "        self.max_length = 0  # Track the longest path globally\n",
    "\n",
    "        def dfs(node):\n",
    "            max1, max2 = 0, 0  # Top two longest paths from children\n",
    "            \n",
    "            for child in children[node]:\n",
    "                child_len = dfs(child)\n",
    "                # Only consider the child path if the characters are different\n",
    "                if s[node] != s[child]:\n",
    "                    if child_len > max1:\n",
    "                        max1, max2 = child_len, max1\n",
    "                    elif child_len > max2:\n",
    "                        max2 = child_len\n",
    "            \n",
    "            # Update global maximum path (including current node)\n",
    "            self.max_length = max(self.max_length, max1 + max2 + 1)\n",
    "            \n",
    "            # Return the longest single path including this node\n",
    "            return max1 + 1\n",
    "\n",
    "        dfs(0)  # Start DFS from the root node\n",
    "        return self.max_length"
   ]
  },
  {
   "cell_type": "markdown",
   "id": "96519bfd-c143-4a50-8a59-be789e381724",
   "metadata": {},
   "source": [
    "# DFN (Depth-First Number)\n",
    "DFN is essentially used to give each node an ID based on dfs traversal.    \n",
    "\n",
    "DFN will give us this property:\n",
    "- The id of a parent node must be smaller than id of a child\n",
    "\n",
    "Thus given the `DFN` of the root of a subtree and the `size` of the subtree, we can locate all nodes in the subtree\n",
    "- Suppose `DFN[root] == x` and `size[root] == y`, then we know that all nodes with DFN from `x` to `x + y - 1` are on this same subtree\n",
    "\n",
    "Therefore, we can use DFN to tell **whether a given node is on a given subtree**"
   ]
  },
  {
   "cell_type": "code",
   "execution_count": null,
   "id": "d534c140-2ee5-4c8f-a121-085a4374da2f",
   "metadata": {},
   "outputs": [],
   "source": [
    "class DFN:\n",
    "    def __init__(self, id, dfn):\n",
    "        self.id = 0\n",
    "        self.dfn = []\n",
    "\n",
    "    def dfs(node):\n",
    "        dfn[node] = id\n",
    "        id += 1\n",
    "        for child in graph[node]:\n",
    "            dfs(node)"
   ]
  },
  {
   "cell_type": "markdown",
   "id": "9290a71a-a473-4f2f-970a-dc0f1d2229bd",
   "metadata": {},
   "source": [
    "---\n",
    "### Q9. Height Of Binary Tree After Subtree Removal Queries (LC.2458) - DFN Template Problem\n",
    "*You are given the root of a binary tree with n nodes. Each node is assigned a unique value from 1 to n. You are also given an array queries of size m.*\n",
    "\n",
    "*You have to perform m independent queries on the tree where in the ith query you do the following:*\n",
    "\n",
    "- *Remove the subtree rooted at the node with the value queries[i] from the tree. It is guaranteed that queries[i] will not be equal to the value of the root.* \n",
    "- *Return an array answer of size m where answer[i] is the height of the tree after performing the ith query.*\n",
    "\n",
    "*Note:*\n",
    "- *The queries are independent, so the tree returns to its initial state after each query.*\n",
    "- *The height of a tree is the number of edges in the longest simple path from the root to some node in the tree.*"
   ]
  },
  {
   "cell_type": "markdown",
   "id": "6d80ba6c-cd23-4b68-9ff4-eaaa9f6c2382",
   "metadata": {},
   "source": [
    "**Solution:**      \n",
    "By running a DFS on the tree, we can construct 3 arrays:\n",
    "- `DFN[val]`: the index is node.val, and the value is the corresponding DFN for the node\n",
    "- `size[dfn]`: the index is the DFN of the node, the value is the size of subtree\n",
    "- `depth[dfn]`: the index is the DFN of the node, the value is the depth of the node\n",
    "\n",
    "The height of the whole tree is then `max(depth)`.\n",
    "\n",
    "Now suppose we have a query: remove(6).\n",
    "- We first use `DFN[6]` to find the dfn of the node, lets suppose it's 4\n",
    "- Then we use `size[4]` to find the size of the subtree, suppose its 3\n",
    "- Now knowing the size of the subtree, we know that node with dfn 4, 5, 6 are all removed from the whole tree\n",
    "- Then we just need to find max(depth) without `depth[4]`, `depth[5]`, and `depth[6]`\n",
    "\n",
    "To find the max(depth) without a continuous range, we can use two auxiliary array, maxL and maxR:\n",
    "- `maxL[i]`: the maximum depth from dfn `0` to dfn `i`\n",
    "- `maxR[i]`: the maximum depth from dfn `i` to dfn `n - 1`\n",
    "\n",
    "Now, to find max(depth) without dfn 4, 5, and 6, we just need to find `max(maxL[4], maxR[6])`\n",
    "\n",
    "**Time Complexity: O(n + m)**"
   ]
  },
  {
   "cell_type": "code",
   "execution_count": 29,
   "id": "9b779eee-0f2e-42d6-a02c-33abbb9aba1c",
   "metadata": {},
   "outputs": [],
   "source": [
    "class Solution:\n",
    "    def treeQueries(self, root, queries):\n",
    "        MAXN = 100002\n",
    "        cnt = 0                 # dfn start with 1\n",
    "        dfn = [0] * MAXN\n",
    "        size = [0] * MAXN\n",
    "        depth = [0] * MAXN\n",
    "        maxL = [0] * MAXN       # max depth in [1, i]\n",
    "        maxR = [0] * MAXN       # max depth in [i, cnt]\n",
    "\n",
    "        def dfs(node, k):\n",
    "            nonlocal cnt\n",
    "            cnt += 1\n",
    "            i = cnt\n",
    "            dfn[node.val] = i\n",
    "            depth[i] = k\n",
    "            size[i] = 1  # Include the node itself\n",
    "            if node.left:\n",
    "                dfs(node.left, k + 1)\n",
    "                size[i] += size[dfn[node.left.val]]\n",
    "            if node.right:\n",
    "                dfs(node.right, k + 1)\n",
    "                size[i] += size[dfn[node.right.val]]\n",
    "\n",
    "        dfs(root, 0)\n",
    "\n",
    "        for i in range(1, cnt + 1):\n",
    "            maxL[i] = max(maxL[i - 1], depth[i])\n",
    "        for i in range(cnt, 0, -1):\n",
    "            maxR[i] = max(maxR[i + 1], depth[i])\n",
    "\n",
    "        ans = []\n",
    "        for q in queries:\n",
    "            leftMax = maxL[dfn[q] - 1]\n",
    "            rightMax = maxR[dfn[q] + size[dfn[q]]]\n",
    "            ans.append(max(leftMax, rightMax))\n",
    "        \n",
    "        return ans"
   ]
  },
  {
   "cell_type": "markdown",
   "id": "8e7aa63e-8cce-4252-8c43-cfec4bc9ab0a",
   "metadata": {},
   "source": [
    "---\n",
    "### Q10. Minimum Score After Removals On A Tree (LC.2322)\n",
    "*There is an undirected connected tree with n nodes labeled from 0 to n - 1 and n - 1 edges.*\n",
    "\n",
    "*You are given a 0-indexed integer array nums of length n where nums[i] represents the value of the ith node. You are also given a 2D integer array edges of length n - 1 where edges[i] = [ai, bi] indicates that there is an edge between nodes ai and bi in the tree.*\n",
    "\n",
    "*Remove two distinct edges of the tree to form three connected components. For a pair of removed edges, the following steps are defined:*\n",
    "- *Get the XOR of all the values of the nodes for each of the three components respectively.*\n",
    "- *The difference between the largest XOR value and the smallest XOR value is the score of the pair.*\n",
    "\n",
    "*For example, say the three components have the node values: [4,5,7], [1,9], and [3,3,3]. The three XOR values are 4 ^ 5 ^ 7 = 6, 1 ^ 9 = 8, and 3 ^ 3 ^ 3 = 3. The largest XOR value is 8 and the smallest XOR value is 3. The score is then 8 - 3 = 5.*        \n",
    "\n",
    "*Return the minimum score of any possible pair of edge removals on the given tree.*"
   ]
  },
  {
   "cell_type": "markdown",
   "id": "8d828edb-4ece-43cd-a34c-11d451e851c4",
   "metadata": {},
   "source": [
    "**Solution:**\n",
    "From the data size constraint (numEdges <= 1000) we know that a O(n^2) method can work. Therefore we can try any combination of two edges to delete.    \n",
    "The key question is how can we quickly calculate the XOR of the 3 components.       \n",
    "There are 3 cases, check video!"
   ]
  },
  {
   "cell_type": "code",
   "execution_count": null,
   "id": "cd40dfe4-2652-48d8-a699-84d61c156a88",
   "metadata": {},
   "outputs": [],
   "source": []
  }
 ],
 "metadata": {
  "kernelspec": {
   "display_name": "Python 3 (ipykernel)",
   "language": "python",
   "name": "python3"
  },
  "language_info": {
   "codemirror_mode": {
    "name": "ipython",
    "version": 3
   },
   "file_extension": ".py",
   "mimetype": "text/x-python",
   "name": "python",
   "nbconvert_exporter": "python",
   "pygments_lexer": "ipython3",
   "version": "3.12.4"
  }
 },
 "nbformat": 4,
 "nbformat_minor": 5
}
