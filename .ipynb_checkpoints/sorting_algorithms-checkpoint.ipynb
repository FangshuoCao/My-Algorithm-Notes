{
 "cells": [
  {
   "cell_type": "markdown",
   "id": "6c060d61",
   "metadata": {},
   "source": [
    "\n",
    "# Sorting Algorithms in Python\n",
    "\n",
    "## Three O(n^2) Algorithms\n",
    "\n",
    "### 1. Selection Sort\n",
    "- In range `i ~ n-1`, find the minimum and put it at position `i`, then continue in range `i+1 ~ n-1`.\n",
    "\n",
    "- Code Implementation for Selection Sort:\n",
    "    "
   ]
  },
  {
   "cell_type": "code",
   "execution_count": null,
   "id": "78163eb7",
   "metadata": {},
   "outputs": [],
   "source": [
    "\n",
    "def selection_sort(arr):\n",
    "    if arr is None or len(arr) < 2:\n",
    "        return\n",
    "    for i in range(len(arr) - 1):\n",
    "        min_index = i\n",
    "        for j in range(i + 1, len(arr)):\n",
    "            if arr[j] < arr[min_index]:\n",
    "                min_index = j\n",
    "        arr[i], arr[min_index] = arr[min_index], arr[i]\n",
    "    "
   ]
  },
  {
   "cell_type": "markdown",
   "id": "7f0bda6a",
   "metadata": {},
   "source": [
    "\n",
    "### 2. Bubble Sort\n",
    "- In range `0 ~ i`, keep comparing adjacent elements, swapping if needed. The maximum element bubbles to the end of the array.\n",
    "    "
   ]
  },
  {
   "cell_type": "code",
   "execution_count": null,
   "id": "11ca284a",
   "metadata": {},
   "outputs": [],
   "source": [
    "\n",
    "def bubble_sort(arr):\n",
    "    if arr is None or len(arr) < 2:\n",
    "        return\n",
    "    for end in range(len(arr) - 1, 0, -1):\n",
    "        for i in range(end):\n",
    "            if arr[i] > arr[i + 1]:\n",
    "                arr[i], arr[i + 1] = arr[i + 1], arr[i]\n",
    "    "
   ]
  },
  {
   "cell_type": "markdown",
   "id": "c60adf65",
   "metadata": {},
   "source": [
    "\n",
    "### 3. Insertion Sort\n",
    "- Sort as you would a poker hand: place each new card into its correct position among the already sorted cards.\n",
    "    "
   ]
  },
  {
   "cell_type": "code",
   "execution_count": null,
   "id": "fe7c2fa7",
   "metadata": {},
   "outputs": [],
   "source": [
    "\n",
    "def insertion_sort(arr):\n",
    "    if arr is None or len(arr) < 2:\n",
    "        return\n",
    "    for i in range(1, len(arr)):\n",
    "        for j in range(i - 1, -1, -1):\n",
    "            if arr[j] > arr[j + 1]:\n",
    "                arr[j], arr[j + 1] = arr[j + 1], arr[j]\n",
    "            else:\n",
    "                break\n",
    "    "
   ]
  },
  {
   "cell_type": "markdown",
   "id": "4505df8b",
   "metadata": {},
   "source": [
    "\n",
    "## O(n * logn) Algorithms\n",
    "\n",
    "### 4. Merge Sort\n",
    "1. Sort the left half, sort the right half, then merge.\n",
    "2. The merge process involves copying smaller elements from the left or right into a helper array until all elements are exhausted.\n",
    "3. Can be implemented recursively or iteratively.\n",
    "\n",
    "- Recursive Version:\n",
    "    "
   ]
  },
  {
   "cell_type": "code",
   "execution_count": null,
   "id": "0a3db90a",
   "metadata": {},
   "outputs": [],
   "source": [
    "\n",
    "def merge_sort_recursive(arr):\n",
    "    if len(arr) < 2:\n",
    "        return arr\n",
    "    mid = len(arr) // 2\n",
    "    left = merge_sort_recursive(arr[:mid])\n",
    "    right = merge_sort_recursive(arr[mid:])\n",
    "    return merge(left, right)\n",
    "\n",
    "def merge(left, right):\n",
    "    result = []\n",
    "    i = j = 0\n",
    "    while i < len(left) and j < len(right):\n",
    "        if left[i] < right[j]:\n",
    "            result.append(left[i])\n",
    "            i += 1\n",
    "        else:\n",
    "            result.append(right[j])\n",
    "            j += 1\n",
    "    result.extend(left[i:])\n",
    "    result.extend(right[j:])\n",
    "    return result\n",
    "    "
   ]
  },
  {
   "cell_type": "markdown",
   "id": "f3193629",
   "metadata": {},
   "source": [
    "\n",
    "### 5. Quick Sort\n",
    "- Uses the \"Dutch National Flag\" partitioning problem to sort elements around a pivot.\n",
    "    "
   ]
  },
  {
   "cell_type": "code",
   "execution_count": null,
   "id": "0138f63d",
   "metadata": {},
   "outputs": [],
   "source": [
    "\n",
    "import random\n",
    "\n",
    "def quick_sort(arr):\n",
    "    if arr is None or len(arr) < 2:\n",
    "        return arr\n",
    "    quick_sort_helper(arr, 0, len(arr) - 1)\n",
    "\n",
    "def quick_sort_helper(arr, l, r):\n",
    "    if l >= r:\n",
    "        return\n",
    "    pivot = arr[l + random.randint(0, r - l)]\n",
    "    first, last = partition(arr, l, r, pivot)\n",
    "    quick_sort_helper(arr, l, first - 1)\n",
    "    quick_sort_helper(arr, last + 1, r)\n",
    "\n",
    "def partition(arr, l, r, pivot):\n",
    "    first = l\n",
    "    last = r\n",
    "    i = l\n",
    "    while i <= last:\n",
    "        if arr[i] < pivot:\n",
    "            arr[i], arr[first] = arr[first], arr[i]\n",
    "            first += 1\n",
    "            i += 1\n",
    "        elif arr[i] > pivot:\n",
    "            arr[i], arr[last] = arr[last], arr[i]\n",
    "            last -= 1\n",
    "        else:\n",
    "            i += 1\n",
    "    return first, last\n",
    "    "
   ]
  },
  {
   "cell_type": "markdown",
   "id": "c34adc0f",
   "metadata": {},
   "source": [
    "\n",
    "### 6. Heap Sort\n",
    "- Heaps are binary trees with the maximum/minimum element at the root.\n",
    "- Time Complexity: O(N*LogN), Space Complexity: O(1)\n",
    "    "
   ]
  },
  {
   "cell_type": "code",
   "execution_count": null,
   "id": "d068ab12",
   "metadata": {},
   "outputs": [],
   "source": [
    "\n",
    "def heap_sort(arr):\n",
    "    if arr is None or len(arr) < 2:\n",
    "        return\n",
    "    build_max_heap(arr)\n",
    "    for end in range(len(arr) - 1, 0, -1):\n",
    "        arr[0], arr[end] = arr[end], arr[0]\n",
    "        heapify(arr, 0, end)\n",
    "\n",
    "def build_max_heap(arr):\n",
    "    for i in range(len(arr) // 2 - 1, -1, -1):\n",
    "        heapify(arr, i, len(arr))\n",
    "\n",
    "def heapify(arr, index, heap_size):\n",
    "    largest = index\n",
    "    left = 2 * index + 1\n",
    "    right = 2 * index + 2\n",
    "    if left < heap_size and arr[left] > arr[largest]:\n",
    "        largest = left\n",
    "    if right < heap_size and arr[right] > arr[largest]:\n",
    "        largest = right\n",
    "    if largest != index:\n",
    "        arr[index], arr[largest] = arr[largest], arr[index]\n",
    "        heapify(arr, largest, heap_size)\n",
    "    "
   ]
  }
 ],
 "metadata": {},
 "nbformat": 4,
 "nbformat_minor": 5
}
