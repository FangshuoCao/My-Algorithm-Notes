{
 "cells": [
  {
   "cell_type": "markdown",
   "id": "0b7b35d4-294c-440e-bd9a-b44d5d69587c",
   "metadata": {},
   "source": [
    "---\n",
    "<h1>Bread First Search(BFS)</h1>"
   ]
  },
  {
   "cell_type": "markdown",
   "id": "e1ba9abb-ac5a-4610-b209-bdad696582d6",
   "metadata": {},
   "source": [
    "Breadth First Search (BFS) is a fundamental graph traversal algorithm. It begins with a node, then first traverses all its adjacent nodes. Once all adjacent nodes are visited, it proceeds to traverse their adjacent nodes.         \n",
    "- **Given a graph  G = (V, E)  and a source vertex \\( S \\)**:\n",
    "  - It computes the **distance from \\( S \\) to each reachable vertex**.\n",
    "  - BFS also produces a **breadth-first tree with root \\( S \\)** that contains all reachable vertices.\n",
    "- **In an unweighted graph**, BFS finds the **shortest distance from a given vertex \\( S \\)** to each vertex it can reach.\n",
    "- BFS can start from multiple vertices(check Q1)"
   ]
  },
  {
   "cell_type": "markdown",
   "id": "b4495f8f-ff2d-4381-b676-7a495cb1c2e9",
   "metadata": {},
   "source": [
    "**Notes:**\n",
    "- BFS can only be used in **unweighted graph**\n",
    "- We usually do BFS level by level, and the value of level when BFS finishes is the distance from S to the furtherst vertex it can reach\n",
    "- We need an array/table to keep track of visited nodes\n",
    "\n",
    "**Time Complexity: O(V + E)**"
   ]
  },
  {
   "cell_type": "markdown",
   "id": "059d3fbf-f708-4c21-9759-d59a8eae69a0",
   "metadata": {},
   "source": [
    "<span style=\"color: red;\">BFS is not a hard algorithm, the crucial part is identifying what are our nodes and what are our edges!</span>\n"
   ]
  },
  {
   "cell_type": "markdown",
   "id": "ff788997-dda7-4a16-840d-4a777edc0f9f",
   "metadata": {},
   "source": [
    "---\n",
    "<h3>Q1. As Far from Land As Possible (LC.1162)---BFS Template</h3>"
   ]
  },
  {
   "cell_type": "markdown",
   "id": "02ec8c6d-d802-4a41-9d5f-4c6638978921",
   "metadata": {},
   "source": [
    "*Given an n x n grid containing only values 0 and 1, where 0 represents water and 1 represents land, find a water cell such that its distance to the nearest land cell is maximized, and return the distance. If no land or water exists in the grid, return -1.*\n",
    "\n",
    "*The distance used in this problem is the Manhattan distance: the distance between two cells (x0, y0) and (x1, y1) is |x0 - x1| + |y0 - y1|.*"
   ]
  },
  {
   "cell_type": "markdown",
   "id": "2fe9a74a-c81a-4773-ab88-f8a42bab9706",
   "metadata": {},
   "source": [
    "**Solution:**                          \n",
    "Read the question carefully, we need to find \"a water cell whose distance to the nearest land cell is maximized\", then return the distance.Who is this cell? What exactly are we looking for?                 \n",
    "BFS explores all nodes at the current \"distance\" level before moving on to nodes at the next distance level. This means that if we start BFS from a set of nodes, we can discover the closest nodes first, followed by nodes that are further away:\n",
    "- By starting the BFS from all land cells simultaneously, we treat each land cell as a \"starting point\" with a distance of 0.\n",
    "- The BFS then proceeds to visit neighboring water cells level by level, effectively calculating the minimum distance from any water cell to the nearest land cell\n",
    "- The last level of nodes in the BFS will be cells farthest from any land cell.\n",
    "- And when the BFS completes, the current level is this maximum distance\n",
    "\n",
    "**Note:**\n",
    "we don't need to explicitly declare a visited table. We can simply set the cell we visited to 1(land) so that they won't be visited again, since we only need the original grid to locate the starting nodes"
   ]
  },
  {
   "cell_type": "code",
   "execution_count": 40,
   "id": "1555d538-fe5d-4c50-a004-0e4697057803",
   "metadata": {},
   "outputs": [],
   "source": [
    "class Solution(object):\n",
    "    def maxDistance(self, grid):\n",
    "        move = [-1, 0, 1, 0, -1]  # For traversing in 4 directions\n",
    "        n = len(grid)\n",
    "        q = deque()\n",
    "\n",
    "        for i in range(n):\n",
    "            for j in range(n):\n",
    "                if grid[i][j] == 1:\n",
    "                    q.append((i, j))  # Start BFS from all land cells\n",
    "\n",
    "        # If there are no land cells or no water cells, return -1\n",
    "        if len(q) == 0 or len(q) == n * n:\n",
    "            return -1\n",
    "\n",
    "        # Perform BFS\n",
    "        level = 0\n",
    "        while q:\n",
    "            level += 1\n",
    "            for _ in range(len(q)):\n",
    "                x, y = q.popleft()\n",
    "                # Explore in 4 possible directions\n",
    "                for j in range(4):\n",
    "                    nx, ny = x + move[j], y + move[j + 1]\n",
    "                    # Check if the new position is within bounds and is unvisited water\n",
    "                    if 0 <= nx < n and 0 <= ny < n and grid[nx][ny] == 0:\n",
    "                        grid[nx][ny] = 1  # Mark as visited by setting it to land\n",
    "                        q.append((nx, ny))\n",
    "\n",
    "        return level - 1"
   ]
  },
  {
   "cell_type": "markdown",
   "id": "8b069243-d5f7-411a-ab3f-6ea3d166ac69",
   "metadata": {},
   "source": [
    "---\n",
    "<h3>Q2: Sticker To Spell Words (LC.691)</h3>"
   ]
  },
  {
   "cell_type": "markdown",
   "id": "91291a02-11ec-4076-b4bc-c9ac76f6098c",
   "metadata": {},
   "source": [
    "*We are given n different types of stickers. Each sticker has a lowercase English word on it.*\n",
    "\n",
    "*You would like to spell out the given string target by cutting individual letters from your collection of stickers and rearranging them. You can use each sticker more than once if you want, and you have infinite quantities of each sticker.*\n",
    "\n",
    "*Return the minimum number of stickers that you need to spell out target. If the task is impossible, return -1.*\n",
    "\n",
    "*Note: In all test cases, all words were chosen randomly from the 1000 most common US English words, and target was chosen as a concatenation of two random words.*"
   ]
  },
  {
   "cell_type": "markdown",
   "id": "d795fca4-d286-47eb-a47d-2ba00709fed9",
   "metadata": {},
   "source": [
    "**Solution:**  \n",
    "There are multiple ways to do this (you can also use DP), but here we use BFS.  \n",
    "\n",
    "Think of this example:  \n",
    "- Target: `\"aaabbbccc\"`  \n",
    "- Stickers available: `\"abc\"` and `\"bbb\"`  \n",
    "\n",
    "We can use either sticker:  \n",
    "- If we use the first sticker, we get `\"aabbcc\"`  \n",
    "- If we use the second sticker, we get `\"bbb\"`        \n",
    "\n",
    "Isn't this like a graph?\n",
    "- **Each string is a node, and using a sticker is traversing an edge**\n",
    "- our goal is to find the node representing the empty string `\"\"`\n",
    "\n",
    "Since all the strings can be considered as nodes, we can use BFS:\n",
    "- For each level, we try all the edges (i.e., all possible stickers).\n",
    "- We continue this process to find the level at which we reach the empty string `\"\"`. This level represents the minimum number of stickers required to form the target string.\n",
    "\n",
    "Therefore, the answer is the level at which we first reach the empty string in our BFS traversal."
   ]
  },
  {
   "cell_type": "markdown",
   "id": "520664f7-96ce-4e70-bade-e0e6dc069c7a",
   "metadata": {},
   "source": [
    "**Pruning:**  \r\n",
    "If we use a simple BFS, we have to try every edge for every node. However, there will be many useless edges for a node.  \r\n",
    "For example, if our current target is `\"aabb\"`, and an edge is `\"ccc\"`, we don't need to try it because the sticker doesn't even contain the letter `'a'`.  \r\n",
    "If you want to change the target to `\"\"`, eventually you will have to take a sticker that contains the letter `'a'`, so why not take it right away?  \r\n",
    "By putting stickers into a table, we can prune those useless edges:  \r\n",
    "- Since we only have 26 letters, we prepare a table with 26 rows.  \r\n",
    "- Each row contains all the stickers that contain the corresponding letter.  \r\n",
    "- For example, the sticker `\"aabc\"` will be put into row `'a'`, row `'b'`, and row `'c'`.  \r\n",
    "- When we are at a node that starts with the letter `'a'`, we only need to try the stickers in row `'a'`.  \r\n",
    "\r\n",
    "**How do we know this is correct?**  \r\n",
    "- Because we are using BFS, and BFS explores all paths level by level, so we won't miss any solution!  \r\n",
    "- Our pruning strategy only changes the **order** in which paths are taken, leading to a faster lgorithm.  \r\n"
   ]
  },
  {
   "cell_type": "code",
   "execution_count": 64,
   "id": "2d9d9660-d074-4c95-aa25-d33ecfff914e",
   "metadata": {},
   "outputs": [],
   "source": [
    "from collections import defaultdict, deque\n",
    "\n",
    "class Solution(object):\n",
    "    def minStickers(self, stickers, target):\n",
    "        #preprocess stickers and generate table for pruning\n",
    "        stickers_map = defaultdict(list)\n",
    "        for sticker in stickers:\n",
    "            sticker = sorted(sticker)\n",
    "            for i in range(len(sticker)):\n",
    "                if i == 0 or sticker[i] != sticker[i - 1]:\n",
    "                    stickers_map[sticker[i]].append(sticker)\n",
    "\n",
    "        queue = deque([target])\n",
    "        visited = set([target])\n",
    "        level = 0\n",
    "\n",
    "        while queue:\n",
    "            level += 1\n",
    "            n = len(queue)\n",
    "            for _ in range(n):\n",
    "                cur = queue.popleft()\n",
    "                cur = \"\".join(sorted(cur)) # sort the current string for pruning\n",
    "                # select stickers based on the first letter in current string\n",
    "                for sticker in stickers_map[cur[0]]:\n",
    "                    processed_str = self.process(cur, sticker)\n",
    "                    if processed_str == \"\":\n",
    "                        return level    # If we reach the empty string, success\n",
    "                    if processed_str not in visited:\n",
    "                        visited.add(processed_str)\n",
    "                        queue.append(processed_str)\n",
    "\n",
    "        return -1  # If we exhaust the BFS without finding an empty string, fail\n",
    "\n",
    "\n",
    "    # if you find this function confusing, try it in your mind with the example target=\"abc\" and sticker=\"acd\" and you will get it\n",
    "    def process(self, target, sticker):\n",
    "        processed_str = []\n",
    "        i, j = 0, 0\n",
    "        while i < len(target):\n",
    "            if j == len(sticker):\n",
    "                processed_str.append(target[i])\n",
    "                i += 1\n",
    "            else:\n",
    "                if target[i] < sticker[j]:\n",
    "                    processed_str.append(target[i])\n",
    "                    i += 1\n",
    "                elif target[i] > sticker[j]:\n",
    "                    j += 1\n",
    "                else:\n",
    "                    i += 1\n",
    "                    j += 1\n",
    "        return \"\".join(processed_str)"
   ]
  },
  {
   "cell_type": "markdown",
   "id": "f3eafd28-5651-4a7f-8ca1-27c3d81c0af0",
   "metadata": {},
   "source": [
    "---\n",
    "<h1>01-BFS</h1>"
   ]
  },
  {
   "cell_type": "markdown",
   "id": "008b5807-d855-4ef0-80e5-1c1cdcd6b1ba",
   "metadata": {},
   "source": [
    "**0-1 BFS** is an algorithm used for finding the shortest path in a **Binary Weighted Graph** where the edge weights are restricted to either 0 or 1. It efficiently computes the shortest distance from a source vertex to all other vertices in such a graph.          \n",
    "\n",
    "Infact, 0-1 BFS is just **a special case of Dijkstra's Algorithm**          \n",
    "\n",
    "#### Algorithm:\n",
    "1. **Initialization:**\n",
    "   - Create a distance array `distance[]`, where `distance[i]` represents the shortest distance from the source vertex to vertex `i`. Initialize all distances to infinity (`∞`), except the distance to the source itself, which is set to 0.\n",
    "   - Use a deque because we need to insert node in both front and end of the queue.\n",
    "   - Insert the source vertex into the deque and set `distance[src] = 0`.\n",
    "\n",
    "2. **Procedure:**\n",
    "   - While the deque is not empty:\n",
    "     - Pop a vertex `cur` from the front of the deque.\n",
    "     - If `cur` is the target vertex, return `distance[cur]` (shortest distance to the target is found).\n",
    "     - For each outgoing edge from `cur` (leading to vertex `v` with weight `w`):\n",
    "       - If `distance[v] <= distance[cur] + w`, do nothing (no shorter path is found).\n",
    "       - If `distance[v] > distance[cur] + w`, update the distance: `distance[v] = distance[cur] + w`.\n",
    "       - If the edge weight `w` is 0, push vertex `v` to the front of the deque.\n",
    "       - If the edge weight `w` is 1, push vertex `v` to the back of the deque.\n",
    "\n",
    "#### Correctness:\n",
    "- Whenever a vertex `cur` is popped from the deque, `distance[cur]` represents the shortest distance from the source to `cur`.\n",
    "- This is guaranteed because vertices with lower distances are prioritized in the deque (using the 0-weight edges to push from the front).\n",
    "- The algorithm guarantees finding the shortest path to all reachable vertices, even if no specific target is provided.\n",
    "\n",
    "#### Why No `visited` Array is Needed:\n",
    "- In a 0-1 graph, a vertex is only pushed into the deque if a shorter path to that vertex is found.\n",
    "- Each vertex is \"fixed\" once when its shortest distance is determined. If a vertex needs to be updated (fixed) again, it will only happen once more.\n",
    "- This characteristic ensures that each vertex is processed at most twice, making a `visited` array redundant.\n",
    "\n",
    "#### Time Complexity O(V + E), because:\n",
    "- Each vertex can be pushed into and popped from the deque at most twice (once for updating and potentially a second time if a shorter path is found).\n",
    "- The algorithm processes each edge once\n",
    "\n",
    "#### Key Insight:\n",
    "- The efficiency of 0-1 BFS comes from pushing vertices to the front of the deque for 0-weight edges, ensuring that the shortest paths are quickly propagated through the graph.\n"
   ]
  },
  {
   "cell_type": "markdown",
   "id": "623299d4-c501-4cce-a2d2-4a93c53a58ba",
   "metadata": {},
   "source": [
    "---\n",
    "<h3>Q1: Minimum Obstacle Removal (LC.2290) --- 01-BFS Template</h3>"
   ]
  },
  {
   "cell_type": "markdown",
   "id": "4be0e875-4a1c-4c73-88cd-164f1672bf69",
   "metadata": {},
   "source": [
    "*You are given a 0-indexed 2D integer array grid of size m x n. Each cell has one of two values:*      \n",
    "\n",
    "*0 represents an empty cell,1 represents an obstacle that may be removed.*\n",
    "\n",
    "*You can move up, down, left, or right from and to an empty cell.*\n",
    "\n",
    "*Return the minimum number of obstacles to remove so you can move from the upper left corner (0, 0) to the lower right corner (m - 1, n - 1).*"
   ]
  },
  {
   "cell_type": "code",
   "execution_count": 4,
   "id": "4d992dd1-be79-467c-8900-493487ec9483",
   "metadata": {},
   "outputs": [],
   "source": [
    "from collections import deque\n",
    "\n",
    "class Solution(object):\n",
    "    def minimumObstacles(self, grid):\n",
    "        move = [-1, 0, 1, 0, -1]\n",
    "\n",
    "        q = deque([[0, 0]])     # Make sure it is not deque([0, 0])\n",
    "        m = len(grid)\n",
    "        n = len(grid[0])\n",
    "\n",
    "        distance = [[float('inf')] * n for _ in range(m)]\n",
    "        distance[0][0] = 0\n",
    "        visited = [[False] * n for _ in range(m)]\n",
    "        visited[0][0] = True\n",
    "\n",
    "        # Perform 0-1 BFS\n",
    "        while q:\n",
    "            x, y = q.popleft()\n",
    "            for i in range(4):\n",
    "                nx = x + move[i]\n",
    "                ny = y + move[i + 1]\n",
    "                if 0 <= nx < m and 0 <= ny < n and not visited[nx][ny]:\n",
    "                    new_distance = distance[x][y] + grid[nx][ny]\n",
    "                    if new_distance < distance[nx][ny]:\n",
    "                        distance[nx][ny] = new_distance\n",
    "                        # Push to front for weight 0, back for weight 1\n",
    "                        if grid[nx][ny] == 0:\n",
    "                            q.appendleft([nx, ny])\n",
    "                        else:\n",
    "                            q.append([nx, ny])\n",
    "                    visited[nx][ny] = True\n",
    "\n",
    "        return distance[m - 1][n - 1]"
   ]
  },
  {
   "cell_type": "markdown",
   "id": "22e040ea-c09a-4b15-b7ab-c3620f233800",
   "metadata": {},
   "source": [
    "---\n",
    "<h3>Q2: Minimum Cost to Make at Least One Valid Path in a Grid (LC.1368)</h3>"
   ]
  },
  {
   "cell_type": "markdown",
   "id": "3da28a06-f174-4e8e-8a30-e47dca39d76d",
   "metadata": {},
   "source": [
    "*Given an `m x n` grid. Each cell of the grid has a sign pointing to the next cell you should visit if you are currently in this cell. The sign of `grid[i][j]` can be:*\n",
    "\n",
    "- *`1` which means go to the cell to the **right**. (i.e., go from `grid[i][j]` to `grid[i][j + 1]`)*\n",
    "- *`2` which means go to the cell to the **left**. (i.e., go from `grid[i][j]` to `grid[i][j - 1]`)*\n",
    "- *`3` which means go to the **lower** cell. (i.e., go from `grid[i][j]` to `grid[i + 1][j]`)*\n",
    "- *`4` which means go to the **upper** cell. (i.e., go from `grid[i][j]` to `grid[i - 1][j]`)*\n",
    "\n",
    "*Notice that there could be some signs on the cells of the grid that point **outside the grid**.*\n",
    "\n",
    "*You will initially start at the upper-left cell `(0, 0)`. A **valid path** in the grid is a path that starts from the upper-left cell `(0, 0)` and ends at the bottom-right cell `(m - 1, n - 1)` following the signs on the grid. The valid path does not have to be the shortest.*\n",
    "\n",
    "*You can **modify the sign** on a cell with `cost = 1`. You can modify the sign on a cell **one time only**.*\n",
    "\n",
    "*Return the **minimum cost** to make the grid have at least one valid path.*\n"
   ]
  },
  {
   "cell_type": "markdown",
   "id": "3b62831c-367e-41c9-a13e-5be40e315c45",
   "metadata": {},
   "source": [
    "---\n",
    "<h1>Dijkstra's Algorithm</h1>"
   ]
  },
  {
   "cell_type": "markdown",
   "id": "a540fe39-abbd-4b46-b898-7394c012f19d",
   "metadata": {},
   "source": [
    "Dijsktra's Algorithm is used to find the shortest path from a **source vertex** to **all other vertices** in a given weighted graph\n",
    "\n",
    "Basically Dijkstra is just **BFS + Cost Function**    \n",
    "\n",
    "**Cost Function g(n)** = path cost from source vertex to node n\n",
    "\n",
    "**Limitation:**\n",
    "- The graph must not have any negative edges.\n",
    "- Only a single source                     \n",
    "\n",
    "**Time Complexity**: O(V\\* logV), where V is the number of edges\n",
    "\n",
    "**Procedure:**\n",
    "\n",
    "1. `distance[i]` represents the shortest distance from the source node to node `i`, and `visited[i]` indicates whether node `i` has been popped from the priority queue.\n",
    "\n",
    "2. Prepare a priority queue(Heap). The priority queue stores records in the form `(x, distance from the source)`, and the priority is determined based on the distance.\n",
    "\n",
    "3. Set `distance[source] = 0`, and push `(source, 0)` into the priority queue.\n",
    "\n",
    "4. While the priority queue is not empty, repeat the following steps:\n",
    "   - Pop `(u, distance[u])` from the priority queue.\n",
    "   - If `visited[u]` is `true`, skip\n",
    "   - If `visited[u]` is `false`, set `visited[u] = true`, indicating node `u` has been processed.\n",
    "    - Then, consider each edge of node `u`. Suppose an edge leads to node `v` with weight `w`:\n",
    "       - If `visited[v]` is `false` and `distance[u] + w < distance[v]`:\n",
    "         - Update `distance[v]`\n",
    "         - Push `(v, distance[v])` into the priority queue."
   ]
  },
  {
   "cell_type": "markdown",
   "id": "d7a8db9b-0563-4e87-a80f-c534b13823c1",
   "metadata": {},
   "source": [
    "---\n",
    "<h3>Q1: Network Delay Time(LC.743)---Dijsktra Temmplate1(Given Edges)</h3>"
   ]
  },
  {
   "cell_type": "markdown",
   "id": "1c743ae7-d77e-4312-8ff1-0b8011994b02",
   "metadata": {},
   "source": [
    "*You are given a network of n nodes, labeled from 1 to n. You are also given times, a list of travel times as directed edges times[i] = (ui, vi, wi), where ui is the source node, vi is the target node, and wi is the time it takes for a signal to travel from source to target.*          \n",
    "\n",
    "*We will send a signal from a given node k. Return the minimum time it takes for all the n nodes to receive the signal. If it is impossible for all the n nodes to receive the signal, return -1.*"
   ]
  },
  {
   "cell_type": "code",
   "execution_count": 120,
   "id": "f979c61d-cc3d-4ed1-a3b7-04be5efc0a7b",
   "metadata": {},
   "outputs": [],
   "source": [
    "import heapq\n",
    "from collections import defaultdict\n",
    "\n",
    "class Solution(object):\n",
    "    def networkDelayTime(self, times, n, k):\n",
    "        distances = [float('inf')] * (n + 1) #index start at 1\n",
    "        distances[k] = 0\n",
    "        visited = [False] * (n + 1)\n",
    "\n",
    "        graph = defaultdict(list)\n",
    "        for u, v, w in times:\n",
    "            graph[u].append((v, w))\n",
    "\n",
    "        heap = []\n",
    "        heapq.heappush(heap, (0, k))    # (distance, node) since python heap will sort based on first element\n",
    "\n",
    "        # Dijkstra's algorithm\n",
    "        while heap:\n",
    "            d, u = heapq.heappop(heap)  # d: distance, u: current node\n",
    "            if visited[u]:\n",
    "                continue\n",
    "            # u not popped(visited)\n",
    "            visited[u] = True\n",
    "            # Relax edges\n",
    "            for v, w in graph[u]:       # v: next node, w: distance between u and v (weight)\n",
    "                nd = d + w              # nd: new distance\n",
    "                if nd < distances[v]:\n",
    "                    distances[v] = nd\n",
    "                    heapq.heappush(heap, (nd, v))\n",
    "\n",
    "        max_distance = max(distances[1:])\n",
    "\n",
    "        # According to question, if there's a node that is unreachable, return -1\n",
    "        return max_distance if max_distance != float('inf') else -1"
   ]
  },
  {
   "cell_type": "markdown",
   "id": "bd8047f5-eddc-498f-91b7-7167c63607cb",
   "metadata": {},
   "source": [
    "---\n",
    "<h3>Q2: Path With Minimum Effort(LC.1631)---Dijsktra Template 2(Given Grid)</h3>"
   ]
  },
  {
   "cell_type": "markdown",
   "id": "216d146c-6c54-4be3-8b09-ec6a1dcb3417",
   "metadata": {},
   "source": [
    "*You are a hiker preparing for an upcoming hike. You are given heights, a 2D array of size rows x columns, where heights[row][col] represents the height of cell (row, col). You are situated in the top-left cell, (0, 0), and you hope to travel to the bottom-right cell, (rows-1, columns-1) (i.e., 0-indexed). You can move up, down, left, or right, and you wish to find a route that requires the minimum effort.*           \n",
    "\n",
    "*A route's effort is the maximum absolute difference in heights between two consecutive cells of the route.*             \n",
    "\n",
    "*Return the minimum effort required to travel from the top-left cell to the bottom-right cell.*"
   ]
  },
  {
   "cell_type": "code",
   "execution_count": 34,
   "id": "8fc73400-bdac-470e-8fec-0278be34bdaa",
   "metadata": {},
   "outputs": [],
   "source": [
    "class Solution(object):\n",
    "    def minimumEffortPath(self, heights):\n",
    "        \"\"\"\n",
    "        :type heights: List[List[int]]\n",
    "        :rtype: int\n",
    "        \"\"\"\n",
    "        move = [-1, 0, 1, 0, -1]\n",
    "\n",
    "        n = len(heights)\n",
    "        m = len(heights[0])\n",
    "\n",
    "        efforts = [[float('inf')] * m for _ in range(n)]\n",
    "        efforts[0][0] = 0\n",
    "        visited = [[False] * m for _ in range(n)]\n",
    "        \n",
    "        heap = []\n",
    "        heapq.heappush(heap, (0, 0, 0))\n",
    "\n",
    "        while heap:\n",
    "            d, x, y = heapq.heappop(heap)\n",
    "            if visited[x][y]:\n",
    "                continue\n",
    "            visited[x][y] = True\n",
    "            for i in range(4):\n",
    "                nx = x + move[i]\n",
    "                ny = y + move[i + 1]\n",
    "                if 0 <= nx < n and 0 <= ny < m and not visited[nx][ny]:\n",
    "                    w = abs(heights[nx][ny] - heights[x][y])\n",
    "                    # Here we update distance like this because the problem is asking for the max distance(effort) along a route, not the total distance\n",
    "                    new_effort = max(w, d)\n",
    "                    if new_effort < efforts[nx][ny]:\n",
    "                        efforts[nx][ny] = new_effort\n",
    "                        heapq.heappush(heap, (new_effort, nx, ny))\n",
    "        \n",
    "        return distances[n - 1][m - 1]"
   ]
  },
  {
   "cell_type": "markdown",
   "id": "c8b33522-3013-4fb6-b1f0-00c1cc5d1aba",
   "metadata": {},
   "source": [
    "---\n",
    "<h3>Q3: Swimming In Rising Water (LC.778)</h3>"
   ]
  },
  {
   "cell_type": "markdown",
   "id": "229d1e2b-9bdd-4792-9a6b-5c3360606afe",
   "metadata": {},
   "source": [
    "*You are given an n x n integer matrix grid where each value grid[i][j] represents the elevation at that point (i, j).*       \n",
    "\n",
    "*The rain starts to fall. At time t, the depth of the water everywhere is t. You can swim from a square to another 4-directionally adjacent square if and only if the elevation of both squares individually are at most t. You can swim infinite distances in zero time. Of course, you must stay within the boundaries of the grid during your swim.*         \n",
    "\n",
    "*Return the least time until you can reach the bottom right square (n - 1, n - 1) if you start at the top left square (0, 0).*"
   ]
  },
  {
   "cell_type": "markdown",
   "id": "e5f47f8b-dfe6-4bc7-a598-c146b0ba29df",
   "metadata": {},
   "source": [
    "---\n",
    "<h1>Shortest Path Problems in Layered Graph(Graph With States)</h1>"
   ]
  },
  {
   "cell_type": "markdown",
   "id": "c7080212-8489-43c7-a7a2-f7701fa224e4",
   "metadata": {},
   "source": [
    "<h3>Q1: Shortest Path To Get All Keys (LC.864)</h3>"
   ]
  },
  {
   "cell_type": "markdown",
   "id": "204dfba0-25cf-49b4-b35e-cc76f90a8cee",
   "metadata": {},
   "source": [
    "*You are given an m x n grid where:*\n",
    "\n",
    "- *`'.'` is an empty cell.*\n",
    "- *`'#'` is a wall.*\n",
    "- *`'@'` is the starting point.*\n",
    "- *Lowercase letters represent keys.*\n",
    "- *Uppercase letters represent locks.*\n",
    "\n",
    "*You start at the starting point and one move consists of walking one space in one of the four cardinal directions. You cannot walk outside the grid, or walk into a wall.*\n",
    "\n",
    "*If you walk over a key, you can pick it up, and you cannot walk over a lock unless you have its corresponding key.*\n",
    "\n",
    "*For some `1 <= k <= 6`, there is exactly one lowercase and one uppercase letter of the first k letters of the English alphabet in the grid. This means that there is exactly one key for each lock, and one lock for each key; and also that the letters used to represent the keys and locks were chosen in the same order as the English alphabet.*\n",
    "\n",
    "*Return the lowest number of moves to acquire all keys. If it is impossible, return -1.*"
   ]
  },
  {
   "cell_type": "markdown",
   "id": "135a622e-797c-4738-a322-386be58a98c5",
   "metadata": {},
   "source": [
    "---\n",
    "<h1>A* Algorithm</h1>"
   ]
  },
  {
   "attachments": {},
   "cell_type": "markdown",
   "id": "a882921a-4193-443b-b228-595064ed04e7",
   "metadata": {},
   "source": [
    "A* is an **Informed Search** algorithm aiming to find the shortest path from a **source vertex** to a **destination vertex**    \n",
    "\n",
    "Thus, the priority function used in A* can be expressed as:\n",
    "- **Priority function f(n) = g(n) + h(n)**, where\n",
    "- **Cost function g(n)** = The actual cost from the source node to the current node.\n",
    "- **Heuristic Function h(n)** = Estimated cost of the cheapest path from node n to destination vertex\n",
    "\n",
    "So basically A* is just **Dijkstra + Heuristic Function**\n",
    "\n",
    "**Procedure**:\n",
    "Almost the same as Dijskra, the only difference is that instead of putting `g(n)` into the heap, we put `f(n)` in to the heap for A*\n",
    "\r",
    "**Time Complexity**: O(V* logV), where V is the number of edges\n"
   ]
  },
  {
   "cell_type": "markdown",
   "id": "7dd2528d-897a-4b9c-b64c-b38782e472af",
   "metadata": {},
   "source": [
    "## Common Heuristic Functions\n",
    "\n",
    "### Manhattan Distance:\n",
    "h(n) = |Xj - Xi| + |Yj - Yi|            \n",
    "This is commonly used when movement is restricted to four directions (left, right, up, down) on a grid.\n",
    "\n",
    "### Diagonal Distance:\n",
    "h(n) = max(|Xj - Xi|, |Yj - Yi|)             \n",
    "This heuristic is used when diagonal movement (45-degree angles) is allowed.\n",
    "\n",
    "### Euclidean Distance:\n",
    "h(n) = sqrt{(Xj - Xi)^2 + (Yj - Yi)^2}                \n",
    "This is appropriate when movement is unrestricted, allowing for any angle.\n"
   ]
  },
  {
   "cell_type": "code",
   "execution_count": 40,
   "id": "92bd676b-afca-4140-b279-52dec53adb42",
   "metadata": {},
   "outputs": [],
   "source": [
    "move = [-1, 0, 1, 0, -1]\n",
    "\n",
    "def min_distance_astar(grid, startX, startY, targetX, targetY):\n",
    "    if grid[startX][startY] == 0 or grid[targetX][targetY] == 0:\n",
    "        return -1\n",
    "    \n",
    "    n = len(grid)\n",
    "    m = len(grid[0])\n",
    "    distance = [[float('inf')] * m for _ in range(n)]\n",
    "    distance[startX][startY] = 1\n",
    "    visited = [[False] * m for _ in range(n)]\n",
    "    heap = []\n",
    "    \n",
    "    # Push (f(n), x, y) into heap, using manhattan distance here\n",
    "    heapq.heappush(heap, (1 + manhattan_distance(startX, startY, targetX, targetY), startX, startY))\n",
    "    \n",
    "    while heap:\n",
    "        cur_f, x, y = heapq.heappop(heap)\n",
    "        \n",
    "        if visited[x][y]:\n",
    "            continue\n",
    "        visited[x][y] = True\n",
    "        \n",
    "        if x == targetX and y == targetY:\n",
    "            return distance[x][y]\n",
    "        \n",
    "        for i in range(4):\n",
    "            nx = x + move[i]\n",
    "            ny = y + move[i + 1]\n",
    "            \n",
    "            if 0 <= nx < n and 0 <= ny < m and grid[nx][ny] == 1 and not visited[nx][ny]:\n",
    "                if distance[x][y] + 1 < distance[nx][ny]:\n",
    "                    distance[nx][ny] = distance[x][y] + 1\n",
    "                    f_n = distance[nx][ny] + manhattan_distance(nx, ny, targetX, targetY)\n",
    "                    heapq.heappush(heap, (f_n, nx, ny))\n",
    "    \n",
    "    return -1\n",
    "\n",
    "def manhattan_distance(x, y, targetX, targetY):\n",
    "    return abs(targetX - x) + abs(targetY - y)\n",
    "\n",
    "def diagonal_distance(x, y, targetX, targetY):\n",
    "    return max(abs(targetX - x), abs(targetY - y))\n",
    "\n",
    "def euclidean_distance(x, y, targetX, targetY):\n",
    "    return math.sqrt((targetX - x) ** 2 + (targetY - y) ** 2)"
   ]
  },
  {
   "cell_type": "markdown",
   "id": "9239f944-b259-497d-98bb-b1fdd781f18b",
   "metadata": {},
   "source": [
    "---\n",
    "<h1>Floyd Warshall Algorithm</h1>"
   ]
  },
  {
   "cell_type": "markdown",
   "id": "f2b2a7c5-deb8-433d-8474-4c3b1e5e23b3",
   "metadata": {},
   "source": [
    "Floyd Warshal Algo is used to find the shortest paths between **all pairs of nodes** in a ANY weighted graph.            \n",
    "\n",
    "- It can be used in  handle **directer or undirected** graphs, with both **positive and negative edge weights**, the only constraint is that there must not be a negative weight cycle(or the notion of \"shortest path\" doesn't apply)\n",
    "\n",
    "**Time Comlexity**: O(N^3), so we should only consider using it when the number of vertices is small\n",
    "\n",
    "**Aux Space Complexity**: O(N^2)\n",
    "\n",
    "**Basic Idea**:\n",
    "- for all pairs of nodes `SRC` and `DES`, does there exist a intermediate node `MED` that make their distance smaller?\n",
    "- using only **enumeration**"
   ]
  },
  {
   "cell_type": "code",
   "execution_count": 62,
   "id": "c20a66ba-71b7-416b-812c-d1838177132a",
   "metadata": {},
   "outputs": [],
   "source": [
    "def floyd(n):\n",
    "    distance = [[float('inf')] * n for _ in range(n)]\n",
    "    for i in range(n):\n",
    "        for j in range(n):\n",
    "            distance[i][j] = float('inf')\n",
    "            \n",
    "    # O(N^3) procedure\n",
    "    # Enumerate each possible bridge\n",
    "    for bridge in range(n):\n",
    "        for i in range(n):\n",
    "            for j in range(n):\n",
    "                # If there's a path i -> ...bridge... -> j\n",
    "                # Check if distance[i][j] can be shortened\n",
    "                if distance[i][bridge] != float('inf') and distance[bridge][j] != float('inf'):\n",
    "                    distance[i][j] = min(distance[i][j], distance[i][bridge] + distance[bridge][j])\n"
   ]
  },
  {
   "cell_type": "markdown",
   "id": "745b12f9-00a7-46e8-b4d3-ec1e1b06ed37",
   "metadata": {},
   "source": [
    "---\n",
    "<h1>Bellman Ford Algorithm and SPFA</h1>"
   ]
  },
  {
   "cell_type": "markdown",
   "id": "07deb4a7-8034-4758-bc59-ec04b79d41f5",
   "metadata": {},
   "source": [
    "<p>I'll do it later</p>"
   ]
  },
  {
   "cell_type": "code",
   "execution_count": null,
   "id": "56a94570-0617-483e-a903-48260cc8a4c9",
   "metadata": {},
   "outputs": [],
   "source": []
  }
 ],
 "metadata": {
  "kernelspec": {
   "display_name": "Python 3 (ipykernel)",
   "language": "python",
   "name": "python3"
  },
  "language_info": {
   "codemirror_mode": {
    "name": "ipython",
    "version": 3
   },
   "file_extension": ".py",
   "mimetype": "text/x-python",
   "name": "python",
   "nbconvert_exporter": "python",
   "pygments_lexer": "ipython3",
   "version": "3.12.4"
  }
 },
 "nbformat": 4,
 "nbformat_minor": 5
}
