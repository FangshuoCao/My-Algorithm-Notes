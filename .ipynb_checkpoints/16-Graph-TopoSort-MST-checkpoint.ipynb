{
 "cells": [
  {
   "cell_type": "markdown",
   "id": "993ebd7b-67b5-4f5f-a859-223993cb622e",
   "metadata": {},
   "source": [
    "<h1>Creating Graph</h1>"
   ]
  },
  {
   "cell_type": "markdown",
   "id": "ea2af00c-e559-4810-81ed-07f4c01af4ff",
   "metadata": {},
   "source": [
    "The question will usually give us:\n",
    "- An integer `n` as the number of nodes\n",
    "- A matrix as the edges, where `edges[i][0]` is the start node, `edges[i][1]` is the end node, and `edges[i][2]` is the"
   ]
  },
  {
   "cell_type": "markdown",
   "id": "cff03e85-6be3-42c6-b2a4-6a0187e133b5",
   "metadata": {},
   "source": [
    "<h3>Create Graph with Adjacency List (Use This!)</h3>"
   ]
  },
  {
   "cell_type": "code",
   "execution_count": 5,
   "id": "386d3beb-ddbb-4480-a553-99cc73cbbbfa",
   "metadata": {},
   "outputs": [],
   "source": [
    "from collections import defaultdict\n",
    "\n",
    "class Graph:\n",
    "    graph = defaultdict(list)\n",
    "    \n",
    "    # Initialize the adjacency list\n",
    "    def build(n):\n",
    "        graph = defaultdict(list)\n",
    "\n",
    "    # Directed weighted graph\n",
    "    def directed_weighted_graph(edges):\n",
    "        for u, v, w in edges:\n",
    "            graph[u].append((v, w))\n",
    "\n",
    "    # Undirected weighted graph\n",
    "    def undirected_weighted_graph(edges):\n",
    "        for u, v, w in edges:\n",
    "            graph[u].append((v, w))\n",
    "            graph[v].append((u, w))"
   ]
  },
  {
   "cell_type": "markdown",
   "id": "30c675ea-2822-4392-a0e6-63c6eaba3c8a",
   "metadata": {},
   "source": [
    "<h1>Topological Sort (Key Word: Dependency)</h1>"
   ]
  },
  {
   "cell_type": "markdown",
   "id": "e6585671-2670-4463-900d-52f64e87ab8d",
   "metadata": {},
   "source": [
    "Topological sorting for Directed Acyclic Graph (DAG) is a linear ordering of vertices such that:           \n",
    "- **for every directed edge u-v, vertex u comes before v in the ordering.**   \n",
    "\n",
    "**Important Notes:**\n",
    "- The graph must be a **DAG** if we want to use Topological Sort\n",
    "- Topological order is **NOT** unique"
   ]
  },
  {
   "cell_type": "markdown",
   "id": "6a0bd45b-dc6e-4dbe-826c-8c9f7303cf7f",
   "metadata": {},
   "source": [
    "### Intuition:\n",
    "Topological sorting is a **dependency problem** in which completion of one task depends upon the completion of several other tasks whose order can vary    \n",
    "\n",
    "### Therefore we can use it to:\n",
    "- Helps in **scheduling tasks** or **events based on dependencies**.\r",
    "- \n",
    "Detects cycles in a directed graph\n",
    "- Solve problems with **precedence constraint**raphsurse)\n"
   ]
  },
  {
   "cell_type": "markdown",
   "id": "d10e8314-aa27-4216-adb3-9c5e413d40f2",
   "metadata": {},
   "source": [
    "### Applications:\n",
    "- Course scheduling in universities\n",
    "- Task scheduling and project management.\n",
    "- Dependency resolution in package management systems.\n",
    "- Determining the order of compilation in software build systems.\n",
    "- Deadlock detection in operating systems."
   ]
  },
  {
   "cell_type": "markdown",
   "id": "0153ad15-391e-4a36-b64d-4222ba5136d2",
   "metadata": {},
   "source": [
    "### Algorithm for Topological Sorting：\n",
    "define:           \n",
    "**in-degree**: the number of incoming edges a node has            \n",
    "**out-degree**: the number of outgoing edges a node has          \n",
    "1. Add all nodes with in-degree 0 to a queue.\r\n",
    "2. While the queue is not empty:\r\n",
    "   - Remove a node from the queue.\r\n",
    "   - For each outgoing edge from the removed node, decrement the in-degree of the destination node by 1.\r\n",
    "   - If the in-degree of a destination node becomes 0, add it to the queue.\r\n",
    "3. If the queue is empty and there are still nodes in the graph, the graph contains a cycle and cannot be topologically sorted.\r\n",
    "4. The nodes in the queue represent the topological ordering of the graph.\r\n"
   ]
  },
  {
   "cell_type": "markdown",
   "id": "a52e6b35-8897-4da7-a60a-041833da6514",
   "metadata": {},
   "source": [
    "---\n",
    "<h2>Q1:Topological Sort Template---Course Schedule (LC.210)</h2>"
   ]
  },
  {
   "cell_type": "markdown",
   "id": "f0898bfa-ab30-486d-8781-564b4e9526dd",
   "metadata": {},
   "source": [
    "*There are a total of numCourses courses you have to take, labeled from 0 to numCourses - 1. You are given an array prerequisites where prerequisites[i] = [ai, bi] indicates that you must take course bi first if you want to take course ai.*\n",
    "\n",
    "*For example, the pair [0, 1], indicates that to take course 0 you have to first take course 1.*              \n",
    "\n",
    "*Return the ordering of courses you should take to finish all courses. If there are many valid answers, return any of them. If it is impossible to finish all courses, return an empty array.*"
   ]
  },
  {
   "cell_type": "code",
   "execution_count": 52,
   "id": "9e413300-e6ce-4f14-b018-e86a1a7b6f6b",
   "metadata": {},
   "outputs": [],
   "source": [
    "class Solution(object):\n",
    "    def findOrder(self, numCourses, prerequisites):\n",
    "        # Calculate in-degrees and build the adjacency list\n",
    "        in_degree = [0] * numCourses\n",
    "        graph = defaultdict(list)\n",
    "\n",
    "        # note that in this question the parent vertex is prerequisite[1] and child is prerequisite[0]\n",
    "        for u, v in prerequisites:\n",
    "            graph[v].append(u)\n",
    "            in_degree[u] += 1\n",
    "\n",
    "        # Add all nodes with in-degree 0 to the queue\n",
    "        queue = deque([i for i in range(numCourses) if in_degree[i] == 0])\n",
    "        topo_order = []\n",
    "\n",
    "        # Process the queue\n",
    "        while queue:\n",
    "            node = queue.popleft()\n",
    "            topo_order.append(node)\n",
    "\n",
    "            for neighbor in graph[node]:\n",
    "                in_degree[neighbor] -= 1\n",
    "                if in_degree[neighbor] == 0:\n",
    "                    queue.append(neighbor)\n",
    "\n",
    "        # Check for cycles\n",
    "        if len(topo_order) != numCourses:\n",
    "            return []\n",
    "            \n",
    "        return topo_order       "
   ]
  },
  {
   "cell_type": "markdown",
   "id": "be822d29-9f71-4e69-bfb0-214be107d034",
   "metadata": {},
   "source": [
    "---\n",
    "<h2>Q2:Alien Dictionary (LC.269)</h2>"
   ]
  },
  {
   "cell_type": "markdown",
   "id": "f0fbbbfc-1623-4336-acd3-98d07ea1192a",
   "metadata": {},
   "source": [
    "*There is a new alien language that uses the English alphabet. However, the order of the letters is unknown to you.*   \n",
    "\n",
    "*You are given a list of strings words from the alien language's dictionary. Now it is claimed that the strings in words are \n",
    "sorted lexicographically by the rules of this new language.*     \n",
    "\n",
    "*If this claim is incorrect, and the given arrangement of string in words cannot correspond to any order of letters, return \"\".*     \n",
    "\n",
    "*Otherwise, return a string of the unique letters in the new alien language sorted in lexicographically increasing order by the new language's rules. If there are multiple solutions, return any of them.*"
   ]
  },
  {
   "cell_type": "markdown",
   "id": "cbe59c21-53e6-483d-b139-dd1ed5e15e9d",
   "metadata": {},
   "source": [
    "**Solution:**\n"
   ]
  },
  {
   "cell_type": "code",
   "execution_count": null,
   "id": "7081034f-fafd-474c-8d47-5b47f3b50f80",
   "metadata": {},
   "outputs": [],
   "source": [
    "class Solution(object):\n",
    "    def alienOrder(self, words):\n",
    "        in_degree = {}\n",
    "        for word in words:\n",
    "            for ch in word:\n",
    "                in_degree[ch] = 0\n",
    "\n",
    "        graph = defaultdict(list)\n",
    "\n",
    "        for i in range(len(words) - 1):\n",
    "            cur = words[i]\n",
    "            next = words[i + 1]\n",
    "            min_len = min(len(cur), len(next))\n",
    "            for j in range(min_len):\n",
    "                if cur[j] != next[j]:\n",
    "                    graph[cur[j]].append(next[j])\n",
    "                    in_degree[next[j]] += 1\n",
    "                    break\n",
    "            # When used with a for loop, the else block executes only if the loop completes normally, meaning it did not encounter a break statement\n",
    "            else:\n",
    "                if len(next) < len(cur):\n",
    "                    return \"\"\n",
    "\n",
    "        # Perform topo sort\n",
    "        queue = deque(ch for ch in in_degree if in_degree[ch] == 0)\n",
    "        topo_sort = []\n",
    "        while queue:\n",
    "            vertex = queue.popleft()\n",
    "            topo_sort.append(vertex)\n",
    "            for child in graph[vertex]:\n",
    "                in_degree[child] -= 1\n",
    "                if in_degree[child] == 0:\n",
    "                    queue.append(child)\n",
    "\n",
    "        if len(topo_sort) == len(in_degree):\n",
    "            return \"\".join(topo_sort)\n",
    "        else:\n",
    "            return \"\""
   ]
  },
  {
   "cell_type": "markdown",
   "id": "32bd1723-dd33-429d-898f-cc3dc3a22b48",
   "metadata": {},
   "source": [
    "---\n",
    "<h1>Minimal Spannning Tree</h1>"
   ]
  },
  {
   "cell_type": "markdown",
   "id": "9403e94f-4a84-440c-ba67-28130de04317",
   "metadata": {},
   "source": [
    "A minimum spanning tree (MST) or minimum weight spanning tree for a **weighted, connected, and undirected graph** is a spanning tree with a weight less than or equal to the weight of every other spanning tree."
   ]
  },
  {
   "cell_type": "markdown",
   "id": "48293968-99d5-4747-8a74-8de13647d83a",
   "metadata": {},
   "source": [
    "**Key Properties:**\n",
    "- **Spanning**: It includes all the vertices of the original graph.\n",
    "- **Tree**: Every vertices is connected and there is no cycle.\n",
    "  - Therefore if the graph has `v` vertices, the MST must have `v-1` edges\n",
    "- **Minimum Weight**: The sum of the edge weights in the MST is the smallest among all possible spanning trees of the graph.          \n",
    "\n",
    "**Note:** MST may not be unique"
   ]
  },
  {
   "cell_type": "markdown",
   "id": "6b120d21-95ca-4a8a-909e-a9b0412cf771",
   "metadata": {},
   "source": [
    "### Kruskal's Algorithm for MST\n",
    "**Procedure:**\n",
    "- Sort all edges based on their weights\n",
    "- Iterate through the sorted edges:\n",
    "  - If taking the current edge will not create a cycle, take it\n",
    "  - Otherwise don't take it and continue\n",
    "\n",
    "**How do we know whether taking a edge will result in a cycle?**\n",
    "- Use Union-Find\n",
    "- Before we run the algorithm, first create a union find where each node is in a separate set\n",
    "- Whenever we want to take a edge, check two nodes connected by this edge\n",
    "  - if the two nodes are in the same set, taking this edge will result in a cycle in the MST\n",
    "  - otherwise, we can safely take this edge"
   ]
  },
  {
   "cell_type": "markdown",
   "id": "f3c75696-489a-4546-b707-e7c61c33cf0f",
   "metadata": {},
   "source": [
    "<h3>Q1: MST Template</h3>\n",
    "<p>https://www.luogu.com.cn/problem/P3366</p>"
   ]
  },
  {
   "cell_type": "code",
   "execution_count": 2,
   "id": "5fb6892c-d985-48ca-93e5-6748b9679433",
   "metadata": {},
   "outputs": [],
   "source": [
    "import sys\n",
    "\n",
    "MAXN = 5001 #max number of nodes\n",
    "MAXM = 200001 #max number of edges\n",
    "parent = [0] * MAXN\n",
    "edges = []\n",
    "\n",
    "def build(n):\n",
    "    for i in range(1, n + 1):\n",
    "        parent[i] = i\n",
    "\n",
    "def find(x):\n",
    "    if parent[x] != x:\n",
    "        parent[x] = find(parent[x])\n",
    "    return parent[x]\n",
    "\n",
    "def isSameSet(x, y):\n",
    "    return find(x) == find(y)\n",
    "    \n",
    "def union(x, y):\n",
    "    root_x = find(x)\n",
    "    root_y = find(y)\n",
    "    if root_x != root_y:\n",
    "        parent[root_x] = root_y\n",
    "\n",
    "def kruskal(n, m):\n",
    "    \"\"\"\n",
    "    Kruskal's algorithm for finding the Minimum Spanning Tree (MST).\n",
    "    Returns the total weight of the MST, or 'orz' if the MST cannot be formed.\n",
    "    \"\"\"\n",
    "    build(n)\n",
    "    edges.sort(key=lambda edge: edge[2])\n",
    "    total_weight = 0\n",
    "    edge_count = 0\n",
    "\n",
    "    # Process each edge in sorted order\n",
    "    for u, v, w in edges:\n",
    "        if not isSameSet(u, v):  # If u and v are not already connected\n",
    "            union(u, v)\n",
    "            total_weight += w\n",
    "            edge_count += 1\n",
    "\n",
    "    # If we connected n-1 edges, we formed a valid MST\n",
    "    return total_weight if edge_count == n - 1 else \"orz\"\n",
    "\n",
    "def main():\n",
    "    input = sys.stdin.read\n",
    "    data = input().split()\n",
    "    index = 0\n",
    "\n",
    "    while index < len(data):\n",
    "        # Read number of nodes and edges\n",
    "        n = int(data[index])\n",
    "        index += 1\n",
    "        m = int(data[index])\n",
    "        index += 1\n",
    "\n",
    "        # Read each edge\n",
    "        global edges\n",
    "        edges = []\n",
    "        for _ in range(m):\n",
    "            u = int(data[index])\n",
    "            index += 1\n",
    "            v = int(data[index])\n",
    "            index += 1\n",
    "            w = int(data[index])\n",
    "            index += 1\n",
    "            edges.append((u, v, w))\n",
    "\n",
    "        # Find the MST weight using Kruskal's algorithm\n",
    "        result = kruskal(n, m)\n",
    "\n",
    "        # Print the result\n",
    "        print(result)\n",
    "\n",
    "if __name__ == \"__main__\":\n",
    "    main()"
   ]
  },
  {
   "cell_type": "markdown",
   "id": "abb5a2b9-a0d6-4943-b614-8616abde07b6",
   "metadata": {},
   "source": [
    "### Prim's Algorithm for MST"
   ]
  },
  {
   "cell_type": "code",
   "execution_count": null,
   "id": "fd151deb-a93c-4d9c-8de9-4d3d4f6071d4",
   "metadata": {},
   "outputs": [],
   "source": [
    "later..."
   ]
  },
  {
   "cell_type": "markdown",
   "id": "96ae5d7d-bbfe-4be3-af9c-85e619d253a4",
   "metadata": {},
   "source": [
    "### Optimization of Prim's Algorithm with Reverse Index Heap"
   ]
  },
  {
   "cell_type": "code",
   "execution_count": null,
   "id": "39b9f529-dfb9-415c-ae95-a803ce546c10",
   "metadata": {},
   "outputs": [],
   "source": [
    "later..."
   ]
  },
  {
   "cell_type": "markdown",
   "id": "4f333951-2821-4972-8be3-9e97f9463044",
   "metadata": {},
   "source": [
    "---\n",
    "<h3>Q1: Optimize Water Distribution In A Village (LC.1168)</h3>"
   ]
  },
  {
   "cell_type": "markdown",
   "id": "2157b705-efa6-4ca0-961f-0364084425f3",
   "metadata": {},
   "source": [
    "*There are n houses in a village. We want to supply water for all the houses by building wells and laying pipes.*         \n",
    "\n",
    "*For each house i, we can either build a well inside it directly with cost wells[i - 1] (note the -1 due to 0-indexing), or pipe in water from another well to it. The costs to lay pipes between houses are given by the array pipes where each pipes[j] = [house1j, house2j, costj] represents the cost to connect house1j and house2j together using a pipe. Connections are bidirectional, and there could be multiple valid connections between the same two houses with different costs.*           \n",
    "\n",
    "*Return the minimum total cost to supply water to all houses.*"
   ]
  },
  {
   "cell_type": "markdown",
   "id": "01daf150-8b46-4972-9753-1fa3ecff88be",
   "metadata": {},
   "source": [
    "**Solution:**       \n",
    "We know that this can be solved by MST, but in our MST algorithm there isn't a cost at each node. How do we transform the problem to a classical MST template?\n",
    "- Easy. We suppose that there exist a water source by creating a new node, then we think of the cost to build a well is the cost of traversing the edge from the house to the water source, then this become a classical MST template"
   ]
  },
  {
   "cell_type": "code",
   "execution_count": 12,
   "id": "310892dd-32f1-402f-b4bc-0e5c23395991",
   "metadata": {},
   "outputs": [],
   "source": [
    "class Solution(object):\n",
    "    def minCostToSupplyWater(self, n, wells, pipes):\n",
    "        # create a imaginary water source(node 0)\n",
    "        # then connect all house to it with weight wells[i + 1] since houses are 1-indexed\n",
    "        for i in range(n):\n",
    "            pipes.append([0, i + 1, wells[i]])\n",
    "        \n",
    "        # Create union find\n",
    "        parent = list(range(n + 1))\n",
    "\n",
    "        def find(x):\n",
    "            if parent[x] != x:\n",
    "                parent[x] = find(parent[x])\n",
    "            return parent[x]\n",
    "\n",
    "        def is_same_set(x, y):\n",
    "            return find(x) == find(y)\n",
    "\n",
    "        def union(x, y):\n",
    "            px = find(x)\n",
    "            py = find(y)\n",
    "            if px != py:\n",
    "                parent[px] = py\n",
    "\n",
    "        # Kruskal's Algo for MST\n",
    "        pipes.sort(key=lambda x: x[2])\n",
    "        total_cost = 0\n",
    "        for u, v, w in pipes:\n",
    "            if not is_same_set(u, v):\n",
    "                union(u, v)\n",
    "                total_cost += w\n",
    "\n",
    "        return total_cost"
   ]
  },
  {
   "cell_type": "markdown",
   "id": "cc5901b2-a082-4de1-8e9e-e6ae6c1c8272",
   "metadata": {},
   "source": [
    "---\n",
    "<h3>Q2: Checking Existence of Edge Length Limited Path (LC.1967)</h3>"
   ]
  },
  {
   "cell_type": "markdown",
   "id": "7191d26a-d248-4375-9e42-65f9680fc496",
   "metadata": {},
   "source": [
    "*An undirected graph of `n` nodes is defined by `edgeList`, where edgeList`[i] = [ui, vi, disi]` denotes an edge between nodes `ui` and `vi` with distance `disi`. Note that there may be multiple edges between two nodes.*\n",
    "\n",
    "*Given an array queries, where queries`[j] = [pj, qj, limitj]`, your task is to determine for each `queries[j]` whether there is a path between `pj` and `qj` such that each edge on the path has a distance strictly less than `limitj`.*\n",
    "\n",
    "*Return a boolean array `answer`, where `answer.length == queries.length` and the jth value of answer is true if there is a path for `queries[j]` is true, and false otherwise.*"
   ]
  },
  {
   "cell_type": "markdown",
   "id": "be328290-43a7-4ea2-8771-63d89d1c686d",
   "metadata": {},
   "source": [
    "**Solution**:     \n",
    "This is a Union-Find + MST problem.                     \n",
    "Note that the query asks whether **every edge** on a path is shorter than `limit`. Therefore we can sort both the queries and the edges then iterate through the queries array:\n",
    "- when we have a query, **connect all edges** in the graph that are strictly shorter than the `limit`\n",
    "- If after connecting those edges, p and q are connected(we can tell whether they are connected by using union find), then the path is valid\n",
    "\n",
    "**Time Complexity**: O(nlogn) + O(mlogm), where m is the number of queries\n",
    "- Although there is a nested loop of query and edges, note that we only operate on each edges once no matter how many queries are there, so the nested loop part has time complexity O(n + m), and our bottleneck is actually the sorting part"
   ]
  },
  {
   "cell_type": "code",
   "execution_count": 25,
   "id": "08cac021-4df1-47ab-8586-3aebf7c06a6a",
   "metadata": {},
   "outputs": [],
   "source": [
    "class Solution(object):\n",
    "    def distanceLimitedPathsExist(self, n, edgeList, queries):\n",
    "        \n",
    "        m = len(queries)\n",
    "        # add an id to each query since we need to sort the queries, O(nlogn + mlogm)\n",
    "        for i in range(m):\n",
    "            queries[i].append(i)\n",
    "\n",
    "        # sort the queries and edges based on distance, \n",
    "        queries.sort(key=lambda x: x[2])\n",
    "        edgeList.sort(key=lambda x: x[2])\n",
    "        \n",
    "        # Create union-find\n",
    "        parent = list(range(n))\n",
    "\n",
    "        def find(x):\n",
    "            if parent[x] != x:\n",
    "                parent[x] = find(parent[x])\n",
    "            return parent[x]\n",
    "\n",
    "        def is_same_set(x, y):\n",
    "            return find(x) == find(y)\n",
    "\n",
    "        def union(x, y):\n",
    "            px = find(x)\n",
    "            py = find(y)\n",
    "            if px != py:\n",
    "                parent[px] = py\n",
    "                \n",
    "        # Connect edges and fill answer array, O(n + m)\n",
    "        ans = [i for i in range(m)]\n",
    "        j = 0\n",
    "        for p, q, limit, i in queries:\n",
    "            # connect all edges < limit\n",
    "            while j < len(edgeList) and edgeList[j][2] < limit:\n",
    "                union(edgeList[j][0], edgeList[j][1])\n",
    "                j += 1\n",
    "            ans[i] = is_same_set(p, q)\n",
    "\n",
    "        return ans"
   ]
  },
  {
   "cell_type": "markdown",
   "id": "bcd5cfb1-c10e-42ee-84f4-fcfb4289a7de",
   "metadata": {},
   "source": [
    "---\n",
    "<h2> Theorem: MST must also be the Minimal Bottleneck Spanning Tree(MBST) </h2>"
   ]
  },
  {
   "cell_type": "code",
   "execution_count": null,
   "id": "f010a6a3-b70b-4168-9c23-d9652290c6a9",
   "metadata": {},
   "outputs": [],
   "source": [
    "later..."
   ]
  }
 ],
 "metadata": {
  "kernelspec": {
   "display_name": "Python 3 (ipykernel)",
   "language": "python",
   "name": "python3"
  },
  "language_info": {
   "codemirror_mode": {
    "name": "ipython",
    "version": 3
   },
   "file_extension": ".py",
   "mimetype": "text/x-python",
   "name": "python",
   "nbconvert_exporter": "python",
   "pygments_lexer": "ipython3",
   "version": "3.12.4"
  }
 },
 "nbformat": 4,
 "nbformat_minor": 5
}
