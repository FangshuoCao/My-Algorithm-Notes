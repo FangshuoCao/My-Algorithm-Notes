{
 "cells": [
  {
   "cell_type": "markdown",
   "id": "cc7c739c-123b-4ac8-82f3-0bcaa16b348a",
   "metadata": {},
   "source": [
    "<h1> Recursion </h1>"
   ]
  },
  {
   "cell_type": "markdown",
   "id": "3352277d-50ee-4c79-8a4b-3b4410e3f468",
   "metadata": {},
   "source": [
    "1. drawing the recursion **call graph** is very helpful for analyzing recursion\n",
    "\n",
    "2. Recursion is implemented using the system stack at the lower level, so any recursive function can be converted into a non-recursive one, eliminating the need for the system to manage the stack (system stack space) by managing the stack yourself (in memory space).\n",
    "\n",
    "3. Master theorem:                  \n",
    "- The master theorem can only be used for recursion where all sub-problems are of the same size, T(n) = a * T(n/b) + O(n^c), where a, b, c are constants.\n",
    "  - If log(b,a) < c, the complexity is: O(n^c)\n",
    "  - If log(b,a) > c, the complexity is: O(n^log(b,a))\n",
    "  - If log(b,a) == c, the complexity is: O(n^c * logn)\n",
    "  - additional: T(n) = 2T(n/2) + O(nlogn), the time complexity is O(n * (logn)^2).\n"
   ]
  },
  {
   "cell_type": "markdown",
   "id": "2bab51fc-2082-47bc-b4e1-9fed2b56be1f",
   "metadata": {},
   "source": [
    "---\n",
    "### Q1: Tower Of Hanoi\n",
    "*There are three poles: `left`, `mid`, and `right`, and `n` disks with different sizes. All disks are currently on the `left` pole, and their sizes increases from top to bottom. The goal is to move all disks to the `right` pole, while still maintaining the order where sizes increase from top to bottom.*\n",
    "- *You can only move disks one by one.*\n",
    "- *During the entire process, no bigger disk can be on top of smaller disks.*\n",
    "\n",
    "**Solution:**\n",
    "- The three poles can be thought of as `from`, `to`, and `spare`. In the beginning, `from` is `left`, `to` is `right`, and `spare` is `mid`.       \n",
    "- To move disk `n`, we need to move disks `1, 2, 3, ..., n-1` away to the `spare` pole. In this process, `from` does not change, `spare` becomes `to`, and `to` becomes `spare`.        \n",
    "- Then, there is only disk `n` on `from`, and we move it to `to`.\n",
    "- Finally, we need to move the rest of the disks from the `spare` pole to the `to` pole. In this process, `spare` becomes `from`, `to` remains as `to`, and `from` becomes `spare`."
   ]
  },
  {
   "cell_type": "code",
   "execution_count": 150,
   "id": "a48af4e6-8fd4-477d-92dc-ad1834b9ca1c",
   "metadata": {},
   "outputs": [
    {
     "name": "stdout",
     "output_type": "stream",
     "text": [
      "move disk 1 from left to mid\n",
      "move disk 2 from left to right\n",
      "move disk 1 from mid to right\n",
      "move disk 3 from left to mid\n",
      "move disk 1 from right to left\n",
      "move disk 2 from right to mid\n",
      "move disk 1 from left to mid\n",
      "move disk 4 from left to right\n",
      "move disk 1 from mid to right\n",
      "move disk 2 from mid to left\n",
      "move disk 1 from right to left\n",
      "move disk 3 from mid to right\n",
      "move disk 1 from left to mid\n",
      "move disk 2 from left to right\n",
      "move disk 1 from mid to right\n"
     ]
    }
   ],
   "source": [
    "def hanoi(n):\n",
    "    if n > 0:\n",
    "        move(\"left\", \"right\", \"mid\", n)\n",
    "\n",
    "def move(From, to, spare, n):\n",
    "    if n == 1:\n",
    "        print(\"move disk 1 from \" + From + \" to \" + to)\n",
    "        return\n",
    "    move(From, spare, to, n - 1)\n",
    "    print(\"move disk \" + str(n) + \" from \" + From + \" to \" + to)\n",
    "    move(spare, to, From, n - 1)\n",
    "\n",
    "def main():\n",
    "    n = 4\n",
    "    hanoi(n)\n",
    "\n",
    "main()"
   ]
  },
  {
   "cell_type": "markdown",
   "id": "4753228d-f9c2-4555-8eb5-0b01826bc2d4",
   "metadata": {},
   "source": [
    "---\n",
    "### Q3: Reverse A Stack Using Only Recursion\n",
    "*Reverse a stack using recursion only(no extra data structure used), achieving time complexity O(n^2)*"
   ]
  },
  {
   "cell_type": "code",
   "execution_count": 102,
   "id": "bf64f65f-6470-4a12-9c8d-deed2faba5cc",
   "metadata": {},
   "outputs": [],
   "source": [
    "def reverse_stack(stack):\n",
    "    if not stack:\n",
    "        return\n",
    "    bottom = bottom_out(stack)\n",
    "    reverse_stack(stack)\n",
    "    stack.append(bottom)\n",
    "    \n",
    "# given an stack, remove and return the bottom element in it, the rest will sink and remain their order\n",
    "def bottom_out(stack):\n",
    "    ans = stack.pop()\n",
    "    if not stack:\n",
    "        return ans\n",
    "    last = bottom_out(stack)\n",
    "    stack.append(ans)\n",
    "    return last\n",
    "    "
   ]
  },
  {
   "cell_type": "markdown",
   "id": "51c09336-b21b-47df-a02a-48156232fffa",
   "metadata": {},
   "source": [
    "---\n",
    "### Q2: Sort A Stack Using Only Recursion\n",
    "*Sort a stack using recursion only(no extra data structure used), achieving time complexity O(n^2)*"
   ]
  },
  {
   "cell_type": "code",
   "execution_count": 111,
   "id": "3934214a-3d4a-470d-a26f-8886d46dd5eb",
   "metadata": {},
   "outputs": [
    {
     "ename": "SyntaxError",
     "evalue": "invalid syntax (2257934133.py, line 1)",
     "output_type": "error",
     "traceback": [
      "\u001b[1;36m  Cell \u001b[1;32mIn[111], line 1\u001b[1;36m\u001b[0m\n\u001b[1;33m    later...\u001b[0m\n\u001b[1;37m         ^\u001b[0m\n\u001b[1;31mSyntaxError\u001b[0m\u001b[1;31m:\u001b[0m invalid syntax\n"
     ]
    }
   ],
   "source": [
    "later..."
   ]
  },
  {
   "cell_type": "markdown",
   "id": "2ed2fd70-39ba-4dc6-ac7a-fb0ad9678536",
   "metadata": {},
   "source": [
    "---\n",
    "## Backtracking\n",
    "Backtracking finds a solution incrementally by trying **different options** and **undoing** them if they lead to a **dead end**     \n",
    "- It is commonly used in situations where you need to explore multiple possibilities to solve a problem, like searching for a path in a maze or solving puzzles like Sudoku.\n",
    "- When a dead end is reached, the algorithm backtracks to the previous decision point and explores a different path until a solution is found or all possibilities have been exhausted.\n",
    "- You will usually need a **`path` variable** for keep track of the previous decisions you made"
   ]
  },
  {
   "cell_type": "markdown",
   "id": "a1b63618-cf7c-4820-80ed-0508f69e60f0",
   "metadata": {},
   "source": [
    "---\n",
    "### Q1: Power Set of Subsequence\n",
    "https://www.nowcoder.com/practice/92e6247998294f2c933906fdedbc6e6a                   \n",
    "*Given a string s of length n, find all subsequences of s.*\n",
    "\n",
    "*Subsequence: A subsequence is a string formed by deleting some characters (or none) from the original string, and it does not need to be continuous. For example, subsequences of \"abcde\" can include \"ace\", \"ad\", etc.*\n",
    "\n",
    "*Return all the subsequences as an array of strings.*\n",
    "\n",
    "*The string may contain duplicate characters, but the returned subsequences should not have duplicates. For example, the subsequences of \"aab\" should only include \"\", \"a\", \"aa\", \"aab\", \"ab\", \"b\", and there should not be two identical \"ab\" subsequences.*\n",
    "\n",
    "*The order of subsequences in the returned array does not need to be unique.*    \n",
    "\n",
    "**Solution:**          \n",
    "For each character in the string, we can choose to either take it or discard it.\n",
    "Thus start with the first letter of the array, when we try to construct all possible subsequences we will generate a binary tree with n levels.\n",
    "for example, for string \"aab\", we do this:\n",
    "- take a -> take a -> take b -> \"aab\"\n",
    "- take a -> take a -> discard b -> \"aa\"\n",
    "- take a -> discard a -> take b -> \"ab\"\n",
    "- take a -> discard a -> discard b -> \"a\"\n",
    "- discard a -> take a -> take b -> \"ab\"\n",
    "- discard a -> take a -> discard b -> \"ab\"\n",
    "- discard a -> discard a -> take b -> \"b\"\n",
    "- discard a -> discard a -> discard b -> \"\"             \n",
    "\n",
    "Therefore, there are total of 2^n possible subsequences. We generate all of them and use set to remove duplicates.\n",
    "\n",
    "**Time Complexity:** O(2^n * n)"
   ]
  },
  {
   "cell_type": "code",
   "execution_count": 30,
   "id": "ec57c7e8-7b06-471a-8a44-603b5808a547",
   "metadata": {},
   "outputs": [],
   "source": [
    "class Solution:\n",
    "    def all_subsequences(self, s):\n",
    "        ans = set()\n",
    "\n",
    "        # Recursion helper function\n",
    "        def get_subsequence(index, path):\n",
    "            if index == len(s):\n",
    "                ans.add(\"\".join(path))\n",
    "                return\n",
    "            \n",
    "            path.append(s[index])\n",
    "            get_subsequence(index + 1, path)  # Option 1: Include the current character\n",
    "            path.pop()  # Backtrack\n",
    "            get_subsequence(index + 1, path)  # Option 2: Exclude the current character\n",
    "\n",
    "        get_subsequence(0, [])\n",
    "        return list(ans)"
   ]
  },
  {
   "cell_type": "markdown",
   "id": "3e78b532-7d5f-4c27-ab55-62f367218c2e",
   "metadata": {},
   "source": [
    "---\n",
    "### Q2: Power Set (LC.90 Subset II) / All Combination\n",
    "*Given an integer array nums that may contain duplicates, return all possible subsets (the power set).*         \n",
    "*The solution set must not contain duplicate subsets. Return the solution in any order.*              \n",
    "\n",
    "*How is this different from Q1?*\n",
    "- *Q1 want us to find the **power set for subsequences***\n",
    "  - *subsequence is order-sensitive and must maintain the original order of elements*\n",
    "  - *therefore the subsequence \"ab\" and \"ba\" are considered different*\n",
    "- *Q2 want us to find the **power set for subsets***\n",
    "  - *subset does't care about order*\n",
    "  - *therefore [1, 2] and [2, 1] are consider the same and one must be removed in the final answer*"
   ]
  },
  {
   "cell_type": "markdown",
   "id": "3a3e448a-7f6c-448e-be7f-e1fe27a9b9d1",
   "metadata": {},
   "source": [
    "**Solution:**        \n",
    "We are essentially trying to find **all combination** of elements in the given array.        \n",
    "If an array contains `k` distinct elements, and for each distinct element `i` there are `ni` occurrences, we can choose to take either `0, 1, 2, 3 ... ni` of that element.           \n",
    "\n",
    "For example, suppose the array is `[0, 1, 2, 0, 1, 2]`        \n",
    "we have two `0`, two `1`, and two `2`\n",
    "thus the all combination for this example is:\n",
    "- take zero `0`, zero `1`, zero `2` -> []\n",
    "- take zero `0`, zero `1`, one `2` -> [2]\n",
    "- take zero `0`, zero `1`, two `2` -> [2, 2]\n",
    "- take zero `0`, one `1`, zero `2` -> [1]\n",
    "- take zero `0`, one `1`, one `2` -> [1, 2]\n",
    "- take zero `0`, one `1`, two `2` -> [1, 2, 2]\n",
    "- ......          \n",
    "\n",
    "**Time Complexity:** O(2^n * n)"
   ]
  },
  {
   "cell_type": "code",
   "execution_count": 86,
   "id": "aa8f2e65-a875-409e-a523-ee56322c30d6",
   "metadata": {},
   "outputs": [],
   "source": [
    "class Solution:\n",
    "    def subsetsWithDup(self, nums):\n",
    "        ans = []\n",
    "        nums.sort()\n",
    "        self.generate_combination(nums, 0, [], ans)\n",
    "        return ans\n",
    "\n",
    "    def generate_combination(self, nums, i, path, ans):\n",
    "        if i == len(nums):\n",
    "            ans.append(path[:])    # add a copy of path to ans, since path will change later\n",
    "        else:\n",
    "            j = i + 1\n",
    "            while j < len(nums) and nums[i] == nums[j]:             # Find the index of the first element that is different from nums[i]\n",
    "                j += 1                  \n",
    "                \n",
    "            self.generate_combination(nums, j, path, ans)           # take 0 of the current element\n",
    "            for count in range(i, j):\n",
    "                path.append(nums[i])\n",
    "                self.generate_combination(nums, j, path, ans)       # take 1, 2, ..., xs of the current element\n",
    "                \n",
    "            for count in range(i, j):\n",
    "                path.pop()                                          # Backtrack before returning to last level of recursion"
   ]
  },
  {
   "cell_type": "markdown",
   "id": "261d1b68-c858-4559-8257-cf4c22230929",
   "metadata": {},
   "source": [
    "---\n",
    "### Q3: Permutations (LC.46)\n",
    "*Given an array nums of distinct integers, return all the possible permutations. You can return the answer in any order*"
   ]
  },
  {
   "cell_type": "markdown",
   "id": "87ef3750-0144-4ce4-8f76-5de13b4e081f",
   "metadata": {},
   "source": [
    "**Solution:**\n",
    "Think about how we will enumerate all permutations, suppose we have n distinct elements:\n",
    "- for the first position, there are n choices\n",
    "- then for the second position, there are n-1 choices\n",
    "- ...\n",
    "- for the last position, there's only one choices           \n",
    "\n",
    "Our code uses exactly this idea: for a position i, we let all other elements try this position by swapping them here\n",
    "Then let recusion take care of the next position to consider\n",
    "\n",
    "**Time Complexity:** O(n!)"
   ]
  },
  {
   "cell_type": "code",
   "execution_count": 88,
   "id": "d0df23e3-efa1-4e3e-a1b9-967e0525ed6a",
   "metadata": {},
   "outputs": [],
   "source": [
    "class Solution(object):\n",
    "    def permute(self, nums):\n",
    "        ans = []\n",
    "        self.get_permutation(nums, 0, ans)\n",
    "        return ans\n",
    "\n",
    "    def get_permutation(self, nums, i,  ans):\n",
    "        if i == len(nums):\n",
    "            ans.append(nums[:])          # add a copy of nums to ans\n",
    "\n",
    "        j = i\n",
    "        while j < len(nums):\n",
    "            self.swap(nums, i, j)\n",
    "            self.get_permutation(nums, i + 1, ans)\n",
    "            self.swap(nums, i, j)        #Backtracking\n",
    "            j += 1\n",
    "\n",
    "    def swap(self, nums, i, j):\n",
    "        temp = nums[i]\n",
    "        nums[i] = nums[j]\n",
    "        nums[j] = temp"
   ]
  },
  {
   "cell_type": "markdown",
   "id": "620f49c8-33f6-44ca-bdef-f706f836959b",
   "metadata": {},
   "source": [
    "---\n",
    "### Q4: Permutations II (LC.47)\n",
    "*Given a collection of numbers, nums, that might contain duplicates, return all possible unique permutations in any order.*"
   ]
  },
  {
   "cell_type": "markdown",
   "id": "b1137142-29b2-4b14-807d-14d691f1ece2",
   "metadata": {},
   "source": [
    "**Solution**: Only swap if the nums[j] and nums[i] are the different."
   ]
  },
  {
   "cell_type": "code",
   "execution_count": 92,
   "id": "ae7acc99-0a21-4a85-bf24-47c3fceddbee",
   "metadata": {},
   "outputs": [],
   "source": [
    "class Solution(object):\n",
    "    def permuteUnique(self, nums):\n",
    "        ans = []\n",
    "        self.get_permutation(nums, 0, ans)\n",
    "        return ans\n",
    "\n",
    "    def get_permutation(self, nums, i, ans):\n",
    "        if i == len(nums):\n",
    "            ans.append(nums[:])\n",
    "        visited = set()              # create a hash set to see which elements have already been swapped to position i\n",
    "        j = i\n",
    "        while j < len(nums):\n",
    "            if nums[j] not in visited:\n",
    "                visited.add(nums[j])\n",
    "                self.swap(nums, i, j)\n",
    "                self.get_permutation(nums, i + 1, ans)\n",
    "                self.swap(nums, i, j)\n",
    "            j += 1\n",
    "        \n",
    "    def swap(self, nums, i, j):\n",
    "        temp = nums[i]\n",
    "        nums[i] = nums[j]\n",
    "        nums[j] = temp"
   ]
  },
  {
   "cell_type": "markdown",
   "id": "73b0c018-faf6-4569-8537-a256fd14ca1a",
   "metadata": {},
   "source": [
    "---\n",
    "### Q5: N Queens\n",
    "*The n-queens puzzle is the problem of placing n queens on an n x n chessboard such that no two queens attack each other.*\n",
    "\n",
    "*Given an integer n, return how many ways are there to place the queens.*"
   ]
  },
  {
   "cell_type": "markdown",
   "id": "d7310bed-ac7d-4ce1-af57-81168d88fd32",
   "metadata": {},
   "source": [
    "**Solution:**\n",
    "N Queens is probably the most famous backtracking problem. Similar to other backtracking problems, we need to use a `path` variable to represent the previous choices we have made.     \n",
    "\n",
    "In our recursion, we pass the current row as a parameter, so we don't need to worry about rows. We just need to use our `path` to check does a position satisfies the row and diagonal requirement.       \n",
    "\n",
    "Here we provide two ways to build our `path`\n",
    "1. Using an array as `path`\n",
    "    - Create an array of size N, where `i` is the row and `path[i]` is the column where the queen is at on that row. Therefore, checking column is easy.\n",
    "    - To check the diagonal, we simply use the formula `|curRow - prevRow| == |curCol - prevCol|`. If this is true, we have a diagonal conflict.\n",
    "3. Using a integer as path and perform bitwise operations to check"
   ]
  },
  {
   "cell_type": "markdown",
   "id": "0db84c1d-d6dc-473c-80f3-3c6752156077",
   "metadata": {},
   "source": [
    "#### Method 1: Using Array As Path"
   ]
  },
  {
   "cell_type": "code",
   "execution_count": 13,
   "id": "59b74244-c27e-4fc1-9d6b-2347174624d0",
   "metadata": {},
   "outputs": [],
   "source": [
    "def nqueens(n):\n",
    "    if n == 1:\n",
    "        return 1\n",
    "    path = [0] * n\n",
    "\n",
    "    # Given the current configuration of the chess board, can we put the queen on location (i, j)?\n",
    "    def ok(i, j, path):\n",
    "        for k in range(i):\n",
    "            if path[k] == j or abs(i - k) == abs(j - path[k]):\n",
    "                return False\n",
    "        return True\n",
    "\n",
    "    # Given that we are at row i, how many number of ways can we placed the queen?\n",
    "    def numways(i, n, path):\n",
    "        # if we are out of bound, it means that we have successfully found a solution\n",
    "        if i == n:\n",
    "            return 1\n",
    "        ans = 0\n",
    "        for j in range(n):                               # try every column to place the queen\n",
    "            if ok(i, j, path):                           # column j works!\n",
    "                path[i] = j                                 \n",
    "                ans += numways(i + 1, n, path)           # recurse into the next row\n",
    "        return ans\n",
    "                \n",
    "    return numways(0, n, path)"
   ]
  },
  {
   "cell_type": "markdown",
   "id": "9893e3e2-a2d7-42b4-8ed7-a324f4119f14",
   "metadata": {},
   "source": [
    "---\n",
    "### Q6. Combination Sum (LC.39)\n",
    "*Given an array of distinct integers candidates and a target integer target, return a list of all unique combinations of candidates where the chosen numbers sum to target. You may return the combinations in any order.*\n",
    "\n",
    "*The same number may be chosen from candidates an unlimited number of times. Two combinations are unique if the frequency of at least one of the chosen numbers is different.*\n",
    "\n",
    "*The test cases are generated such that the number of unique combinations that sum up to target is less than 150 combinations for the given input.*"
   ]
  },
  {
   "cell_type": "code",
   "execution_count": 4,
   "id": "ee1ee614-83df-4b3b-a4b6-5bdcb23a1f55",
   "metadata": {},
   "outputs": [],
   "source": [
    "class Solution(object):\n",
    "    def combinationSum(self, candidates, target):\n",
    "        ans = []\n",
    "        path = []\n",
    "\n",
    "        def helper(target, start):\n",
    "            if target == 0:\n",
    "                ans.append(path[:])\n",
    "                return\n",
    "            if target < 0:\n",
    "                return\n",
    "            \n",
    "            # Try each candidate starting from 'start' to prevent duplicates\n",
    "            for i in range(start, len(candidates)):\n",
    "                # Include the candidate and recurse\n",
    "                path.append(candidates[i])\n",
    "                helper(target - candidates[i], i)  # Allow reuse by passing the same 'i'\n",
    "                path.pop()\n",
    "        \n",
    "        helper(target, 0)\n",
    "        return ans"
   ]
  },
  {
   "cell_type": "markdown",
   "id": "02582da7-4b0c-4a4d-b5e9-bfe7f99d76e5",
   "metadata": {},
   "source": [
    "---\n",
    "### Q7. Combination Sum II\n",
    "*Given a collection of candidate numbers (candidates) and a target number (target), find all unique combinations in candidates where the candidate numbers sum to target.*\n",
    "\n",
    "*Each number in candidates may only be used once in the combination.*\n",
    "\n",
    "*Note: The solution set must not contain duplicate combinations.*\n",
    "\n",
    "\n",
    "*Given a collection of candidate numbers (candidates) and a target number (target), find all unique combinations in candidates where the candidate numbers sum to target.*\n",
    "\n",
    "*Each number in candidates may only be used once in the combination.*\n",
    "\n",
    "*Note: The solution set must not contain duplicate combinations.*"
   ]
  },
  {
   "cell_type": "code",
   "execution_count": 8,
   "id": "b635a8e9-b5f5-43dd-af0b-788d6a74a06e",
   "metadata": {},
   "outputs": [],
   "source": [
    "class Solution(object):\n",
    "    def combinationSum2(self, candidates, target):\n",
    "        candidates.sort()  # Sort to handle duplicates\n",
    "        ans = []\n",
    "        path = []\n",
    "\n",
    "        def helper(target, start):\n",
    "            if target == 0:\n",
    "                ans.append(list(path))  # Add a copy of path to ans\n",
    "                return\n",
    "            if target < 0:\n",
    "                return\n",
    "\n",
    "            for i in range(start, len(candidates)):\n",
    "                # Skip duplicates\n",
    "                if i > start and candidates[i] == candidates[i - 1]:\n",
    "                    continue\n",
    "                path.append(candidates[i])\n",
    "                helper(target - candidates[i], i + 1)  # Move to the next index to avoid reuse\n",
    "                path.pop()  # Backtrack\n",
    "\n",
    "        helper(target, 0)\n",
    "        return ans"
   ]
  },
  {
   "cell_type": "markdown",
   "id": "910e7da4-3c19-44a6-95d1-fc6ced1962c6",
   "metadata": {},
   "source": [
    "---\n",
    "### Q8. Subset (LC.78)\n",
    "*Given an integer array nums of unique elements, return all possible subsets (the power set).*         \n",
    "*The solution set must not contain duplicate subsets. Return the solution in any order.*"
   ]
  },
  {
   "cell_type": "code",
   "execution_count": 12,
   "id": "fdee95c8-7cac-4682-a815-c79a76fc2388",
   "metadata": {},
   "outputs": [],
   "source": [
    "class Solution(object):\n",
    "    def subsets(self, nums):\n",
    "        ans = []\n",
    "        path = []\n",
    "        \n",
    "        def backtrack(nums, i):\n",
    "            if i == len(nums):\n",
    "                ans.append(path[:])\n",
    "                return\n",
    "            backtrack(nums, i + 1)\n",
    "            path.append(nums[i])\n",
    "            backtrack(nums, i + 1)\n",
    "            path.pop()\n",
    "        \n",
    "        backtrack(nums, 0)\n",
    "        return ans"
   ]
  },
  {
   "cell_type": "markdown",
   "id": "61c4c0dd-b1cd-4599-9b70-8b88368c0435",
   "metadata": {},
   "source": [
    "---\n",
    "### Q9. Generate Parentheses (LC.22)\n",
    "Given n pairs of parentheses, write a function to generate all combinations of well-formed parentheses."
   ]
  },
  {
   "cell_type": "code",
   "execution_count": 5,
   "id": "878a8112-5346-45d8-8f88-48206979f344",
   "metadata": {},
   "outputs": [],
   "source": [
    "class Solution(object):\n",
    "    def generateParenthesis(self, n):\n",
    "        result=[]\n",
    "        self.f(\"\",n,n,result)\n",
    "        return result\n",
    "\n",
    "    # l: number of \"(\" left to be used\n",
    "    # r: number of \")\" left to be used\n",
    "    def f(self,curr,l,r,result):\n",
    "        if l==r==0:\n",
    "            result.append(curr)\n",
    "            return\n",
    "        if l>0:\n",
    "            self.f(curr+\"(\",l-1,r,result)\n",
    "        if r>l:\n",
    "            self.f(curr+\")\",l,r-1,result)"
   ]
  },
  {
   "cell_type": "markdown",
   "id": "2ce59147-f876-4be0-bf5b-a7593390696d",
   "metadata": {},
   "source": [
    "---\n",
    "### Q10. Unique Binary Search Trees II (LC.95)\n",
    "Given an integer n, return all the structurally unique BST's (binary search trees), which has exactly n nodes of unique values from 1 to n. Return the answer in any order."
   ]
  },
  {
   "cell_type": "code",
   "execution_count": 10,
   "id": "8b3a1bc4-63e5-4846-9394-e60833211205",
   "metadata": {},
   "outputs": [],
   "source": [
    "class Solution(object):\n",
    "    def generateTrees(self, n):\n",
    "\n",
    "        def generate(first, last):\n",
    "            # Our base case is when first > last, when we will simply return null\n",
    "            trees = []\n",
    "            for root in range(first, last+1):\n",
    "                for left in generate(first, root-1):\n",
    "                    for right in generate(root+1, last):\n",
    "                        node = TreeNode(root)\n",
    "                        node.left = left\n",
    "                        node.right = right\n",
    "                        trees.append(node)\n",
    "            return trees or [None]\n",
    "\n",
    "        return generate(1, n)"
   ]
  },
  {
   "cell_type": "code",
   "execution_count": null,
   "id": "76926830-401f-4dc8-b134-3213feefadf4",
   "metadata": {},
   "outputs": [],
   "source": []
  }
 ],
 "metadata": {
  "kernelspec": {
   "display_name": "Python 3 (ipykernel)",
   "language": "python",
   "name": "python3"
  },
  "language_info": {
   "codemirror_mode": {
    "name": "ipython",
    "version": 3
   },
   "file_extension": ".py",
   "mimetype": "text/x-python",
   "name": "python",
   "nbconvert_exporter": "python",
   "pygments_lexer": "ipython3",
   "version": "3.12.4"
  }
 },
 "nbformat": 4,
 "nbformat_minor": 5
}
