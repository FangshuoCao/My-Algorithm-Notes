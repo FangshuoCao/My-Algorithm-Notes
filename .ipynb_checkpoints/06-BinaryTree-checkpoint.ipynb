{
 "cells": [
  {
   "cell_type": "markdown",
   "id": "beb3695f-42be-4b64-aacb-35edc20dc6b9",
   "metadata": {},
   "source": [
    "# Binary Tree\n",
    "Each tree has left and right pointer to its children"
   ]
  },
  {
   "cell_type": "code",
   "execution_count": 3,
   "id": "7281fd43-36ed-4b57-a4e1-1caf5ae3d0f9",
   "metadata": {},
   "outputs": [],
   "source": [
    "class TreeNode:\n",
    "    def __init__(self, val=0, left=None, right=None):\n",
    "        self.val = val\n",
    "        self.left = left\n",
    "        self.right = right"
   ]
  },
  {
   "cell_type": "markdown",
   "id": "c48610f3-cde9-4d93-b6a5-4e55d173ccba",
   "metadata": {},
   "source": [
    "# I. Different Kinds Of Binary Trees\n",
    "- Complete Binary Tree:\n",
    "  - Every level, except possibly the last, is completely filled.\n",
    "  - All None nodes on the last level must be on the right.\n",
    "- Balanced Binary Tree:\n",
    "  - For any node, the height difference between the left child and the right child is at most 1\n",
    "- Binary Search Tree (BST):\n",
    "  - For any node, all elements in the left subtree < root < elements in the right subtree.\n",
    "- AVL Tree\n",
    "  - A self-balancing BST, will covere in later notes\n",
    "- Red Black Tree\n",
    "  - Will cover in later notes"
   ]
  },
  {
   "cell_type": "markdown",
   "id": "4353c946-d008-48e4-bc12-74b08edcec12",
   "metadata": {},
   "source": [
    "---\n",
    "# II. Binary Tree Traversal\n",
    "We can traverse a binary tree using either DFS or BFS, let's first talk about with DFS with recursion"
   ]
  },
  {
   "cell_type": "code",
   "execution_count": 10,
   "id": "40ddbdaf-a5f9-4faa-a360-d30e90dffa7a",
   "metadata": {},
   "outputs": [],
   "source": [
    "def dfs(head):\n",
    "    if head is None:\n",
    "        return\n",
    "    # 1: first time this node is visited\n",
    "    f(head.left)\n",
    "    # 2: second time this node is visited\n",
    "    f(head.right)\n",
    "    # 3: third time this node is visited"
   ]
  },
  {
   "cell_type": "markdown",
   "id": "f992bf2d-146d-45bf-aecd-896df59409ac",
   "metadata": {},
   "source": [
    "As you can see, in our dfs function, each node is visited 3 times, and for each of these times, we got a chance to print the node.      \n",
    "Printing at those different times will give us 3 different traversal:\n",
    "- **preorder: print the element at the first visit**\n",
    "- **inorder: print the element at the second visit**\n",
    "- **postorder: print the element at the third visit**\n",
    "\n",
    "Lets take a look at an example, for a binary tree with h = 3, root = 1, second layer 2, 3, leaves 4, 5, 6, 7:\n",
    "- this is the sequence of leaves visited using dfs:      \n",
    "  - `1 2 4 4 4 2 5 5 5 2 1 3 6 6 6 3 7 7 7 3 1`, as we can see, each treenode is visited 3 times\n",
    "- preorder: `1 2 4 5 3 6 7`\n",
    "- inorder: `4 2 5 1 6 3 7`\n",
    "- postorder: `4 5 2 6 7 3 1`"
   ]
  },
  {
   "cell_type": "markdown",
   "id": "4e611b05-b9c7-4f4e-bd04-a713c0797aa7",
   "metadata": {},
   "source": [
    "## 1. Preorder Traversal\n",
    "For every subtree, the elements are printed in the order of: **Parent -> Left -> Right**\n",
    "#### Preorder With Recursion "
   ]
  },
  {
   "cell_type": "code",
   "execution_count": 25,
   "id": "d12465bc-bf97-4b27-8328-6a909eaf9272",
   "metadata": {},
   "outputs": [],
   "source": [
    "def preOrder(head):\n",
    "    if head is None:\n",
    "        return\n",
    "    print(head.val, end=\" \")\n",
    "    preOrder(head.left)\n",
    "    preOrder(head.right)"
   ]
  },
  {
   "cell_type": "markdown",
   "id": "2e74f95d-c2cb-4b24-aaba-f01e2569c5fa",
   "metadata": {},
   "source": [
    "#### Preorder using Stack"
   ]
  },
  {
   "cell_type": "code",
   "execution_count": null,
   "id": "7e4b8555-39db-47d8-9d85-0c2af9e77831",
   "metadata": {},
   "outputs": [],
   "source": [
    "def preOrder(head):\n",
    "    if head:\n",
    "        stack = []\n",
    "        stack.append(head)\n",
    "        while stack:\n",
    "            head = stack.pop()\n",
    "            print(head.val, end=\" \")\n",
    "            if head.right:\n",
    "                stack.append(head.right)\n",
    "            if head.left:\n",
    "                stack.append(head.left)\n",
    "        print()"
   ]
  },
  {
   "cell_type": "markdown",
   "id": "33344aed-7743-41c5-80d0-8f14220309c5",
   "metadata": {},
   "source": [
    "## 2. Inorder Traversal\n",
    "For every subtree, the elements are printed in the order of: **Left -> Parent -> Right**\n",
    "#### Inorder using recursion"
   ]
  },
  {
   "cell_type": "code",
   "execution_count": null,
   "id": "fa17fd10-9962-407d-8729-dd2b8482047b",
   "metadata": {},
   "outputs": [],
   "source": [
    "def inOrder(head):\n",
    "    if head is None:\n",
    "        return\n",
    "    inOrder(head.left)\n",
    "    print(head.val, end=\" \")\n",
    "    inOrder(head.right)"
   ]
  },
  {
   "cell_type": "markdown",
   "id": "3d0836fc-aaaf-4d1d-b26d-7a34c03d48e7",
   "metadata": {},
   "source": [
    "#### Inorder using stack\n",
    "- When ever we visit a treenode, push its entire left branches into the stack\n",
    "- Poll a node, print, then repeat step 1\n",
    "- Repeat the previous two steps                                \n",
    "- When stack is empty and no children, finish"
   ]
  },
  {
   "cell_type": "code",
   "execution_count": null,
   "id": "f35db3e8-20c4-4d20-8aa5-df5e5511cbd8",
   "metadata": {},
   "outputs": [],
   "source": [
    "def inOrder(head):\n",
    "    stack = []\n",
    "    while stack or head:\n",
    "        if head:\n",
    "            stack.append(head)\n",
    "            head = head.left\n",
    "        else:\n",
    "            head = stack.pop()\n",
    "            print(head.val, end=\" \")\n",
    "            head = head.right\n",
    "    print()\n"
   ]
  },
  {
   "cell_type": "markdown",
   "id": "0f840c77-3cc0-4f75-814a-d20db20f9b10",
   "metadata": {},
   "source": [
    "## 3. Postorder Traversal\n",
    "For every subtree, the elements are printed in the order of: **Left -> Right -> Parent**\n",
    "#### Postorder using recursion"
   ]
  },
  {
   "cell_type": "code",
   "execution_count": 38,
   "id": "6d2d69e3-e290-4a4f-9843-aa8b9caf13e7",
   "metadata": {},
   "outputs": [],
   "source": [
    "def posOrder(head):\n",
    "    if head is None:\n",
    "        return\n",
    "    posOrder(head.left)\n",
    "    posOrder(head.right)\n",
    "    print(head.val, end=\" \")"
   ]
  },
  {
   "cell_type": "markdown",
   "id": "9ae73a28-8502-491c-bf4e-d3eaa19e6bb1",
   "metadata": {},
   "source": [
    "#### Postorder using stack"
   ]
  },
  {
   "cell_type": "code",
   "execution_count": 41,
   "id": "61a6282c-fe3d-4bd9-aa68-0c892355078e",
   "metadata": {},
   "outputs": [],
   "source": [
    "def posOrderOneStack(root):\n",
    "    if root:\n",
    "        stack = []\n",
    "        lastPrinted = root\n",
    "        stack.append(root)\n",
    "        while stack:\n",
    "            cur = stack[-1]\n",
    "            if cur.left and lastPrinted != cur.left and lastPrinted != cur.right:\n",
    "                stack.append(cur.left)\n",
    "            elif cur.right and lastPrinted != cur.right:\n",
    "                stack.append(cur.right)\n",
    "            else:\n",
    "                print(cur.val, end=\" \")\n",
    "                lastPrinted = stack.pop()\n",
    "        print()"
   ]
  },
  {
   "cell_type": "markdown",
   "id": "7d689a3d-76b4-479b-9c6b-e775adc1d452",
   "metadata": {},
   "source": [
    "## 4. Level Order Traversal (BFS)\n",
    "This is just an ordinary BFS. All BFS notes are in notebook 20"
   ]
  },
  {
   "cell_type": "code",
   "execution_count": 48,
   "id": "f1a7ed1b-df06-480c-a4ee-cb5907d1b6d5",
   "metadata": {},
   "outputs": [],
   "source": [
    "from collections import deque\n",
    "\n",
    "def levelOrder(self, root):\n",
    "    ans = []\n",
    "    if root:\n",
    "        queue = deque([root])\n",
    "        while queue:\n",
    "            size = len(queue)\n",
    "            level = []                        # Handle one level at a time\n",
    "            for i in range(size):\n",
    "                cur = queue.popleft()\n",
    "                level.append(cur.val)\n",
    "                if cur.left:\n",
    "                    queue.append(cur.left)    # Push left child if exists\n",
    "                if cur.right:\n",
    "                    queue.append(cur.right)   # Push right child if exists\n",
    "            ans.append(level)                 # Add the current level to the answer list\n",
    "    return ans"
   ]
  },
  {
   "cell_type": "markdown",
   "id": "1d254f51-d839-4f7c-a744-1ed0e58cb557",
   "metadata": {},
   "source": [
    "## Time and Space Complexity for Binary Tree Traversal\n",
    "- **Time Complexity: O(n)**, where n is the number of nodes (since each node is visited three times).\n",
    "- **Space Complexity: O(h)**, where h is the height of the tree (the maximum stack depth during recursion)."
   ]
  },
  {
   "cell_type": "markdown",
   "id": "21cd1a42-52aa-4f8e-9e69-90d4ceb3eaa6",
   "metadata": {},
   "source": [
    "---\n",
    "# III. Binary Tree Questions"
   ]
  },
  {
   "cell_type": "code",
   "execution_count": null,
   "id": "77555b11-017f-42eb-b43e-174d6c6cf813",
   "metadata": {},
   "outputs": [],
   "source": []
  }
 ],
 "metadata": {
  "kernelspec": {
   "display_name": "Python 3 (ipykernel)",
   "language": "python",
   "name": "python3"
  },
  "language_info": {
   "codemirror_mode": {
    "name": "ipython",
    "version": 3
   },
   "file_extension": ".py",
   "mimetype": "text/x-python",
   "name": "python",
   "nbconvert_exporter": "python",
   "pygments_lexer": "ipython3",
   "version": "3.12.4"
  }
 },
 "nbformat": 4,
 "nbformat_minor": 5
}
