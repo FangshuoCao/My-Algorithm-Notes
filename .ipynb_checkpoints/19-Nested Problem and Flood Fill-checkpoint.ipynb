{
 "cells": [
  {
   "cell_type": "markdown",
   "id": "cc3b9f10-d50e-45a3-a71b-2ff49fa2fc15",
   "metadata": {},
   "source": [
    "# Paradigm for Solving Nested Problems\n",
    "### Before You Start:\n",
    "- **Consider how you would approach the problem if there were no nesting.** Simplifying the problem to its base case without nesting can help you understand the structure of the solution.\n",
    "### Steps:\n",
    "1. **Define Global Variable:**\n",
    "   - Define a global variable `int index_to_continue`, which tracks the current position in the problem (e.g., a string or list).\n",
    "2. **Recursive Method `f(i)`:**\n",
    "   - Implement a recursive method `f(i)` that deals with the subproblem starting from index `i`.\n",
    "   - The function should return when it reaches the **end of the list** or encounters the **end of a nested condition**.\n",
    "3. **Return Value:**\n",
    "   - The return value of `f(i)` is the answer to the nested subproblem.\n",
    "4. **Update `index_to_continue` Before Returning:**\n",
    "   - Before returning, `f(i)` should update the global variable `index_to_continue`. This ensures that the upper level of the recursion knows where to continue processing after the current recursive call.\n",
    "5. **Handle Nested Conditions:**\n",
    "   - If `f(i)` encounters the start of another nested part at `j`, it should call `f(j)` to handle the new nested condition. This handles multiple layers of nesting by calling the recursive method again for each new nested level of the problem."
   ]
  },
  {
   "cell_type": "markdown",
   "id": "bfce8298-61bd-4e0d-9061-f4670db0b4e7",
   "metadata": {},
   "source": [
    "---\n",
    "### Q1: Basic Calculator III"
   ]
  },
  {
   "cell_type": "markdown",
   "id": "8f700051-3d87-4b30-aa71-29cad2d38ed2",
   "metadata": {},
   "source": [
    "*Implement a basic calculator to evaluate a simple expression string.*         \n",
    "\n",
    "*The expression string contains only non-negative integers, '+', '-', '\\*', '/' operators, and open '(' and closing parentheses ')'. The integer division should truncate toward zero.*             \n",
    "\n",
    "*You may assume that the given expression is always valid. All intermediate results will be in the range of [-2^31, 2^31 - 1].*\n",
    "\n",
    "*Note: You are not allowed to use any built-in function which evaluates strings as mathematical expressions, such as eval().*"
   ]
  },
  {
   "cell_type": "code",
   "execution_count": 7,
   "id": "5f48b7fb-19f4-4bc1-ad66-f963a8ebd6b8",
   "metadata": {},
   "outputs": [],
   "source": [
    "# Time Complexity: O(n)\n",
    "class Solution:\n",
    "    def calculate(self, s: str) -> int:\n",
    "        n = len(s)\n",
    "        index_to_continue = 0\n",
    "\n",
    "        def helper(i):\n",
    "            nonlocal index_to_continue\n",
    "\n",
    "            def update(v, op): \n",
    "                if op == '+':\n",
    "                    numbers.append(v) \n",
    "                elif op == '-': \n",
    "                    numbers.append(-v)\n",
    "                elif op == '*': \n",
    "                    numbers.append(numbers.pop() * v)\n",
    "                elif op == '/':\n",
    "                    numbers.append(int(numbers.pop() / v))  # Ensure truncation toward zero for division\n",
    "\n",
    "            num, op, numbers = 0, '+', []\n",
    "            while i < n: \n",
    "                ch = s[i]\n",
    "                if ch.isdigit(): \n",
    "                    num = num * 10 + int(ch)\n",
    "                elif ch in '+-*/': \n",
    "                    update(num, op)\n",
    "                    num, op = 0, ch \n",
    "                elif ch == '(':\n",
    "                    num = helper(i + 1)  # calculate nested part\n",
    "                    # Update i to the index of the corresponding \")\", then i += 1 will increment it to the next position to continue processing\n",
    "                    i = index_to_continue\n",
    "                elif ch == ')':\n",
    "                    update(num, op)\n",
    "                    index_to_continue = i  # Set the global next_index to the index of ')'\n",
    "                    return sum(numbers)  # Return the result of nested part\n",
    "                i += 1 \n",
    "\n",
    "            update(num, op)\n",
    "            return sum(numbers)\n",
    "\n",
    "        return helper(0)"
   ]
  },
  {
   "cell_type": "markdown",
   "id": "7f6230fb-cd65-4799-b001-d53866b5ebfc",
   "metadata": {},
   "source": [
    "---\n",
    "### Q2: Decode String (LC.394)\n",
    "*Given an encoded string, return its decoded string.*  \n",
    "*The encoding rule is: k[encoded_string], where the encoded_string inside the square brackets is being repeated exactly k times. Note that k is guaranteed to be a positive integer.*        \n",
    "*You may assume that the input string is always valid; there are no extra white spaces, square brackets are well-formed, etc. Furthermore, you may assume that the original data does not contain any digits and that digits are only for those repeat numbers, k. For example, there will not be input like 3a or 2[4].*          \n",
    "*The test cases are generated so that the length of the output will never exceed 105.*"
   ]
  },
  {
   "cell_type": "code",
   "execution_count": 18,
   "id": "058a5b29-786a-4510-a17d-6e9952952fad",
   "metadata": {},
   "outputs": [],
   "source": [
    "class Solution:\n",
    "    def decodeString(self, s: str) -> str:\n",
    "        index_to_continue = 0\n",
    "\n",
    "        def decode_helper(s, i):\n",
    "            nonlocal index_to_continue\n",
    "            ans = []\n",
    "            cnt = 0\n",
    "\n",
    "            while i < len(s) and s[i] != ']':\n",
    "                ch = s[i]\n",
    "                if ch.isdigit():\n",
    "                    cnt = cnt * 10 + int(ch)\n",
    "                elif ch == '[':\n",
    "                    nested_str = decode_helper(s, i + 1)\n",
    "                    ans.append(nested_str * cnt)\n",
    "                    cnt = 0\n",
    "                    i = index_to_continue\n",
    "                else:  #letters\n",
    "                    ans.append(ch)\n",
    "                i += 1\n",
    "\n",
    "            index_to_continue = i\n",
    "            return ''.join(ans)\n",
    "\n",
    "        return decode_helper(s, 0)"
   ]
  },
  {
   "cell_type": "markdown",
   "id": "ea4ec62d-cf4d-4958-9fcc-b38cbfb90cc3",
   "metadata": {},
   "source": [
    "---\n",
    "### Q3: Number Of Atoms (LC.726)\n",
    "Given a string formula representing a chemical formula, return the count of each atom.\r\n",
    "\r\n",
    "The atomic element always starts with an uppercase character, then zero or more lowercase letters, representing the name.\r\n",
    "\r\n",
    "One or more digits representing that element's count may follow if the count is greater than 1. If the count is 1, no digits will follow.\r\n",
    "\r\n",
    "For example, \"H2O\" and \"H2O2\" are possible, but \"H1O2\" is impossible.\r\n",
    "Two formulas are concatenated together to produce another formula.\r\n",
    "\r\n",
    "For example, \"H2O2He3Mg4\" is also a formula.\r\n",
    "A formula placed in parentheses, and a count (optionally added) is also a formula.\r\n",
    "\r\n",
    "For example, \"(H2O2)\" and \"(H2O2)3\" are formulas.\r\n",
    "Return the count of all elements as a string in the following form: the first name (in sorted order), followed by its count (if that count is more than 1), followed by the second name (in sorted order), followed by its count (if that count is more than 1), and so on.\r\n",
    "\r\n",
    "The test cases are generated so that all the values in the output fit in a 32-bit integer."
   ]
  },
  {
   "cell_type": "markdown",
   "id": "3341f575-42ef-44a8-8e01-8480860419cc",
   "metadata": {},
   "source": [
    "---\n",
    "### Q3: Number Of Atoms (LC.726)\n",
    "*Given a string formula representing a chemical formula, return the count of each atom.*      \n",
    "*The atomic element always starts with an uppercase character, then zero or more lowercase letters, representing the name.*  \n",
    "\n",
    "*One or more digits representing that element's count may follow if the count is greater than 1. If the count is 1, no digits will follow.*      \n",
    "- *For example, \"H2O\" and \"H2O2\" are possible, but \"H1O2\" is impossible.*\n",
    "   \n",
    "*Two formulas are concatenated together to produce another formula.*\n",
    "- *For example, \"H2O2He3Mg4\" is also a formula.*\n",
    "\n",
    "*A formula placed in parentheses, and a count (optionally added) is also a formula.*\n",
    "- *For example, \"(H2O2)\" and \"(H2O2)3\" are formulas.*\n",
    "\n",
    "*Return the count of all elements as a string in the following form: the first name (in sorted order), followed by its count (if that count is more than 1), followed by the second name (in sorted order), followed by its count (if that count is more than 1), and so on.*\n",
    "*The test cases are generated so that all the values in the output fit in a 32-bit integer.*"
   ]
  },
  {
   "cell_type": "code",
   "execution_count": null,
   "id": "d488b75c-8ce6-4b2d-8922-9f9dbcf1bbda",
   "metadata": {},
   "outputs": [],
   "source": [
    "later"
   ]
  }
 ],
 "metadata": {
  "kernelspec": {
   "display_name": "Python 3 (ipykernel)",
   "language": "python",
   "name": "python3"
  },
  "language_info": {
   "codemirror_mode": {
    "name": "ipython",
    "version": 3
   },
   "file_extension": ".py",
   "mimetype": "text/x-python",
   "name": "python",
   "nbconvert_exporter": "python",
   "pygments_lexer": "ipython3",
   "version": "3.12.4"
  }
 },
 "nbformat": 4,
 "nbformat_minor": 5
}
