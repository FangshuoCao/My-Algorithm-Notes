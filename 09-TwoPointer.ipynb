{
 "cells": [
  {
   "cell_type": "markdown",
   "id": "916907a0-290f-46c3-b647-bf5e509e4bfb",
   "metadata": {},
   "source": [
    "# Two Pointer\n",
    "Two pointer is a very commmonly used technique in arrays.       \n",
    "Usually, we can have the two pointers that:\n",
    "- Move towards the same direction\n",
    "- Fast and slow pointer\n",
    "- Move towards each other\n",
    "- Move Away from each other"
   ]
  },
  {
   "cell_type": "markdown",
   "id": "559d5f57-a6ef-44d6-b57c-1c77c28d0668",
   "metadata": {},
   "source": [
    "---\n",
    "### Q1. Container With Most Water (LC.11)\n",
    "*You are given an integer array height of length n. There are n vertical lines drawn such that the two endpoints of the ith line are (i, 0) and (i, height[i]).*       \n",
    "*Find two lines that together with the x-axis form a container, such that the container contains the most water.*      \n",
    "*Return the maximum amount of water a container can store.*       \n",
    "*Notice that you may not slant the container.*      \n",
    "\n",
    "**Solution and Monotonocity Analysis:**          \n",
    "We let two pointer start at left and right end of the array and move towards each other.    \n",
    "Because the total water is (r-l) * min(height[l], height[r]), and r-l will become smaller as we iterate, we should only move the pointer of the smaller height, in order to find a possible larger value."
   ]
  },
  {
   "cell_type": "code",
   "execution_count": 6,
   "id": "c2cee4d1-1aa2-4721-8873-fb0562a57f7f",
   "metadata": {},
   "outputs": [],
   "source": [
    "class Solution:\n",
    "    def maxArea(self, height):\n",
    "        ans = 0\n",
    "        l, r = 0, len(height) - 1\n",
    "        while l < r:\n",
    "            curWater = (r - l) * min(height[l], height[r])\n",
    "            ans = max(ans, curWater)\n",
    "            if(height[l] < height[r]):\n",
    "                l += 1\n",
    "            else:\n",
    "                r -= 1\n",
    "        return ans"
   ]
  },
  {
   "cell_type": "markdown",
   "id": "08bde373-da08-4130-be80-c4f68d7e66d9",
   "metadata": {},
   "source": [
    "---\n",
    "### Q2. Boats To Save People (LC.881)\n",
    "*You are given an array people where people[i] is the weight of the ith person, and an infinite number of boats where each boat can carry a maximum weight of limit. Each boat carries at most two people at the same time, provided the sum of the weight of those people is at most limit.*\n",
    "\n",
    "*Return the minimum number of boats to carry every given person.*\n",
    "\n",
    "**Solution:**      \n",
    "Sort the array and let two pointer start at left and right, moving towards each other.         \n",
    "For each iteration we try to pair the fattest person and the thinnest person together.\n",
    "- If a person is too fat to take even the thinnest person together, the fat guy has to use one boat alone.\n",
    "- Otherwise, we pair them up, put them on a bot and keep going.\n"
   ]
  },
  {
   "cell_type": "code",
   "execution_count": 16,
   "id": "ca85140b-8d9e-431c-8e72-71097a3d8d9b",
   "metadata": {},
   "outputs": [],
   "source": [
    "class Solution:\n",
    "    def numRescueBoats(self, people, limit):\n",
    "        people.sort()\n",
    "        boatCnt = 0\n",
    "        l, r = 0, len(people) - 1\n",
    "        while l <= r:\n",
    "            if people[r] + people[l] > limit:\n",
    "                boatCnt += 1\n",
    "                r -= 1\n",
    "            else:\n",
    "                boatCnt += 1\n",
    "                r -= 1\n",
    "                l += 1\n",
    "\n",
    "        return boatCnt"
   ]
  },
  {
   "cell_type": "markdown",
   "id": "8bc1830d-c526-4b47-ae85-884351380ea7",
   "metadata": {},
   "source": [
    "---\n",
    "### Q3: Trapping Rain Water (LC.42)\n",
    "*Given n non-negative integers representing an elevation map where the width of each bar is 1, compute how much water it can trap after raining.*\n",
    "\n",
    "**Solution:**     \n",
    "\n",
    "Our approach is to find how much water can be stored on each column then add them all up.\n",
    "- For a column `i`, the water can be stored is `min(max[0:i-1], max[i+1:n-1])` - `height[i]`\n",
    "- If `height[i]` is larger than `min(max[0:i-1], max[i+1:n-1])`, column `i` cannot store any water\n",
    "\n",
    "Therefore we can simply use two array to keep track of the max element on the left and right"
   ]
  },
  {
   "cell_type": "code",
   "execution_count": 25,
   "id": "e12b3184-b007-4f64-92ba-35a72728706c",
   "metadata": {},
   "outputs": [],
   "source": [
    "class Solution:\n",
    "    def trap(self, height):\n",
    "        n = len(height)  \n",
    "        leftMax = [0] * n            # leftMax[i]: the max height in [0:i - 1]\n",
    "        for i in range(1, n):\n",
    "            leftMax[i] = max(leftMax[i - 1], height[i - 1])\n",
    "\n",
    "        rightMax = [0] * n          # rightMax[i]: the max height in [i + 1: n - 1]\n",
    "        for i in range(n - 2, -1, -1):\n",
    "            rightMax[i] = max(rightMax[i + 1], height[i + 1])\n",
    "\n",
    "        totalWater = 0\n",
    "        for i in range(1, n - 1):\n",
    "            curWater = min(leftMax[i], rightMax[i]) - height[i]\n",
    "            if curWater > 0:\n",
    "                totalWater += curWater\n",
    "\n",
    "        return totalWater"
   ]
  },
  {
   "cell_type": "markdown",
   "id": "e1ca0f2b-5ca9-4d28-9d45-6feeaa64bb13",
   "metadata": {},
   "source": [
    "**Optimization Using Two Pointer:**        \n",
    "we use two pointer l and r to traverse the array from two end into middle        \n",
    "- `lmax...l...r....rmax`\n",
    "\n",
    "the water a column can store solely depends on min(max in l half, max in r half), thus if lmax <= rmax then we can determine the water that will be store on l\n",
    "\n",
    "because the max value on right side of l might not be rmax(because larger value might appear in the interval l...r), but max value on left side of l must be lmax.             \n",
    "\n",
    "similarly, if rmax < lmax then we can determine the water that will be store on r         "
   ]
  },
  {
   "cell_type": "code",
   "execution_count": 34,
   "id": "ffecf623-118b-4f49-9025-335fa3c3d8a2",
   "metadata": {},
   "outputs": [],
   "source": [
    "class Solution(object):\n",
    "    def trap(self, height):\n",
    "        n = len(height)\n",
    "        lmax = height[0]\n",
    "        rmax = height[n - 1]\n",
    "        l, r = 1, n - 2\n",
    "        totalWater = 0\n",
    "        while l <= r:\n",
    "            if lmax < rmax:\n",
    "                totalWater += max(0, lmax - height[l])\n",
    "                lmax = max(lmax, height[l])\n",
    "                l += 1\n",
    "            else:\n",
    "                totalWater += max(0, rmax-height[r])\n",
    "                rmax = max(rmax, height[r])\n",
    "                r -= 1\n",
    "        return totalWater"
   ]
  },
  {
   "cell_type": "markdown",
   "id": "bd5bd4bf-9741-48b2-be0b-0d57c2e6d8ca",
   "metadata": {},
   "source": [
    "---\n",
    "### Q4: Find The Duplicate (LC.287)\n",
    "*Given an array of integers nums containing n + 1 integers where each integer is in the range [1, n] inclusive.*         \n",
    "*There is only one repeated number in nums, return this repeated number.*         \n",
    "*You must solve the problem without modifying the array nums and using only constant extra space.*"
   ]
  },
  {
   "cell_type": "markdown",
   "id": "e54e5a4b-c493-4122-8fbb-0d5527185911",
   "metadata": {},
   "source": [
    "**Solution:**      \n",
    "Think of the array as a linked list, and for a node, the index i is the value of this node, and nums[i] is the next pointer        \n",
    "Since there are 5 position but 4 value, there must be a loop, so we can use the fast-slow pointer technique to find loop entrance        "
   ]
  },
  {
   "cell_type": "code",
   "execution_count": 39,
   "id": "ed05e8ca-3e91-4f87-bcd2-1e34b8960190",
   "metadata": {},
   "outputs": [],
   "source": [
    "class Solution(object):\n",
    "    def findDuplicate(self, nums):\n",
    "        if len(nums) == 1:\n",
    "            return -1\n",
    "        slow = nums[0]\n",
    "        fast = nums[nums[0]]\n",
    "        while fast != slow:\n",
    "            slow = nums[slow]\n",
    "            fast = nums[nums[fast]]\n",
    "        fast = 0\n",
    "        while fast != slow:\n",
    "            slow = nums[slow]\n",
    "            fast = nums[fast]\n",
    "        return slow"
   ]
  },
  {
   "cell_type": "markdown",
   "id": "e0429418-e6f1-4949-b69e-e1598c194eb1",
   "metadata": {},
   "source": [
    "---\n",
    "### Q5: Sort Array By Parity (LC.922)\n",
    "*Given an array of integers nums, half of the integers in nums are odd, and the other half are even.*             \n",
    "*Sort the array so that whenever nums[i] is odd, i is odd, and whenever nums[i] is even, i is even.*         \n",
    "*Return any answer array that satisfies this condition.*       "
   ]
  },
  {
   "cell_type": "code",
   "execution_count": 44,
   "id": "3350f9e2-30f7-4484-9b53-4b22c396ff47",
   "metadata": {},
   "outputs": [],
   "source": [
    "class Solution(object):\n",
    "    def sortArrayByParityII(self, nums):\n",
    "        evenI, oddI = 0, 1\n",
    "        n = len(nums)\n",
    "        while evenI < n and oddI < n:\n",
    "            if nums[n - 1] % 2 == 0:\n",
    "                nums[evenI], nums[n - 1] = nums[n - 1], nums[evenI]\n",
    "                evenI += 2\n",
    "            else:\n",
    "                nums[oddI], nums[n - 1] = nums[n - 1], nums[oddI]\n",
    "                oddI += 2\n",
    "        return nums"
   ]
  },
  {
   "cell_type": "markdown",
   "id": "3246653c-107f-4170-a21d-3794ec4b38d0",
   "metadata": {},
   "source": [
    "---\n",
    "### Q6. Heaters (LC.475)\n",
    "*Winter is coming! During the contest, your first job is to design a standard heater with a fixed warm radius to warm all the houses.*    \n",
    "\n",
    "*Every house can be warmed, as long as the house is within the heater's warm radius range.*\n",
    "\n",
    "*Given the positions of houses and heaters on a horizontal line, return the minimum radius standard of heaters so that those heaters could cover all houses.*\n",
    "\n",
    "*Notice that all the heaters follow your radius standard, and the warm radius will the same.*"
   ]
  },
  {
   "cell_type": "markdown",
   "id": "342886e2-9415-4ddf-83ab-a507897ec390",
   "metadata": {},
   "source": [
    "**Solution:**          \n",
    "Two pointers on different array: We have one pointer points to houses, the other points to heaters.            \n",
    "First we sort both the houses and heaters.           \n",
    "Then for each houses, we find its \"best fitted\" heater, and during this \"fitting\" process we update the minimum radius required.          \n",
    "Suppose our array look like this after sorting:          \n",
    "`Houses:  1 3 4 9 ....`           \n",
    "`Heaters: 1 4 7 ...`          \n",
    "\n",
    "At first pointer `i` and `j` points to the first house and heater respectively. Then we decide for house `i`, is heater `j` the best fit heater?\n",
    "- If it is, we keep `j` at this position and move to the next house to check if `j` is also the best heater for `i + 1`\n",
    "- If it is not, we move `j` to see if `j + 1` is the best heater for `i`\n",
    "- We update minRadius during this process"
   ]
  },
  {
   "cell_type": "code",
   "execution_count": 60,
   "id": "70aa879d-c875-4c7e-b77f-785a2252ed11",
   "metadata": {},
   "outputs": [],
   "source": [
    "class Solution(object):\n",
    "    def findRadius(self, houses, heaters):\n",
    "        houses.sort()\n",
    "        heaters.sort()\n",
    "        minRadius = 0\n",
    "        i, j = 0, 0\n",
    "        while i < len(houses):\n",
    "            while j < len(heaters) - 1 and abs(heaters[j] - houses[i]) >= abs(heaters[j + 1] - houses[i]):\n",
    "                # We must increment j when the difference is equal(so use >= ) since this will help our next houses have a closer heater\n",
    "                j += 1\n",
    "            minRadius = max(minRadius, abs(heaters[j] - houses[i]))\n",
    "            i += 1\n",
    "        return minRadius"
   ]
  },
  {
   "cell_type": "markdown",
   "id": "688802f4-3b1b-4c04-96da-e9fdc7bc45ac",
   "metadata": {},
   "source": [
    "---\n",
    "### Q7. First Missing Positive (LC.41)\n",
    "*Given an unsorted integer array nums. Return the smallest positive integer that is not present in nums.*         \n",
    "*You must implement an algorithm that runs in O(n) time and uses O(1) auxiliary space.*"
   ]
  },
  {
   "cell_type": "markdown",
   "id": "f5b04deb-13aa-4f3f-bb08-d785938e5dba",
   "metadata": {},
   "source": [
    "**Solution:**       \n",
    "Our approach is to try \"sort\" the array in a way that nums[i] = i + 1.        \n",
    "After we have \"sort\" the array in this way, we iterate again and the first position where nums[i] != i + 1 is the first missing positive number.       \n",
    "\n",
    "Define two pointers `l` and `r`:\n",
    "- `l`: all elements on [0, l] is \"sorted\"\n",
    "- `r`: our target---we are trying to collect all numbers from 0~r, therefore:\n",
    "  - The initial value of `r` is `len(nums)`\n",
    "  - Everything on the right of `r` is garbage\n",
    "\n",
    "Then we iterate through the array, and based on the value of `nums[l]` and `nums[r]`, we have 4 cases:\n",
    "1. **nums[l] = l + 1:** this means that this position is already \"sorted\", so we simply increment `l`\n",
    "2. **nums[l] is in the range [l, r]:**  this means that `nums[l]` is a number we want to collect, therefore we put it to the correct index by swapping `nums[l]` with `nums[nums[l - 1]]`\n",
    "3. **nums[l] is in the range [l, r], but nums[l] == nums[nums[l] - 1]:** it means we have a duplicate number, so throw it to the garbage area\n",
    "4. **nums[l] is not in the range [l, r]:** this means nums[l] is garbage, so we throw it to `r` and then decrement `r`"
   ]
  },
  {
   "cell_type": "code",
   "execution_count": 77,
   "id": "6c82aded-50b4-48a2-a686-1ef2b33649f6",
   "metadata": {},
   "outputs": [],
   "source": [
    "class Solution(object):\n",
    "    def firstMissingPositive(self, nums):\n",
    "        l, r = 0, len(nums)\n",
    "        while l < r:\n",
    "            if nums[l] == l + 1:\n",
    "                l += 1                                                           # nums[l] is already \"sorted\", do nothing\n",
    "            elif nums[l] <= l or nums[l] > r or nums[nums[l] - 1] == nums[l]:\n",
    "                r -= 1                                                           # Grow Garbage Area\n",
    "                nums[l], nums[r] = nums[r], nums[l]                              # Throw nums[l] to the garbage area\n",
    "            else:\n",
    "                nums[nums[l] - 1], nums[l] = nums[l], nums[nums[l] - 1]          # Collect number by swapping\n",
    "        return l + 1"
   ]
  },
  {
   "cell_type": "code",
   "execution_count": null,
   "id": "9ee6ecae-f1f2-4d00-9025-4721de090eed",
   "metadata": {},
   "outputs": [],
   "source": []
  }
 ],
 "metadata": {
  "kernelspec": {
   "display_name": "Python 3 (ipykernel)",
   "language": "python",
   "name": "python3"
  },
  "language_info": {
   "codemirror_mode": {
    "name": "ipython",
    "version": 3
   },
   "file_extension": ".py",
   "mimetype": "text/x-python",
   "name": "python",
   "nbconvert_exporter": "python",
   "pygments_lexer": "ipython3",
   "version": "3.12.4"
  }
 },
 "nbformat": 4,
 "nbformat_minor": 5
}
