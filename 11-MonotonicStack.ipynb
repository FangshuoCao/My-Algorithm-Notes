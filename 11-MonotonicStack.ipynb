{
 "cells": [
  {
   "cell_type": "markdown",
   "id": "5bb30761-a014-4b90-bc4a-f3574a54f80d",
   "metadata": {},
   "source": [
    "# 1. Use Mono Stack to Find Next/Previous Smaller/Larger Element\n",
    "Monotonic Stack maintaining elements in either increasing or decreasing order.          \n",
    "It is commonly used to solve the problem of **finding the next and previous greater/smaller element for each element in an array**.            \n",
    "Without monotonic stack, in a ordinary approach we have to iterate to the left and to the right for each index, thus having a time complexity of O(n^2).   \n",
    "Using a monotonic stack allow us to do this in **O(n)**."
   ]
  },
  {
   "cell_type": "markdown",
   "id": "51d50049-188f-4b69-9fba-39e83a306d96",
   "metadata": {},
   "source": [
    "### Procedure\n",
    "1. Create a monotonic stack, the stack follows this rule: **elements on top must be strictly larger than all elements below it**\n",
    "2. iterate through the original array.\n",
    "3. If `stack.empty` or `nums[stack.peek] < nums[i]`, push `i` onto the stack. Note that our stack stores index rather than value\n",
    "4. When the top of the stack is larger, **pop all elements that is larger or equals to nums[i]**, then push i onto the stack\n",
    "5. After we finish iterate through the entire array, pop all the elements that are left on the stack\n",
    "\n",
    "### We Collect Answer Whenever An Element is Popped\n",
    "Whenever a element `X` is popped from the stack:\n",
    "1. Its nearest smaller number on left is the new top of the stack. If the stack is empty after popping `X`, then there is no smaller element on `X`'s left \n",
    "2. If it is popped because of we are trying to push a smaller element `Y` on to the stack, `X`'s nearest smaller number on right is `Y`\n",
    "3. If it is popped during the cleaning stage, there is no smaller element on `X`'s right\n",
    "\n",
    "### Handling Equivalence (Duplicate Values)\n",
    "Suppose we are trying to push 5->3 (index->value) on to the stack. What if top of the stack is also 3?(for example 3->3)        \n",
    "We still pop it and collect answer for 3->3 anyway and fix it later.    \n",
    "\n",
    "Therefore, after we empty the stack, there might be some places in our answer array that is incorrect due to duplicate value.  \n",
    "\n",
    "We can fix those answer in one run.         \n",
    "For each element in the answer array, we check if the `nums[smaller[i][1]] == nums[i]`.    \n",
    "If this is true, it means that we find a value that is incorrectly popped. To fix this, we just let `smaller[i][1] = smaller[smaller[i][1]][1]`.       \n",
    "We only check right because in our stack, the top element is strictly larger than bottom element. Therefore our left answer is always correct.\n",
    "\n",
    "\n",
    "#### **You should design the strategy to handle equivalence value based on the SPECIFIC PROBLEM**\n",
    "Each problem should has its own way for handling equivalence\n",
    "\n",
    "### Time Complexity\n",
    "**O(n)**: Because each element was pushed and popped from the stack only once.         \n",
    "Thus the average for a single element is O(1) \n",
    "\n",
    "### Monotonocity:\n",
    "If you are looking for **nearest smaller**, stack should be: **large on top, small on bottom.**                \n",
    "\n",
    "If you are looking for **nearest larger**, stack should be: **small on top, large on bottom.**"
   ]
  },
  {
   "cell_type": "code",
   "execution_count": 28,
   "id": "77d565ce-2859-4bb5-ae80-f3a082a057bd",
   "metadata": {},
   "outputs": [],
   "source": [
    "class monotonicStack:\n",
    "    stack = [] \n",
    "\n",
    "    def compute(nums):\n",
    "        n = len(nums)\n",
    "        #smaller[i][0]: nearest smaller element on the left of i;        smaller[i][1]: nearest smaller element on the right of i;\n",
    "        smaller = [[-1] * 2 for _ in range(n)]\n",
    "        for i in range(n):\n",
    "            # elements on top is strictly larger\n",
    "            while stack and nums[stack[-1]] >= nums[i]:\n",
    "                cur = stack.pop()\n",
    "                smaller[cur][0] = stack.peek if stack else -1\n",
    "                smaller[cur][1] = i\n",
    "            stack.append(i)\n",
    "\n",
    "        # Clearning stage, pop all element from the stack\n",
    "        while stack:\n",
    "            cur = stack.pop()\n",
    "            smaller[cur][0] = stack[-1] if stack else -1\n",
    "            smaller[cur][1] = -1\n",
    "\n",
    "        # Fix the errors in our answer due to duplicate value\n",
    "        for i in range(n - 2, 0, -1):\n",
    "            if nums[smaller[i][1]] == nums[i]:\n",
    "                smaller[i][1] = smaller[smaller[i][1]][1]\n",
    "        "
   ]
  },
  {
   "cell_type": "code",
   "execution_count": 5,
   "id": "403b12f8-ad0b-4c8d-b5af-975fcb99730e",
   "metadata": {},
   "outputs": [
    {
     "name": "stdout",
     "output_type": "stream",
     "text": [
      "1 1\n",
      "False\n"
     ]
    }
   ],
   "source": [
    "def checkValidString(s):\n",
    "        low, high = 0, 0  # Track min and max open parenthesis counts\n",
    "\n",
    "        for char in s:\n",
    "            if char == '(':\n",
    "                low += 1\n",
    "                high += 1\n",
    "            elif char == ')':\n",
    "                low -= 1\n",
    "                high -= 1\n",
    "            else:  # '*' can act as '(', ')', or ''\n",
    "                low -= 1  # Treat '*' as ')'\n",
    "                high += 1  # Treat '*' as '('\n",
    "            \n",
    "            if high < 0:  # Too many ')'\n",
    "                return False\n",
    "            \n",
    "            low = max(0, low)  # Low cannot be negative\n",
    "\n",
    "        return low == 0  # If low > 0, unmatched '(' remain\n",
    "\n",
    "print(checkValidString(\"*)(\"))"
   ]
  },
  {
   "cell_type": "markdown",
   "id": "1bc04ed0-fcf4-4a0f-9e82-149fefc3503a",
   "metadata": {},
   "source": [
    "---\n",
    "### Q1. Daily Temperatures (LC.739)\n",
    "*Given an array of integers temperatures represents the daily temperatures, return an array answer such that answer[i] is the number of days you have to wait after the ith day to get a warmer temperature. If there is no future day for which this is possible, keep answer[i] == 0 instead.*\n",
    "\n",
    "**Solution:**        \n",
    "This is even easier than our template, since we only need to find the nearest strictly larger value on the right     \n",
    "\n",
    "**Handling Equivalence:**        \n",
    "When we are trying to push an element on to the stack, if `stack[-1] == nums[i]`, we **do NOT pop** the top element and directly push `nums[i]`onto the stack       \n",
    "\n",
    "This is because we only need to find answer on the right! \n",
    "- For example, if our stack is `3, 4, 4`, and `nums[i]` is `5`. We need to pop `3, 4, 4` then push `5`.\n",
    "- Because both `4` are popped by `5`, their answer on the right will be correct!\n",
    "- The only thing that is not correct is the left answer, but the problem doesn't ask about it!"
   ]
  },
  {
   "cell_type": "code",
   "execution_count": 35,
   "id": "824896a8-3140-43ae-b0b5-3a2506f2e694",
   "metadata": {},
   "outputs": [],
   "source": [
    "class Solution(object):\n",
    "    def dailyTemperatures(self, temperatures):\n",
    "        stack = []\n",
    "        n = len(temperatures)\n",
    "        ans = [0] * n\n",
    "        for i in range(n):\n",
    "            # if top element is the same as nums[i], do not pop\n",
    "            while stack and temperatures[stack[-1]] < temperatures[i]:\n",
    "                cur = stack.pop()\n",
    "                ans[cur] = i - cur\n",
    "            stack.append(i)\n",
    "        return ans"
   ]
  },
  {
   "cell_type": "markdown",
   "id": "fe81c2f2-bf07-43cc-81c9-b2d026d76248",
   "metadata": {},
   "source": [
    "---\n",
    "### Q2. Sum Of Subarray Minimums\n",
    "*Given an array of integers arr, find the sum of min(b), where b ranges over every (contiguous) subarray of arr. Since the answer may be large, return the answer modulo 10^9 + 7.*"
   ]
  },
  {
   "cell_type": "markdown",
   "id": "3909e701-bc0f-4043-84c4-4c4e91d3dda1",
   "metadata": {},
   "source": [
    "**Solution:**        \n",
    "For an index `i`, we find the nearest element smaller than `nums[i]` on both side.     \n",
    "Suppose we find index `l` and `r`.       \n",
    "\n",
    "Then `nums[i]` is the minimum element for subarrays with starting range in `[l + 1, i]` and ending range in `[i, r - 1]`.      \n",
    "\n",
    "Thus for index i we got (i - l) * (r - i) subarrays that has `nums[i]` as min.       \n",
    "Therefore, we get the partial sum by multiplying the number of subarrays found and `nums[i]`.    \n",
    "\n",
    "For example, suppose i = 5, l = 2, r = 8             \n",
    "| Index | 0 | 1 | 2 | 3 | 4 | 5 | 6 | 7 | 8 | 9 |\n",
    "|-------|---|---|---|---|---|---|---|---|---|---|\n",
    "| Value | . | . | 2 | 7 | 8 | 6 | 8 | 9 | 6 | 7 |\r\n",
    "\n"
   ]
  },
  {
   "cell_type": "markdown",
   "id": "d7e4bc1a-f3ed-4ac3-bca6-425f5ee7695b",
   "metadata": {},
   "source": [
    "Then we know that these subarrays all has `nums[5] == 6` as min:     \n",
    "- [3, 5], [3, 6], [3, 7], [4, 5], [4, 6], [4, 7], [5, 5], [5, 6], [5, 7]\n",
    "\n",
    "Therefore, we calculate the partial sum for each index `i` and add them up together\n",
    "\n",
    "**Handling Equivalence:**       \n",
    "We calculate the partial sum when an element is popped. But what if an element is popped by itself?     \n",
    "\n",
    "Look at the above value, you may think that we mis counted some subarrays, as the subarray [2, 8], [3, 8], [2, 9]... also have the min element of `nums[6]`.\n",
    " \n",
    "But it's acutually find. When we iterate to index `i = 8`, these will be taken care of!"
   ]
  },
  {
   "cell_type": "code",
   "execution_count": 71,
   "id": "ecbc541d-eb4c-4403-ab50-bf740274a3bc",
   "metadata": {},
   "outputs": [],
   "source": [
    "class Solution(object):\n",
    "    def sumSubarrayMins(self, arr):\n",
    "        MOD = 1000000007\n",
    "        stack = []\n",
    "        n = len(arr)\n",
    "        ans = 0\n",
    "        for i in range(n):\n",
    "            while stack and arr[stack[-1]] >= arr[i]:\n",
    "                cur = stack.pop()\n",
    "                r = i\n",
    "                l = stack[-1] if stack else -1\n",
    "                ans += (arr[cur] * (cur - l) * (r - cur)) % MOD\n",
    "            stack.append(i)\n",
    "        \n",
    "        while stack:\n",
    "            cur = stack.pop()\n",
    "            r = n\n",
    "            l = stack[-1] if stack else -1\n",
    "            ans += (arr[cur] * (cur - l) * (r - cur)) % MOD\n",
    "\n",
    "        return ans % MOD"
   ]
  },
  {
   "cell_type": "markdown",
   "id": "342ab400-b197-4c44-ae4f-c614f36d7404",
   "metadata": {},
   "source": [
    "---\n",
    "### Q3. Largest Rectangle In Histogram (LC.84)\n",
    "*Given an array of integers heights representing the histogram's bar height where the width of each bar is 1, return the area of the largest rectangle in the histogram.*\n",
    "\n",
    "**Solution:**          \n",
    "Iterate through the array, for each position we consider: If I want to use heights[i] as height, what is the max area I can get?               \n",
    "If we want to use height[i] as height, we need to find the nearest smaller height on both left and right, so use a monotonic stack.      \n",
    "Then we find the max area among using difference heights as we iterate through the array.\n",
    "\n",
    "**Handling Equivalence:**          \n",
    "Again, similar to Q2, we don't need to manually handle equivalence, even if the current area is not the actual correct result due to equivalence.       \n",
    "Later when we meet this equivalent value again our algorithm will be able to fix it automatically."
   ]
  },
  {
   "cell_type": "code",
   "execution_count": 89,
   "id": "cedc6d03-43bb-4829-b901-bd9f771d4196",
   "metadata": {},
   "outputs": [],
   "source": [
    "class Solution(object):\n",
    "    def largestRectangleArea(self, heights):\n",
    "        n = len(heights)\n",
    "        stack = []\n",
    "        ans = 0\n",
    "        for i in range(n):\n",
    "            while stack and heights[stack[-1]] >= heights[i]:\n",
    "                cur = stack.pop()\n",
    "                l = stack[-1] if stack else -1\n",
    "                ans = max(ans, (i - l - 1) * heights[cur])\n",
    "            stack.append(i)\n",
    "        \n",
    "        while stack:\n",
    "            cur = stack.pop()\n",
    "            l = stack[-1] if stack else -1\n",
    "            ans = max(ans, (n - l - 1) * heights[cur])\n",
    "        \n",
    "        return ans"
   ]
  },
  {
   "cell_type": "markdown",
   "id": "c84cd684-dc6c-4b70-a44b-4a3f614c4d93",
   "metadata": {},
   "source": [
    "---\n",
    "### Q4. Maximal Rectangle\n",
    "*Given a rows x cols binary matrix filled with 0's and 1's, find the largest rectangle containing only 1's and return its area.*\n",
    "\n",
    "**Solution:**        \n",
    "The 2D version of Q3. Basically the same question.        \n",
    "We just need to iterate through all the rows, and consider: If I must use row[i] as the base of the rectangle, what is the largest rectangle I can get?      \n",
    "Then we use matrix compression to change the `submatrix[0, i][j]` into an array `heights[j]`.         \n",
    "Then this question beceome exactly the same as Q3."
   ]
  },
  {
   "cell_type": "code",
   "execution_count": 91,
   "id": "8c7f3793-4c5a-463f-9c14-10ea67dd45ab",
   "metadata": {},
   "outputs": [],
   "source": [
    "class Solution(object):\n",
    "    def maximalRectangle(self, matrix):\n",
    "        m = len(matrix)\n",
    "        n = len(matrix[0])\n",
    "\n",
    "        # \"Compress\" the matrix into array of heights\n",
    "        # then this problem become the \"largest rectangle in histogram\" problem\n",
    "        heights = [[0] * n for _ in range(m)]\n",
    "\n",
    "        for j in range(n):\n",
    "            heights[0][j] = int(matrix[0][j])\n",
    "\n",
    "        for i in range(1, m):\n",
    "            for j in range(n):\n",
    "                if matrix[i][j] == '1':\n",
    "                    heights[i][j] = heights[i - 1][j] + 1\n",
    "                else:\n",
    "                    heights[i][j] = 0 \n",
    "\n",
    "        def largestRectangleArea(heights):\n",
    "            stack = []\n",
    "            ans = 0\n",
    "            n = len(heights)\n",
    "            \n",
    "            for i in range(n):\n",
    "                while stack and heights[stack[-1]] >= heights[i]:\n",
    "                    cur = stack.pop()\n",
    "                    l = stack[-1] if stack else -1\n",
    "                    ans = max(ans, (i - l - 1) * heights[cur])\n",
    "                stack.append(i)\n",
    "            \n",
    "            while stack:\n",
    "                cur = stack.pop()\n",
    "                l = stack[-1] if stack else -1\n",
    "                ans = max(ans, (n - l - 1) * heights[cur])\n",
    "            \n",
    "            return ans\n",
    "\n",
    "        ans = 0\n",
    "        for i in range(m):\n",
    "            ans = max(ans, largestRectangleArea(heights[i]))\n",
    "        return ans     "
   ]
  },
  {
   "cell_type": "markdown",
   "id": "495e1ed5-e88e-4f12-a398-a51e59a0b2d4",
   "metadata": {},
   "source": [
    "---\n",
    "# 2. Use Monotonic Stack As A Container For Possible Answers\n",
    "Monotonic Stack can also be used to store possible answers.\n",
    "- When an element is pushed onto the stack, **it \"kick out\" elements on top of the stack as the current element is a better answer candidate** due to monoticity of the problem\n",
    "- When an element is popped, it means this element is **no longer useful and does not participate in future answer finding** process anymore"
   ]
  },
  {
   "cell_type": "markdown",
   "id": "701cd89e-5536-4e5a-b537-11e5272630eb",
   "metadata": {},
   "source": [
    "---\n",
    "### Q1. Maximum Ramp Width (LC.962)\n",
    "*A ramp in an integer array nums is a pair (i, j) for which i < j and nums[i] <= nums[j]. The width of such a ramp is j - i.*\n",
    "*Given an integer array nums, return the maximum width of a ramp in nums. If there is no ramp in nums, return 0.*\n",
    "\n",
    "**Solution:**                 \n",
    "We use a monotonic stack in which elements on top is strictly smaller than elements in bottom.         \n",
    "\n",
    "We iterate from left to right, and for an element `nums[i]`, we only put it onto the stack if it is smaller than `stack[-1]`\n",
    "- This is because we are iterating from left to right, therefore if `nums[i] > stack[-1]` it is **not a possible answer** because stack[-1] is further on the left and smaller at the same time\n",
    "- What we pushed on to the stack is the candidate first element in the answer pair\n",
    "\n",
    "When we finish filling the stack with possible answers, we iterate through the array again but from the right. This time we are looking for possible second elements in the answer pair.   \n",
    "- If the top of the stack doesn't work with the current element, we skip this element and move to the left\n",
    "- If the top of the stack work, we pop the top of the stack, update answer, and check with the next top element!\n",
    "- We can pop an element since once it got paired with an element from right, it will no longer participate in the process of answer finding, since all elements below it on the stack are better possible candidates!(since the elements below are furthur on the left)"
   ]
  },
  {
   "cell_type": "code",
   "execution_count": 7,
   "id": "f1b0cc51-cd32-43c6-bd9c-ccafbba7e833",
   "metadata": {},
   "outputs": [],
   "source": [
    "class Solution(object):\n",
    "    def maxWidthRamp(self, nums):\n",
    "        n = len(nums)\n",
    "        stack = []\n",
    "        stack.append(0)\n",
    "        for i in range(n):\n",
    "            if nums[i] < nums[stack[-1]]:\n",
    "                stack.append(i)\n",
    "        ans = 0\n",
    "        for i in range(n - 1, -1, -1):\n",
    "            while stack and nums[i] >= nums[stack[-1]]:\n",
    "                cur = stack.pop()\n",
    "                ans = max(ans, i - cur)\n",
    "        return ans"
   ]
  },
  {
   "cell_type": "markdown",
   "id": "697ca27f-a94d-4f7b-a340-baa37bd033c8",
   "metadata": {},
   "source": [
    "---\n",
    "### Q2. Remove Duplicate Letters (LC.316)\n",
    "*Given a string s, remove duplicate letters so that every letter appears once and only once. You must make sure your result is \n",
    "the smallest in lexicographical order among all possible results.*\n",
    "\n",
    "**Solution:**          \n",
    "This time, we directly store our answer string in a monotonic stack.           \n",
    "We first iterate through the array to get the count of each character, then start pushing letters on to the stack.          \n",
    "Elements on top should be strictly larger than elements in the bottom.  "
   ]
  },
  {
   "cell_type": "code",
   "execution_count": 6,
   "id": "63560fdf-4596-4a25-8557-846e5e7a5ca9",
   "metadata": {},
   "outputs": [],
   "source": [
    "class Solution(object):\n",
    "    def removeDuplicateLetters(self, s):\n",
    "        lettersCnt = defaultdict(int)\n",
    "        collected = set()                               # Keep track of what letters are already included in the answer\n",
    "        for ch in s:\n",
    "            lettersCnt[ch] += 1\n",
    "        stack = []\n",
    "        for ch in s:\n",
    "            if ch not in collected:                    # If letter already collected, skip\n",
    "                # Note that we can only pop an element if we are able to add it back later i.e. the letter will also occur later\n",
    "                while stack and stack[-1] >= ch and lettersCnt[stack[-1]] >= 1:\n",
    "                    cur = stack.pop()\n",
    "                    collected.remove(cur)\n",
    "                stack.append(ch)\n",
    "                collected.add(ch)\n",
    "            lettersCnt[ch] -= 1\n",
    "        return \"\".join(stack)"
   ]
  },
  {
   "cell_type": "markdown",
   "id": "0b17b55f-0480-4796-b373-990ff67cc1fb",
   "metadata": {},
   "source": [
    "---\n",
    "### Q3. Count Submatrices With All Ones (LC.1504)\n",
    "*Given an m x n binary matrix mat, return the number of submatrices that have all ones.*"
   ]
  },
  {
   "cell_type": "code",
   "execution_count": null,
   "id": "7b10cd12-c653-4cb3-8bec-0a56ecbaf98c",
   "metadata": {},
   "outputs": [],
   "source": []
  }
 ],
 "metadata": {
  "kernelspec": {
   "display_name": "Python 3 (ipykernel)",
   "language": "python",
   "name": "python3"
  },
  "language_info": {
   "codemirror_mode": {
    "name": "ipython",
    "version": 3
   },
   "file_extension": ".py",
   "mimetype": "text/x-python",
   "name": "python",
   "nbconvert_exporter": "python",
   "pygments_lexer": "ipython3",
   "version": "3.12.4"
  }
 },
 "nbformat": 4,
 "nbformat_minor": 5
}
