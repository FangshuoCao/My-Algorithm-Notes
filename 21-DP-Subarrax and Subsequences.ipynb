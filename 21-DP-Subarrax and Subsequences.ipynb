{
 "cells": [
  {
   "cell_type": "markdown",
   "id": "e323a0f9-2c06-444f-ba16-7f19b38c5151",
   "metadata": {},
   "source": [
    "# Important Note\n",
    "Our definition for dp[i] can is usually different for **subarray** and **subsequence**:\n",
    "- For subarray\n",
    "  - dp[i] is usually **{whatever asked} for subarray that ENDS with nums[i]**\n",
    "  - Thus return value is usually **max(dp)**"
   ]
  },
  {
   "cell_type": "markdown",
   "id": "0f637f9d-f9ef-4a23-8f3d-b01c88862d6a",
   "metadata": {},
   "source": [
    "- For subsequence\n",
    "  - dp[i] is uaually **{whatever asked} for the subsequences in nums[:i]**\n",
    "  - Thus return value is usually **dp[-1]**\n",
    "  - Doesn't apply to LIS(Longest Increasing Subsequence) problems"
   ]
  },
  {
   "cell_type": "markdown",
   "id": "fde5fb9c-7c96-4a6f-b027-ff508f25a2b3",
   "metadata": {},
   "source": [
    "---\n",
    "# Part I: Sum Of Subarray/Subsequence"
   ]
  },
  {
   "cell_type": "markdown",
   "id": "fc07c191-2b4e-40f0-bbf6-c0393781df9d",
   "metadata": {},
   "source": [
    "### Q1: Maximum Subarray(LC. 53) --- Classic Problem\n",
    "*Given an integer array nums, find the subarray with the largest sum, and return its sum.*"
   ]
  },
  {
   "cell_type": "markdown",
   "id": "ad94edb6-792e-4faa-ba10-8d994dca78b4",
   "metadata": {},
   "source": [
    "**Solution**:      \n",
    "**dp[i] : the max sum for a subarray ending with position i**      \n",
    "\n",
    "For a position i, there is only two options for the substring:\n",
    "- Include only itself\n",
    "  - dp[i] = arr[i]\n",
    "- Include some substring before it\n",
    "  - Because subarray is contiguous, if a subarray want to include some sub array before it, it must include arr[i - 1], and the max that end with arr[i - 1] is dp[i - 1]\n",
    "  - Thus if dp[i - 1] > 0 we should include it, if dp < 0 we should not\n",
    "  - Whether dp[i - 1] == 0 should be included depends on question specification\n",
    "    - For this question it doesn't matter, but if you want the substr to be longer while being max, include it\n",
    "- Compare the two option, we get\n",
    "  - `dp[i] = arr[i] is dp[i - 1] < 0 else arr[i] + dp[i - 1]`\n",
    "  - Or simply write `dp[i] = max(dp[i - 1] + nums[i], nums[i])`"
   ]
  },
  {
   "cell_type": "code",
   "execution_count": 59,
   "id": "11f3267e-91e6-4369-9579-01b5508c15a8",
   "metadata": {},
   "outputs": [],
   "source": [
    "class Solution(object):\n",
    "    def maxSubArray(self, nums):\n",
    "        n = len(nums)\n",
    "        dp = [0] * n\n",
    "        dp[0] = nums[0]\n",
    "        ans = nums[0]\n",
    "        for i in range(1, n):\n",
    "            dp[i] = max(dp[i - 1] + nums[i], nums[i])\n",
    "            ans = max(ans, dp[i])\n",
    "        return ans"
   ]
  },
  {
   "cell_type": "markdown",
   "id": "eb4d7e6f-46a7-44f0-a836-600a4c05d017",
   "metadata": {},
   "source": [
    "**Follow Up Question:**           \n",
    "*Also return the start and end index of this maximum subarray*"
   ]
  },
  {
   "cell_type": "code",
   "execution_count": 15,
   "id": "09586367-b162-4aab-9e10-e06e45a6faf4",
   "metadata": {},
   "outputs": [],
   "source": [
    "class Solution(object):\n",
    "    def maxSubArray(self, nums):\n",
    "        n = len(nums)\n",
    "        dp = [0] * n\n",
    "        dp[0] = nums[0]\n",
    "        ans = nums[0]\n",
    "        start, cur_start, end = 0, 0, 0\n",
    "        for i in range(1, n):\n",
    "            if dp[i - 1] < 0:\n",
    "                cur_start = i\n",
    "                dp[i] = nums[i]\n",
    "            else:\n",
    "                dp[i] = nums[i] + dp[i - 1]\n",
    "            if dp[i] > ans:\n",
    "                ans = dp[i]\n",
    "                start = cur_start\n",
    "                end = i\n",
    "        return [ans, start, end]"
   ]
  },
  {
   "cell_type": "markdown",
   "id": "671ccb68-1503-4811-a897-aeab726a037c",
   "metadata": {},
   "source": [
    "---\n",
    "### Q2: Maximum Sum Circular Subarray (LC.918)\n",
    "*Given a circular integer array nums of length n, return the maximum possible sum of a non-empty subarray of nums.*          \n",
    " \n",
    "*A circular array means the end of the array connects to the beginning of the array. Formally, the next element of nums[i] is nums[(i + 1) % n] and the previous element of nums[i] is nums[(i - 1 + n) % n].*\n",
    "\n",
    "*A subarray may only include each element of the fixed buffer nums at most once. Formally, for a subarray nums[i], nums[i + 1], ..., nums[j], there does not exist i <= k1, k2 <= j with k1 % n == k2 % n.*"
   ]
  },
  {
   "cell_type": "markdown",
   "id": "18f3fb48-8d40-43dc-ad31-427fb0383fa6",
   "metadata": {},
   "source": [
    "**Solution:**   \n",
    "The question is almost the same as Q1, and if you consider it, we got two cases for our answer:\n",
    "- Case 1: The mas subarray is between 0, n - 1\n",
    "  - Then this is the same as Q1, normal max subarr sum problem"
   ]
  },
  {
   "cell_type": "markdown",
   "id": "d422ed2f-a012-4561-8b9b-639c8a3b4fa5",
   "metadata": {},
   "source": [
    "- Case 2: The max subarr uses the circularity, start from the end, and end in the front, meaning it is composed of [start, n-1] and [0, end]\n",
    "  - **Key point: In this case, we are essentially just \"carve out\" a middle part from the original array**\n",
    "  - Therefore, the max subarr sum is (total sum) - (min subarr sum)"
   ]
  },
  {
   "cell_type": "markdown",
   "id": "b7a83a61-c3ef-47f1-aac2-2935d9586b18",
   "metadata": {},
   "source": [
    "Note that we need to check when we return. Because empty set is not a valid answer, we need to return `max_sum` when `min_sum` is the sum of the entire array(indicating that all numbers in the array are negative)"
   ]
  },
  {
   "cell_type": "code",
   "execution_count": 36,
   "id": "1691e1f7-959e-47c9-b009-4c0c3cf02a8b",
   "metadata": {},
   "outputs": [],
   "source": [
    "class Solution(object):\n",
    "    def maxSubarraySumCircular(self, nums):\n",
    "        n = len(nums)\n",
    "        dpmax = [0] * n\n",
    "        dpmin = [0] * n\n",
    "\n",
    "        dpmax[0], dpmin[0] = nums[0], nums[0]\n",
    "        max_sum, min_sum, total_sum = nums[0], nums[0], nums[0]\n",
    "\n",
    "        for i in range(1, n):\n",
    "            total_sum += nums[i]\n",
    "            dpmax[i] = max(dpmax[i - 1] + nums[i], nums[i])\n",
    "            max_sum = max(max_sum, dpmax[i])\n",
    "            dpmin[i] = min(dpmin[i - 1] + nums[i], nums[i])\n",
    "            min_sum = min(min_sum, dpmin[i])\n",
    "            \n",
    "        return max_sum if min_sum == total_sum else max(max_sum, total_sum - min_sum)"
   ]
  },
  {
   "cell_type": "markdown",
   "id": "92c16357-ad6b-41b7-a1be-cda2dffc41e8",
   "metadata": {},
   "source": [
    "---\n",
    "### Q3: Maximum Product Subarray (LC.152)\n",
    "*Given an integer array nums, find a subarray that has the largest product, and return the product.*         \n",
    "*The test cases are generated so that the answer will fit in a 32-bit integer.*\n",
    "\n",
    "**Solution:**      \n",
    "The key point in this question is the sign:\n",
    "- If you multiply a large number(>0) to a negative number, you get a very small number\n",
    "- If you multiply a small number(<0) to a negative number, you get a very large number           \n",
    "\n",
    "Therefore we need 2 DP array:\n",
    "- dpmax[i]: max product of subarray end with nums[i]\n",
    "- dpmin[i]: min product of subarray end with nums[i]\n",
    "\n",
    "Now there are 3 candidates for the max product of subarray end with nums[i]\n",
    "- nums[i] alone\n",
    "- nums[i] * dpmax[i - 1]\n",
    "- nums[i] * dpmin[i - 1]\n",
    "\n",
    "Depend on the sign of nums[i], dpmax[i-1], and dpmin[i-1], either one can be the dpmax[i] or dpmin[i].        \n",
    "Therefore we just simply compare them and update both dp table\n"
   ]
  },
  {
   "cell_type": "code",
   "execution_count": 80,
   "id": "cc1de0be-60c8-4947-915d-54e51614513d",
   "metadata": {},
   "outputs": [],
   "source": [
    "class Solution(object):\n",
    "    def maxProduct(self, nums):\n",
    "        n = len(nums)\n",
    "        if n == 1:\n",
    "            return nums[0]\n",
    "\n",
    "        # because we are dealing with product, initialize both dp array to 1\n",
    "        dpmin = [1] * n\n",
    "        dpmax = [1] * n\n",
    "        dpmin[0], dpmax[0] = nums[0], nums[0]\n",
    "        \n",
    "        ans = nums[0]\n",
    "        for i in range(1, n):\n",
    "            dpmax[i] = max(nums[i], max(dpmax[i - 1] * nums[i], dpmin[i - 1] * nums[i]))\n",
    "            dpmin[i] = min(nums[i], min(dpmax[i - 1] * nums[i], dpmin[i - 1] * nums[i]))\n",
    "            ans = max(dpmax[i], ans)\n",
    "\n",
    "        return ans"
   ]
  },
  {
   "cell_type": "markdown",
   "id": "5186bcd7-16a0-4a6a-adb6-f7d49f1af64e",
   "metadata": {},
   "source": [
    "---\n",
    "### Maximum Sum Of 3 Non-Overlapping Subarray\n",
    "*Given an integer array nums and an integer k, find three non-overlapping subarrays of length k with maximum sum and return them.*        \n",
    "\n",
    "*Return the result as a list of indices representing the starting position of each interval (0-indexed). If there are multiple answers, return the lexicographically smallest one.*"
   ]
  },
  {
   "cell_type": "code",
   "execution_count": null,
   "id": "3794e7ff-1c87-4c1f-bb8e-6686c497d76b",
   "metadata": {},
   "outputs": [],
   "source": [
    "Later..."
   ]
  },
  {
   "cell_type": "markdown",
   "id": "94d76482-e918-465a-a27b-9fd1ecbf6ed4",
   "metadata": {},
   "source": [
    "---\n",
    "### Q4: House Robber (LC.198) --- Classic Problem\n",
    "*You are a professional robber planning to rob houses along a street. Each house has a certain amount of money stashed, the only constraint stopping you from robbing each of them is that adjacent houses have security systems connected and it will automatically contact the police if two adjacent houses were broken into on the same night.*        \n",
    "\n",
    "*Given an integer array nums representing the amount of money of each house, return the maximum amount of money you can rob tonight without alerting the police.*"
   ]
  },
  {
   "cell_type": "markdown",
   "id": "299e58c4-cf73-4b16-a088-04bea203e8c3",
   "metadata": {},
   "source": [
    "**Solution:**     \n",
    "This is a very classic subsequence sum problem where we cannot take the neighbor elements        \n",
    "\n",
    "**dp[i]:** The max subsequence in s[:i] while we can't choose neighbor element\n",
    "\n",
    "**State Transition:** We got 3 options here:\n",
    "- if we don't take from this house\n",
    "  - then our best choice is to take the previous house, dp[i] = dp[i - 1]\n",
    "- if we take from this house, classical max sub array\n",
    "  - we can take the previousPrevious house dp[i] = dp[i - 2] + nums[i]\n",
    "  - or we take from this house alone dp[i] = nums[i] (In this problem we don't really care about this, since all numbers >= 0)"
   ]
  },
  {
   "cell_type": "code",
   "execution_count": 51,
   "id": "f4dd8d18-3b4d-49d4-94d8-6092737a18ad",
   "metadata": {},
   "outputs": [],
   "source": [
    "class Solution(object):\n",
    "    def rob(self, nums):\n",
    "        n = len(nums)\n",
    "        \n",
    "        #handle edge cases\n",
    "        if n == 0:\n",
    "            return 0\n",
    "        if n == 1:\n",
    "            return nums[0]\n",
    "\n",
    "        dp = [0] * n\n",
    "        dp[0], dp[1] = nums[0], max(nums[0], nums[1])\n",
    "        \n",
    "        for i in range(2, n):\n",
    "            dp[i] = max(dp[i - 1], max(dp[i - 2] + nums[i], nums[i]))\n",
    "\n",
    "        return dp[-1]"
   ]
  },
  {
   "cell_type": "markdown",
   "id": "9768e987-ed93-4ca8-b469-99425177a802",
   "metadata": {},
   "source": [
    "---\n",
    "### Q5: House Robber II (LC.213)\n",
    "*You are a professional robber planning to rob houses along a street. Each house has a certain amount of money stashed. All houses at this place are arranged in a circle. That means the first house is the neighbor of the last one. Meanwhile, adjacent houses have a security system connected, and it will automatically contact the police if two adjacent houses were broken into on the same night.*\n",
    "\n",
    "*Given an integer array nums representing the amount of money of each house, return the maximum amount of money you can rob tonight without alerting the police.*"
   ]
  },
  {
   "cell_type": "markdown",
   "id": "b6aa7fdb-d24e-4c49-afb5-23cf25ec7050",
   "metadata": {},
   "source": [
    "**Solution:**             \n",
    "This is not a \"real\" circular problem, since we basically have two cases:\n",
    "- If we took from house 0, then we cannot take from house n-1, so our option is [2, n-2]\n",
    "- If we don't take from house 1, our option is [1, n - 1]\n",
    "\n",
    "Definition for DP is the same"
   ]
  },
  {
   "cell_type": "code",
   "execution_count": 67,
   "id": "7d9ec9a6-482f-4d66-be02-d574c6c7197a",
   "metadata": {},
   "outputs": [],
   "source": [
    "class Solution(object):\n",
    "    def rob(self, nums):\n",
    "        n = len(nums)\n",
    "\n",
    "        # Handle Edge Cases\n",
    "        if n == 0:\n",
    "            return 0\n",
    "        if n == 1:\n",
    "            return nums[0]\n",
    "\n",
    "        # Classical House Robber Problem With Space Optimization\n",
    "        def max_sub_seq(nums, l, r):\n",
    "            if l > r:\n",
    "                return 0\n",
    "            if l == r:\n",
    "                return nums[l]\n",
    "            if l + 1 == r:\n",
    "                return max(nums[l], nums[r])\n",
    "\n",
    "            pre_pre = nums[l]\n",
    "            pre = max(nums[l], nums[l + 1])\n",
    "            for i in range(l + 2, r + 1):\n",
    "                cur = max(pre, max(pre_pre + nums[i], nums[i]))\n",
    "                pre_pre = pre\n",
    "                pre = cur\n",
    "            return pre\n",
    "\n",
    "        case1 = nums[0] + max_sub_seq(nums, 2, n - 2)\n",
    "        case2 = max_sub_seq(nums, 1, n - 1)\n",
    "        \n",
    "        return max(case1, case2)\n",
    "\n",
    "        "
   ]
  },
  {
   "cell_type": "markdown",
   "id": "5e0362bb-4f5b-42f3-8290-9a959c265215",
   "metadata": {},
   "source": [
    "---\n",
    "### Q6: House Robber IV (LC.2560)\n",
    "*There are several consecutive houses along a street, each of which has some money inside. There is also a robber, who wants to steal money from the homes, but he refuses to steal from adjacent homes.*\n",
    "\n",
    "*The `capability` of the robber is the maximum amount of money he steals from one house of all the houses he robbed.*\n",
    "\n",
    "*You are given an integer array nums representing how much money is stashed in each house. More formally, the ith house from the left has nums[i] dollars.*\n",
    "\n",
    "*You are also given an integer `k`, representing the minimum number of houses the robber will steal from. It is always possible to steal at least k houses.*\n",
    "\n",
    "*Return the `minimum capability` of the robber out of all the possible ways to steal at least k houses.*"
   ]
  },
  {
   "cell_type": "markdown",
   "id": "7957b9ab-024f-4c59-b575-96b4bf75ed46",
   "metadata": {},
   "source": [
    "**Solution:**         \n",
    "DP + Binary Search On Answer\n",
    "\n",
    "You should realize that this is a binary search problem once you read the problem. There is a clear monotonic relationship:        \n",
    "**\"The higher the capability is, more houses can the thief steal from\"**\n",
    "\n",
    "Also, we know the range of capability:    \n",
    "**max(capability) = max(nums), min(capability) = min(nums)**\n",
    "\n",
    "So now we just need to define a function for our binary search:\n",
    "- **F(capability): Given the capability of the thief is `capability`, how many houses can he steal from?**"
   ]
  },
  {
   "cell_type": "code",
   "execution_count": 106,
   "id": "336e5d0a-4bb9-4a0a-9a1e-06eaa4b52e54",
   "metadata": {},
   "outputs": [],
   "source": [
    "class Solution(object):\n",
    "    def minCapability(self, nums, k):\n",
    "        n = len(nums)\n",
    "        r = max(nums)\n",
    "        l = min(nums)\n",
    "        ans = k\n",
    "\n",
    "        def houses_robbed_dp(nums, capability):\n",
    "            if n == 1:\n",
    "                return 1 if capability >= nums[0] else 0\n",
    "            if n == 2:\n",
    "                return 1 if capability >= nums[0] or capability >= nums[1] else 0\n",
    "\n",
    "            dp = [0] * n\n",
    "            dp[0] = 1 if capability >= nums[0] else 0\n",
    "            dp[1] = 1 if capability >= nums[0] or capability >= nums[1] else 0\n",
    "\n",
    "            for i in range(2, n):\n",
    "                take_pre = dp[i - 1]\n",
    "                take_cur = dp[i - 2]\n",
    "                if capability >= nums[i]:\n",
    "                    take_cur += 1\n",
    "                dp[i] = max(take_pre, take_cur)\n",
    "            \n",
    "            return dp[-1]\n",
    "\n",
    "\n",
    "        while l <= r:\n",
    "            m = (l + r) // 2\n",
    "            if houses_robbed_dp(nums, m) < k:\n",
    "                l = m + 1\n",
    "            else:\n",
    "                ans = m\n",
    "                r = m - 1\n",
    "\n",
    "        return ans"
   ]
  },
  {
   "cell_type": "markdown",
   "id": "bd744358-d498-4dc2-80c2-549d353f9a1c",
   "metadata": {},
   "source": [
    "**Optimization:**         \n",
    "We can optimize our house_robbed() function using a greedy approach since we only care about the number of houses robbed instead of the amount of money robbed.           \n",
    "**Therefore, we rob a house as long as we can**"
   ]
  },
  {
   "cell_type": "code",
   "execution_count": 104,
   "id": "90a3bb2e-38f4-4461-a1a2-186eea2340f0",
   "metadata": {},
   "outputs": [],
   "source": [
    "def houses_robbed_greedy(nums, capability):\n",
    "    cnt = 0\n",
    "    i, n = 0, len(nums)\n",
    "    while i < n:\n",
    "        if capability >= nums[i]:\n",
    "            cnt += 1\n",
    "            i += 2\n",
    "        else:\n",
    "            i += 1\n",
    "    return cnt"
   ]
  },
  {
   "cell_type": "markdown",
   "id": "2e30df81-432c-4c90-b095-72aef25c2e8f",
   "metadata": {},
   "source": [
    "---\n",
    "# Part II: Longest Increasing Subsequences"
   ]
  },
  {
   "cell_type": "markdown",
   "id": "e893f81c-cbb7-47b8-b514-c651ae30cf0a",
   "metadata": {},
   "source": [
    "### Q1: Longest Increating Subsequence (LC.300)\n",
    "*Given an integer array nums, return the length of the longest strictly increasing subsequence.*"
   ]
  },
  {
   "cell_type": "markdown",
   "id": "279fd482-2013-45ef-be3b-b0009131a7df",
   "metadata": {},
   "source": [
    "#### **Basic Approach With DP**\n",
    "\n",
    "Define **dp[i]: length of the longest strictly increasing subsequence that ends with number nums[i].**    \n",
    "\n",
    "For each element nums[i]\n",
    "- we check all previous elements nums[j] (j < i)\n",
    "- if nums[j] < nums[i], we can extend the subsequence that ends with nums[j] by including nums[i].\n",
    "\n",
    "**Time Complexity: O(n^2)**         \n",
    "There are n cells, and for each cell we need to iterate all the elements before it"
   ]
  },
  {
   "cell_type": "code",
   "execution_count": null,
   "id": "a97cc407-4e37-4ddc-a86c-97ea6ebebbcb",
   "metadata": {},
   "outputs": [],
   "source": [
    "class Solution(object):\n",
    "    def lengthOfLIS(self, nums):\n",
    "        n = len(nums)\n",
    "        dp = [1] * n\n",
    "        ans = 1\n",
    "        for i in range(1, n):\n",
    "            for j in range(i):\n",
    "                if nums[i] > nums[j]:\n",
    "                    dp[i] = max(dp[i], dp[j] + 1)\n",
    "                ans = max(ans, dp[i])\n",
    "        return ans"
   ]
  },
  {
   "cell_type": "markdown",
   "id": "432e3ee2-334a-4563-a8a3-5373aec0cf42",
   "metadata": {},
   "source": [
    "### DISREGARD THIS, GO DIRECTLY TO THE FINAL OPTIMIZATION SINCE DP IS NOT NEEDED\n",
    "**Optimization Using Binary Search---**\n",
    "\n",
    "**dp[i]** is the same: **length of the longest strictly increasing subsequence that ends with number nums[i].**\n",
    "\n",
    "Define **ends[i]: the smallest possible end element of an increasing subsequence of length i+1**\n",
    "\n",
    "For each element in nums, we perform a binary search on `ends` to find the leftmost element in `ends` that is larger than or equal to `nums[i]`\n",
    "- If we find one, it means that we have already found a subsequence whose last element is larger than or equal to `nums[i]`.\n",
    "  - This means **`nums[i]` can replace that element and become the new, smaller end of a subsequence of the same length.**\n",
    "  - This replacement is beneficial because it allows us to potentially build longer subsequences with smaller end elements."
   ]
  },
  {
   "cell_type": "markdown",
   "id": "7c5e8dbc-ac05-498c-a2b5-4db2438407e1",
   "metadata": {},
   "source": [
    "- If we don't find one, it means that all subsequences we've found so far end with elements smaller than `nums[i]`.\n",
    "  - Therefore, **`nums[i]` can be appended as the end of a new subsequence, increasing the length of the longest subsequence found so far**.\n",
    "  - In this case, we also set `dp[i]` to the current size of `ends` plus 1, reflecting the fact that we've extended the longest subsequence."
   ]
  },
  {
   "cell_type": "markdown",
   "id": "68c60687-283a-4e17-aaac-55929cc59529",
   "metadata": {},
   "source": [
    "Because the way we define and set up `ends`, `end` is guaranteed to be **strictly increasing**, thus we can use binary search.       \n",
    "\n",
    "**Time Complexity:** O(nlogn)"
   ]
  },
  {
   "cell_type": "code",
   "execution_count": 137,
   "id": "bde9a3f4-5a67-49b5-876f-fb819b718966",
   "metadata": {},
   "outputs": [],
   "source": [
    "class Solution(object):\n",
    "    def lengthOfLIS(self, nums):\n",
    "        n = len(nums)\n",
    "        dp = [0] * n\n",
    "        ends = [0] * n\n",
    "        length = 0                              # Length of the longest subsequences we have found so far, and it is also the size of `ends`\n",
    "\n",
    "        # Binary Search\n",
    "        def bs(ends, length, target):\n",
    "            l, r = 0, length - 1\n",
    "            ans = -1\n",
    "            while l <= r:\n",
    "                m = (l + r) // 2\n",
    "                if ends[m] >= target:           # find smallest ends[m] >= target, since strictly increasing\n",
    "                    ans = m                     # if the problem is asking for non-decreasing, then use condition ends[m] > target\n",
    "                    r = m - 1\n",
    "                else:\n",
    "                    l = m + 1\n",
    "            return ans\n",
    "\n",
    "        # Filling DP table\n",
    "        for i in range(n):\n",
    "            j = bs(ends, length, nums[i])       # find the smallest end of subsequence that is greater than or equal to nums[i]\n",
    "            if j == -1:                         # If no valid element is found (j == -1), it means nums[i] can extend the longest subsequence\n",
    "                ends[length] = nums[i]          # Put nums[i] into `ends` as the new end of the longest subsequence\n",
    "                length += 1                     # Since we append nums[i], max length is longer\n",
    "                dp[i] = length                  # length of longest subsequence that end in nums[i]\n",
    "            else:\n",
    "                ends[j] = nums[i]               # If we found an element in ends[j], update it with nums[i] to maintain the smallest possible end element\n",
    "                dp[i] = j + 1                   # Update dp[i] to reflect the length of the subsequence ending with nums[i]\n",
    "                \n",
    "        return length                           # The size of ends is the length of the longest subsequence"
   ]
  },
  {
   "cell_type": "markdown",
   "id": "afa99e7b-12dd-46c3-8c6f-b4d474e770a8",
   "metadata": {},
   "source": [
    "### Final Optimization:   \n",
    "In fact, since all we care is `length`, we don't even need a `dp` array!       \n",
    "We now can purely think of this problem as building the sequence from scratch!\n",
    "It appears the best way to build an increasing subsequence is:\n",
    "- for each elementnum, if `num` is greater than the largest element in our subsequence, then add it to the subsequence.\n",
    "- Otherwise, perform a binary search through the subsequence starting from the smallest element and **replace the first(leftmost) element that is greater than or equal to `num` with `num`**. This opens the door for elements that are greater thannumbut less than the element replaced to be included in the sequence."
   ]
  },
  {
   "cell_type": "code",
   "execution_count": 4,
   "id": "3d6d645c-6520-47ef-81e3-8ad15ebaa301",
   "metadata": {},
   "outputs": [],
   "source": [
    "class Solution(object):\n",
    "    def LIS(self, arr):\n",
    "        seq = []\n",
    "\n",
    "        def bs(target):\n",
    "            l, r = 0, len(seq) - 1\n",
    "            ans = -1\n",
    "            while l <= r:\n",
    "                m = (l + r) // 2\n",
    "                if seq[m] >= target:\n",
    "                    ans = m\n",
    "                    r = m - 1\n",
    "                else:\n",
    "                    l = m + 1\n",
    "            return ans\n",
    "\n",
    "        for num in arr:\n",
    "            j = bs(num)\n",
    "            if j == -1:\n",
    "                ends.append(num) \n",
    "            else:\n",
    "                seq[j] = num\n",
    "\n",
    "        return len(ends)"
   ]
  },
  {
   "cell_type": "markdown",
   "id": "d2889ff5-42e5-4a9d-a902-5cd58cb3624c",
   "metadata": {},
   "source": [
    "#### Note that in this problem we are looking for strictly increasing order. If we are looking for not strictly increasing, change to seq[m] > target in our binary search"
   ]
  },
  {
   "cell_type": "markdown",
   "id": "f83888c9-a707-4efe-b564-39ae3cbc735e",
   "metadata": {},
   "source": [
    "---\n",
    "### Q2: Russian Doll Envelope\n",
    "*You are given a 2D array of integers envelopes where envelopes[i] = [wi, hi] represents the width and the height of an envelope.*      \n",
    "\n",
    "*One envelope can fit into another if and only if both the width and height of one envelope are greater than the other envelope's width and height.*     \n",
    "\n",
    "*Return the maximum number of envelopes you can Russian doll (i.e., put one inside the other).*   \n",
    " \n",
    "*Note: You cannot rotate an envelope.*    "
   ]
  },
  {
   "cell_type": "markdown",
   "id": "caed5afa-a854-48cb-bd99-82891b9927e9",
   "metadata": {},
   "source": [
    "**Solution:**        \n",
    "We first need to sort the envelopes based on their width. After that, the problem reduces to finding the longest strictly increasing subsequence in the heights of the envelopes---Exactly the same question as Q1.\n",
    "\n",
    "**Key Point: During our sorting, if we find two envelopes with the same width, the one with the larger height should be placed on the left!(Decreasing Order)**       \n",
    "Because when finding the Longest Increasing Subsequence (LIS), for each element we look to the left: If we sort envelopes with the same width by height in decreasing order, it prevents two envelopes with the same width from being considered part of the LIS based on height alone.\n",
    "\n",
    "If we sorted by height in increasing order, two envelopes with the same width might incorrectly be considered part of the increasing subsequence.\n",
    "- For example, consider two envelopes with the same width, but heights 5 and 6. If we don't sort the heights in decreasing order, the LIS algorithm might think we can use both of them (since 5 < 6), which is incorrect because their widths are the same. "
   ]
  },
  {
   "cell_type": "code",
   "execution_count": 151,
   "id": "720b1a03-f1ad-44cb-8178-f7c8be2c0b43",
   "metadata": {},
   "outputs": [],
   "source": [
    "class Solution(object):\n",
    "    def maxEnvelopes(self, envelopes):\n",
    "        n = len(envelopes)\n",
    "        envelopes.sort(key=lambda x: (x[0], -x[1]))\n",
    "        ends = [0] * n\n",
    "        length = 0\n",
    "    \n",
    "        def bs(ends, length, target):\n",
    "            l, r = 0, length - 1\n",
    "            ans = -1\n",
    "            while l <= r:\n",
    "                m = (l + r) // 2\n",
    "                if ends[m] >= target:\n",
    "                    ans = m\n",
    "                    r = m - 1\n",
    "                else:\n",
    "                    l = m + 1\n",
    "            return ans\n",
    "    \n",
    "        for i in range(n):\n",
    "            curHeight = envelopes[i][1]\n",
    "            find = bs(ends, length, curHeight)\n",
    "            if find == -1:\n",
    "                ends[length] = curHeight\n",
    "                length += 1\n",
    "            else:\n",
    "                ends[find] = curHeight\n",
    "        \n",
    "        return length"
   ]
  },
  {
   "cell_type": "markdown",
   "id": "c0ba2600-ae73-4fe0-b81a-94c1766a9474",
   "metadata": {},
   "source": [
    "---\n",
    "### Q3: Minimum Operation To Make The Array K-Increasing\n",
    "*You are given a 0-indexed array arr consisting of n positive integers, and a positive integer k.*\n",
    "*The array arr is called K-increasing if arr[i-k] <= arr[i] holds for every index i, where k <= i <= n-1.*\n",
    "\n",
    "*For example, arr = [4, 1, 5, 2, 6, 2] is K-increasing for k = 2 because:*\n",
    "- *arr[0] <= arr[2] (4 <= 5)*\n",
    "- *arr[1] <= arr[3] (1 <= 2)*\n",
    "- *arr[2] <= arr[4] (5 <= 6)*\n",
    "- *arr[3] <= arr[5] (2 <= 2)*\n",
    "      \n",
    "*However, the same arr is not K-increasing for k = 1 (because arr[0] > arr[1]) or k = 3 (because arr[0] > arr[3]).*\n",
    "*In one operation, you can choose an index i and change arr[i] into any positive integer.*\n",
    "\n",
    "*Return the minimum number of operations required to make the array K-increasing for the given k.*"
   ]
  },
  {
   "cell_type": "markdown",
   "id": "ce96c365-2575-4f5f-bca8-d4cab1c9512f",
   "metadata": {},
   "source": [
    "**Solution:**\n",
    "The number K basically divide the original array into K different parts, so we treat each part differently\n",
    "For example, if k = 3, our array is divided into 3 parts:\n",
    "- Part1: nums[0] < nums[3] < nums[6] ....\n",
    "- Part2: nums[1] < nums[4] < nums[7] ....\n",
    "- Part3: nums[2] < nums[5] < nums[8] ....\n",
    "\n",
    "We need to make each of these divided array increasing(not strictly), and to do so, we simply need to find the LIS(not strict) of that array       \n",
    "Then the number of operations we need is `len(divided_array) - LIS`"
   ]
  },
  {
   "cell_type": "code",
   "execution_count": 177,
   "id": "77c68f94-3688-499f-90cf-fb43e57d35f6",
   "metadata": {},
   "outputs": [],
   "source": [
    "class Solution(object):\n",
    "    def kIncreasing(self, arr, k):\n",
    "        n = len(arr)\n",
    "\n",
    "        if n == 1:\n",
    "            return 0\n",
    "\n",
    "        num_operations = 0\n",
    "        for i in range(k):\n",
    "            divided_arr = []\n",
    "            for j in range(i, n, k):\n",
    "                divided_arr.append(arr[j])\n",
    "            num_operations += len(divided_arr) - self.LIS(divided_arr)\n",
    "\n",
    "        return num_operations\n",
    "\n",
    "    def LIS(self, arr):\n",
    "        ends = []\n",
    "\n",
    "        def bs(ends, target):\n",
    "            l, r = 0, len(ends) - 1\n",
    "            ans = -1\n",
    "            while l <= r:\n",
    "                m = (l + r) // 2\n",
    "                if ends[m] > target:\n",
    "                    ans = m\n",
    "                    r = m - 1\n",
    "                else:\n",
    "                    l = m + 1\n",
    "            return ans\n",
    "\n",
    "        for num in arr:\n",
    "            j = bs(ends, num)\n",
    "            if j == -1:\n",
    "                ends.append(num) \n",
    "            else:\n",
    "                ends[j] = num\n",
    "\n",
    "        return len(ends)"
   ]
  },
  {
   "cell_type": "markdown",
   "id": "08a641b9-8380-4f6d-a359-d3c6a44bf8a2",
   "metadata": {},
   "source": [
    "---\n",
    "### Q4: Maximum Length Of Pair Chain\n",
    "*You are given an array of n pairs pairs where pairs[i] = [lefti, righti] and lefti < righti.*       \n",
    "*A pair p2 = [c, d] follows a pair p1 = [a, b] if b < c. A chain of pairs can be formed in this fashion.*         \n",
    "*Return the length longest chain which can be formed.*          \n",
    "*You do not need to use up all the given intervals. You can select pairs in any order.*"
   ]
  },
  {
   "cell_type": "markdown",
   "id": "52d46501-cc91-48c9-aa80-5874bcc95afe",
   "metadata": {},
   "source": [
    "**Solution:**\n",
    "Just some slight changes to the original LIS problem.\n",
    "- We sort based on pair[0]\n",
    "- We store value of pair[1] in ends\n",
    "- Be careful when you update ends[j], since we find j based on pair[0] but put in pair[1], the original value in ends[j] might be smaller than pair[1], therefore we update ends[j] using their min"
   ]
  },
  {
   "cell_type": "code",
   "execution_count": null,
   "id": "3624c596-cf70-4464-a375-756308363ad7",
   "metadata": {},
   "outputs": [],
   "source": [
    "class Solution(object):\n",
    "    def findLongestChain(self, pairs):\n",
    "        n = len(pairs)\n",
    "        if n == 1:\n",
    "            return 1\n",
    "            \n",
    "        pairs.sort(key=lambda x: x[0])\n",
    "        dp = [0] * n\n",
    "        ends = [0] * n\n",
    "        length = 0\n",
    "        \n",
    "        def bs(ends, r, target):\n",
    "            l, r = 0, length - 1\n",
    "            ans = -1\n",
    "            while l <= r:\n",
    "                m = (l + r) // 2\n",
    "                if ends[m] >= target:\n",
    "                    ans = m\n",
    "                    r = m - 1\n",
    "                else:\n",
    "                    l = m + 1\n",
    "            return ans\n",
    "\n",
    "        for i in range(n):\n",
    "            j = bs(ends, length, pairs[i][0])\n",
    "            if j == -1:\n",
    "                ends[length] = pairs[i][1]\n",
    "                length += 1\n",
    "                dp[i] = length\n",
    "            else:\n",
    "                ends[j] = min(ends[j], pairs[i][1])\n",
    "                dp[i] = j + 1\n",
    "        return length"
   ]
  }
 ],
 "metadata": {
  "kernelspec": {
   "display_name": "Python 3 (ipykernel)",
   "language": "python",
   "name": "python3"
  },
  "language_info": {
   "codemirror_mode": {
    "name": "ipython",
    "version": 3
   },
   "file_extension": ".py",
   "mimetype": "text/x-python",
   "name": "python",
   "nbconvert_exporter": "python",
   "pygments_lexer": "ipython3",
   "version": "3.12.4"
  }
 },
 "nbformat": 4,
 "nbformat_minor": 5
}
