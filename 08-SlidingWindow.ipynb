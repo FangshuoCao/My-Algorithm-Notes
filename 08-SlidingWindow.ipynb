{
 "cells": [
  {
   "cell_type": "markdown",
   "id": "52409be6-0ffd-4dd1-9df4-3e4ecb330dc0",
   "metadata": {},
   "source": [
    "<h1>Sliding Window</h1>"
   ]
  },
  {
   "cell_type": "markdown",
   "id": "7da0cf41-64ff-4a6b-a6f6-c945cbfaaa5f",
   "metadata": {},
   "source": [
    "### Concept:\n",
    "Move the left and right boundaries within a certain range without stepping back, to solve problems related to **subarrays** or **substrings**.    \n",
    "Grow window by r++, and shrink window by l++\n",
    "\n",
    "### Key to Sliding Window:\n",
    "Find the **range** and the **answer indicator**, and determine the **monotonic relationship** between them (similar to a greedy approach)."
   ]
  },
  {
   "cell_type": "markdown",
   "id": "9728ac89-f91f-4d31-b2a6-539b465ea819",
   "metadata": {},
   "source": [
    "---\n",
    "<h2>Q1: Minimum Size Subarray Sum (LC.209) --- Sliding Window Template</h2>"
   ]
  },
  {
   "cell_type": "markdown",
   "id": "b3da8d15-1585-4a20-9966-40c68116aa41",
   "metadata": {},
   "source": [
    "*Given an array of positive integers nums and a positive integer target, return the minimal length of a \n",
    "subarra \n",
    " whose sum is greater than or equal to target. If there is no such subarray, return 0 instea*d."
   ]
  },
  {
   "cell_type": "markdown",
   "id": "1e4e4804-6de3-4193-a962-0f9294f0574c",
   "metadata": {},
   "source": [
    "**Monotonic Relationship**: Because all elements are positive, larger window size means larger subarray sum"
   ]
  },
  {
   "cell_type": "code",
   "execution_count": 11,
   "id": "42d26939-98a4-4838-8871-2b9f6d50b713",
   "metadata": {},
   "outputs": [],
   "source": [
    "class Solution(object):\n",
    "    def minSubArrayLen(self, target, nums):\n",
    "        l, r = 0, 0\n",
    "        sum, ans = 0, float('inf')\n",
    "        while r < len(nums):\n",
    "            sum += nums[r]\n",
    "            r += 1\n",
    "            while sum >= target:\n",
    "                sum -= nums[l]\n",
    "                l += 1\n",
    "                ans = min(ans, r - l + 1)\n",
    "        return ans if ans != float('inf') else 0"
   ]
  },
  {
   "cell_type": "markdown",
   "id": "8c751db7-7162-4a65-859c-dccc4369753d",
   "metadata": {},
   "source": [
    "---\n",
    "<h2>Q2: Longest Substring Without Repeating Characters (LC.3)</h2>"
   ]
  },
  {
   "cell_type": "markdown",
   "id": "a6b46a87-0231-4090-80f0-55849e1daaa2",
   "metadata": {},
   "source": [
    "*Given a string s, find the length of the longest \n",
    "substrin \n",
    " without repeating character*s."
   ]
  },
  {
   "cell_type": "markdown",
   "id": "8bf3e196-ce10-4a09-b075-2760da1a25aa",
   "metadata": {},
   "source": [
    "**Monotonic Relationship**: The longer the substring, more repeating characters is likely to appear"
   ]
  },
  {
   "cell_type": "code",
   "execution_count": 24,
   "id": "0809038c-db0a-4af9-904f-954dfc0f57eb",
   "metadata": {},
   "outputs": [],
   "source": [
    "class Solution(object):\n",
    "    def lengthOfLongestSubstring(self, s):\n",
    "        if not s:\n",
    "            return 0\n",
    "\n",
    "        char_set = set()\n",
    "        l, r, ans = 0, 0, 0\n",
    "\n",
    "        while r < len(s):\n",
    "            cur = s[r]\n",
    "            r += 1\n",
    "            while cur in char_set:\n",
    "                char_set.remove(s[l])\n",
    "                l += 1\n",
    "            char_set.add(cur)\n",
    "            size = r - l\n",
    "            ans = max(ans, size)\n",
    "\n",
    "        return ans"
   ]
  },
  {
   "cell_type": "markdown",
   "id": "98aae4a1-f4f2-4bdc-98ed-77b1dc3dc15b",
   "metadata": {},
   "source": [
    "---\n",
    "<h2>Q3: Minimum Window Substring (LC.76)</h2>"
   ]
  },
  {
   "cell_type": "markdown",
   "id": "4abb8673-a7dc-431c-bb55-ea5830f757c0",
   "metadata": {},
   "source": [
    "*Given two strings s and t of lengths m and n respectively, return the minimum window substring of s such that every character in t(including duplicates) is included in the window. If there is no such subtring, return the empty string.*    \n",
    "*The testcases will be generated such that the answer is unique*"
   ]
  },
  {
   "cell_type": "markdown",
   "id": "589ce9a1-f3bb-4dce-a174-d9ea5c05ad6e",
   "metadata": {},
   "source": [
    "**Monotonic Relationship**: The longer the substring, more characters in t are likely to be covered"
   ]
  },
  {
   "cell_type": "code",
   "execution_count": 1,
   "id": "61e0b15f-9195-468f-a9e1-8cd92038b2e6",
   "metadata": {},
   "outputs": [],
   "source": [
    "class Solution:\n",
    "    def minWindow(self, s: str, t: str) -> str:\n",
    "        if len(s) < len(t):\n",
    "            return \"\"\n",
    "\n",
    "        charCnt = defaultdict(int)\n",
    "        for ch in t:\n",
    "            charCnt[ch] -= 1\n",
    "        collected, needed = 0, len(t)\n",
    "        start, minLen = 0, float('inf')\n",
    "        l = 0\n",
    "        for r in range(len(s)):\n",
    "            if charCnt[s[r]] < 0:\n",
    "                collected += 1\n",
    "            charCnt[s[r]] += 1\n",
    "\n",
    "            if collected == needed:\n",
    "                # shrink from left while making sure the window is valid\n",
    "                while charCnt[s[l]] > 0:\n",
    "                    charCnt[s[l]] -= 1\n",
    "                    l += 1\n",
    "                if r - l + 1 < minLen:\n",
    "                    start = l\n",
    "                    minLen = r - l + 1\n",
    "        \n",
    "        return \"\" if minLen == float('inf') else s[start: start + minLen]"
   ]
  },
  {
   "cell_type": "markdown",
   "id": "eabf4723-3547-4f2a-af65-f2612e28bbaa",
   "metadata": {},
   "source": [
    "---\n",
    "<h2>Q4: Gas Station (LC.134)</h2>"
   ]
  },
  {
   "cell_type": "markdown",
   "id": "199acc68-cacc-4398-a2be-a4a714bf73a9",
   "metadata": {},
   "source": [
    "*There are n gas stations along a circular route, where the amount of gas at the ith station is gas[i].*      \n",
    "*You have a car with an unlimited gas tank and it costs cost[i] of gas to travel from the ith station to its next (i + 1)th station. You begin the journey with an empty tank at one of the gas stations.*         \n",
    "*Given two integer arrays gas and cost, return the starting gas station's index if you can travel around the circuit once in the clockwise direction, otherwise return -1. If there exists a solution, it is guaranteed to be unique.*"
   ]
  },
  {
   "cell_type": "code",
   "execution_count": 52,
   "id": "87dfe9c5-408c-48f6-90e3-ed4487c8901a",
   "metadata": {},
   "outputs": [],
   "source": [
    "class Solution(object):\n",
    "    def canCompleteCircuit(self, gas, cost):\n",
    "        station_visited, tank_level = 0, 0\n",
    "        num_station = len(gas)\n",
    "        # l: our starting gas station, we can start at any\n",
    "        for l in range(num_station):\n",
    "            while(tank_level >= 0):\n",
    "                if station_visited == num_station:\n",
    "                    return l\n",
    "                # r: the next station we will visit\n",
    "                r = (l + station_visited) % num_station # handle circular array\n",
    "                station_visited += 1\n",
    "                tank_level += gas[r] - cost[r]\n",
    "            \n",
    "            # we are outside the while loop because we don't have enough gas, so this starting station has failed\n",
    "            # discard info about the starting station\n",
    "            station_visited -= 1\n",
    "            tank_level -= gas[l] - cost[l]\n",
    "\n",
    "        return -1 # all starting station failed"
   ]
  },
  {
   "cell_type": "markdown",
   "id": "363c0bc7-1f26-4012-be04-4b2986a63b61",
   "metadata": {},
   "source": [
    "---\n",
    "<h2>Q5: Replace Substring For Balanced String (LC.1234)</h2>"
   ]
  },
  {
   "cell_type": "markdown",
   "id": "e2f816a1-154e-4229-8217-e3d2585efc5c",
   "metadata": {},
   "source": [
    "*You are given a string s of length n containing only four kinds of characters: 'Q', 'W', 'E', and 'R'.*    \n",
    "*A string is said to be balanced if each of its characters appears n / 4 times where n is the length of the string.*     \n",
    "*Return the minimum length of the substring that can be replaced with any other string of the same length to make s balanced. If s is already balanced, return 0.*"
   ]
  },
  {
   "cell_type": "markdown",
   "id": "c4dd9c77-3f36-452f-b88e-dcd4e77e751a",
   "metadata": {},
   "source": [
    "**Solution:**          \n",
    "Suppose the length is 12, meaning each letter should appear for 3 times          \n",
    "If the string is not balanced, then there must be some letter whose occurrence > 3, suppose we have 5Q, 1W, 4E, 2R          \n",
    "we simply need to find the smallest substring that contains the excess letters(2Q and 1E)           \n",
    "So now our question is just the same as Q3 above"
   ]
  },
  {
   "cell_type": "code",
   "execution_count": null,
   "id": "dbb3a1d9-ba0a-4b87-9a92-17a46baa6388",
   "metadata": {},
   "outputs": [],
   "source": [
    "class Solution:\n",
    "    def balancedString(self, s):\n",
    "        n = len(s)\n",
    "        targetCnt = n // 4\n",
    "        cnt = {}\n",
    "\n",
    "        for char in s:\n",
    "            cnt[char] = cnt.get(char, 0) + 1\n",
    "\n",
    "        excess = {}\n",
    "        for char in \"QWER\":\n",
    "            if cnt.get(char, 0) > targetCnt:\n",
    "                excess[char] = cnt[char] - targetCnt\n",
    "\n",
    "        if not excess:\n",
    "            return 0\n",
    "\n",
    "        l = 0\n",
    "        ans = n\n",
    "        windowCnt = {}\n",
    "\n",
    "        for r in range(n):\n",
    "            # Grow window\n",
    "            windowCnt[s[r]] = windowCnt.get(s[r], 0) + 1\n",
    "\n",
    "            while all(windowCnt.get(char, 0) >= excess[char] for char in excess):\n",
    "                ans = min(ans, r - l + 1)\n",
    "                # Shrink Window\n",
    "                windowCnt[s[l]] -= 1\n",
    "                l += 1\n",
    "\n",
    "        return ans"
   ]
  },
  {
   "cell_type": "markdown",
   "id": "80b7b474-f8b4-4e63-a5e4-0121ae5f5520",
   "metadata": {},
   "source": [
    "---\n",
    "<h2>Q6: Subarray with K Different Integers (LC.992)</h2>"
   ]
  },
  {
   "cell_type": "markdown",
   "id": "ae019725-f531-4f5e-8107-326298b53afd",
   "metadata": {},
   "source": [
    "*Given an integer array nums and an integer k, return the number of good subarrays of nums.*             \n",
    "*A good array is an array where the number of different integers in that array is exactly k*"
   ]
  },
  {
   "cell_type": "markdown",
   "id": "1276b9e5-66bd-4f52-93fd-8d3c04fbfac8",
   "metadata": {},
   "source": [
    "**Solution**:               \n",
    "the key is to realize that:           \n",
    "number of subarray with exactly K integer = (number of subarr with K or less integer) - (number of subarr with K-1 or less integer)"
   ]
  },
  {
   "cell_type": "code",
   "execution_count": 74,
   "id": "8caef65a-6539-4322-9e9c-05fc67ae74ce",
   "metadata": {},
   "outputs": [],
   "source": [
    "class Solution:\n",
    "    def subarraysWithKDistinct(self, nums, k):\n",
    "        return self.subarraysWithKOrLess(nums, k) - self.subarraysWithKOrLess(nums, k - 1)\n",
    "\n",
    "    def subarraysWithKOrLess(self, nums, k):\n",
    "        cnt = {}\n",
    "        numSubarr = 0\n",
    "        l = 0\n",
    "        categoriesCollected = 0\n",
    "\n",
    "        for r in range(len(nums)):\n",
    "            # Grow window\n",
    "            cnt[nums[r]] = cnt.get(nums[r], 0) + 1\n",
    "            if cnt[nums[r]] == 1:\n",
    "                categoriesCollected += 1\n",
    "\n",
    "            # Whenever categoriesCollected is larger than k, shrink window\n",
    "            while categoriesCollected > k:\n",
    "                cnt[nums[l]] -= 1\n",
    "                if cnt[nums[l]] == 0:\n",
    "                    categoriesCollected -= 1\n",
    "                l += 1\n",
    "\n",
    "            # Add the number of valid subarrays ending at r\n",
    "            numSubarr += r - l + 1\n",
    "\n",
    "        return numSubarr"
   ]
  },
  {
   "cell_type": "markdown",
   "id": "a3691fc1-ac17-4eb4-8c8d-4d400864b40c",
   "metadata": {},
   "source": [
    "---\n",
    "<h2>Q7: Longest Substring With At Least K Repeating Characters (LC.395)</h2>"
   ]
  },
  {
   "cell_type": "markdown",
   "id": "4c328a90-efb5-4020-a56e-d6498de7b372",
   "metadata": {},
   "source": [
    "*Given a string s and an integer k, return the length of the longest substring of s such that the frequency of each character in this substring is greater than or equal to k.*            \n",
    "*if no such substring exists, return 0.*"
   ]
  },
  {
   "cell_type": "markdown",
   "id": "bdf7b2b8-87ec-4441-8406-600a6f287f26",
   "metadata": {},
   "source": [
    "**Solution:**\n",
    "Divide and conqure:  \n",
    "because the question mentioned the characters are all just english letters, so here's what we can do:     \n",
    ">if there is only 1 distinct characters in the substr, what's the longest substr that satisfy the condition?            \n",
    ">if there are only 2 distinct characters in the substr, what's the longest substr that satisfy the condition?               \n",
    "if there are only 3 distinct characters in the substr, what's the longest substr that satisfy the condition?              \n",
    "...               \n",
    ">if there are 26 distinct characters in the substr, what's the longest substr that satisfy the condition?\n",
    "> \n",
    "Get the result for each case and find the max among them"
   ]
  },
  {
   "cell_type": "code",
   "execution_count": 85,
   "id": "3607d746-84ca-4ca6-b488-a677db3ed0d8",
   "metadata": {},
   "outputs": [],
   "source": [
    "class Solution:\n",
    "    def longestSubstring(self, s, k):\n",
    "        ans = 0\n",
    "        \n",
    "        # Try with different numbers of distinct characters in the substring\n",
    "        for requiredTypes in range(1, 27):\n",
    "            cnts = [0] * 26\n",
    "            l = 0\n",
    "            numTypeCollected = 0\n",
    "            numTypeSatisfied = 0\n",
    "\n",
    "            # Expand the right end of the window\n",
    "            for r in range(len(s)):\n",
    "                # Update the character count\n",
    "                idx = ord(s[r]) - ord('a')\n",
    "                cnts[idx] += 1\n",
    "\n",
    "                # Update distinct character counters\n",
    "                if cnts[idx] == 1:\n",
    "                    numTypeCollected += 1\n",
    "                if cnts[idx] == k:\n",
    "                    numTypeSatisfied += 1\n",
    "\n",
    "                # Shrink the window from the left if there are more types than required\n",
    "                while numTypeCollected > requiredTypes:\n",
    "                    idx_left = ord(s[l]) - ord('a')\n",
    "                    if cnts[idx_left] == 1:\n",
    "                        numTypeCollected -= 1\n",
    "                    if cnts[idx_left] == k:\n",
    "                        numTypeSatisfied -= 1\n",
    "                    cnts[idx_left] -= 1\n",
    "                    l += 1\n",
    "\n",
    "                # Update the answer if all required types have at least k occurrences\n",
    "                if numTypeSatisfied == requiredTypes:\n",
    "                    ans = max(ans, r - l + 1)\n",
    "\n",
    "        return ans"
   ]
  },
  {
   "cell_type": "markdown",
   "id": "0184e8a6-213c-4813-bcbd-561b826fb8a6",
   "metadata": {},
   "source": [
    "# Fixed Size Sliding Window\n",
    "Note that other than dynamically grow or shrink window, there are also questions that requires us to use a fixed size window and simply slide!\n"
   ]
  },
  {
   "cell_type": "markdown",
   "id": "8f925aa5-c87e-429a-9a92-24e58c06da53",
   "metadata": {},
   "source": [
    "---\n",
    "### Q1. Minimum Swaps To Group All 1's Together\n",
    "*Given a binary array `nums`, return the minimum number of swaps required to group all 1’s present in the array together in any place in the array.*    \n",
    "\n",
    "**Solution:**      \n",
    "\n",
    "First count the number of ones in the entire array, `numOnes`.           \n",
    "Use a sliding window of fixed size --- `numOnes`.          \n",
    "For each window count the number of zeros in it, as it is  number of times we need to swap for this window.         \n",
    "Return the min zero count among all windows.        "
   ]
  },
  {
   "cell_type": "code",
   "execution_count": 10,
   "id": "9c2fdf89-354d-4eaa-9730-4175bcd373c7",
   "metadata": {},
   "outputs": [],
   "source": [
    "class Solution:\n",
    "    def minSwaps(self, nums):\n",
    "        n = len(nums)\n",
    "        numOnes = sum(1 for num in nums if num == 1)\n",
    "\n",
    "        if n == numOnes:\n",
    "            return 0\n",
    "\n",
    "        zeroCnt = 0\n",
    "        l, r = 0, 0\n",
    "        while r < numOnes:\n",
    "            if nums[r] == 0:\n",
    "                zeroCnt += 1\n",
    "            r += 1\n",
    "\n",
    "        ans = zeroCnt\n",
    "\n",
    "        while r < n:\n",
    "            if nums[r] == 0:\n",
    "                zeroCnt += 1\n",
    "            if nums[l] == 0:\n",
    "                zeroCnt -= 1\n",
    "            l += 1\n",
    "            r += 1\n",
    "            ans = min(ans, zeroCnt)\n",
    "\n",
    "        return ans"
   ]
  },
  {
   "cell_type": "code",
   "execution_count": null,
   "id": "b7b9b80f-25a6-4ccd-a442-3f75b4314501",
   "metadata": {},
   "outputs": [],
   "source": []
  }
 ],
 "metadata": {
  "kernelspec": {
   "display_name": "Python 3 (ipykernel)",
   "language": "python",
   "name": "python3"
  },
  "language_info": {
   "codemirror_mode": {
    "name": "ipython",
    "version": 3
   },
   "file_extension": ".py",
   "mimetype": "text/x-python",
   "name": "python",
   "nbconvert_exporter": "python",
   "pygments_lexer": "ipython3",
   "version": "3.12.4"
  }
 },
 "nbformat": 4,
 "nbformat_minor": 5
}
